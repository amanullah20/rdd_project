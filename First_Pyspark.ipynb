{
  "nbformat": 4,
  "nbformat_minor": 0,
  "metadata": {
    "colab": {
      "provenance": [],
      "mount_file_id": "15mt_9hIEOHiWBvfziUbfjK1qv0I8XF1I",
      "authorship_tag": "ABX9TyNRt6Y/ReTwuJqw7uhg0EmZ",
      "include_colab_link": true
    },
    "kernelspec": {
      "name": "python3",
      "display_name": "Python 3"
    },
    "language_info": {
      "name": "python"
    }
  },
  "cells": [
    {
      "cell_type": "markdown",
      "metadata": {
        "id": "view-in-github",
        "colab_type": "text"
      },
      "source": [
        "<a href=\"https://colab.research.google.com/github/amanullah20/rdd_project/blob/main/First_Pyspark.ipynb\" target=\"_parent\"><img src=\"https://colab.research.google.com/assets/colab-badge.svg\" alt=\"Open In Colab\"/></a>"
      ]
    },
    {
      "cell_type": "code",
      "execution_count": null,
      "metadata": {
        "colab": {
          "base_uri": "https://localhost:8080/"
        },
        "id": "GWFglfhmap42",
        "outputId": "3345b581-3c0b-480f-eab0-d9d65fc85a4a"
      },
      "outputs": [
        {
          "output_type": "stream",
          "name": "stdout",
          "text": [
            "Collecting pyspark\n",
            "  Downloading pyspark-3.5.0.tar.gz (316.9 MB)\n",
            "\u001b[2K     \u001b[90m━━━━━━━━━━━━━━━━━━━━━━━━━━━━━━━━━━━━━━━━\u001b[0m \u001b[32m316.9/316.9 MB\u001b[0m \u001b[31m2.3 MB/s\u001b[0m eta \u001b[36m0:00:00\u001b[0m\n",
            "\u001b[?25h  Preparing metadata (setup.py) ... \u001b[?25l\u001b[?25hdone\n",
            "Requirement already satisfied: py4j==0.10.9.7 in /usr/local/lib/python3.10/dist-packages (from pyspark) (0.10.9.7)\n",
            "Building wheels for collected packages: pyspark\n",
            "  Building wheel for pyspark (setup.py) ... \u001b[?25l\u001b[?25hdone\n",
            "  Created wheel for pyspark: filename=pyspark-3.5.0-py2.py3-none-any.whl size=317425345 sha256=7b6acb389b9310cfa7c573a120591758c7cf166ea97aa03e9a1130b2aa8d4307\n",
            "  Stored in directory: /root/.cache/pip/wheels/41/4e/10/c2cf2467f71c678cfc8a6b9ac9241e5e44a01940da8fbb17fc\n",
            "Successfully built pyspark\n",
            "Installing collected packages: pyspark\n",
            "Successfully installed pyspark-3.5.0\n"
          ]
        }
      ],
      "source": [
        "!pip install pyspark"
      ]
    },
    {
      "cell_type": "code",
      "source": [
        "from pyspark.sql import SparkSession"
      ],
      "metadata": {
        "id": "CbOo7VUJa8mB"
      },
      "execution_count": null,
      "outputs": []
    },
    {
      "cell_type": "code",
      "source": [
        "spark=SparkSession.builder.appName('Dataframe').getOrCreate()"
      ],
      "metadata": {
        "id": "wGA8udTZbkn6"
      },
      "execution_count": null,
      "outputs": []
    },
    {
      "cell_type": "code",
      "source": [
        "spark"
      ],
      "metadata": {
        "colab": {
          "base_uri": "https://localhost:8080/",
          "height": 219
        },
        "id": "ighVdeqkb6Ph",
        "outputId": "28b214b5-0c57-4889-f6a7-0cd2acf832f8"
      },
      "execution_count": null,
      "outputs": [
        {
          "output_type": "execute_result",
          "data": {
            "text/plain": [
              "<pyspark.sql.session.SparkSession at 0x7cb041b85210>"
            ],
            "text/html": [
              "\n",
              "            <div>\n",
              "                <p><b>SparkSession - in-memory</b></p>\n",
              "                \n",
              "        <div>\n",
              "            <p><b>SparkContext</b></p>\n",
              "\n",
              "            <p><a href=\"http://baea2add4e15:4040\">Spark UI</a></p>\n",
              "\n",
              "            <dl>\n",
              "              <dt>Version</dt>\n",
              "                <dd><code>v3.5.0</code></dd>\n",
              "              <dt>Master</dt>\n",
              "                <dd><code>local[*]</code></dd>\n",
              "              <dt>AppName</dt>\n",
              "                <dd><code>Dataframe</code></dd>\n",
              "            </dl>\n",
              "        </div>\n",
              "        \n",
              "            </div>\n",
              "        "
            ]
          },
          "metadata": {},
          "execution_count": 4
        }
      ]
    },
    {
      "cell_type": "code",
      "source": [
        "## Read the dataset\n",
        "df_pyspark=spark.read.option('header','true').csv('/content/drive/MyDrive/Pyspark/text.csv',inferSchema=True)\n",
        "df_pyspark.show()"
      ],
      "metadata": {
        "colab": {
          "base_uri": "https://localhost:8080/"
        },
        "id": "dEnixkmZb-hp",
        "outputId": "f74c5f59-6747-40e9-a29b-7b93d568e329"
      },
      "execution_count": null,
      "outputs": [
        {
          "output_type": "stream",
          "name": "stdout",
          "text": [
            "+---------+---+----------+\n",
            "|     Name|Age|Experience|\n",
            "+---------+---+----------+\n",
            "|    krish| 24|        10|\n",
            "|Sudhanshu| 31|         8|\n",
            "|Sudhanshu| 30|         4|\n",
            "|    Sunny| 29|         5|\n",
            "+---------+---+----------+\n",
            "\n"
          ]
        }
      ]
    },
    {
      "cell_type": "code",
      "source": [
        "## Check the schema\n",
        "df_pyspark.printSchema()"
      ],
      "metadata": {
        "colab": {
          "base_uri": "https://localhost:8080/"
        },
        "id": "9966kPsqeDcT",
        "outputId": "d8ba25de-0e37-4285-dc98-d0ff742c2764"
      },
      "execution_count": null,
      "outputs": [
        {
          "output_type": "stream",
          "name": "stdout",
          "text": [
            "root\n",
            " |-- Name: string (nullable = true)\n",
            " |-- Age: integer (nullable = true)\n",
            " |-- Experience: integer (nullable = true)\n",
            "\n"
          ]
        }
      ]
    },
    {
      "cell_type": "code",
      "source": [
        "df_pyspark=spark.read.csv('/content/drive/MyDrive/Pyspark/text.csv',header=True,inferSchema=True)"
      ],
      "metadata": {
        "id": "4vYq71Zsfcvw"
      },
      "execution_count": null,
      "outputs": []
    },
    {
      "cell_type": "code",
      "source": [
        "df_pyspark.printSchema()"
      ],
      "metadata": {
        "colab": {
          "base_uri": "https://localhost:8080/"
        },
        "id": "BSZ-ymX4gkXo",
        "outputId": "7c8f52d5-ff74-416d-ca07-9e64ece04247"
      },
      "execution_count": null,
      "outputs": [
        {
          "output_type": "stream",
          "name": "stdout",
          "text": [
            "root\n",
            " |-- Name: string (nullable = true)\n",
            " |-- Age: integer (nullable = true)\n",
            " |-- Experience: integer (nullable = true)\n",
            "\n"
          ]
        }
      ]
    },
    {
      "cell_type": "code",
      "source": [
        "type(df_pyspark)"
      ],
      "metadata": {
        "colab": {
          "base_uri": "https://localhost:8080/"
        },
        "id": "ilh2u8Ozgobo",
        "outputId": "4a06de99-b833-4d11-96da-6d54dc6b5a99"
      },
      "execution_count": null,
      "outputs": [
        {
          "output_type": "execute_result",
          "data": {
            "text/plain": [
              "pyspark.sql.dataframe.DataFrame"
            ]
          },
          "metadata": {},
          "execution_count": 9
        }
      ]
    },
    {
      "cell_type": "code",
      "source": [
        "df_pyspark.columns"
      ],
      "metadata": {
        "colab": {
          "base_uri": "https://localhost:8080/"
        },
        "id": "D--QDGdag2PS",
        "outputId": "e6b6b606-e173-48e3-b3cd-df3e201dd3c1"
      },
      "execution_count": null,
      "outputs": [
        {
          "output_type": "execute_result",
          "data": {
            "text/plain": [
              "['Name', 'Age', 'Experience']"
            ]
          },
          "metadata": {},
          "execution_count": 10
        }
      ]
    },
    {
      "cell_type": "code",
      "source": [
        "df_pyspark.head(3)"
      ],
      "metadata": {
        "colab": {
          "base_uri": "https://localhost:8080/"
        },
        "id": "SZm5wnNmhDJG",
        "outputId": "4fa9a109-830d-4db8-c62f-514b98dd0fe4"
      },
      "execution_count": null,
      "outputs": [
        {
          "output_type": "execute_result",
          "data": {
            "text/plain": [
              "[Row(Name='krish', Age=24, Experience=10),\n",
              " Row(Name='Sudhanshu', Age=31, Experience=8),\n",
              " Row(Name='Sudhanshu', Age=30, Experience=4)]"
            ]
          },
          "metadata": {},
          "execution_count": 11
        }
      ]
    },
    {
      "cell_type": "code",
      "source": [
        "df_pyspark.select('Name').show()"
      ],
      "metadata": {
        "colab": {
          "base_uri": "https://localhost:8080/"
        },
        "id": "YlGiHzSDhK3m",
        "outputId": "04ba2dcd-1553-46fd-c8cd-45993397a3fe"
      },
      "execution_count": null,
      "outputs": [
        {
          "output_type": "stream",
          "name": "stdout",
          "text": [
            "+---------+\n",
            "|     Name|\n",
            "+---------+\n",
            "|    krish|\n",
            "|Sudhanshu|\n",
            "|Sudhanshu|\n",
            "|    Sunny|\n",
            "+---------+\n",
            "\n"
          ]
        }
      ]
    },
    {
      "cell_type": "code",
      "source": [
        "df_pyspark.select(['Name','Experience']).show()"
      ],
      "metadata": {
        "colab": {
          "base_uri": "https://localhost:8080/"
        },
        "id": "5JZtA7VOiImt",
        "outputId": "e03f7c1a-87ce-4b9f-f944-4aca505c81bb"
      },
      "execution_count": null,
      "outputs": [
        {
          "output_type": "stream",
          "name": "stdout",
          "text": [
            "+---------+----------+\n",
            "|     Name|Experience|\n",
            "+---------+----------+\n",
            "|    krish|        10|\n",
            "|Sudhanshu|         8|\n",
            "|Sudhanshu|         4|\n",
            "|    Sunny|         5|\n",
            "+---------+----------+\n",
            "\n"
          ]
        }
      ]
    },
    {
      "cell_type": "code",
      "source": [
        "df_pyspark.dtypes"
      ],
      "metadata": {
        "colab": {
          "base_uri": "https://localhost:8080/"
        },
        "id": "I5MixEX0iYjg",
        "outputId": "5114e622-d2c4-49c7-94e1-15e3fb89d36a"
      },
      "execution_count": null,
      "outputs": [
        {
          "output_type": "execute_result",
          "data": {
            "text/plain": [
              "[('Name', 'string'), ('Age', 'int'), ('Experience', 'int')]"
            ]
          },
          "metadata": {},
          "execution_count": 14
        }
      ]
    },
    {
      "cell_type": "code",
      "source": [
        "df_pyspark.describe()"
      ],
      "metadata": {
        "colab": {
          "base_uri": "https://localhost:8080/"
        },
        "id": "yNdjJbXpi2Ik",
        "outputId": "c604839d-a71e-43d9-db6d-e2d380589c6f"
      },
      "execution_count": null,
      "outputs": [
        {
          "output_type": "execute_result",
          "data": {
            "text/plain": [
              "DataFrame[summary: string, Name: string, Age: string, Experience: string]"
            ]
          },
          "metadata": {},
          "execution_count": 15
        }
      ]
    },
    {
      "cell_type": "code",
      "source": [
        "df_pyspark.describe().show()"
      ],
      "metadata": {
        "colab": {
          "base_uri": "https://localhost:8080/"
        },
        "id": "iwhyX9G2jACJ",
        "outputId": "c399752c-5bda-44b7-8398-09a161a54f8f"
      },
      "execution_count": null,
      "outputs": [
        {
          "output_type": "stream",
          "name": "stdout",
          "text": [
            "+-------+---------+------------------+------------------+\n",
            "|summary|     Name|               Age|        Experience|\n",
            "+-------+---------+------------------+------------------+\n",
            "|  count|        4|                 4|                 4|\n",
            "|   mean|     NULL|              28.5|              6.75|\n",
            "| stddev|     NULL|3.1091263510296048|2.7537852736430506|\n",
            "|    min|Sudhanshu|                24|                 4|\n",
            "|    max|    krish|                31|                10|\n",
            "+-------+---------+------------------+------------------+\n",
            "\n"
          ]
        }
      ]
    },
    {
      "cell_type": "code",
      "source": [
        "from os import replace\n",
        "## Adding columns in data frame\n",
        "df_pyspark=df_pyspark.withColumn('Experienc After 2 year',df_pyspark['Experience']+10)"
      ],
      "metadata": {
        "id": "a7CCRn87jH_h"
      },
      "execution_count": null,
      "outputs": []
    },
    {
      "cell_type": "code",
      "source": [
        "df_pyspark.show()"
      ],
      "metadata": {
        "colab": {
          "base_uri": "https://localhost:8080/"
        },
        "id": "_ZPsFR13kA23",
        "outputId": "598e1f1e-303c-4edb-bed9-ce2f29e4c20a"
      },
      "execution_count": null,
      "outputs": [
        {
          "output_type": "stream",
          "name": "stdout",
          "text": [
            "+---------+---+----------+----------------------+\n",
            "|     Name|Age|Experience|Experienc After 2 year|\n",
            "+---------+---+----------+----------------------+\n",
            "|    krish| 24|        10|                    20|\n",
            "|Sudhanshu| 31|         8|                    18|\n",
            "|Sudhanshu| 30|         4|                    14|\n",
            "|    Sunny| 29|         5|                    15|\n",
            "+---------+---+----------+----------------------+\n",
            "\n"
          ]
        }
      ]
    },
    {
      "cell_type": "code",
      "source": [
        "df_pyspark = df_pyspark.drop('Experienc After 2 year')"
      ],
      "metadata": {
        "id": "ByVj-SkEkEgo"
      },
      "execution_count": null,
      "outputs": []
    },
    {
      "cell_type": "code",
      "source": [
        "df_pyspark.show()"
      ],
      "metadata": {
        "colab": {
          "base_uri": "https://localhost:8080/"
        },
        "id": "XW5CYDXplsYx",
        "outputId": "5606301a-8106-4526-abbf-b85afeb107d0"
      },
      "execution_count": null,
      "outputs": [
        {
          "output_type": "stream",
          "name": "stdout",
          "text": [
            "+---------+---+----------+\n",
            "|     Name|Age|Experience|\n",
            "+---------+---+----------+\n",
            "|    krish| 24|        10|\n",
            "|Sudhanshu| 31|         8|\n",
            "|Sudhanshu| 30|         4|\n",
            "|    Sunny| 29|         5|\n",
            "+---------+---+----------+\n",
            "\n"
          ]
        }
      ]
    },
    {
      "cell_type": "code",
      "source": [
        "df_pyspark = df_pyspark.withColumnRenamed('Name','New Name')"
      ],
      "metadata": {
        "id": "NJN6OYF2lut4"
      },
      "execution_count": null,
      "outputs": []
    },
    {
      "cell_type": "code",
      "source": [
        "df_pyspark.show()"
      ],
      "metadata": {
        "id": "WEyD7oLQmX7u",
        "outputId": "0fbde8d8-4047-4edc-844e-8603bcc86499",
        "colab": {
          "base_uri": "https://localhost:8080/"
        }
      },
      "execution_count": null,
      "outputs": [
        {
          "output_type": "stream",
          "name": "stdout",
          "text": [
            "+---------+---+----------+\n",
            "| New Name|Age|Experience|\n",
            "+---------+---+----------+\n",
            "|    krish| 24|        10|\n",
            "|Sudhanshu| 31|         8|\n",
            "|Sudhanshu| 30|         4|\n",
            "|    Sunny| 29|         5|\n",
            "+---------+---+----------+\n",
            "\n"
          ]
        }
      ]
    },
    {
      "cell_type": "code",
      "source": [
        "df_pyspark1 = spark.read.csv('/content/drive/MyDrive/Pyspark/text1.csv',header=True,inferSchema=True)"
      ],
      "metadata": {
        "id": "eJof5SVGmacA"
      },
      "execution_count": null,
      "outputs": []
    },
    {
      "cell_type": "code",
      "source": [
        "df_pyspark1.show()"
      ],
      "metadata": {
        "colab": {
          "base_uri": "https://localhost:8080/"
        },
        "id": "dxAH-l7vx0QF",
        "outputId": "ff439b02-fdf9-4529-ffe3-7f527e85dc5a"
      },
      "execution_count": null,
      "outputs": [
        {
          "output_type": "stream",
          "name": "stdout",
          "text": [
            "+---------+----+----------+------+\n",
            "|     Name| Age|Experience|Salary|\n",
            "+---------+----+----------+------+\n",
            "|    krish|  24|        10| 30000|\n",
            "|Sudhanshu|  31|         8| 25000|\n",
            "|Sudhanshu|  30|         4| 39000|\n",
            "|    Sunny|  29|         5| 26900|\n",
            "|     NULL|  21|      NULL| 35000|\n",
            "|     NULL|  40|         5|  NULL|\n",
            "|     Aman|NULL|      NULL| 40000|\n",
            "|     Adiv|NULL|         4| 53000|\n",
            "+---------+----+----------+------+\n",
            "\n"
          ]
        }
      ]
    },
    {
      "cell_type": "code",
      "source": [
        "df_pyspark1.describe()"
      ],
      "metadata": {
        "colab": {
          "base_uri": "https://localhost:8080/"
        },
        "id": "Ep_EyFeWx43z",
        "outputId": "aecec1b1-7d7a-4b33-cf01-7ab99e9c39f9"
      },
      "execution_count": null,
      "outputs": [
        {
          "output_type": "execute_result",
          "data": {
            "text/plain": [
              "DataFrame[summary: string, Name: string, Age: string, Experience: string, Salary: string]"
            ]
          },
          "metadata": {},
          "execution_count": 25
        }
      ]
    },
    {
      "cell_type": "code",
      "source": [
        "df_pyspark1.describe().show()"
      ],
      "metadata": {
        "colab": {
          "base_uri": "https://localhost:8080/"
        },
        "id": "bcZbA6cr6A8D",
        "outputId": "b50d0e66-addd-489b-d837-989724c284b5"
      },
      "execution_count": null,
      "outputs": [
        {
          "output_type": "stream",
          "name": "stdout",
          "text": [
            "+-------+-----+------------------+-----------------+------------------+\n",
            "|summary| Name|               Age|       Experience|            Salary|\n",
            "+-------+-----+------------------+-----------------+------------------+\n",
            "|  count|    6|                 6|                6|                 7|\n",
            "|   mean| NULL|29.166666666666668|              6.0|35557.142857142855|\n",
            "| stddev| NULL| 6.554896388705672|2.449489742783178| 9604.140971972653|\n",
            "|    min| Adiv|                21|                4|             25000|\n",
            "|    max|krish|                40|               10|             53000|\n",
            "+-------+-----+------------------+-----------------+------------------+\n",
            "\n"
          ]
        }
      ]
    },
    {
      "cell_type": "code",
      "source": [
        "df_pyspark1.na.drop().show()"
      ],
      "metadata": {
        "colab": {
          "base_uri": "https://localhost:8080/"
        },
        "id": "5ubYJwnS6KlL",
        "outputId": "68751700-1049-4c45-ad20-5d8f43e6ef9d"
      },
      "execution_count": null,
      "outputs": [
        {
          "output_type": "stream",
          "name": "stdout",
          "text": [
            "+---------+---+----------+------+\n",
            "|     Name|Age|Experience|Salary|\n",
            "+---------+---+----------+------+\n",
            "|    krish| 24|        10| 30000|\n",
            "|Sudhanshu| 31|         8| 25000|\n",
            "|Sudhanshu| 30|         4| 39000|\n",
            "|    Sunny| 29|         5| 26900|\n",
            "+---------+---+----------+------+\n",
            "\n"
          ]
        }
      ]
    },
    {
      "cell_type": "code",
      "source": [
        "df_pyspark1.na.drop(how='all').show()"
      ],
      "metadata": {
        "colab": {
          "base_uri": "https://localhost:8080/"
        },
        "id": "n72lYWcj6klU",
        "outputId": "f80109a6-85f0-43e4-8b82-fe6210b3460c"
      },
      "execution_count": null,
      "outputs": [
        {
          "output_type": "stream",
          "name": "stdout",
          "text": [
            "+---------+----+----------+------+\n",
            "|     Name| Age|Experience|Salary|\n",
            "+---------+----+----------+------+\n",
            "|    krish|  24|        10| 30000|\n",
            "|Sudhanshu|  31|         8| 25000|\n",
            "|Sudhanshu|  30|         4| 39000|\n",
            "|    Sunny|  29|         5| 26900|\n",
            "|     NULL|  21|      NULL| 35000|\n",
            "|     NULL|  40|         5|  NULL|\n",
            "|     Aman|NULL|      NULL| 40000|\n",
            "|     Adiv|NULL|         4| 53000|\n",
            "+---------+----+----------+------+\n",
            "\n"
          ]
        }
      ]
    },
    {
      "cell_type": "code",
      "source": [
        "df_pyspark1.na.drop(subset=['Age','Experience']).show()"
      ],
      "metadata": {
        "colab": {
          "base_uri": "https://localhost:8080/"
        },
        "id": "yN1yohqU7Ezh",
        "outputId": "43ea1a1a-29f5-4fcf-b866-9eb8fff9e4fb"
      },
      "execution_count": null,
      "outputs": [
        {
          "output_type": "stream",
          "name": "stdout",
          "text": [
            "+---------+---+----------+------+\n",
            "|     Name|Age|Experience|Salary|\n",
            "+---------+---+----------+------+\n",
            "|    krish| 24|        10| 30000|\n",
            "|Sudhanshu| 31|         8| 25000|\n",
            "|Sudhanshu| 30|         4| 39000|\n",
            "|    Sunny| 29|         5| 26900|\n",
            "|     NULL| 40|         5|  NULL|\n",
            "+---------+---+----------+------+\n",
            "\n"
          ]
        }
      ]
    },
    {
      "cell_type": "code",
      "source": [
        "df_pyspark1.na.drop(thresh=3).show()"
      ],
      "metadata": {
        "colab": {
          "base_uri": "https://localhost:8080/"
        },
        "id": "QliOfe_77qL6",
        "outputId": "071e1db8-342c-4439-d3c9-329fd471cef0"
      },
      "execution_count": null,
      "outputs": [
        {
          "output_type": "stream",
          "name": "stdout",
          "text": [
            "+---------+----+----------+------+\n",
            "|     Name| Age|Experience|Salary|\n",
            "+---------+----+----------+------+\n",
            "|    krish|  24|        10| 30000|\n",
            "|Sudhanshu|  31|         8| 25000|\n",
            "|Sudhanshu|  30|         4| 39000|\n",
            "|    Sunny|  29|         5| 26900|\n",
            "|     Adiv|NULL|         4| 53000|\n",
            "+---------+----+----------+------+\n",
            "\n"
          ]
        }
      ]
    },
    {
      "cell_type": "code",
      "source": [
        "df_pyspark1.na.fill('Missing Values').show()"
      ],
      "metadata": {
        "colab": {
          "base_uri": "https://localhost:8080/"
        },
        "id": "4X0d1Wzx-Swi",
        "outputId": "3db1f6ab-a97e-4b33-9d37-a7db2f1af91d"
      },
      "execution_count": null,
      "outputs": [
        {
          "output_type": "stream",
          "name": "stdout",
          "text": [
            "+--------------+----+----------+------+\n",
            "|          Name| Age|Experience|Salary|\n",
            "+--------------+----+----------+------+\n",
            "|         krish|  24|        10| 30000|\n",
            "|     Sudhanshu|  31|         8| 25000|\n",
            "|     Sudhanshu|  30|         4| 39000|\n",
            "|         Sunny|  29|         5| 26900|\n",
            "|Missing Values|  21|      NULL| 35000|\n",
            "|Missing Values|  40|         5|  NULL|\n",
            "|          Aman|NULL|      NULL| 40000|\n",
            "|          Adiv|NULL|         4| 53000|\n",
            "+--------------+----+----------+------+\n",
            "\n"
          ]
        }
      ]
    },
    {
      "cell_type": "code",
      "source": [
        "from pyspark.ml.feature import Imputer\n",
        "\n",
        "imputer = Imputer(\n",
        "    inputCols=['Age','Experience','Salary'],\n",
        "    outputCols=[\"{}_impute\".format(c) for c in  ['Age','Experience','Salary']]\n",
        ").setStrategy(\"mean\")"
      ],
      "metadata": {
        "id": "6MMoGkNZBDKJ"
      },
      "execution_count": null,
      "outputs": []
    },
    {
      "cell_type": "code",
      "source": [
        "imputer.fit(df_pyspark1).transform(df_pyspark1).show()"
      ],
      "metadata": {
        "colab": {
          "base_uri": "https://localhost:8080/"
        },
        "id": "PzcfJl0oDp5A",
        "outputId": "019650d3-cc1a-470a-bef7-014ccad376a3"
      },
      "execution_count": null,
      "outputs": [
        {
          "output_type": "stream",
          "name": "stdout",
          "text": [
            "+---------+----+----------+------+----------+-----------------+-------------+\n",
            "|     Name| Age|Experience|Salary|Age_impute|Experience_impute|Salary_impute|\n",
            "+---------+----+----------+------+----------+-----------------+-------------+\n",
            "|    krish|  24|        10| 30000|        24|               10|        30000|\n",
            "|Sudhanshu|  31|         8| 25000|        31|                8|        25000|\n",
            "|Sudhanshu|  30|         4| 39000|        30|                4|        39000|\n",
            "|    Sunny|  29|         5| 26900|        29|                5|        26900|\n",
            "|     NULL|  21|      NULL| 35000|        21|                6|        35000|\n",
            "|     NULL|  40|         5|  NULL|        40|                5|        35557|\n",
            "|     Aman|NULL|      NULL| 40000|        29|                6|        40000|\n",
            "|     Adiv|NULL|         4| 53000|        29|                4|        53000|\n",
            "+---------+----+----------+------+----------+-----------------+-------------+\n",
            "\n"
          ]
        }
      ]
    },
    {
      "cell_type": "code",
      "source": [
        "df_pyspark2 = df_pyspark1.na.drop().show()"
      ],
      "metadata": {
        "colab": {
          "base_uri": "https://localhost:8080/"
        },
        "id": "dloUfJxUEFrU",
        "outputId": "14e9b081-53a5-42af-a65d-cf8677d56c7a"
      },
      "execution_count": null,
      "outputs": [
        {
          "output_type": "stream",
          "name": "stdout",
          "text": [
            "+---------+---+----------+------+\n",
            "|     Name|Age|Experience|Salary|\n",
            "+---------+---+----------+------+\n",
            "|    krish| 24|        10| 30000|\n",
            "|Sudhanshu| 31|         8| 25000|\n",
            "|Sudhanshu| 30|         4| 39000|\n",
            "|    Sunny| 29|         5| 26900|\n",
            "+---------+---+----------+------+\n",
            "\n"
          ]
        }
      ]
    },
    {
      "cell_type": "code",
      "source": [
        "df_pyspark1.show()"
      ],
      "metadata": {
        "colab": {
          "base_uri": "https://localhost:8080/"
        },
        "id": "50rnh_KFFHTZ",
        "outputId": "b3c95a2c-d949-4ed5-983f-8237d5cf0683"
      },
      "execution_count": null,
      "outputs": [
        {
          "output_type": "stream",
          "name": "stdout",
          "text": [
            "+---------+----+----------+------+\n",
            "|     Name| Age|Experience|Salary|\n",
            "+---------+----+----------+------+\n",
            "|    krish|  24|        10| 30000|\n",
            "|Sudhanshu|  31|         8| 25000|\n",
            "|Sudhanshu|  30|         4| 39000|\n",
            "|    Sunny|  29|         5| 26900|\n",
            "|     NULL|  21|      NULL| 35000|\n",
            "|     NULL|  40|         5|  NULL|\n",
            "|     Aman|NULL|      NULL| 40000|\n",
            "|     Adiv|NULL|         4| 53000|\n",
            "+---------+----+----------+------+\n",
            "\n"
          ]
        }
      ]
    },
    {
      "cell_type": "code",
      "source": [
        "df_pyspark1.filter('Salary>=40000').show()"
      ],
      "metadata": {
        "colab": {
          "base_uri": "https://localhost:8080/"
        },
        "id": "4mIt8GraFP7O",
        "outputId": "c71ac2f5-b0e1-4582-a2bf-633aea66db23"
      },
      "execution_count": null,
      "outputs": [
        {
          "output_type": "stream",
          "name": "stdout",
          "text": [
            "+----+----+----------+------+\n",
            "|Name| Age|Experience|Salary|\n",
            "+----+----+----------+------+\n",
            "|Aman|NULL|      NULL| 40000|\n",
            "|Adiv|NULL|         4| 53000|\n",
            "+----+----+----------+------+\n",
            "\n"
          ]
        }
      ]
    },
    {
      "cell_type": "code",
      "source": [
        "df_pyspark1.filter('Salary>=30000').select(['Name','Age']).show()"
      ],
      "metadata": {
        "colab": {
          "base_uri": "https://localhost:8080/"
        },
        "id": "fHTd_CcyFtiJ",
        "outputId": "862a9010-4d81-4616-d9a0-408b2fca6294"
      },
      "execution_count": null,
      "outputs": [
        {
          "output_type": "stream",
          "name": "stdout",
          "text": [
            "+---------+----+\n",
            "|     Name| Age|\n",
            "+---------+----+\n",
            "|    krish|  24|\n",
            "|Sudhanshu|  30|\n",
            "|     NULL|  21|\n",
            "|     Aman|NULL|\n",
            "|     Adiv|NULL|\n",
            "+---------+----+\n",
            "\n"
          ]
        }
      ]
    },
    {
      "cell_type": "code",
      "source": [
        "df_pyspark1.filter((df_pyspark1['Salary']>3000)&(df_pyspark1['Age']>30)).show()"
      ],
      "metadata": {
        "colab": {
          "base_uri": "https://localhost:8080/"
        },
        "id": "91FExeyIGYYg",
        "outputId": "62c1e170-246e-4aaa-fbb5-84069a5de969"
      },
      "execution_count": null,
      "outputs": [
        {
          "output_type": "stream",
          "name": "stdout",
          "text": [
            "+---------+---+----------+------+\n",
            "|     Name|Age|Experience|Salary|\n",
            "+---------+---+----------+------+\n",
            "|Sudhanshu| 31|         8| 25000|\n",
            "+---------+---+----------+------+\n",
            "\n"
          ]
        }
      ]
    },
    {
      "cell_type": "code",
      "source": [
        "df_pyspark1.filter(~(df_pyspark1['Salary']<=25000)).show()"
      ],
      "metadata": {
        "colab": {
          "base_uri": "https://localhost:8080/"
        },
        "id": "0YGTATvGKEsg",
        "outputId": "df4f8fa7-b3d5-4971-ebc5-9ecf997033c1"
      },
      "execution_count": null,
      "outputs": [
        {
          "output_type": "stream",
          "name": "stdout",
          "text": [
            "+---------+----+----------+------+\n",
            "|     Name| Age|Experience|Salary|\n",
            "+---------+----+----------+------+\n",
            "|    krish|  24|        10| 30000|\n",
            "|Sudhanshu|  30|         4| 39000|\n",
            "|    Sunny|  29|         5| 26900|\n",
            "|     NULL|  21|      NULL| 35000|\n",
            "|     Aman|NULL|      NULL| 40000|\n",
            "|     Adiv|NULL|         4| 53000|\n",
            "+---------+----+----------+------+\n",
            "\n"
          ]
        }
      ]
    },
    {
      "cell_type": "code",
      "source": [
        "df_ps=spark.read.csv('/content/drive/MyDrive/Pyspark/text2.csv',header=True,inferSchema=True)"
      ],
      "metadata": {
        "id": "GqlgY9HRM0Pf"
      },
      "execution_count": null,
      "outputs": []
    },
    {
      "cell_type": "code",
      "source": [
        "df_ps.show()"
      ],
      "metadata": {
        "colab": {
          "base_uri": "https://localhost:8080/"
        },
        "id": "NWu1aea-gE-h",
        "outputId": "e548bca7-de7a-4f8e-eca4-569c75a5a65b"
      },
      "execution_count": null,
      "outputs": [
        {
          "output_type": "stream",
          "name": "stdout",
          "text": [
            "+---------+----+----------+------+------------+\n",
            "|     Name| Age|Experience|Salary|  Department|\n",
            "+---------+----+----------+------+------------+\n",
            "|    krish|  24|        10| 30000|Data Science|\n",
            "|Sudhanshu|  31|         8| 25000|         IOT|\n",
            "|Sudhanshu|  30|         4| 39000|    Big Data|\n",
            "|    Sunny|  29|         5| 26900|    Big Data|\n",
            "|    Sunny|  21|      NULL| 35000|Data Science|\n",
            "|     Aman|  40|         5| 30000|Data Science|\n",
            "|     Aman|NULL|      NULL| 40000|         IOT|\n",
            "|     Adiv|NULL|         4| 53000|    Big Data|\n",
            "|     NULL|NULL|      NULL| 10000|Data Science|\n",
            "|     NULL|NULL|      NULL|  2000|    Big Data|\n",
            "+---------+----+----------+------+------------+\n",
            "\n"
          ]
        }
      ]
    },
    {
      "cell_type": "code",
      "source": [
        "df_ps.printSchema()"
      ],
      "metadata": {
        "colab": {
          "base_uri": "https://localhost:8080/"
        },
        "id": "VjtGyJJygMAY",
        "outputId": "1259aaea-d718-46f7-def3-72eb66884e26"
      },
      "execution_count": null,
      "outputs": [
        {
          "output_type": "stream",
          "name": "stdout",
          "text": [
            "root\n",
            " |-- Name: string (nullable = true)\n",
            " |-- Age: integer (nullable = true)\n",
            " |-- Experience: integer (nullable = true)\n",
            " |-- Salary: integer (nullable = true)\n",
            " |-- Department: string (nullable = true)\n",
            "\n"
          ]
        }
      ]
    },
    {
      "cell_type": "code",
      "source": [
        "df_ps.groupBy('Department').sum('Salary').show()"
      ],
      "metadata": {
        "colab": {
          "base_uri": "https://localhost:8080/"
        },
        "id": "tNeb65TpgWKA",
        "outputId": "deca9f7f-e07a-489a-e688-5c369a9c8d20"
      },
      "execution_count": null,
      "outputs": [
        {
          "output_type": "stream",
          "name": "stdout",
          "text": [
            "+------------+-----------+\n",
            "|  Department|sum(Salary)|\n",
            "+------------+-----------+\n",
            "|         IOT|      65000|\n",
            "|    Big Data|     120900|\n",
            "|Data Science|     105000|\n",
            "+------------+-----------+\n",
            "\n"
          ]
        }
      ]
    },
    {
      "cell_type": "code",
      "source": [
        "df_ps.agg({'Salary':'sum'}).show()"
      ],
      "metadata": {
        "colab": {
          "base_uri": "https://localhost:8080/"
        },
        "id": "6HOz7ENYgpU_",
        "outputId": "1b2b00f8-c7de-4221-fc2d-5ab2a0c0441a"
      },
      "execution_count": null,
      "outputs": [
        {
          "output_type": "stream",
          "name": "stdout",
          "text": [
            "+-----------+\n",
            "|sum(Salary)|\n",
            "+-----------+\n",
            "|     290900|\n",
            "+-----------+\n",
            "\n"
          ]
        }
      ]
    },
    {
      "cell_type": "code",
      "source": [
        "df_ps.groupBy('Department').mean().show()"
      ],
      "metadata": {
        "colab": {
          "base_uri": "https://localhost:8080/"
        },
        "id": "eZZjNOOzg3BA",
        "outputId": "fa573781-69c0-467b-ba86-98e9c0f059da"
      },
      "execution_count": null,
      "outputs": [
        {
          "output_type": "stream",
          "name": "stdout",
          "text": [
            "+------------+------------------+-----------------+-----------+\n",
            "|  Department|          avg(Age)|  avg(Experience)|avg(Salary)|\n",
            "+------------+------------------+-----------------+-----------+\n",
            "|         IOT|              31.0|              8.0|    32500.0|\n",
            "|    Big Data|              29.5|4.333333333333333|    30225.0|\n",
            "|Data Science|28.333333333333332|              7.5|    26250.0|\n",
            "+------------+------------------+-----------------+-----------+\n",
            "\n"
          ]
        }
      ]
    },
    {
      "cell_type": "code",
      "source": [
        "df_ps.groupBy('Department').count().show()"
      ],
      "metadata": {
        "colab": {
          "base_uri": "https://localhost:8080/"
        },
        "id": "-VogB1YGhZW_",
        "outputId": "0a596d09-ed5b-4664-c473-29a95ab3e699"
      },
      "execution_count": null,
      "outputs": [
        {
          "output_type": "stream",
          "name": "stdout",
          "text": [
            "+------------+-----+\n",
            "|  Department|count|\n",
            "+------------+-----+\n",
            "|         IOT|    2|\n",
            "|    Big Data|    4|\n",
            "|Data Science|    4|\n",
            "+------------+-----+\n",
            "\n"
          ]
        }
      ]
    },
    {
      "cell_type": "code",
      "source": [],
      "metadata": {
        "id": "rqQaqr8MhnKz"
      },
      "execution_count": null,
      "outputs": []
    }
  ]
}