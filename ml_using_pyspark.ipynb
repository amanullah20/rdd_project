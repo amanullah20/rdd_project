{
  "nbformat": 4,
  "nbformat_minor": 0,
  "metadata": {
    "colab": {
      "provenance": [],
      "authorship_tag": "ABX9TyOrQCbpB2ScYm8FU5xJ9sxT",
      "include_colab_link": true
    },
    "kernelspec": {
      "name": "python3",
      "display_name": "Python 3"
    },
    "language_info": {
      "name": "python"
    }
  },
  "cells": [
    {
      "cell_type": "markdown",
      "metadata": {
        "id": "view-in-github",
        "colab_type": "text"
      },
      "source": [
        "<a href=\"https://colab.research.google.com/github/amanullah20/rdd_project/blob/main/ml_using_pyspark.ipynb\" target=\"_parent\"><img src=\"https://colab.research.google.com/assets/colab-badge.svg\" alt=\"Open In Colab\"/></a>"
      ]
    },
    {
      "cell_type": "code",
      "execution_count": 1,
      "metadata": {
        "colab": {
          "base_uri": "https://localhost:8080/"
        },
        "id": "v4BQyfrsqd9M",
        "outputId": "d7ab87bd-d6f7-4963-ef94-0c17714cef04"
      },
      "outputs": [
        {
          "output_type": "stream",
          "name": "stdout",
          "text": [
            "Collecting pyspark\n",
            "  Downloading pyspark-3.5.1.tar.gz (317.0 MB)\n",
            "\u001b[2K     \u001b[90m━━━━━━━━━━━━━━━━━━━━━━━━━━━━━━━━━━━━━━━━\u001b[0m \u001b[32m317.0/317.0 MB\u001b[0m \u001b[31m4.4 MB/s\u001b[0m eta \u001b[36m0:00:00\u001b[0m\n",
            "\u001b[?25h  Preparing metadata (setup.py) ... \u001b[?25l\u001b[?25hdone\n",
            "Requirement already satisfied: py4j==0.10.9.7 in /usr/local/lib/python3.10/dist-packages (from pyspark) (0.10.9.7)\n",
            "Building wheels for collected packages: pyspark\n",
            "  Building wheel for pyspark (setup.py) ... \u001b[?25l\u001b[?25hdone\n",
            "  Created wheel for pyspark: filename=pyspark-3.5.1-py2.py3-none-any.whl size=317488491 sha256=76f747aba5e4bef63cc74cc1e03aa787da1ac002cd3f2b65aa9afbbc88152649\n",
            "  Stored in directory: /root/.cache/pip/wheels/80/1d/60/2c256ed38dddce2fdd93be545214a63e02fbd8d74fb0b7f3a6\n",
            "Successfully built pyspark\n",
            "Installing collected packages: pyspark\n",
            "Successfully installed pyspark-3.5.1\n"
          ]
        }
      ],
      "source": [
        "!pip install pyspark"
      ]
    },
    {
      "cell_type": "code",
      "source": [
        "from pyspark.sql import SparkSession\n",
        "from pyspark.ml.feature import VectorAssembler\n",
        "from pyspark.ml.regression import LinearRegression\n",
        "from pyspark.ml.regression import RandomForestRegressor\n",
        "from pyspark.ml.evaluation import RegressionEvaluator"
      ],
      "metadata": {
        "id": "9oSusS3Y4D5Y"
      },
      "execution_count": 2,
      "outputs": []
    },
    {
      "cell_type": "code",
      "source": [
        "spark= SparkSession.builder.getOrCreate()"
      ],
      "metadata": {
        "id": "EbVzac6i5BT3"
      },
      "execution_count": 3,
      "outputs": []
    },
    {
      "cell_type": "code",
      "source": [
        "dataframe=spark.read.csv('/content/Admission_Prediction.csv',header=True,inferSchema=True)"
      ],
      "metadata": {
        "id": "Vv34NiiD5WuV"
      },
      "execution_count": 4,
      "outputs": []
    },
    {
      "cell_type": "code",
      "source": [
        "type(dataframe)"
      ],
      "metadata": {
        "colab": {
          "base_uri": "https://localhost:8080/",
          "height": 186
        },
        "id": "UCViXGGr5k1l",
        "outputId": "bbcb7f79-28a1-4e0b-e968-eeaacca97b59"
      },
      "execution_count": 5,
      "outputs": [
        {
          "output_type": "execute_result",
          "data": {
            "text/plain": [
              "pyspark.sql.dataframe.DataFrame"
            ],
            "text/html": [
              "<div style=\"max-width:800px; border: 1px solid var(--colab-border-color);\"><style>\n",
              "      pre.function-repr-contents {\n",
              "        overflow-x: auto;\n",
              "        padding: 8px 12px;\n",
              "        max-height: 500px;\n",
              "      }\n",
              "\n",
              "      pre.function-repr-contents.function-repr-contents-collapsed {\n",
              "        cursor: pointer;\n",
              "        max-height: 100px;\n",
              "      }\n",
              "    </style>\n",
              "    <pre style=\"white-space: initial; background:\n",
              "         var(--colab-secondary-surface-color); padding: 8px 12px;\n",
              "         border-bottom: 1px solid var(--colab-border-color);\"><b>pyspark.sql.dataframe.DataFrame</b><br/>def __init__(jdf: JavaObject, sql_ctx: Union[&#x27;SQLContext&#x27;, &#x27;SparkSession&#x27;])</pre><pre class=\"function-repr-contents function-repr-contents-collapsed\" style=\"\"><a class=\"filepath\" style=\"display:none\" href=\"#\">/usr/local/lib/python3.10/dist-packages/pyspark/sql/dataframe.py</a>A distributed collection of data grouped into named columns.\n",
              "\n",
              ".. versionadded:: 1.3.0\n",
              "\n",
              ".. versionchanged:: 3.4.0\n",
              "    Supports Spark Connect.\n",
              "\n",
              "Examples\n",
              "--------\n",
              "A :class:`DataFrame` is equivalent to a relational table in Spark SQL,\n",
              "and can be created using various functions in :class:`SparkSession`:\n",
              "\n",
              "&gt;&gt;&gt; people = spark.createDataFrame([\n",
              "...     {&quot;deptId&quot;: 1, &quot;age&quot;: 40, &quot;name&quot;: &quot;Hyukjin Kwon&quot;, &quot;gender&quot;: &quot;M&quot;, &quot;salary&quot;: 50},\n",
              "...     {&quot;deptId&quot;: 1, &quot;age&quot;: 50, &quot;name&quot;: &quot;Takuya Ueshin&quot;, &quot;gender&quot;: &quot;M&quot;, &quot;salary&quot;: 100},\n",
              "...     {&quot;deptId&quot;: 2, &quot;age&quot;: 60, &quot;name&quot;: &quot;Xinrong Meng&quot;, &quot;gender&quot;: &quot;F&quot;, &quot;salary&quot;: 150},\n",
              "...     {&quot;deptId&quot;: 3, &quot;age&quot;: 20, &quot;name&quot;: &quot;Haejoon Lee&quot;, &quot;gender&quot;: &quot;M&quot;, &quot;salary&quot;: 200}\n",
              "... ])\n",
              "\n",
              "Once created, it can be manipulated using the various domain-specific-language\n",
              "(DSL) functions defined in: :class:`DataFrame`, :class:`Column`.\n",
              "\n",
              "To select a column from the :class:`DataFrame`, use the apply method:\n",
              "\n",
              "&gt;&gt;&gt; age_col = people.age\n",
              "\n",
              "A more concrete example:\n",
              "\n",
              "&gt;&gt;&gt; # To create DataFrame using SparkSession\n",
              "... department = spark.createDataFrame([\n",
              "...     {&quot;id&quot;: 1, &quot;name&quot;: &quot;PySpark&quot;},\n",
              "...     {&quot;id&quot;: 2, &quot;name&quot;: &quot;ML&quot;},\n",
              "...     {&quot;id&quot;: 3, &quot;name&quot;: &quot;Spark SQL&quot;}\n",
              "... ])\n",
              "\n",
              "&gt;&gt;&gt; people.filter(people.age &gt; 30).join(\n",
              "...     department, people.deptId == department.id).groupBy(\n",
              "...     department.name, &quot;gender&quot;).agg({&quot;salary&quot;: &quot;avg&quot;, &quot;age&quot;: &quot;max&quot;}).show()\n",
              "+-------+------+-----------+--------+\n",
              "|   name|gender|avg(salary)|max(age)|\n",
              "+-------+------+-----------+--------+\n",
              "|     ML|     F|      150.0|      60|\n",
              "|PySpark|     M|       75.0|      50|\n",
              "+-------+------+-----------+--------+\n",
              "\n",
              "Notes\n",
              "-----\n",
              "A DataFrame should only be created as described above. It should not be directly\n",
              "created via using the constructor.</pre>\n",
              "      <script>\n",
              "      if (google.colab.kernel.accessAllowed && google.colab.files && google.colab.files.view) {\n",
              "        for (const element of document.querySelectorAll('.filepath')) {\n",
              "          element.style.display = 'block'\n",
              "          element.onclick = (event) => {\n",
              "            event.preventDefault();\n",
              "            event.stopPropagation();\n",
              "            google.colab.files.view(element.textContent, 80);\n",
              "          };\n",
              "        }\n",
              "      }\n",
              "      for (const element of document.querySelectorAll('.function-repr-contents')) {\n",
              "        element.onclick = (event) => {\n",
              "          event.preventDefault();\n",
              "          event.stopPropagation();\n",
              "          element.classList.toggle('function-repr-contents-collapsed');\n",
              "        };\n",
              "      }\n",
              "      </script>\n",
              "      </div>"
            ]
          },
          "metadata": {},
          "execution_count": 5
        }
      ]
    },
    {
      "cell_type": "code",
      "source": [
        "dataframe.show(5)"
      ],
      "metadata": {
        "colab": {
          "base_uri": "https://localhost:8080/"
        },
        "id": "OI5XF9ky5y0d",
        "outputId": "1ab6c1fc-4bdf-4af1-d3f0-25d5487ec3e9"
      },
      "execution_count": 6,
      "outputs": [
        {
          "output_type": "stream",
          "name": "stdout",
          "text": [
            "+---------+-----------+-----------------+---+---+----+--------+---------------+\n",
            "|GRE Score|TOEFL Score|University Rating|SOP|LOR|CGPA|Research|Chance of Admit|\n",
            "+---------+-----------+-----------------+---+---+----+--------+---------------+\n",
            "|    337.0|      118.0|                4|4.5|4.5|9.65|     1.0|           0.92|\n",
            "|    324.0|      107.0|                4|4.0|4.5|8.87|     1.0|           0.76|\n",
            "|     NULL|      104.0|                3|3.0|3.5| 8.0|     1.0|           0.72|\n",
            "|    322.0|      110.0|                3|3.5|2.5|8.67|     1.0|            0.8|\n",
            "|    314.0|      103.0|                2|2.0|3.0|8.21|     0.0|           0.65|\n",
            "+---------+-----------+-----------------+---+---+----+--------+---------------+\n",
            "only showing top 5 rows\n",
            "\n"
          ]
        }
      ]
    },
    {
      "cell_type": "code",
      "source": [
        "dataframe.printSchema()"
      ],
      "metadata": {
        "colab": {
          "base_uri": "https://localhost:8080/"
        },
        "id": "AcF3EAbZ6MX1",
        "outputId": "0c6893b8-7e44-4d16-a345-1d4518772fbb"
      },
      "execution_count": 7,
      "outputs": [
        {
          "output_type": "stream",
          "name": "stdout",
          "text": [
            "root\n",
            " |-- GRE Score: double (nullable = true)\n",
            " |-- TOEFL Score: double (nullable = true)\n",
            " |-- University Rating: integer (nullable = true)\n",
            " |-- SOP: double (nullable = true)\n",
            " |-- LOR: double (nullable = true)\n",
            " |-- CGPA: double (nullable = true)\n",
            " |-- Research: double (nullable = true)\n",
            " |-- Chance of Admit: double (nullable = true)\n",
            "\n"
          ]
        }
      ]
    },
    {
      "cell_type": "code",
      "source": [
        "dataframe.columns"
      ],
      "metadata": {
        "colab": {
          "base_uri": "https://localhost:8080/"
        },
        "id": "jnd9FjW76U8k",
        "outputId": "7b198ab0-1d49-4710-9ee3-61fe81432249"
      },
      "execution_count": 8,
      "outputs": [
        {
          "output_type": "execute_result",
          "data": {
            "text/plain": [
              "['GRE Score',\n",
              " 'TOEFL Score',\n",
              " 'University Rating',\n",
              " 'SOP',\n",
              " 'LOR',\n",
              " 'CGPA',\n",
              " 'Research',\n",
              " 'Chance of Admit']"
            ]
          },
          "metadata": {},
          "execution_count": 8
        }
      ]
    },
    {
      "cell_type": "code",
      "source": [
        "from pyspark.sql.functions import col , count, isnan, when\n",
        "for c in dataframe.columns:\n",
        "  print(col(c))"
      ],
      "metadata": {
        "colab": {
          "base_uri": "https://localhost:8080/"
        },
        "id": "W-0F4W4i6hmc",
        "outputId": "9c73e471-9180-4ee5-80ac-02a305c0a645"
      },
      "execution_count": 9,
      "outputs": [
        {
          "output_type": "stream",
          "name": "stdout",
          "text": [
            "Column<'GRE Score'>\n",
            "Column<'TOEFL Score'>\n",
            "Column<'University Rating'>\n",
            "Column<'SOP'>\n",
            "Column<'LOR'>\n",
            "Column<'CGPA'>\n",
            "Column<'Research'>\n",
            "Column<'Chance of Admit'>\n"
          ]
        }
      ]
    },
    {
      "cell_type": "code",
      "source": [
        "dataframe.select(*(col(c) for c in dataframe.columns)).show()"
      ],
      "metadata": {
        "colab": {
          "base_uri": "https://localhost:8080/"
        },
        "id": "hdTPwyj_62cV",
        "outputId": "567a92ee-ca76-4dfa-fa1b-72c53aad67a8"
      },
      "execution_count": 10,
      "outputs": [
        {
          "output_type": "stream",
          "name": "stdout",
          "text": [
            "+---------+-----------+-----------------+---+---+----+--------+---------------+\n",
            "|GRE Score|TOEFL Score|University Rating|SOP|LOR|CGPA|Research|Chance of Admit|\n",
            "+---------+-----------+-----------------+---+---+----+--------+---------------+\n",
            "|    337.0|      118.0|                4|4.5|4.5|9.65|     1.0|           0.92|\n",
            "|    324.0|      107.0|                4|4.0|4.5|8.87|     1.0|           0.76|\n",
            "|     NULL|      104.0|                3|3.0|3.5| 8.0|     1.0|           0.72|\n",
            "|    322.0|      110.0|                3|3.5|2.5|8.67|     1.0|            0.8|\n",
            "|    314.0|      103.0|                2|2.0|3.0|8.21|     0.0|           0.65|\n",
            "|    330.0|      115.0|                5|4.5|3.0|9.34|     1.0|            0.9|\n",
            "|    321.0|      109.0|             NULL|3.0|4.0| 8.2|     1.0|           0.75|\n",
            "|    308.0|      101.0|                2|3.0|4.0| 7.9|     0.0|           0.68|\n",
            "|    302.0|      102.0|                1|2.0|1.5| 8.0|     0.0|            0.5|\n",
            "|    323.0|      108.0|                3|3.5|3.0| 8.6|     0.0|           0.45|\n",
            "|    325.0|      106.0|                3|3.5|4.0| 8.4|     1.0|           0.52|\n",
            "|    327.0|      111.0|                4|4.0|4.5| 9.0|     1.0|           0.84|\n",
            "|     NULL|      112.0|                4|4.0|4.5| 9.1|     1.0|           0.78|\n",
            "|    307.0|      109.0|                3|4.0|3.0| 8.0|     1.0|           0.62|\n",
            "|    311.0|      104.0|                3|3.5|2.0| 8.2|     1.0|           0.61|\n",
            "|    314.0|      105.0|                3|3.5|2.5| 8.3|     0.0|           0.54|\n",
            "|    317.0|      107.0|                3|4.0|3.0| 8.7|     0.0|           0.66|\n",
            "|    319.0|      106.0|                3|4.0|3.0| 8.0|     1.0|           0.65|\n",
            "|    318.0|      110.0|                3|4.0|3.0| 8.8|     0.0|           0.63|\n",
            "|    303.0|      102.0|                3|3.5|3.0| 8.5|     0.0|           0.62|\n",
            "+---------+-----------+-----------------+---+---+----+--------+---------------+\n",
            "only showing top 20 rows\n",
            "\n"
          ]
        }
      ]
    },
    {
      "cell_type": "code",
      "source": [
        "dataframe.select(*(col(c).cast('float') for c in dataframe.columns)).show()"
      ],
      "metadata": {
        "colab": {
          "base_uri": "https://localhost:8080/"
        },
        "id": "bmvnNGVb7ym0",
        "outputId": "3c0c3ef9-ee8a-4b2b-9da7-acb56e8c1d23"
      },
      "execution_count": 11,
      "outputs": [
        {
          "output_type": "stream",
          "name": "stdout",
          "text": [
            "+---------+-----------+-----------------+---+---+----+--------+---------------+\n",
            "|GRE Score|TOEFL Score|University Rating|SOP|LOR|CGPA|Research|Chance of Admit|\n",
            "+---------+-----------+-----------------+---+---+----+--------+---------------+\n",
            "|    337.0|      118.0|              4.0|4.5|4.5|9.65|     1.0|           0.92|\n",
            "|    324.0|      107.0|              4.0|4.0|4.5|8.87|     1.0|           0.76|\n",
            "|     NULL|      104.0|              3.0|3.0|3.5| 8.0|     1.0|           0.72|\n",
            "|    322.0|      110.0|              3.0|3.5|2.5|8.67|     1.0|            0.8|\n",
            "|    314.0|      103.0|              2.0|2.0|3.0|8.21|     0.0|           0.65|\n",
            "|    330.0|      115.0|              5.0|4.5|3.0|9.34|     1.0|            0.9|\n",
            "|    321.0|      109.0|             NULL|3.0|4.0| 8.2|     1.0|           0.75|\n",
            "|    308.0|      101.0|              2.0|3.0|4.0| 7.9|     0.0|           0.68|\n",
            "|    302.0|      102.0|              1.0|2.0|1.5| 8.0|     0.0|            0.5|\n",
            "|    323.0|      108.0|              3.0|3.5|3.0| 8.6|     0.0|           0.45|\n",
            "|    325.0|      106.0|              3.0|3.5|4.0| 8.4|     1.0|           0.52|\n",
            "|    327.0|      111.0|              4.0|4.0|4.5| 9.0|     1.0|           0.84|\n",
            "|     NULL|      112.0|              4.0|4.0|4.5| 9.1|     1.0|           0.78|\n",
            "|    307.0|      109.0|              3.0|4.0|3.0| 8.0|     1.0|           0.62|\n",
            "|    311.0|      104.0|              3.0|3.5|2.0| 8.2|     1.0|           0.61|\n",
            "|    314.0|      105.0|              3.0|3.5|2.5| 8.3|     0.0|           0.54|\n",
            "|    317.0|      107.0|              3.0|4.0|3.0| 8.7|     0.0|           0.66|\n",
            "|    319.0|      106.0|              3.0|4.0|3.0| 8.0|     1.0|           0.65|\n",
            "|    318.0|      110.0|              3.0|4.0|3.0| 8.8|     0.0|           0.63|\n",
            "|    303.0|      102.0|              3.0|3.5|3.0| 8.5|     0.0|           0.62|\n",
            "+---------+-----------+-----------------+---+---+----+--------+---------------+\n",
            "only showing top 20 rows\n",
            "\n"
          ]
        }
      ]
    },
    {
      "cell_type": "code",
      "source": [
        "new_dataframe= dataframe.select(*(col(c).cast('float') for c in dataframe.columns))"
      ],
      "metadata": {
        "id": "ihD4u0qz8aWj"
      },
      "execution_count": 12,
      "outputs": []
    },
    {
      "cell_type": "code",
      "source": [
        "new_dataframe.printSchema()"
      ],
      "metadata": {
        "colab": {
          "base_uri": "https://localhost:8080/"
        },
        "id": "aydY5SXG885l",
        "outputId": "dcbf6b98-0cac-4766-9578-2c3886aa93e4"
      },
      "execution_count": 13,
      "outputs": [
        {
          "output_type": "stream",
          "name": "stdout",
          "text": [
            "root\n",
            " |-- GRE Score: float (nullable = true)\n",
            " |-- TOEFL Score: float (nullable = true)\n",
            " |-- University Rating: float (nullable = true)\n",
            " |-- SOP: float (nullable = true)\n",
            " |-- LOR: float (nullable = true)\n",
            " |-- CGPA: float (nullable = true)\n",
            " |-- Research: float (nullable = true)\n",
            " |-- Chance of Admit: float (nullable = true)\n",
            "\n"
          ]
        }
      ]
    },
    {
      "cell_type": "markdown",
      "source": [
        "# **checking for null values in columns**"
      ],
      "metadata": {
        "id": "CxjzyI6j_w3s"
      }
    },
    {
      "cell_type": "code",
      "source": [
        " new_dataframe.select([count(when(col(c).isNull(),c)).alias(c) for c in new_dataframe.columns]).show()"
      ],
      "metadata": {
        "colab": {
          "base_uri": "https://localhost:8080/"
        },
        "id": "t-LZPA7z9COD",
        "outputId": "852c638b-0d88-45ed-e428-71fb5f0cff23"
      },
      "execution_count": 14,
      "outputs": [
        {
          "output_type": "stream",
          "name": "stdout",
          "text": [
            "+---------+-----------+-----------------+---+---+----+--------+---------------+\n",
            "|GRE Score|TOEFL Score|University Rating|SOP|LOR|CGPA|Research|Chance of Admit|\n",
            "+---------+-----------+-----------------+---+---+----+--------+---------------+\n",
            "|       15|         10|               15|  0|  0|   0|       0|              0|\n",
            "+---------+-----------+-----------------+---+---+----+--------+---------------+\n",
            "\n"
          ]
        }
      ]
    },
    {
      "cell_type": "code",
      "source": [
        "new_dataframe.select([count(when(col(c).isNull(), c)).alias(c) for c in new_dataframe.columns]).show()"
      ],
      "metadata": {
        "colab": {
          "base_uri": "https://localhost:8080/"
        },
        "id": "9BN_fYZu-YXz",
        "outputId": "69ee1748-18ed-4093-9077-94aee524bd7c"
      },
      "execution_count": 15,
      "outputs": [
        {
          "output_type": "stream",
          "name": "stdout",
          "text": [
            "+---------+-----------+-----------------+---+---+----+--------+---------------+\n",
            "|GRE Score|TOEFL Score|University Rating|SOP|LOR|CGPA|Research|Chance of Admit|\n",
            "+---------+-----------+-----------------+---+---+----+--------+---------------+\n",
            "|       15|         10|               15|  0|  0|   0|       0|              0|\n",
            "+---------+-----------+-----------------+---+---+----+--------+---------------+\n",
            "\n"
          ]
        }
      ]
    },
    {
      "cell_type": "markdown",
      "source": [
        "# **For removing null values**"
      ],
      "metadata": {
        "id": "DNlB0CUpARQL"
      }
    },
    {
      "cell_type": "code",
      "source": [
        "from pyspark.ml.feature import Imputer"
      ],
      "metadata": {
        "id": "S0kwWLPo_bbS"
      },
      "execution_count": 16,
      "outputs": []
    },
    {
      "cell_type": "code",
      "source": [
        "imputer= Imputer(inputCols=['GRE Score','TOEFL Score','University Rating'],\n",
        "                 outputCols=['GRE Score','TOEFL Score','University Rating'])\n",
        "model = imputer.fit(new_dataframe)\n",
        "imputed_data=model.transform(new_dataframe)\n"
      ],
      "metadata": {
        "id": "AOZ6y3vHAO2n"
      },
      "execution_count": 17,
      "outputs": []
    },
    {
      "cell_type": "code",
      "source": [
        "imputed_data.show()"
      ],
      "metadata": {
        "colab": {
          "base_uri": "https://localhost:8080/"
        },
        "id": "szfieFORCbRx",
        "outputId": "4ca19784-ecf4-4e04-e849-5fb0cdbd313b"
      },
      "execution_count": 18,
      "outputs": [
        {
          "output_type": "stream",
          "name": "stdout",
          "text": [
            "+---------+-----------+-----------------+---+---+----+--------+---------------+\n",
            "|GRE Score|TOEFL Score|University Rating|SOP|LOR|CGPA|Research|Chance of Admit|\n",
            "+---------+-----------+-----------------+---+---+----+--------+---------------+\n",
            "|    337.0|      118.0|              4.0|4.5|4.5|9.65|     1.0|           0.92|\n",
            "|    324.0|      107.0|              4.0|4.0|4.5|8.87|     1.0|           0.76|\n",
            "|316.55878|      104.0|              3.0|3.0|3.5| 8.0|     1.0|           0.72|\n",
            "|    322.0|      110.0|              3.0|3.5|2.5|8.67|     1.0|            0.8|\n",
            "|    314.0|      103.0|              2.0|2.0|3.0|8.21|     0.0|           0.65|\n",
            "|    330.0|      115.0|              5.0|4.5|3.0|9.34|     1.0|            0.9|\n",
            "|    321.0|      109.0|        3.1216495|3.0|4.0| 8.2|     1.0|           0.75|\n",
            "|    308.0|      101.0|              2.0|3.0|4.0| 7.9|     0.0|           0.68|\n",
            "|    302.0|      102.0|              1.0|2.0|1.5| 8.0|     0.0|            0.5|\n",
            "|    323.0|      108.0|              3.0|3.5|3.0| 8.6|     0.0|           0.45|\n",
            "|    325.0|      106.0|              3.0|3.5|4.0| 8.4|     1.0|           0.52|\n",
            "|    327.0|      111.0|              4.0|4.0|4.5| 9.0|     1.0|           0.84|\n",
            "|316.55878|      112.0|              4.0|4.0|4.5| 9.1|     1.0|           0.78|\n",
            "|    307.0|      109.0|              3.0|4.0|3.0| 8.0|     1.0|           0.62|\n",
            "|    311.0|      104.0|              3.0|3.5|2.0| 8.2|     1.0|           0.61|\n",
            "|    314.0|      105.0|              3.0|3.5|2.5| 8.3|     0.0|           0.54|\n",
            "|    317.0|      107.0|              3.0|4.0|3.0| 8.7|     0.0|           0.66|\n",
            "|    319.0|      106.0|              3.0|4.0|3.0| 8.0|     1.0|           0.65|\n",
            "|    318.0|      110.0|              3.0|4.0|3.0| 8.8|     0.0|           0.63|\n",
            "|    303.0|      102.0|              3.0|3.5|3.0| 8.5|     0.0|           0.62|\n",
            "+---------+-----------+-----------------+---+---+----+--------+---------------+\n",
            "only showing top 20 rows\n",
            "\n"
          ]
        }
      ]
    },
    {
      "cell_type": "code",
      "source": [
        "imputed_data.select([count(when(col(c).isNull(),c)).alias(c) for c in imputed_data.columns]).show()"
      ],
      "metadata": {
        "colab": {
          "base_uri": "https://localhost:8080/"
        },
        "id": "NAXcJ-gLC8M3",
        "outputId": "ade82f4f-b6e5-43b2-fad9-681ad3b02faf"
      },
      "execution_count": 19,
      "outputs": [
        {
          "output_type": "stream",
          "name": "stdout",
          "text": [
            "+---------+-----------+-----------------+---+---+----+--------+---------------+\n",
            "|GRE Score|TOEFL Score|University Rating|SOP|LOR|CGPA|Research|Chance of Admit|\n",
            "+---------+-----------+-----------------+---+---+----+--------+---------------+\n",
            "|        0|          0|                0|  0|  0|   0|       0|              0|\n",
            "+---------+-----------+-----------------+---+---+----+--------+---------------+\n",
            "\n"
          ]
        }
      ]
    },
    {
      "cell_type": "code",
      "source": [
        "features = imputed_data.drop('Chance of Admit')"
      ],
      "metadata": {
        "id": "kz3BhWgHEfx4"
      },
      "execution_count": 20,
      "outputs": []
    },
    {
      "cell_type": "code",
      "source": [
        "features.columns"
      ],
      "metadata": {
        "colab": {
          "base_uri": "https://localhost:8080/"
        },
        "id": "K0mgKbSiFViO",
        "outputId": "c6fd5001-c454-472f-e1f5-d32f892c1739"
      },
      "execution_count": 21,
      "outputs": [
        {
          "output_type": "execute_result",
          "data": {
            "text/plain": [
              "['GRE Score',\n",
              " 'TOEFL Score',\n",
              " 'University Rating',\n",
              " 'SOP',\n",
              " 'LOR',\n",
              " 'CGPA',\n",
              " 'Research']"
            ]
          },
          "metadata": {},
          "execution_count": 21
        }
      ]
    },
    {
      "cell_type": "code",
      "source": [
        "assembler=VectorAssembler(inputCols=features.columns,outputCol='features')"
      ],
      "metadata": {
        "id": "Gu9PuzY1FZJR"
      },
      "execution_count": 22,
      "outputs": []
    },
    {
      "cell_type": "code",
      "source": [
        "output = assembler.transform(imputed_data)"
      ],
      "metadata": {
        "id": "FeAs6qAwFzjX"
      },
      "execution_count": 23,
      "outputs": []
    },
    {
      "cell_type": "code",
      "source": [
        "output.show()"
      ],
      "metadata": {
        "colab": {
          "base_uri": "https://localhost:8080/"
        },
        "id": "6NxvqokXGB2M",
        "outputId": "cc15a3aa-455c-4735-f1b3-b3426fff446c"
      },
      "execution_count": 24,
      "outputs": [
        {
          "output_type": "stream",
          "name": "stdout",
          "text": [
            "+---------+-----------+-----------------+---+---+----+--------+---------------+--------------------+\n",
            "|GRE Score|TOEFL Score|University Rating|SOP|LOR|CGPA|Research|Chance of Admit|            features|\n",
            "+---------+-----------+-----------------+---+---+----+--------+---------------+--------------------+\n",
            "|    337.0|      118.0|              4.0|4.5|4.5|9.65|     1.0|           0.92|[337.0,118.0,4.0,...|\n",
            "|    324.0|      107.0|              4.0|4.0|4.5|8.87|     1.0|           0.76|[324.0,107.0,4.0,...|\n",
            "|316.55878|      104.0|              3.0|3.0|3.5| 8.0|     1.0|           0.72|[316.558776855468...|\n",
            "|    322.0|      110.0|              3.0|3.5|2.5|8.67|     1.0|            0.8|[322.0,110.0,3.0,...|\n",
            "|    314.0|      103.0|              2.0|2.0|3.0|8.21|     0.0|           0.65|[314.0,103.0,2.0,...|\n",
            "|    330.0|      115.0|              5.0|4.5|3.0|9.34|     1.0|            0.9|[330.0,115.0,5.0,...|\n",
            "|    321.0|      109.0|        3.1216495|3.0|4.0| 8.2|     1.0|           0.75|[321.0,109.0,3.12...|\n",
            "|    308.0|      101.0|              2.0|3.0|4.0| 7.9|     0.0|           0.68|[308.0,101.0,2.0,...|\n",
            "|    302.0|      102.0|              1.0|2.0|1.5| 8.0|     0.0|            0.5|[302.0,102.0,1.0,...|\n",
            "|    323.0|      108.0|              3.0|3.5|3.0| 8.6|     0.0|           0.45|[323.0,108.0,3.0,...|\n",
            "|    325.0|      106.0|              3.0|3.5|4.0| 8.4|     1.0|           0.52|[325.0,106.0,3.0,...|\n",
            "|    327.0|      111.0|              4.0|4.0|4.5| 9.0|     1.0|           0.84|[327.0,111.0,4.0,...|\n",
            "|316.55878|      112.0|              4.0|4.0|4.5| 9.1|     1.0|           0.78|[316.558776855468...|\n",
            "|    307.0|      109.0|              3.0|4.0|3.0| 8.0|     1.0|           0.62|[307.0,109.0,3.0,...|\n",
            "|    311.0|      104.0|              3.0|3.5|2.0| 8.2|     1.0|           0.61|[311.0,104.0,3.0,...|\n",
            "|    314.0|      105.0|              3.0|3.5|2.5| 8.3|     0.0|           0.54|[314.0,105.0,3.0,...|\n",
            "|    317.0|      107.0|              3.0|4.0|3.0| 8.7|     0.0|           0.66|[317.0,107.0,3.0,...|\n",
            "|    319.0|      106.0|              3.0|4.0|3.0| 8.0|     1.0|           0.65|[319.0,106.0,3.0,...|\n",
            "|    318.0|      110.0|              3.0|4.0|3.0| 8.8|     0.0|           0.63|[318.0,110.0,3.0,...|\n",
            "|    303.0|      102.0|              3.0|3.5|3.0| 8.5|     0.0|           0.62|[303.0,102.0,3.0,...|\n",
            "+---------+-----------+-----------------+---+---+----+--------+---------------+--------------------+\n",
            "only showing top 20 rows\n",
            "\n"
          ]
        }
      ]
    },
    {
      "cell_type": "code",
      "source": [
        "output.select('features').toPandas().values"
      ],
      "metadata": {
        "colab": {
          "base_uri": "https://localhost:8080/"
        },
        "id": "Pxv4_9emGE6v",
        "outputId": "2fa9a554-2888-47bd-98aa-418bb051745d"
      },
      "execution_count": 25,
      "outputs": [
        {
          "output_type": "execute_result",
          "data": {
            "text/plain": [
              "array([[DenseVector([337.0, 118.0, 4.0, 4.5, 4.5, 9.65, 1.0])],\n",
              "       [DenseVector([324.0, 107.0, 4.0, 4.0, 4.5, 8.87, 1.0])],\n",
              "       [DenseVector([316.5588, 104.0, 3.0, 3.0, 3.5, 8.0, 1.0])],\n",
              "       [DenseVector([322.0, 110.0, 3.0, 3.5, 2.5, 8.67, 1.0])],\n",
              "       [DenseVector([314.0, 103.0, 2.0, 2.0, 3.0, 8.21, 0.0])],\n",
              "       [DenseVector([330.0, 115.0, 5.0, 4.5, 3.0, 9.34, 1.0])],\n",
              "       [DenseVector([321.0, 109.0, 3.1216, 3.0, 4.0, 8.2, 1.0])],\n",
              "       [DenseVector([308.0, 101.0, 2.0, 3.0, 4.0, 7.9, 0.0])],\n",
              "       [DenseVector([302.0, 102.0, 1.0, 2.0, 1.5, 8.0, 0.0])],\n",
              "       [DenseVector([323.0, 108.0, 3.0, 3.5, 3.0, 8.6, 0.0])],\n",
              "       [DenseVector([325.0, 106.0, 3.0, 3.5, 4.0, 8.4, 1.0])],\n",
              "       [DenseVector([327.0, 111.0, 4.0, 4.0, 4.5, 9.0, 1.0])],\n",
              "       [DenseVector([316.5588, 112.0, 4.0, 4.0, 4.5, 9.1, 1.0])],\n",
              "       [DenseVector([307.0, 109.0, 3.0, 4.0, 3.0, 8.0, 1.0])],\n",
              "       [DenseVector([311.0, 104.0, 3.0, 3.5, 2.0, 8.2, 1.0])],\n",
              "       [DenseVector([314.0, 105.0, 3.0, 3.5, 2.5, 8.3, 0.0])],\n",
              "       [DenseVector([317.0, 107.0, 3.0, 4.0, 3.0, 8.7, 0.0])],\n",
              "       [DenseVector([319.0, 106.0, 3.0, 4.0, 3.0, 8.0, 1.0])],\n",
              "       [DenseVector([318.0, 110.0, 3.0, 4.0, 3.0, 8.8, 0.0])],\n",
              "       [DenseVector([303.0, 102.0, 3.0, 3.5, 3.0, 8.5, 0.0])],\n",
              "       [DenseVector([312.0, 107.0, 3.0, 3.0, 2.0, 7.9, 1.0])],\n",
              "       [DenseVector([325.0, 114.0, 4.0, 3.0, 2.0, 8.4, 0.0])],\n",
              "       [DenseVector([328.0, 116.0, 5.0, 5.0, 5.0, 9.5, 1.0])],\n",
              "       [DenseVector([316.5588, 119.0, 5.0, 5.0, 4.5, 9.7, 1.0])],\n",
              "       [DenseVector([336.0, 119.0, 5.0, 4.0, 3.5, 9.8, 1.0])],\n",
              "       [DenseVector([340.0, 120.0, 5.0, 4.5, 4.5, 9.6, 1.0])],\n",
              "       [DenseVector([322.0, 109.0, 5.0, 4.5, 3.5, 8.8, 0.0])],\n",
              "       [DenseVector([298.0, 98.0, 2.0, 1.5, 2.5, 7.5, 1.0])],\n",
              "       [DenseVector([295.0, 93.0, 1.0, 2.0, 2.0, 7.2, 0.0])],\n",
              "       [DenseVector([310.0, 99.0, 2.0, 1.5, 2.0, 7.3, 0.0])],\n",
              "       [DenseVector([300.0, 97.0, 2.0, 3.0, 3.0, 8.1, 1.0])],\n",
              "       [DenseVector([327.0, 103.0, 3.0, 4.0, 4.0, 8.3, 1.0])],\n",
              "       [DenseVector([338.0, 118.0, 4.0, 3.0, 4.5, 9.4, 1.0])],\n",
              "       [DenseVector([340.0, 114.0, 5.0, 4.0, 4.0, 9.6, 1.0])],\n",
              "       [DenseVector([331.0, 112.0, 5.0, 4.0, 5.0, 9.8, 1.0])],\n",
              "       [DenseVector([320.0, 110.0, 5.0, 5.0, 5.0, 9.2, 1.0])],\n",
              "       [DenseVector([316.5588, 106.0, 2.0, 4.0, 4.0, 8.4, 0.0])],\n",
              "       [DenseVector([300.0, 105.0, 1.0, 1.0, 2.0, 7.8, 0.0])],\n",
              "       [DenseVector([304.0, 105.0, 1.0, 3.0, 1.5, 7.5, 0.0])],\n",
              "       [DenseVector([307.0, 108.0, 2.0, 4.0, 3.5, 7.7, 0.0])],\n",
              "       [DenseVector([308.0, 110.0, 3.0, 3.5, 3.0, 8.0, 1.0])],\n",
              "       [DenseVector([316.0, 105.0, 2.0, 2.5, 2.5, 8.2, 1.0])],\n",
              "       [DenseVector([313.0, 107.0, 2.0, 2.5, 2.0, 8.5, 1.0])],\n",
              "       [DenseVector([332.0, 117.0, 4.0, 4.5, 4.0, 9.1, 0.0])],\n",
              "       [DenseVector([326.0, 113.0, 5.0, 4.5, 4.0, 9.4, 1.0])],\n",
              "       [DenseVector([322.0, 110.0, 3.1216, 5.0, 4.0, 9.1, 1.0])],\n",
              "       [DenseVector([329.0, 114.0, 5.0, 4.0, 5.0, 9.3, 1.0])],\n",
              "       [DenseVector([339.0, 119.0, 5.0, 4.5, 4.0, 9.7, 0.0])],\n",
              "       [DenseVector([321.0, 110.0, 3.0, 3.5, 5.0, 8.85, 1.0])],\n",
              "       [DenseVector([327.0, 111.0, 4.0, 3.0, 4.0, 8.4, 1.0])],\n",
              "       [DenseVector([313.0, 98.0, 3.0, 2.5, 4.5, 8.3, 1.0])],\n",
              "       [DenseVector([316.5588, 100.0, 2.0, 1.5, 3.5, 7.9, 1.0])],\n",
              "       [DenseVector([334.0, 116.0, 4.0, 4.0, 3.0, 8.0, 1.0])],\n",
              "       [DenseVector([324.0, 112.0, 4.0, 4.0, 2.5, 8.1, 1.0])],\n",
              "       [DenseVector([322.0, 110.0, 3.0, 3.0, 3.5, 8.0, 0.0])],\n",
              "       [DenseVector([320.0, 103.0, 3.0, 3.0, 3.0, 7.7, 0.0])],\n",
              "       [DenseVector([316.0, 102.0, 3.0, 2.0, 3.0, 7.4, 0.0])],\n",
              "       [DenseVector([298.0, 107.1878, 2.0, 4.0, 2.0, 7.6, 0.0])],\n",
              "       [DenseVector([300.0, 99.0, 1.0, 3.0, 2.0, 6.8, 1.0])],\n",
              "       [DenseVector([311.0, 104.0, 2.0, 2.0, 2.0, 8.3, 0.0])],\n",
              "       [DenseVector([309.0, 100.0, 2.0, 3.0, 3.0, 8.1, 0.0])],\n",
              "       [DenseVector([307.0, 101.0, 3.0, 4.0, 3.0, 8.2, 0.0])],\n",
              "       [DenseVector([304.0, 105.0, 2.0, 3.0, 3.0, 8.2, 1.0])],\n",
              "       [DenseVector([315.0, 107.0, 2.0, 4.0, 3.0, 8.5, 1.0])],\n",
              "       [DenseVector([325.0, 111.0, 3.0, 3.0, 3.5, 8.7, 0.0])],\n",
              "       [DenseVector([325.0, 112.0, 4.0, 3.5, 3.5, 8.92, 0.0])],\n",
              "       [DenseVector([327.0, 114.0, 3.0, 3.0, 3.0, 9.02, 0.0])],\n",
              "       [DenseVector([316.0, 107.0, 2.0, 3.5, 3.5, 8.64, 1.0])],\n",
              "       [DenseVector([318.0, 109.0, 3.0, 3.5, 4.0, 9.22, 1.0])],\n",
              "       [DenseVector([328.0, 115.0, 4.0, 4.5, 4.0, 9.16, 1.0])],\n",
              "       [DenseVector([316.5588, 118.0, 5.0, 5.0, 5.0, 9.64, 1.0])],\n",
              "       [DenseVector([336.0, 112.0, 5.0, 5.0, 5.0, 9.76, 1.0])],\n",
              "       [DenseVector([321.0, 111.0, 5.0, 5.0, 5.0, 9.45, 1.0])],\n",
              "       [DenseVector([314.0, 108.0, 4.0, 4.5, 4.0, 9.04, 1.0])],\n",
              "       [DenseVector([314.0, 106.0, 3.0, 3.0, 5.0, 8.9, 0.0])],\n",
              "       [DenseVector([329.0, 114.0, 2.0, 2.0, 4.0, 8.56, 1.0])],\n",
              "       [DenseVector([327.0, 112.0, 3.0, 3.0, 3.0, 8.72, 1.0])],\n",
              "       [DenseVector([301.0, 99.0, 2.0, 3.0, 2.0, 8.22, 0.0])],\n",
              "       [DenseVector([296.0, 95.0, 2.0, 3.0, 2.0, 7.54, 1.0])],\n",
              "       [DenseVector([294.0, 93.0, 1.0, 1.5, 2.0, 7.36, 0.0])],\n",
              "       [DenseVector([312.0, 105.0, 3.0, 2.0, 3.0, 8.02, 1.0])],\n",
              "       [DenseVector([340.0, 120.0, 4.0, 5.0, 5.0, 9.5, 1.0])],\n",
              "       [DenseVector([320.0, 110.0, 5.0, 5.0, 4.5, 9.22, 1.0])],\n",
              "       [DenseVector([322.0, 115.0, 5.0, 4.0, 4.5, 9.36, 1.0])],\n",
              "       [DenseVector([340.0, 115.0, 5.0, 4.5, 4.5, 9.45, 1.0])],\n",
              "       [DenseVector([319.0, 103.0, 3.1216, 4.5, 3.5, 8.66, 0.0])],\n",
              "       [DenseVector([315.0, 106.0, 3.0, 4.5, 3.5, 8.42, 0.0])],\n",
              "       [DenseVector([317.0, 107.0, 2.0, 3.5, 3.0, 8.28, 0.0])],\n",
              "       [DenseVector([314.0, 108.0, 3.0, 4.5, 3.5, 8.14, 0.0])],\n",
              "       [DenseVector([316.0, 109.0, 4.0, 4.5, 3.5, 8.76, 1.0])],\n",
              "       [DenseVector([318.0, 106.0, 2.0, 4.0, 4.0, 7.92, 1.0])],\n",
              "       [DenseVector([299.0, 97.0, 3.0, 5.0, 3.5, 7.66, 0.0])],\n",
              "       [DenseVector([298.0, 98.0, 2.0, 4.0, 3.0, 8.03, 0.0])],\n",
              "       [DenseVector([301.0, 97.0, 2.0, 3.0, 3.0, 7.88, 1.0])],\n",
              "       [DenseVector([303.0, 99.0, 3.0, 2.0, 2.5, 7.66, 0.0])],\n",
              "       [DenseVector([304.0, 100.0, 4.0, 1.5, 2.5, 7.84, 0.0])],\n",
              "       [DenseVector([306.0, 100.0, 2.0, 3.0, 3.0, 8.0, 0.0])],\n",
              "       [DenseVector([331.0, 120.0, 3.0, 4.0, 4.0, 8.96, 1.0])],\n",
              "       [DenseVector([332.0, 119.0, 4.0, 5.0, 4.5, 9.24, 1.0])],\n",
              "       [DenseVector([323.0, 107.1878, 3.0, 4.0, 4.0, 8.88, 1.0])],\n",
              "       [DenseVector([322.0, 107.0, 3.0, 3.5, 3.5, 8.46, 1.0])],\n",
              "       [DenseVector([312.0, 105.0, 2.0, 2.5, 3.0, 8.12, 0.0])],\n",
              "       [DenseVector([314.0, 106.0, 2.0, 4.0, 3.5, 8.25, 0.0])],\n",
              "       [DenseVector([317.0, 104.0, 2.0, 4.5, 4.0, 8.47, 0.0])],\n",
              "       [DenseVector([326.0, 112.0, 3.0, 3.5, 3.0, 9.05, 1.0])],\n",
              "       [DenseVector([316.0, 110.0, 3.0, 4.0, 4.5, 8.78, 1.0])],\n",
              "       [DenseVector([329.0, 111.0, 4.0, 4.5, 4.5, 9.18, 1.0])],\n",
              "       [DenseVector([338.0, 117.0, 4.0, 3.5, 4.5, 9.46, 1.0])],\n",
              "       [DenseVector([331.0, 116.0, 5.0, 5.0, 5.0, 9.38, 1.0])],\n",
              "       [DenseVector([304.0, 103.0, 5.0, 5.0, 4.0, 8.64, 0.0])],\n",
              "       [DenseVector([305.0, 108.0, 5.0, 3.0, 3.0, 8.48, 0.0])],\n",
              "       [DenseVector([321.0, 109.0, 4.0, 4.0, 4.0, 8.68, 1.0])],\n",
              "       [DenseVector([301.0, 107.0, 3.0, 3.5, 3.5, 8.34, 1.0])],\n",
              "       [DenseVector([320.0, 110.0, 2.0, 4.0, 3.5, 8.56, 0.0])],\n",
              "       [DenseVector([311.0, 105.0, 3.0, 3.5, 3.0, 8.45, 1.0])],\n",
              "       [DenseVector([310.0, 106.0, 4.0, 4.5, 4.5, 9.04, 1.0])],\n",
              "       [DenseVector([299.0, 102.0, 3.0, 4.0, 3.5, 8.62, 0.0])],\n",
              "       [DenseVector([290.0, 104.0, 4.0, 2.0, 2.5, 7.46, 0.0])],\n",
              "       [DenseVector([296.0, 99.0, 2.0, 3.0, 3.5, 7.28, 0.0])],\n",
              "       [DenseVector([327.0, 104.0, 5.0, 3.0, 3.5, 8.84, 1.0])],\n",
              "       [DenseVector([335.0, 117.0, 5.0, 5.0, 5.0, 9.56, 1.0])],\n",
              "       [DenseVector([334.0, 119.0, 5.0, 4.5, 4.5, 9.48, 1.0])],\n",
              "       [DenseVector([310.0, 106.0, 4.0, 1.5, 2.5, 8.36, 0.0])],\n",
              "       [DenseVector([308.0, 108.0, 3.1216, 3.5, 3.5, 8.22, 0.0])],\n",
              "       [DenseVector([316.5588, 106.0, 4.0, 2.5, 3.0, 8.47, 0.0])],\n",
              "       [DenseVector([300.0, 100.0, 3.0, 2.0, 3.0, 8.66, 1.0])],\n",
              "       [DenseVector([323.0, 113.0, 3.0, 4.0, 3.0, 9.32, 1.0])],\n",
              "       [DenseVector([319.0, 112.0, 3.0, 2.5, 2.0, 8.71, 1.0])],\n",
              "       [DenseVector([326.0, 112.0, 3.0, 3.5, 3.0, 9.1, 1.0])],\n",
              "       [DenseVector([333.0, 118.0, 5.0, 5.0, 5.0, 9.35, 1.0])],\n",
              "       [DenseVector([339.0, 114.0, 5.0, 4.0, 4.5, 9.76, 1.0])],\n",
              "       [DenseVector([303.0, 105.0, 5.0, 5.0, 4.5, 8.65, 0.0])],\n",
              "       [DenseVector([309.0, 105.0, 5.0, 3.5, 3.5, 8.56, 0.0])],\n",
              "       [DenseVector([323.0, 112.0, 5.0, 4.0, 4.5, 8.78, 0.0])],\n",
              "       [DenseVector([333.0, 113.0, 5.0, 4.0, 4.0, 9.28, 1.0])],\n",
              "       [DenseVector([314.0, 107.1878, 4.0, 3.5, 4.0, 8.77, 1.0])],\n",
              "       [DenseVector([312.0, 103.0, 3.0, 5.0, 4.0, 8.45, 0.0])],\n",
              "       [DenseVector([316.0, 100.0, 2.0, 1.5, 3.0, 8.16, 1.0])],\n",
              "       [DenseVector([326.0, 116.0, 2.0, 4.5, 3.0, 9.08, 1.0])],\n",
              "       [DenseVector([318.0, 109.0, 1.0, 3.5, 3.5, 9.12, 0.0])],\n",
              "       [DenseVector([329.0, 110.0, 2.0, 4.0, 3.0, 9.15, 1.0])],\n",
              "       [DenseVector([332.0, 118.0, 2.0, 4.5, 3.5, 9.36, 1.0])],\n",
              "       [DenseVector([331.0, 115.0, 5.0, 4.0, 3.5, 9.44, 1.0])],\n",
              "       [DenseVector([340.0, 120.0, 4.0, 4.5, 4.0, 9.92, 1.0])],\n",
              "       [DenseVector([325.0, 112.0, 2.0, 3.0, 3.5, 8.96, 1.0])],\n",
              "       [DenseVector([320.0, 113.0, 2.0, 2.0, 2.5, 8.64, 1.0])],\n",
              "       [DenseVector([315.0, 105.0, 3.0, 2.0, 2.5, 8.48, 0.0])],\n",
              "       [DenseVector([326.0, 114.0, 3.0, 3.0, 3.0, 9.11, 1.0])],\n",
              "       [DenseVector([339.0, 116.0, 4.0, 4.0, 3.5, 9.8, 1.0])],\n",
              "       [DenseVector([311.0, 106.0, 2.0, 3.5, 3.0, 8.26, 1.0])],\n",
              "       [DenseVector([334.0, 114.0, 4.0, 4.0, 4.0, 9.43, 1.0])],\n",
              "       [DenseVector([332.0, 116.0, 5.0, 5.0, 5.0, 9.28, 1.0])],\n",
              "       [DenseVector([321.0, 112.0, 5.0, 5.0, 5.0, 9.06, 1.0])],\n",
              "       [DenseVector([324.0, 105.0, 3.0, 3.0, 4.0, 8.75, 0.0])],\n",
              "       [DenseVector([326.0, 108.0, 3.0, 3.0, 3.5, 8.89, 0.0])],\n",
              "       [DenseVector([316.5588, 109.0, 3.0, 3.0, 3.0, 8.69, 0.0])],\n",
              "       [DenseVector([315.0, 105.0, 3.0, 2.0, 2.5, 8.34, 0.0])],\n",
              "       [DenseVector([309.0, 104.0, 2.0, 2.0, 2.5, 8.26, 0.0])],\n",
              "       [DenseVector([306.0, 106.0, 2.0, 2.0, 2.5, 8.14, 0.0])],\n",
              "       [DenseVector([297.0, 100.0, 1.0, 1.5, 2.0, 7.9, 0.0])],\n",
              "       [DenseVector([315.0, 103.0, 1.0, 1.5, 2.0, 7.86, 0.0])],\n",
              "       [DenseVector([298.0, 99.0, 1.0, 1.5, 3.0, 7.46, 0.0])],\n",
              "       [DenseVector([318.0, 109.0, 3.0, 3.0, 3.0, 8.5, 0.0])],\n",
              "       [DenseVector([317.0, 105.0, 3.0, 3.5, 3.0, 8.56, 0.0])],\n",
              "       [DenseVector([329.0, 111.0, 4.0, 4.5, 4.0, 9.01, 1.0])],\n",
              "       [DenseVector([322.0, 110.0, 5.0, 4.5, 4.0, 8.97, 0.0])],\n",
              "       [DenseVector([302.0, 102.0, 3.0, 3.5, 5.0, 8.33, 0.0])],\n",
              "       [DenseVector([313.0, 102.0, 3.0, 2.0, 3.0, 8.27, 0.0])],\n",
              "       [DenseVector([293.0, 97.0, 2.0, 2.0, 4.0, 7.8, 1.0])],\n",
              "       [DenseVector([311.0, 99.0, 2.0, 2.5, 3.0, 7.98, 0.0])],\n",
              "       [DenseVector([312.0, 101.0, 2.0, 2.5, 3.5, 8.04, 1.0])],\n",
              "       [DenseVector([334.0, 117.0, 5.0, 4.0, 4.5, 9.07, 1.0])],\n",
              "       [DenseVector([322.0, 107.1878, 4.0, 4.0, 5.0, 9.13, 1.0])],\n",
              "       [DenseVector([323.0, 113.0, 4.0, 4.0, 4.5, 9.23, 1.0])],\n",
              "       [DenseVector([321.0, 111.0, 4.0, 4.0, 4.0, 8.97, 1.0])],\n",
              "       [DenseVector([320.0, 111.0, 3.1216, 4.5, 3.5, 8.87, 1.0])],\n",
              "       [DenseVector([329.0, 119.0, 4.0, 4.5, 4.5, 9.16, 1.0])],\n",
              "       [DenseVector([319.0, 110.0, 3.0, 3.5, 3.5, 9.04, 0.0])],\n",
              "       [DenseVector([309.0, 108.0, 3.0, 2.5, 3.0, 8.12, 0.0])],\n",
              "       [DenseVector([307.0, 102.0, 3.0, 3.0, 3.0, 8.27, 0.0])],\n",
              "       [DenseVector([300.0, 104.0, 3.0, 3.5, 3.0, 8.16, 0.0])],\n",
              "       [DenseVector([305.0, 107.0, 2.0, 2.5, 2.5, 8.42, 0.0])],\n",
              "       [DenseVector([316.5588, 100.0, 2.0, 3.0, 3.5, 7.88, 0.0])],\n",
              "       [DenseVector([314.0, 110.0, 3.0, 4.0, 4.0, 8.8, 0.0])],\n",
              "       [DenseVector([316.0, 106.0, 2.0, 2.5, 4.0, 8.32, 0.0])],\n",
              "       [DenseVector([327.0, 113.0, 4.0, 4.5, 4.5, 9.11, 1.0])],\n",
              "       [DenseVector([317.0, 107.0, 3.0, 3.5, 3.0, 8.68, 1.0])],\n",
              "       [DenseVector([335.0, 118.0, 5.0, 4.5, 3.5, 9.44, 1.0])],\n",
              "       [DenseVector([331.0, 115.0, 5.0, 4.5, 3.5, 9.36, 1.0])],\n",
              "       [DenseVector([324.0, 112.0, 5.0, 5.0, 5.0, 9.08, 1.0])],\n",
              "       [DenseVector([324.0, 111.0, 5.0, 4.5, 4.0, 9.16, 1.0])],\n",
              "       [DenseVector([323.0, 110.0, 5.0, 4.0, 5.0, 8.98, 1.0])],\n",
              "       [DenseVector([322.0, 114.0, 5.0, 4.5, 4.0, 8.94, 1.0])],\n",
              "       [DenseVector([336.0, 118.0, 5.0, 4.5, 5.0, 9.53, 1.0])],\n",
              "       [DenseVector([316.0, 109.0, 3.0, 3.5, 3.0, 8.76, 0.0])],\n",
              "       [DenseVector([307.0, 107.0, 2.0, 3.0, 3.5, 8.52, 1.0])],\n",
              "       [DenseVector([306.0, 105.0, 2.0, 3.0, 2.5, 8.26, 0.0])],\n",
              "       [DenseVector([310.0, 106.0, 2.0, 3.5, 2.5, 8.33, 0.0])],\n",
              "       [DenseVector([311.0, 104.0, 3.0, 4.5, 4.5, 8.43, 0.0])],\n",
              "       [DenseVector([313.0, 107.0, 3.0, 4.0, 4.5, 8.69, 0.0])],\n",
              "       [DenseVector([317.0, 103.0, 3.0, 2.5, 3.0, 8.54, 1.0])],\n",
              "       [DenseVector([315.0, 110.0, 2.0, 3.5, 3.0, 8.46, 1.0])],\n",
              "       [DenseVector([340.0, 120.0, 5.0, 4.5, 4.5, 9.91, 1.0])],\n",
              "       [DenseVector([334.0, 120.0, 5.0, 4.0, 5.0, 9.87, 1.0])],\n",
              "       [DenseVector([298.0, 105.0, 3.0, 3.5, 4.0, 8.54, 0.0])],\n",
              "       [DenseVector([295.0, 99.0, 2.0, 2.5, 3.0, 7.65, 0.0])],\n",
              "       [DenseVector([315.0, 99.0, 2.0, 3.5, 3.0, 7.89, 0.0])],\n",
              "       [DenseVector([310.0, 102.0, 3.0, 3.5, 4.0, 8.02, 1.0])],\n",
              "       [DenseVector([305.0, 106.0, 2.0, 3.0, 3.0, 8.16, 0.0])],\n",
              "       [DenseVector([301.0, 104.0, 3.0, 3.5, 4.0, 8.12, 1.0])],\n",
              "       [DenseVector([325.0, 108.0, 4.0, 4.5, 4.0, 9.06, 1.0])],\n",
              "       [DenseVector([328.0, 110.0, 4.0, 5.0, 4.0, 9.14, 1.0])],\n",
              "       [DenseVector([338.0, 120.0, 4.0, 5.0, 5.0, 9.66, 1.0])],\n",
              "       [DenseVector([333.0, 119.0, 5.0, 5.0, 4.5, 9.78, 1.0])],\n",
              "       [DenseVector([331.0, 117.0, 4.0, 4.5, 5.0, 9.42, 1.0])],\n",
              "       [DenseVector([330.0, 116.0, 5.0, 5.0, 4.5, 9.36, 1.0])],\n",
              "       [DenseVector([322.0, 107.1878, 4.0, 4.5, 4.5, 9.26, 1.0])],\n",
              "       [DenseVector([321.0, 109.0, 4.0, 4.0, 4.0, 9.13, 1.0])],\n",
              "       [DenseVector([316.5588, 110.0, 4.0, 3.0, 3.5, 8.97, 1.0])],\n",
              "       [DenseVector([312.0, 104.0, 3.0, 3.5, 3.5, 8.42, 0.0])],\n",
              "       [DenseVector([313.0, 103.0, 3.0, 4.0, 4.0, 8.75, 0.0])],\n",
              "       [DenseVector([316.0, 110.0, 3.1216, 3.5, 4.0, 8.56, 0.0])],\n",
              "       [DenseVector([324.0, 113.0, 4.0, 4.5, 4.0, 8.79, 0.0])],\n",
              "       [DenseVector([308.0, 109.0, 2.0, 3.0, 4.0, 8.45, 0.0])],\n",
              "       [DenseVector([305.0, 105.0, 2.0, 3.0, 2.0, 8.23, 0.0])],\n",
              "       [DenseVector([296.0, 99.0, 2.0, 2.5, 2.5, 8.03, 0.0])],\n",
              "       [DenseVector([306.0, 110.0, 2.0, 3.5, 4.0, 8.45, 0.0])],\n",
              "       [DenseVector([312.0, 110.0, 2.0, 3.5, 3.0, 8.53, 0.0])],\n",
              "       [DenseVector([318.0, 112.0, 3.0, 4.0, 3.5, 8.67, 0.0])],\n",
              "       [DenseVector([324.0, 111.0, 4.0, 3.0, 3.0, 9.01, 1.0])],\n",
              "       [DenseVector([313.0, 104.0, 3.0, 4.0, 4.5, 8.65, 0.0])],\n",
              "       [DenseVector([319.0, 106.0, 3.0, 3.5, 2.5, 8.33, 1.0])],\n",
              "       [DenseVector([312.0, 107.0, 2.0, 2.5, 3.5, 8.27, 0.0])],\n",
              "       [DenseVector([304.0, 100.0, 2.0, 2.5, 3.5, 8.07, 0.0])],\n",
              "       [DenseVector([330.0, 113.0, 5.0, 5.0, 4.0, 9.31, 1.0])],\n",
              "       [DenseVector([326.0, 111.0, 5.0, 4.5, 4.0, 9.23, 1.0])],\n",
              "       [DenseVector([325.0, 112.0, 4.0, 4.0, 4.5, 9.17, 1.0])],\n",
              "       [DenseVector([329.0, 114.0, 5.0, 4.5, 5.0, 9.19, 1.0])],\n",
              "       [DenseVector([310.0, 104.0, 3.0, 2.0, 3.5, 8.37, 0.0])],\n",
              "       [DenseVector([299.0, 100.0, 1.0, 1.5, 2.0, 7.89, 0.0])],\n",
              "       [DenseVector([296.0, 101.0, 1.0, 2.5, 3.0, 7.68, 0.0])],\n",
              "       [DenseVector([317.0, 103.0, 2.0, 2.5, 2.0, 8.15, 0.0])],\n",
              "       [DenseVector([324.0, 115.0, 3.0, 3.5, 3.0, 8.76, 1.0])],\n",
              "       [DenseVector([325.0, 114.0, 3.0, 3.5, 3.0, 9.04, 1.0])],\n",
              "       [DenseVector([314.0, 107.0, 2.0, 2.5, 4.0, 8.56, 0.0])],\n",
              "       [DenseVector([328.0, 110.0, 4.0, 4.0, 2.5, 9.02, 1.0])],\n",
              "       [DenseVector([316.0, 105.0, 3.0, 3.0, 3.5, 8.73, 0.0])],\n",
              "       [DenseVector([311.0, 104.0, 2.0, 2.5, 3.5, 8.48, 0.0])],\n",
              "       [DenseVector([324.0, 110.0, 3.1216, 3.5, 4.0, 8.87, 1.0])],\n",
              "       [DenseVector([321.0, 111.0, 3.0, 3.5, 4.0, 8.83, 1.0])],\n",
              "       [DenseVector([320.0, 104.0, 3.0, 3.0, 2.5, 8.57, 1.0])],\n",
              "       [DenseVector([316.0, 99.0, 2.0, 2.5, 3.0, 9.0, 0.0])],\n",
              "       [DenseVector([318.0, 100.0, 2.0, 2.5, 3.5, 8.54, 1.0])],\n",
              "       [DenseVector([335.0, 115.0, 4.0, 4.5, 4.5, 9.68, 1.0])],\n",
              "       [DenseVector([321.0, 114.0, 4.0, 4.0, 5.0, 9.12, 0.0])],\n",
              "       [DenseVector([307.0, 110.0, 4.0, 4.0, 4.5, 8.37, 0.0])],\n",
              "       [DenseVector([309.0, 99.0, 3.0, 4.0, 4.0, 8.56, 0.0])],\n",
              "       [DenseVector([324.0, 100.0, 3.0, 4.0, 5.0, 8.64, 1.0])],\n",
              "       [DenseVector([326.0, 102.0, 4.0, 5.0, 5.0, 8.76, 1.0])],\n",
              "       [DenseVector([331.0, 119.0, 4.0, 5.0, 4.5, 9.34, 1.0])],\n",
              "       [DenseVector([327.0, 108.0, 5.0, 5.0, 3.5, 9.13, 1.0])],\n",
              "       [DenseVector([312.0, 104.0, 3.0, 3.5, 4.0, 8.09, 0.0])],\n",
              "       [DenseVector([308.0, 103.0, 2.0, 2.5, 4.0, 8.36, 1.0])],\n",
              "       [DenseVector([324.0, 111.0, 3.0, 2.5, 1.5, 8.79, 1.0])],\n",
              "       [DenseVector([325.0, 110.0, 2.0, 3.0, 2.5, 8.76, 1.0])],\n",
              "       [DenseVector([313.0, 102.0, 3.0, 2.5, 2.5, 8.68, 0.0])],\n",
              "       [DenseVector([312.0, 105.0, 2.0, 2.0, 2.5, 8.45, 0.0])],\n",
              "       [DenseVector([314.0, 107.0, 3.0, 3.0, 3.5, 8.17, 1.0])],\n",
              "       [DenseVector([327.0, 113.0, 4.0, 4.5, 5.0, 9.14, 0.0])],\n",
              "       [DenseVector([308.0, 107.1878, 4.0, 4.5, 5.0, 8.34, 0.0])],\n",
              "       [DenseVector([306.0, 105.0, 2.0, 2.5, 3.0, 8.22, 1.0])],\n",
              "       [DenseVector([299.0, 96.0, 2.0, 1.5, 2.0, 7.86, 0.0])],\n",
              "       [DenseVector([294.0, 95.0, 1.0, 1.5, 1.5, 7.64, 0.0])],\n",
              "       [DenseVector([312.0, 99.0, 1.0, 1.0, 1.5, 8.01, 1.0])],\n",
              "       [DenseVector([315.0, 100.0, 1.0, 2.0, 2.5, 7.95, 0.0])],\n",
              "       [DenseVector([322.0, 110.0, 3.0, 3.5, 3.0, 8.96, 1.0])],\n",
              "       [DenseVector([329.0, 113.0, 5.0, 5.0, 4.5, 9.45, 1.0])],\n",
              "       [DenseVector([320.0, 101.0, 2.0, 2.5, 3.0, 8.62, 0.0])],\n",
              "       [DenseVector([308.0, 103.0, 2.0, 3.0, 3.5, 8.49, 0.0])],\n",
              "       [DenseVector([316.5588, 102.0, 2.0, 3.0, 4.0, 8.73, 0.0])],\n",
              "       [DenseVector([311.0, 102.0, 3.0, 4.5, 4.0, 8.64, 1.0])],\n",
              "       [DenseVector([317.0, 110.0, 3.0, 4.0, 4.5, 9.11, 1.0])],\n",
              "       [DenseVector([312.0, 106.0, 3.0, 4.0, 3.5, 8.79, 1.0])],\n",
              "       [DenseVector([321.0, 111.0, 3.1216, 2.5, 3.0, 8.9, 1.0])],\n",
              "       [DenseVector([340.0, 112.0, 4.0, 5.0, 4.5, 9.66, 1.0])],\n",
              "       [DenseVector([331.0, 116.0, 5.0, 4.0, 4.0, 9.26, 1.0])],\n",
              "       [DenseVector([336.0, 118.0, 5.0, 4.5, 4.0, 9.19, 1.0])],\n",
              "       [DenseVector([324.0, 114.0, 5.0, 5.0, 4.5, 9.08, 1.0])],\n",
              "       [DenseVector([314.0, 104.0, 4.0, 5.0, 5.0, 9.02, 0.0])],\n",
              "       [DenseVector([313.0, 109.0, 3.0, 4.0, 3.5, 9.0, 0.0])],\n",
              "       [DenseVector([307.0, 105.0, 2.0, 2.5, 3.0, 7.65, 0.0])],\n",
              "       [DenseVector([300.0, 102.0, 2.0, 1.5, 2.0, 7.87, 0.0])],\n",
              "       [DenseVector([302.0, 99.0, 2.0, 1.0, 2.0, 7.97, 0.0])],\n",
              "       [DenseVector([312.0, 98.0, 1.0, 3.5, 3.0, 8.18, 1.0])],\n",
              "       [DenseVector([316.0, 101.0, 2.0, 2.5, 2.0, 8.32, 1.0])],\n",
              "       [DenseVector([317.0, 100.0, 2.0, 3.0, 2.5, 8.57, 0.0])],\n",
              "       [DenseVector([310.0, 107.0, 3.0, 3.5, 3.5, 8.67, 0.0])],\n",
              "       [DenseVector([320.0, 120.0, 3.0, 4.0, 4.5, 9.11, 0.0])],\n",
              "       [DenseVector([330.0, 114.0, 3.0, 4.5, 4.5, 9.24, 1.0])],\n",
              "       [DenseVector([305.0, 112.0, 3.0, 3.0, 3.5, 8.65, 0.0])],\n",
              "       [DenseVector([309.0, 106.0, 2.0, 2.5, 2.5, 8.0, 0.0])],\n",
              "       [DenseVector([319.0, 108.0, 2.0, 2.5, 3.0, 8.76, 0.0])],\n",
              "       [DenseVector([322.0, 105.0, 2.0, 3.0, 3.0, 8.45, 1.0])],\n",
              "       [DenseVector([323.0, 107.0, 3.0, 3.5, 3.5, 8.55, 1.0])],\n",
              "       [DenseVector([313.0, 106.0, 2.0, 2.5, 2.0, 8.43, 0.0])],\n",
              "       [DenseVector([321.0, 109.0, 3.0, 3.5, 3.5, 8.8, 1.0])],\n",
              "       [DenseVector([323.0, 110.0, 3.0, 4.0, 3.5, 9.1, 1.0])],\n",
              "       [DenseVector([325.0, 112.0, 4.0, 4.0, 4.0, 9.0, 1.0])],\n",
              "       [DenseVector([312.0, 108.0, 3.0, 3.5, 3.0, 8.53, 0.0])],\n",
              "       [DenseVector([308.0, 107.1878, 4.0, 3.5, 3.0, 8.6, 0.0])],\n",
              "       [DenseVector([320.0, 104.0, 3.0, 3.0, 3.5, 8.74, 1.0])],\n",
              "       [DenseVector([328.0, 108.0, 4.0, 4.5, 4.0, 9.18, 1.0])],\n",
              "       [DenseVector([311.0, 107.0, 4.0, 4.5, 4.5, 9.0, 1.0])],\n",
              "       [DenseVector([301.0, 100.0, 3.0, 3.5, 3.0, 8.04, 0.0])],\n",
              "       [DenseVector([305.0, 105.0, 2.0, 3.0, 4.0, 8.13, 0.0])],\n",
              "       [DenseVector([308.0, 104.0, 3.1216, 2.5, 3.0, 8.07, 0.0])],\n",
              "       [DenseVector([298.0, 101.0, 2.0, 1.5, 2.0, 7.86, 0.0])],\n",
              "       [DenseVector([300.0, 99.0, 1.0, 1.0, 2.5, 8.01, 0.0])],\n",
              "       [DenseVector([324.0, 111.0, 3.0, 2.5, 2.0, 8.8, 1.0])],\n",
              "       [DenseVector([327.0, 113.0, 4.0, 3.5, 3.0, 8.69, 1.0])],\n",
              "       [DenseVector([317.0, 106.0, 3.0, 4.0, 3.5, 8.5, 1.0])],\n",
              "       [DenseVector([323.0, 104.0, 3.0, 4.0, 4.0, 8.44, 1.0])],\n",
              "       [DenseVector([314.0, 107.0, 2.0, 2.5, 4.0, 8.27, 0.0])],\n",
              "       [DenseVector([305.0, 102.0, 2.0, 2.0, 2.5, 8.18, 0.0])],\n",
              "       [DenseVector([315.0, 104.0, 3.0, 3.0, 2.5, 8.33, 0.0])],\n",
              "       [DenseVector([326.0, 116.0, 3.0, 3.5, 4.0, 9.14, 1.0])],\n",
              "       [DenseVector([299.0, 100.0, 3.0, 2.0, 2.0, 8.02, 0.0])],\n",
              "       [DenseVector([295.0, 101.0, 2.0, 2.5, 2.0, 7.86, 0.0])],\n",
              "       [DenseVector([324.0, 112.0, 4.0, 4.0, 3.5, 8.77, 1.0])],\n",
              "       [DenseVector([297.0, 96.0, 2.0, 2.5, 1.5, 7.89, 0.0])],\n",
              "       [DenseVector([327.0, 113.0, 3.0, 3.5, 3.0, 8.66, 1.0])],\n",
              "       [DenseVector([311.0, 105.0, 2.0, 3.0, 2.0, 8.12, 1.0])],\n",
              "       [DenseVector([308.0, 106.0, 3.0, 3.5, 2.5, 8.21, 1.0])],\n",
              "       [DenseVector([319.0, 108.0, 3.0, 3.0, 3.5, 8.54, 1.0])],\n",
              "       [DenseVector([312.0, 107.0, 4.0, 4.5, 4.0, 8.65, 1.0])],\n",
              "       [DenseVector([325.0, 111.0, 4.0, 4.0, 4.5, 9.11, 1.0])],\n",
              "       [DenseVector([319.0, 110.0, 3.0, 3.0, 2.5, 8.79, 0.0])],\n",
              "       [DenseVector([332.0, 118.0, 5.0, 5.0, 5.0, 9.47, 1.0])],\n",
              "       [DenseVector([316.5588, 108.0, 5.0, 4.0, 4.0, 8.74, 1.0])],\n",
              "       [DenseVector([324.0, 107.0, 5.0, 3.5, 4.0, 8.66, 1.0])],\n",
              "       [DenseVector([312.0, 107.0, 3.0, 3.0, 3.0, 8.46, 1.0])],\n",
              "       [DenseVector([326.0, 110.0, 3.0, 3.5, 3.5, 8.76, 1.0])],\n",
              "       [DenseVector([308.0, 106.0, 3.0, 3.0, 3.0, 8.24, 0.0])],\n",
              "       [DenseVector([305.0, 103.0, 2.0, 2.5, 3.5, 8.13, 0.0])],\n",
              "       [DenseVector([295.0, 96.0, 2.0, 1.5, 2.0, 7.34, 0.0])],\n",
              "       [DenseVector([316.0, 98.0, 3.1216, 1.5, 2.0, 7.43, 0.0])],\n",
              "       [DenseVector([304.0, 97.0, 2.0, 1.5, 2.0, 7.64, 0.0])],\n",
              "       [DenseVector([299.0, 94.0, 1.0, 1.0, 1.0, 7.34, 0.0])],\n",
              "       [DenseVector([302.0, 99.0, 1.0, 2.0, 2.0, 7.25, 0.0])],\n",
              "       [DenseVector([313.0, 101.0, 3.0, 2.5, 3.0, 8.04, 0.0])],\n",
              "       [DenseVector([318.0, 107.0, 3.0, 3.0, 3.5, 8.27, 1.0])],\n",
              "       [DenseVector([325.0, 110.0, 4.0, 3.5, 4.0, 8.67, 1.0])],\n",
              "       [DenseVector([303.0, 100.0, 2.0, 3.0, 3.5, 8.06, 1.0])],\n",
              "       [DenseVector([300.0, 102.0, 3.0, 3.5, 2.5, 8.17, 0.0])],\n",
              "       [DenseVector([297.0, 98.0, 2.0, 2.5, 3.0, 7.67, 0.0])],\n",
              "       [DenseVector([317.0, 107.1878, 2.0, 2.0, 3.5, 8.12, 0.0])],\n",
              "       [DenseVector([327.0, 109.0, 3.0, 3.5, 4.0, 8.77, 1.0])],\n",
              "       [DenseVector([301.0, 104.0, 2.0, 3.5, 3.5, 7.89, 1.0])],\n",
              "       [DenseVector([314.0, 105.0, 2.0, 2.5, 2.0, 7.64, 0.0])],\n",
              "       [DenseVector([321.0, 107.0, 2.0, 2.0, 1.5, 8.44, 0.0])],\n",
              "       [DenseVector([322.0, 110.0, 3.0, 4.0, 5.0, 8.64, 1.0])],\n",
              "       [DenseVector([334.0, 116.0, 4.0, 4.0, 3.5, 9.54, 1.0])],\n",
              "       [DenseVector([338.0, 115.0, 5.0, 4.5, 5.0, 9.23, 1.0])],\n",
              "       [DenseVector([306.0, 103.0, 2.0, 2.5, 3.0, 8.36, 0.0])],\n",
              "       [DenseVector([313.0, 102.0, 3.0, 3.5, 4.0, 8.9, 1.0])],\n",
              "       [DenseVector([330.0, 114.0, 4.0, 4.5, 3.0, 9.17, 1.0])],\n",
              "       [DenseVector([320.0, 104.0, 3.0, 3.5, 4.5, 8.34, 1.0])],\n",
              "       [DenseVector([311.0, 98.0, 1.0, 1.0, 2.5, 7.46, 0.0])],\n",
              "       [DenseVector([298.0, 92.0, 1.0, 2.0, 2.0, 7.88, 0.0])],\n",
              "       [DenseVector([301.0, 98.0, 1.0, 2.0, 3.0, 8.03, 1.0])],\n",
              "       [DenseVector([310.0, 103.0, 2.0, 2.5, 2.5, 8.24, 0.0])],\n",
              "       [DenseVector([324.0, 110.0, 3.0, 3.5, 3.0, 9.22, 1.0])],\n",
              "       [DenseVector([336.0, 119.0, 4.0, 4.5, 4.0, 9.62, 1.0])],\n",
              "       [DenseVector([321.0, 109.0, 3.0, 3.0, 3.0, 8.54, 1.0])],\n",
              "       [DenseVector([315.0, 105.0, 2.0, 2.0, 2.5, 7.65, 0.0])],\n",
              "       [DenseVector([304.0, 101.0, 2.0, 2.0, 2.5, 7.66, 0.0])],\n",
              "       [DenseVector([297.0, 96.0, 2.0, 2.5, 2.0, 7.43, 0.0])],\n",
              "       [DenseVector([290.0, 100.0, 1.0, 1.5, 2.0, 7.56, 0.0])],\n",
              "       [DenseVector([303.0, 98.0, 1.0, 2.0, 2.5, 7.65, 0.0])],\n",
              "       [DenseVector([311.0, 99.0, 1.0, 2.5, 3.0, 8.43, 1.0])],\n",
              "       [DenseVector([322.0, 104.0, 3.0, 3.5, 4.0, 8.84, 1.0])],\n",
              "       [DenseVector([319.0, 105.0, 3.0, 3.0, 3.5, 8.67, 1.0])],\n",
              "       [DenseVector([324.0, 110.0, 4.0, 4.5, 4.0, 9.15, 1.0])],\n",
              "       [DenseVector([300.0, 100.0, 3.1216, 3.0, 3.5, 8.26, 0.0])],\n",
              "       [DenseVector([340.0, 113.0, 4.0, 5.0, 5.0, 9.74, 1.0])],\n",
              "       [DenseVector([335.0, 117.0, 5.0, 5.0, 5.0, 9.82, 1.0])],\n",
              "       [DenseVector([302.0, 101.0, 2.0, 2.5, 3.5, 7.96, 0.0])],\n",
              "       [DenseVector([307.0, 105.0, 2.0, 2.0, 3.5, 8.1, 0.0])],\n",
              "       [DenseVector([296.0, 97.0, 2.0, 1.5, 2.0, 7.8, 0.0])],\n",
              "       [DenseVector([320.0, 108.0, 3.0, 3.5, 4.0, 8.44, 1.0])],\n",
              "       [DenseVector([314.0, 102.0, 2.0, 2.0, 2.5, 8.24, 0.0])],\n",
              "       [DenseVector([318.0, 106.0, 3.0, 2.0, 3.0, 8.65, 0.0])],\n",
              "       [DenseVector([326.0, 112.0, 4.0, 4.0, 3.5, 9.12, 1.0])],\n",
              "       [DenseVector([317.0, 104.0, 2.0, 3.0, 3.0, 8.76, 0.0])],\n",
              "       [DenseVector([329.0, 111.0, 4.0, 4.5, 4.0, 9.23, 1.0])],\n",
              "       [DenseVector([324.0, 110.0, 3.0, 3.5, 3.5, 9.04, 1.0])],\n",
              "       [DenseVector([325.0, 107.0, 3.0, 3.0, 3.5, 9.11, 1.0])],\n",
              "       [DenseVector([330.0, 116.0, 4.0, 5.0, 4.5, 9.45, 1.0])],\n",
              "       [DenseVector([312.0, 103.0, 3.0, 3.5, 4.0, 8.78, 0.0])],\n",
              "       [DenseVector([333.0, 117.0, 4.0, 5.0, 4.0, 9.66, 1.0])],\n",
              "       [DenseVector([304.0, 100.0, 2.0, 3.5, 3.0, 8.22, 0.0])],\n",
              "       [DenseVector([315.0, 105.0, 2.0, 3.0, 3.0, 8.34, 0.0])],\n",
              "       [DenseVector([324.0, 109.0, 3.0, 3.5, 3.0, 8.94, 1.0])],\n",
              "       [DenseVector([330.0, 116.0, 4.0, 4.0, 3.5, 9.23, 1.0])],\n",
              "       [DenseVector([311.0, 101.0, 3.0, 2.0, 2.5, 7.64, 1.0])],\n",
              "       [DenseVector([302.0, 99.0, 3.0, 2.5, 3.0, 7.45, 0.0])],\n",
              "       [DenseVector([322.0, 103.0, 4.0, 3.0, 2.5, 8.02, 1.0])],\n",
              "       [DenseVector([298.0, 100.0, 3.0, 2.5, 4.0, 7.95, 1.0])],\n",
              "       [DenseVector([297.0, 101.0, 3.0, 2.0, 4.0, 7.67, 1.0])],\n",
              "       [DenseVector([300.0, 98.0, 1.0, 2.0, 2.5, 8.02, 0.0])],\n",
              "       [DenseVector([301.0, 96.0, 1.0, 3.0, 4.0, 7.56, 0.0])],\n",
              "       [DenseVector([313.0, 94.0, 2.0, 2.5, 1.5, 8.13, 0.0])],\n",
              "       [DenseVector([314.0, 102.0, 4.0, 2.5, 2.0, 7.88, 1.0])],\n",
              "       [DenseVector([317.0, 101.0, 3.1216, 3.0, 2.0, 7.94, 1.0])],\n",
              "       [DenseVector([321.0, 110.0, 4.0, 3.5, 4.0, 8.35, 1.0])],\n",
              "       [DenseVector([327.0, 107.1878, 4.0, 4.0, 4.5, 8.75, 1.0])],\n",
              "       [DenseVector([315.0, 104.0, 3.0, 4.0, 2.5, 8.1, 0.0])],\n",
              "       [DenseVector([316.0, 103.0, 3.0, 3.5, 2.0, 7.68, 0.0])],\n",
              "       [DenseVector([316.5588, 111.0, 2.0, 2.5, 4.0, 8.03, 0.0])],\n",
              "       [DenseVector([308.0, 102.0, 2.0, 2.0, 3.5, 7.98, 1.0])],\n",
              "       [DenseVector([299.0, 100.0, 3.0, 2.0, 3.0, 7.42, 0.0])],\n",
              "       [DenseVector([321.0, 112.0, 3.0, 3.0, 4.5, 8.95, 1.0])],\n",
              "       [DenseVector([322.0, 112.0, 4.0, 3.5, 2.5, 9.02, 1.0])],\n",
              "       [DenseVector([334.0, 119.0, 5.0, 4.5, 5.0, 9.54, 1.0])],\n",
              "       [DenseVector([325.0, 114.0, 5.0, 4.0, 5.0, 9.46, 1.0])],\n",
              "       [DenseVector([323.0, 111.0, 5.0, 4.0, 5.0, 9.86, 1.0])],\n",
              "       [DenseVector([312.0, 106.0, 3.0, 3.0, 5.0, 8.57, 0.0])],\n",
              "       [DenseVector([310.0, 101.0, 3.0, 3.5, 5.0, 8.65, 1.0])],\n",
              "       [DenseVector([316.0, 103.0, 2.0, 2.0, 4.5, 8.74, 0.0])],\n",
              "       [DenseVector([340.0, 115.0, 5.0, 5.0, 4.5, 9.06, 1.0])],\n",
              "       [DenseVector([311.0, 104.0, 3.0, 4.0, 3.5, 8.13, 1.0])],\n",
              "       [DenseVector([320.0, 112.0, 2.0, 3.5, 3.5, 8.78, 1.0])],\n",
              "       [DenseVector([324.0, 112.0, 4.0, 4.5, 4.0, 9.22, 1.0])],\n",
              "       [DenseVector([316.0, 111.0, 4.0, 4.0, 5.0, 8.54, 0.0])],\n",
              "       [DenseVector([306.0, 103.0, 3.0, 3.5, 3.0, 8.21, 0.0])],\n",
              "       [DenseVector([309.0, 105.0, 2.0, 2.5, 4.0, 7.68, 0.0])],\n",
              "       [DenseVector([310.0, 110.0, 1.0, 1.5, 4.0, 7.23, 1.0])],\n",
              "       [DenseVector([317.0, 106.0, 1.0, 1.5, 3.5, 7.65, 1.0])],\n",
              "       [DenseVector([318.0, 110.0, 3.1216, 2.5, 3.5, 8.54, 1.0])],\n",
              "       [DenseVector([312.0, 105.0, 2.0, 1.5, 3.0, 8.46, 0.0])],\n",
              "       [DenseVector([305.0, 104.0, 2.0, 2.5, 1.5, 7.79, 0.0])],\n",
              "       [DenseVector([332.0, 112.0, 1.0, 1.5, 3.0, 8.66, 1.0])],\n",
              "       [DenseVector([331.0, 116.0, 4.0, 4.5, 4.5, 9.44, 1.0])],\n",
              "       [DenseVector([321.0, 114.0, 5.0, 4.5, 4.5, 9.16, 1.0])],\n",
              "       [DenseVector([324.0, 113.0, 5.0, 4.0, 5.0, 9.25, 1.0])],\n",
              "       [DenseVector([328.0, 116.0, 5.0, 4.5, 5.0, 9.08, 1.0])],\n",
              "       [DenseVector([327.0, 118.0, 4.0, 5.0, 5.0, 9.67, 1.0])],\n",
              "       [DenseVector([320.0, 108.0, 3.0, 3.5, 5.0, 8.97, 1.0])],\n",
              "       [DenseVector([312.0, 109.0, 2.0, 2.5, 4.0, 9.02, 0.0])],\n",
              "       [DenseVector([315.0, 101.0, 3.0, 3.5, 4.5, 9.13, 0.0])],\n",
              "       [DenseVector([320.0, 112.0, 4.0, 3.0, 4.5, 8.86, 1.0])],\n",
              "       [DenseVector([324.0, 113.0, 4.0, 4.5, 4.5, 9.25, 1.0])],\n",
              "       [DenseVector([328.0, 116.0, 4.0, 5.0, 3.5, 9.6, 1.0])],\n",
              "       [DenseVector([319.0, 103.0, 3.0, 2.5, 4.0, 8.76, 1.0])],\n",
              "       [DenseVector([316.5588, 105.0, 2.0, 3.0, 3.5, 8.01, 0.0])],\n",
              "       [DenseVector([305.0, 102.0, 2.0, 1.5, 2.5, 7.64, 0.0])],\n",
              "       [DenseVector([299.0, 100.0, 2.0, 2.0, 2.0, 7.88, 0.0])],\n",
              "       [DenseVector([295.0, 99.0, 1.0, 2.0, 1.5, 7.57, 0.0])],\n",
              "       [DenseVector([312.0, 100.0, 1.0, 3.0, 3.0, 8.53, 1.0])],\n",
              "       [DenseVector([329.0, 113.0, 4.0, 4.0, 3.5, 9.36, 1.0])],\n",
              "       [DenseVector([319.0, 105.0, 4.0, 4.0, 4.5, 8.66, 1.0])],\n",
              "       [DenseVector([301.0, 102.0, 3.0, 2.5, 2.0, 8.13, 1.0])],\n",
              "       [DenseVector([307.0, 105.0, 4.0, 3.0, 3.0, 7.94, 0.0])],\n",
              "       [DenseVector([304.0, 107.0, 3.0, 3.5, 3.0, 7.86, 0.0])],\n",
              "       [DenseVector([298.0, 97.0, 3.1216, 2.0, 3.0, 7.21, 0.0])],\n",
              "       [DenseVector([305.0, 96.0, 4.0, 3.0, 4.5, 8.26, 0.0])],\n",
              "       [DenseVector([314.0, 99.0, 4.0, 3.5, 4.5, 8.73, 1.0])],\n",
              "       [DenseVector([318.0, 101.0, 5.0, 3.5, 5.0, 8.78, 1.0])],\n",
              "       [DenseVector([323.0, 110.0, 4.0, 4.0, 5.0, 8.88, 1.0])],\n",
              "       [DenseVector([326.0, 114.0, 4.0, 4.0, 3.5, 9.16, 1.0])],\n",
              "       [DenseVector([320.0, 110.0, 5.0, 4.0, 4.0, 9.27, 1.0])],\n",
              "       [DenseVector([311.0, 103.0, 3.0, 2.0, 4.0, 8.09, 0.0])],\n",
              "       [DenseVector([327.0, 116.0, 4.0, 4.0, 4.5, 9.48, 1.0])],\n",
              "       [DenseVector([316.0, 102.0, 2.0, 4.0, 3.5, 8.15, 0.0])],\n",
              "       [DenseVector([308.0, 105.0, 4.0, 3.0, 2.5, 7.95, 1.0])],\n",
              "       [DenseVector([300.0, 101.0, 3.0, 3.5, 2.5, 7.88, 0.0])],\n",
              "       [DenseVector([304.0, 104.0, 3.0, 2.5, 2.0, 8.12, 0.0])],\n",
              "       [DenseVector([309.0, 105.0, 4.0, 3.5, 2.0, 8.18, 0.0])],\n",
              "       [DenseVector([318.0, 103.0, 3.0, 4.0, 4.5, 8.49, 1.0])],\n",
              "       [DenseVector([325.0, 110.0, 4.0, 4.5, 4.0, 8.96, 1.0])],\n",
              "       [DenseVector([321.0, 102.0, 3.0, 3.5, 4.0, 9.01, 1.0])],\n",
              "       [DenseVector([323.0, 107.0, 4.0, 3.0, 2.5, 8.48, 1.0])],\n",
              "       [DenseVector([328.0, 113.0, 4.0, 4.0, 2.5, 8.77, 1.0])],\n",
              "       [DenseVector([304.0, 103.0, 5.0, 5.0, 3.0, 7.92, 0.0])],\n",
              "       [DenseVector([317.0, 106.0, 3.0, 3.5, 3.0, 7.89, 1.0])],\n",
              "       [DenseVector([311.0, 107.1878, 2.0, 2.5, 3.5, 8.34, 1.0])],\n",
              "       [DenseVector([319.0, 102.0, 3.1216, 2.5, 2.5, 8.37, 0.0])],\n",
              "       [DenseVector([327.0, 115.0, 4.0, 3.5, 4.0, 9.14, 0.0])],\n",
              "       [DenseVector([322.0, 112.0, 3.0, 3.0, 4.0, 8.62, 1.0])],\n",
              "       [DenseVector([316.5588, 110.0, 3.0, 4.0, 4.5, 8.5, 0.0])],\n",
              "       [DenseVector([307.0, 105.0, 2.0, 2.5, 4.5, 8.12, 1.0])],\n",
              "       [DenseVector([297.0, 99.0, 4.0, 3.0, 3.5, 7.81, 0.0])],\n",
              "       [DenseVector([298.0, 101.0, 4.0, 2.5, 4.5, 7.69, 1.0])],\n",
              "       [DenseVector([300.0, 95.0, 2.0, 3.0, 1.5, 8.22, 1.0])],\n",
              "       [DenseVector([301.0, 99.0, 3.0, 2.5, 2.0, 8.45, 1.0])],\n",
              "       [DenseVector([332.0, 108.0, 5.0, 4.5, 4.0, 9.02, 1.0])],\n",
              "       [DenseVector([337.0, 117.0, 5.0, 5.0, 5.0, 9.87, 1.0])],\n",
              "       [DenseVector([330.0, 120.0, 5.0, 4.5, 5.0, 9.56, 1.0])],\n",
              "       [DenseVector([312.0, 103.0, 4.0, 4.0, 5.0, 8.43, 0.0])],\n",
              "       [DenseVector([327.0, 113.0, 4.0, 4.5, 4.5, 9.04, 0.0])]],\n",
              "      dtype=object)"
            ]
          },
          "metadata": {},
          "execution_count": 25
        }
      ]
    },
    {
      "cell_type": "code",
      "source": [
        "data = output.select('features','Chance of Admit')"
      ],
      "metadata": {
        "id": "24JZzr-KHGs-"
      },
      "execution_count": 26,
      "outputs": []
    },
    {
      "cell_type": "code",
      "source": [
        "data.show()"
      ],
      "metadata": {
        "id": "P9k1r3lVHpCk",
        "outputId": "27f87566-5cb1-42c7-d7d6-b8d74039f74d",
        "colab": {
          "base_uri": "https://localhost:8080/"
        }
      },
      "execution_count": 27,
      "outputs": [
        {
          "output_type": "stream",
          "name": "stdout",
          "text": [
            "+--------------------+---------------+\n",
            "|            features|Chance of Admit|\n",
            "+--------------------+---------------+\n",
            "|[337.0,118.0,4.0,...|           0.92|\n",
            "|[324.0,107.0,4.0,...|           0.76|\n",
            "|[316.558776855468...|           0.72|\n",
            "|[322.0,110.0,3.0,...|            0.8|\n",
            "|[314.0,103.0,2.0,...|           0.65|\n",
            "|[330.0,115.0,5.0,...|            0.9|\n",
            "|[321.0,109.0,3.12...|           0.75|\n",
            "|[308.0,101.0,2.0,...|           0.68|\n",
            "|[302.0,102.0,1.0,...|            0.5|\n",
            "|[323.0,108.0,3.0,...|           0.45|\n",
            "|[325.0,106.0,3.0,...|           0.52|\n",
            "|[327.0,111.0,4.0,...|           0.84|\n",
            "|[316.558776855468...|           0.78|\n",
            "|[307.0,109.0,3.0,...|           0.62|\n",
            "|[311.0,104.0,3.0,...|           0.61|\n",
            "|[314.0,105.0,3.0,...|           0.54|\n",
            "|[317.0,107.0,3.0,...|           0.66|\n",
            "|[319.0,106.0,3.0,...|           0.65|\n",
            "|[318.0,110.0,3.0,...|           0.63|\n",
            "|[303.0,102.0,3.0,...|           0.62|\n",
            "+--------------------+---------------+\n",
            "only showing top 20 rows\n",
            "\n"
          ]
        }
      ]
    },
    {
      "cell_type": "code",
      "source": [
        "train_df,test_df = data.randomSplit([0.7,0.3])"
      ],
      "metadata": {
        "id": "CBOUgsrkHrSl"
      },
      "execution_count": 28,
      "outputs": []
    },
    {
      "cell_type": "code",
      "source": [
        "test_df.show()"
      ],
      "metadata": {
        "colab": {
          "base_uri": "https://localhost:8080/"
        },
        "id": "VDldEBiAYeyN",
        "outputId": "cf158d13-a0fa-41c5-a5e1-3a4e35df06b2"
      },
      "execution_count": 29,
      "outputs": [
        {
          "output_type": "stream",
          "name": "stdout",
          "text": [
            "+--------------------+---------------+\n",
            "|            features|Chance of Admit|\n",
            "+--------------------+---------------+\n",
            "|[295.0,96.0,2.0,1...|           0.47|\n",
            "|[295.0,99.0,2.0,2...|           0.57|\n",
            "|[296.0,95.0,2.0,3...|           0.44|\n",
            "|[296.0,97.0,2.0,1...|           0.49|\n",
            "|[296.0,101.0,1.0,...|            0.6|\n",
            "|[298.0,105.0,3.0,...|           0.69|\n",
            "|[299.0,94.0,1.0,1...|           0.42|\n",
            "|[300.0,97.0,2.0,3...|           0.65|\n",
            "|[300.0,102.0,2.0,...|           0.56|\n",
            "|[300.0,105.0,1.0,...|           0.58|\n",
            "|[301.0,96.0,1.0,3...|           0.54|\n",
            "|[301.0,97.0,2.0,3...|           0.44|\n",
            "|[301.0,99.0,2.0,3...|           0.64|\n",
            "|[302.0,99.0,2.0,1...|           0.56|\n",
            "|[302.0,101.0,2.0,...|           0.46|\n",
            "|[302.0,102.0,3.0,...|           0.65|\n",
            "|[303.0,98.0,1.0,2...|           0.56|\n",
            "|[303.0,105.0,5.0,...|           0.77|\n",
            "|[304.0,103.0,5.0,...|           0.71|\n",
            "|[305.0,102.0,2.0,...|           0.62|\n",
            "+--------------------+---------------+\n",
            "only showing top 20 rows\n",
            "\n"
          ]
        }
      ]
    },
    {
      "cell_type": "markdown",
      "source": [
        "# **Linear Regressor**"
      ],
      "metadata": {
        "id": "UGtz1D5GYxBd"
      }
    },
    {
      "cell_type": "code",
      "source": [
        "lin_reg=LinearRegression(featuresCol='features',labelCol='Chance of Admit')\n",
        "linear_model=lin_reg.fit(train_df)"
      ],
      "metadata": {
        "id": "4XTZd-oFYjx2"
      },
      "execution_count": 30,
      "outputs": []
    },
    {
      "cell_type": "code",
      "source": [
        "print('Coefficient :',linear_model.coefficients)\n",
        "print('Intercept :', linear_model.intercept )"
      ],
      "metadata": {
        "colab": {
          "base_uri": "https://localhost:8080/"
        },
        "id": "g9WwNgUNZV9l",
        "outputId": "f86651d7-574b-460c-9a48-c7da7ed0407b"
      },
      "execution_count": 31,
      "outputs": [
        {
          "output_type": "stream",
          "name": "stdout",
          "text": [
            "Coefficient : [0.0020494714043539325,0.0022668749192128247,0.0013738068482112846,0.00430774127736965,0.014057069098285368,0.12416613223020082,0.029024856016362878]\n",
            "Intercept : -1.3191530083897658\n"
          ]
        }
      ]
    },
    {
      "cell_type": "code",
      "source": [
        "trainSummary=linear_model.summary\n",
        "print('RMSE :' , trainSummary.rootMeanSquaredError)\n",
        "print('r2 Score :', trainSummary.r2)"
      ],
      "metadata": {
        "colab": {
          "base_uri": "https://localhost:8080/"
        },
        "id": "NvJ0jgjUZxbr",
        "outputId": "60088c58-ed7a-43a7-9c39-1dcc11a03b38"
      },
      "execution_count": 32,
      "outputs": [
        {
          "output_type": "stream",
          "name": "stdout",
          "text": [
            "RMSE : 0.06099908256111798\n",
            "r2 Score : 0.8156071573178785\n"
          ]
        }
      ]
    },
    {
      "cell_type": "markdown",
      "source": [
        "# **prediction**"
      ],
      "metadata": {
        "id": "zaNe_MHTbHYs"
      }
    },
    {
      "cell_type": "code",
      "source": [
        "predictions= linear_model.transform(test_df)\n",
        "predictions.select('prediction','Chance of Admit','features').show()"
      ],
      "metadata": {
        "colab": {
          "base_uri": "https://localhost:8080/"
        },
        "id": "PK-3rYTbar_c",
        "outputId": "a6d11453-3d6f-402e-d8b4-524f6a7c5c00"
      },
      "execution_count": 33,
      "outputs": [
        {
          "output_type": "stream",
          "name": "stdout",
          "text": [
            "+-------------------+---------------+--------------------+\n",
            "|         prediction|Chance of Admit|            features|\n",
            "+-------------------+---------------+--------------------+\n",
            "|0.45176384146404547|           0.47|[295.0,96.0,2.0,1...|\n",
            "|  0.515420770483858|           0.57|[295.0,99.0,2.0,2...|\n",
            "|  0.511866108644834|           0.44|[296.0,95.0,2.0,3...|\n",
            "| 0.5131966133500667|           0.49|[296.0,97.0,2.0,1...|\n",
            "| 0.5243551356893981|            0.6|[296.0,101.0,1.0,...|\n",
            "| 0.6654168925429746|           0.69|[298.0,105.0,3.0,...|\n",
            "|0.43784323065785413|           0.42|[299.0,94.0,1.0,1...|\n",
            "| 0.6081878993500556|           0.65|[300.0,97.0,2.0,3...|\n",
            "| 0.5414204649271641|           0.56|[300.0,102.0,2.0,...|\n",
            "| 0.5360018208342887|           0.58|[300.0,105.0,1.0,...|\n",
            "| 0.5245791361941359|           0.54|[301.0,96.0,1.0,3...|\n",
            "| 0.5829207885078311|           0.44|[301.0,97.0,2.0,3...|\n",
            "| 0.5865891171361248|           0.64|[301.0,99.0,2.0,3...|\n",
            "| 0.5489815137211635|           0.56|[302.0,99.0,2.0,1...|\n",
            "| 0.5798208485884231|           0.46|[302.0,101.0,2.0,...|\n",
            "|  0.654796329996133|           0.65|[302.0,102.0,3.0,...|\n",
            "| 0.5189934547634378|           0.56|[303.0,98.0,1.0,2...|\n",
            "| 0.7055602416426279|           0.77|[303.0,105.0,5.0,...|\n",
            "|  0.591349139871826|           0.71|[304.0,103.0,5.0,...|\n",
            "|  0.599341780230306|           0.62|[305.0,102.0,2.0,...|\n",
            "+-------------------+---------------+--------------------+\n",
            "only showing top 20 rows\n",
            "\n"
          ]
        }
      ]
    },
    {
      "cell_type": "markdown",
      "source": [
        "# **Evaluation**"
      ],
      "metadata": {
        "id": "vKzT1qWOGuOq"
      }
    },
    {
      "cell_type": "code",
      "source": [
        "from pyspark.ml.evaluation import RegressionEvaluator\n",
        "pred_evaluator= RegressionEvaluator(predictionCol='prediction',labelCol='Chance of Admit',metricName='r2')\n",
        "print('R Squared (R2) on text data = ',pred_evaluator.evaluate(predictions))"
      ],
      "metadata": {
        "colab": {
          "base_uri": "https://localhost:8080/"
        },
        "id": "PJ119TBQbnKS",
        "outputId": "f596a887-786c-432f-d6f5-aa148b28a363"
      },
      "execution_count": 34,
      "outputs": [
        {
          "output_type": "stream",
          "name": "stdout",
          "text": [
            "R Squared (R2) on text data =  0.8289929079193163\n"
          ]
        }
      ]
    },
    {
      "cell_type": "markdown",
      "source": [
        "# **Random Forest Regressor**"
      ],
      "metadata": {
        "id": "3QOArNCbHsco"
      }
    },
    {
      "cell_type": "code",
      "source": [
        "random_forest_reg= RandomForestRegressor(featuresCol=\"features\",labelCol=\"Chance of Admit\")"
      ],
      "metadata": {
        "id": "8qbgu3L-HmA4"
      },
      "execution_count": 35,
      "outputs": []
    },
    {
      "cell_type": "code",
      "source": [
        "model = random_forest_reg.fit(train_df)"
      ],
      "metadata": {
        "id": "UrNThOpqIb82"
      },
      "execution_count": 36,
      "outputs": []
    },
    {
      "cell_type": "code",
      "source": [
        "predictions= model.transform(test_df)"
      ],
      "metadata": {
        "id": "JmcPkY2HIi0O"
      },
      "execution_count": 37,
      "outputs": []
    },
    {
      "cell_type": "code",
      "source": [
        "predictions.show()"
      ],
      "metadata": {
        "colab": {
          "base_uri": "https://localhost:8080/"
        },
        "id": "5p7nrDVdIrZO",
        "outputId": "98848468-5799-4d69-fa4a-153c5a49342d"
      },
      "execution_count": 38,
      "outputs": [
        {
          "output_type": "stream",
          "name": "stdout",
          "text": [
            "+--------------------+---------------+-------------------+\n",
            "|            features|Chance of Admit|         prediction|\n",
            "+--------------------+---------------+-------------------+\n",
            "|[295.0,96.0,2.0,1...|           0.47|0.46523733902151754|\n",
            "|[295.0,99.0,2.0,2...|           0.57|  0.499979978346006|\n",
            "|[296.0,95.0,2.0,3...|           0.44|0.48408351522640924|\n",
            "|[296.0,97.0,2.0,1...|           0.49| 0.5317530755549253|\n",
            "|[296.0,101.0,1.0,...|            0.6| 0.5239262881715895|\n",
            "|[298.0,105.0,3.0,...|           0.69| 0.6347501989756636|\n",
            "|[299.0,94.0,1.0,1...|           0.42|0.47074443394566057|\n",
            "|[300.0,97.0,2.0,3...|           0.65| 0.6265720069855261|\n",
            "|[300.0,102.0,2.0,...|           0.56| 0.5459914736183695|\n",
            "|[300.0,105.0,1.0,...|           0.58| 0.5396973561010385|\n",
            "|[301.0,96.0,1.0,3...|           0.54| 0.5220832871602145|\n",
            "|[301.0,97.0,2.0,3...|           0.44| 0.5943773256102972|\n",
            "|[301.0,99.0,2.0,3...|           0.64| 0.6148399808467948|\n",
            "|[302.0,99.0,2.0,1...|           0.56| 0.5431241480878756|\n",
            "|[302.0,101.0,2.0,...|           0.46| 0.5950441500324237|\n",
            "|[302.0,102.0,3.0,...|           0.65| 0.6503352171840477|\n",
            "|[303.0,98.0,1.0,2...|           0.56|0.48296293518979905|\n",
            "|[303.0,105.0,5.0,...|           0.77|  0.663695090440904|\n",
            "|[304.0,103.0,5.0,...|           0.71| 0.5714538406237619|\n",
            "|[305.0,102.0,2.0,...|           0.62| 0.6303461150378907|\n",
            "+--------------------+---------------+-------------------+\n",
            "only showing top 20 rows\n",
            "\n"
          ]
        }
      ]
    },
    {
      "cell_type": "markdown",
      "source": [
        "# **Evaluation**"
      ],
      "metadata": {
        "id": "pRseCBnDKYon"
      }
    },
    {
      "cell_type": "code",
      "source": [
        "evaluator = RegressionEvaluator(labelCol='Chance of Admit',predictionCol='prediction',metricName='rmse')\n",
        "print('Root Mean Squared Error (RMSE) on test data =',evaluator.evaluate(predictions))"
      ],
      "metadata": {
        "colab": {
          "base_uri": "https://localhost:8080/"
        },
        "id": "EqUL3uTvIvZO",
        "outputId": "13c7e84c-db55-4abb-fb75-217b4df75b25"
      },
      "execution_count": 39,
      "outputs": [
        {
          "output_type": "stream",
          "name": "stdout",
          "text": [
            "Root Mean Squared Error (RMSE) on test data = 0.061147681421266226\n"
          ]
        }
      ]
    },
    {
      "cell_type": "code",
      "source": [
        "evaluator= RegressionEvaluator(labelCol='Chance of Admit', predictionCol='prediction',metricName='r2')\n",
        "print('R Squared (R2) on test data = ' , evaluator.evaluate(predictions))"
      ],
      "metadata": {
        "colab": {
          "base_uri": "https://localhost:8080/"
        },
        "id": "9slXXeaHJnym",
        "outputId": "559fe6e4-e9ad-4368-a28e-536ab323c105"
      },
      "execution_count": 40,
      "outputs": [
        {
          "output_type": "stream",
          "name": "stdout",
          "text": [
            "R Squared (R2) on test data =  0.8032062743826195\n"
          ]
        }
      ]
    },
    {
      "cell_type": "code",
      "source": [],
      "metadata": {
        "id": "456kxmorKTO1"
      },
      "execution_count": null,
      "outputs": []
    }
  ]
}