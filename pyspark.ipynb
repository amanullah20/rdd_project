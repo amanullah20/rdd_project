{
  "nbformat": 4,
  "nbformat_minor": 0,
  "metadata": {
    "colab": {
      "provenance": [],
      "mount_file_id": "1OBioq33n-Hta8srsuh6qwcH3pQUo3Xzm",
      "authorship_tag": "ABX9TyO303L3iTGmA5opqtRqImzW",
      "include_colab_link": true
    },
    "kernelspec": {
      "name": "python3",
      "display_name": "Python 3"
    },
    "language_info": {
      "name": "python"
    }
  },
  "cells": [
    {
      "cell_type": "markdown",
      "metadata": {
        "id": "view-in-github",
        "colab_type": "text"
      },
      "source": [
        "<a href=\"https://colab.research.google.com/github/amanullah20/rdd_project/blob/main/pyspark.ipynb\" target=\"_parent\"><img src=\"https://colab.research.google.com/assets/colab-badge.svg\" alt=\"Open In Colab\"/></a>"
      ]
    },
    {
      "cell_type": "code",
      "execution_count": null,
      "metadata": {
        "colab": {
          "base_uri": "https://localhost:8080/"
        },
        "id": "X_aY01lm_x0f",
        "outputId": "85e67f57-973b-4fd3-cd8a-5b14c3a3fd92"
      },
      "outputs": [
        {
          "output_type": "stream",
          "name": "stdout",
          "text": [
            "Collecting pyspark\n",
            "  Downloading pyspark-3.5.0.tar.gz (316.9 MB)\n",
            "\u001b[2K     \u001b[90m━━━━━━━━━━━━━━━━━━━━━━━━━━━━━━━━━━━━━━━━\u001b[0m \u001b[32m316.9/316.9 MB\u001b[0m \u001b[31m4.0 MB/s\u001b[0m eta \u001b[36m0:00:00\u001b[0m\n",
            "\u001b[?25h  Preparing metadata (setup.py) ... \u001b[?25l\u001b[?25hdone\n",
            "Requirement already satisfied: py4j==0.10.9.7 in /usr/local/lib/python3.10/dist-packages (from pyspark) (0.10.9.7)\n",
            "Building wheels for collected packages: pyspark\n",
            "  Building wheel for pyspark (setup.py) ... \u001b[?25l\u001b[?25hdone\n",
            "  Created wheel for pyspark: filename=pyspark-3.5.0-py2.py3-none-any.whl size=317425345 sha256=1c626c77f20652e4dcb00bee1cb4d90fdf4df36d444a36d1b3fe0d61b12eb46a\n",
            "  Stored in directory: /root/.cache/pip/wheels/41/4e/10/c2cf2467f71c678cfc8a6b9ac9241e5e44a01940da8fbb17fc\n",
            "Successfully built pyspark\n",
            "Installing collected packages: pyspark\n",
            "Successfully installed pyspark-3.5.0\n"
          ]
        }
      ],
      "source": [
        "!pip install pyspark"
      ]
    },
    {
      "cell_type": "code",
      "source": [
        "from pyspark.sql import SparkSession"
      ],
      "metadata": {
        "id": "X8hMVyDjB1-m"
      },
      "execution_count": null,
      "outputs": []
    },
    {
      "cell_type": "code",
      "source": [
        "spark = SparkSession.builder.appName('practice').getOrCreate()"
      ],
      "metadata": {
        "id": "Pu7yfiSqB3LE"
      },
      "execution_count": null,
      "outputs": []
    },
    {
      "cell_type": "code",
      "source": [
        "spark"
      ],
      "metadata": {
        "colab": {
          "base_uri": "https://localhost:8080/",
          "height": 219
        },
        "id": "nesDZqlWDQsO",
        "outputId": "07aeb03e-05f3-4c80-a1cb-1ef483b40e3b"
      },
      "execution_count": null,
      "outputs": [
        {
          "output_type": "execute_result",
          "data": {
            "text/plain": [
              "<pyspark.sql.session.SparkSession at 0x79ae8c153a90>"
            ],
            "text/html": [
              "\n",
              "            <div>\n",
              "                <p><b>SparkSession - in-memory</b></p>\n",
              "                \n",
              "        <div>\n",
              "            <p><b>SparkContext</b></p>\n",
              "\n",
              "            <p><a href=\"http://1be9156b7c2e:4040\">Spark UI</a></p>\n",
              "\n",
              "            <dl>\n",
              "              <dt>Version</dt>\n",
              "                <dd><code>v3.5.0</code></dd>\n",
              "              <dt>Master</dt>\n",
              "                <dd><code>local[*]</code></dd>\n",
              "              <dt>AppName</dt>\n",
              "                <dd><code>practice</code></dd>\n",
              "            </dl>\n",
              "        </div>\n",
              "        \n",
              "            </div>\n",
              "        "
            ]
          },
          "metadata": {},
          "execution_count": 4
        }
      ]
    },
    {
      "cell_type": "code",
      "source": [
        "!wget http://jacobceles.github.io/knowledge_repo/colab_and_pyspark/cars.csv"
      ],
      "metadata": {
        "colab": {
          "base_uri": "https://localhost:8080/"
        },
        "id": "yQl9whu4B3_k",
        "outputId": "7a4f7be5-c84b-48fa-acd8-3894157b4cf2"
      },
      "execution_count": null,
      "outputs": [
        {
          "output_type": "stream",
          "name": "stdout",
          "text": [
            "--2024-01-07 13:12:24--  http://jacobceles.github.io/knowledge_repo/colab_and_pyspark/cars.csv\n",
            "Resolving jacobceles.github.io (jacobceles.github.io)... 185.199.108.153, 185.199.109.153, 185.199.110.153, ...\n",
            "Connecting to jacobceles.github.io (jacobceles.github.io)|185.199.108.153|:80... connected.\n",
            "HTTP request sent, awaiting response... 301 Moved Permanently\n",
            "Location: https://jacobcelestine.com/knowledge_repo/colab_and_pyspark/cars.csv [following]\n",
            "--2024-01-07 13:12:24--  https://jacobcelestine.com/knowledge_repo/colab_and_pyspark/cars.csv\n",
            "Resolving jacobcelestine.com (jacobcelestine.com)... 185.199.108.153, 185.199.109.153, 185.199.110.153, ...\n",
            "Connecting to jacobcelestine.com (jacobcelestine.com)|185.199.108.153|:443... connected.\n",
            "HTTP request sent, awaiting response... 200 OK\n",
            "Length: 22608 (22K) [text/csv]\n",
            "Saving to: ‘cars.csv’\n",
            "\n",
            "\rcars.csv              0%[                    ]       0  --.-KB/s               \rcars.csv            100%[===================>]  22.08K  --.-KB/s    in 0s      \n",
            "\n",
            "2024-01-07 13:12:24 (88.3 MB/s) - ‘cars.csv’ saved [22608/22608]\n",
            "\n"
          ]
        }
      ]
    },
    {
      "cell_type": "code",
      "source": [
        "ls"
      ],
      "metadata": {
        "colab": {
          "base_uri": "https://localhost:8080/"
        },
        "id": "ttH_BEpnDZF5",
        "outputId": "65c21b6d-beaa-417d-ceec-d9bf1c636940"
      },
      "execution_count": null,
      "outputs": [
        {
          "output_type": "stream",
          "name": "stdout",
          "text": [
            "cars.csv  \u001b[0m\u001b[01;34msample_data\u001b[0m/\n"
          ]
        }
      ]
    },
    {
      "cell_type": "code",
      "source": [
        "df = spark.read.csv('cars.csv',header=True,inferSchema=True,sep=';')"
      ],
      "metadata": {
        "id": "9VCn2kS4DeOk"
      },
      "execution_count": null,
      "outputs": []
    },
    {
      "cell_type": "code",
      "source": [
        "df.show(5,truncate=False)"
      ],
      "metadata": {
        "colab": {
          "base_uri": "https://localhost:8080/"
        },
        "id": "iJol0i4wDxms",
        "outputId": "3e73449e-b2c2-4a3e-93d9-fac050076527"
      },
      "execution_count": null,
      "outputs": [
        {
          "output_type": "stream",
          "name": "stdout",
          "text": [
            "+-------------------------+----+---------+------------+----------+------+------------+-----+------+\n",
            "|Car                      |MPG |Cylinders|Displacement|Horsepower|Weight|Acceleration|Model|Origin|\n",
            "+-------------------------+----+---------+------------+----------+------+------------+-----+------+\n",
            "|Chevrolet Chevelle Malibu|18.0|8        |307.0       |130.0     |3504  |12.0        |70   |US    |\n",
            "|Buick Skylark 320        |15.0|8        |350.0       |165.0     |3693  |11.5        |70   |US    |\n",
            "|Plymouth Satellite       |18.0|8        |318.0       |150.0     |3436  |11.0        |70   |US    |\n",
            "|AMC Rebel SST            |16.0|8        |304.0       |150.0     |3433  |12.0        |70   |US    |\n",
            "|Ford Torino              |17.0|8        |302.0       |140.0     |3449  |10.5        |70   |US    |\n",
            "+-------------------------+----+---------+------------+----------+------+------------+-----+------+\n",
            "only showing top 5 rows\n",
            "\n"
          ]
        }
      ]
    },
    {
      "cell_type": "code",
      "source": [
        "df.printSchema()"
      ],
      "metadata": {
        "colab": {
          "base_uri": "https://localhost:8080/"
        },
        "id": "Mn23ooHQD2gc",
        "outputId": "98b72730-e040-4f58-818a-1914483bc5e5"
      },
      "execution_count": null,
      "outputs": [
        {
          "output_type": "stream",
          "name": "stdout",
          "text": [
            "root\n",
            " |-- Car: string (nullable = true)\n",
            " |-- MPG: double (nullable = true)\n",
            " |-- Cylinders: integer (nullable = true)\n",
            " |-- Displacement: double (nullable = true)\n",
            " |-- Horsepower: double (nullable = true)\n",
            " |-- Weight: decimal(4,0) (nullable = true)\n",
            " |-- Acceleration: double (nullable = true)\n",
            " |-- Model: integer (nullable = true)\n",
            " |-- Origin: string (nullable = true)\n",
            "\n"
          ]
        }
      ]
    },
    {
      "cell_type": "code",
      "source": [
        "##creatin new columns\n",
        "from pyspark.sql.functions import lit , concat , col"
      ],
      "metadata": {
        "id": "cQz-d8LpEkmM"
      },
      "execution_count": null,
      "outputs": []
    },
    {
      "cell_type": "code",
      "source": [
        "df=df.withColumn('join_columns',concat(col('Car'),lit(' '),col('Model')))"
      ],
      "metadata": {
        "id": "zsQLo3X8HujB"
      },
      "execution_count": null,
      "outputs": []
    },
    {
      "cell_type": "code",
      "source": [
        "from os import truncate\n",
        "df.show(5,truncate=False)"
      ],
      "metadata": {
        "colab": {
          "base_uri": "https://localhost:8080/"
        },
        "id": "F5F4jACDIOqr",
        "outputId": "00dcb972-afcd-4a39-f298-8dd7d2bd1f68"
      },
      "execution_count": null,
      "outputs": [
        {
          "output_type": "stream",
          "name": "stdout",
          "text": [
            "+-------------------------+----+---------+------------+----------+------+------------+-----+------+----------------------------+\n",
            "|Car                      |MPG |Cylinders|Displacement|Horsepower|Weight|Acceleration|Model|Origin|join_columns                |\n",
            "+-------------------------+----+---------+------------+----------+------+------------+-----+------+----------------------------+\n",
            "|Chevrolet Chevelle Malibu|18.0|8        |307.0       |130.0     |3504  |12.0        |70   |US    |Chevrolet Chevelle Malibu 70|\n",
            "|Buick Skylark 320        |15.0|8        |350.0       |165.0     |3693  |11.5        |70   |US    |Buick Skylark 320 70        |\n",
            "|Plymouth Satellite       |18.0|8        |318.0       |150.0     |3436  |11.0        |70   |US    |Plymouth Satellite 70       |\n",
            "|AMC Rebel SST            |16.0|8        |304.0       |150.0     |3433  |12.0        |70   |US    |AMC Rebel SST 70            |\n",
            "|Ford Torino              |17.0|8        |302.0       |140.0     |3449  |10.5        |70   |US    |Ford Torino 70              |\n",
            "+-------------------------+----+---------+------------+----------+------+------------+-----+------+----------------------------+\n",
            "only showing top 5 rows\n",
            "\n"
          ]
        }
      ]
    },
    {
      "cell_type": "code",
      "source": [
        "df = df.withColumnRenamed('join_columns','car_model')"
      ],
      "metadata": {
        "id": "bkBdC3agIW00"
      },
      "execution_count": null,
      "outputs": []
    },
    {
      "cell_type": "code",
      "source": [
        "df.show(8,truncate=False)"
      ],
      "metadata": {
        "colab": {
          "base_uri": "https://localhost:8080/"
        },
        "id": "COF_Od0UJJhi",
        "outputId": "e07f42ac-948c-4c03-a682-92155560f4b2"
      },
      "execution_count": null,
      "outputs": [
        {
          "output_type": "stream",
          "name": "stdout",
          "text": [
            "+-------------------------+----+---------+------------+----------+------+------------+-----+------+----------------------------+\n",
            "|Car                      |MPG |Cylinders|Displacement|Horsepower|Weight|Acceleration|Model|Origin|car_model                   |\n",
            "+-------------------------+----+---------+------------+----------+------+------------+-----+------+----------------------------+\n",
            "|Chevrolet Chevelle Malibu|18.0|8        |307.0       |130.0     |3504  |12.0        |70   |US    |Chevrolet Chevelle Malibu 70|\n",
            "|Buick Skylark 320        |15.0|8        |350.0       |165.0     |3693  |11.5        |70   |US    |Buick Skylark 320 70        |\n",
            "|Plymouth Satellite       |18.0|8        |318.0       |150.0     |3436  |11.0        |70   |US    |Plymouth Satellite 70       |\n",
            "|AMC Rebel SST            |16.0|8        |304.0       |150.0     |3433  |12.0        |70   |US    |AMC Rebel SST 70            |\n",
            "|Ford Torino              |17.0|8        |302.0       |140.0     |3449  |10.5        |70   |US    |Ford Torino 70              |\n",
            "|Ford Galaxie 500         |15.0|8        |429.0       |198.0     |4341  |10.0        |70   |US    |Ford Galaxie 500 70         |\n",
            "|Chevrolet Impala         |14.0|8        |454.0       |220.0     |4354  |9.0         |70   |US    |Chevrolet Impala 70         |\n",
            "|Plymouth Fury iii        |14.0|8        |440.0       |215.0     |4312  |8.5         |70   |US    |Plymouth Fury iii 70        |\n",
            "+-------------------------+----+---------+------------+----------+------+------------+-----+------+----------------------------+\n",
            "only showing top 8 rows\n",
            "\n"
          ]
        }
      ]
    },
    {
      "cell_type": "code",
      "source": [
        "df1=df.groupBy('Origin').count()"
      ],
      "metadata": {
        "id": "wDz1LNqNJT2L"
      },
      "execution_count": null,
      "outputs": []
    },
    {
      "cell_type": "code",
      "source": [
        "df1.show()"
      ],
      "metadata": {
        "colab": {
          "base_uri": "https://localhost:8080/"
        },
        "id": "DWbxDmDSJ23T",
        "outputId": "ffae128d-9047-48be-cf79-0ce38637efed"
      },
      "execution_count": null,
      "outputs": [
        {
          "output_type": "stream",
          "name": "stdout",
          "text": [
            "+------+-----+\n",
            "|Origin|count|\n",
            "+------+-----+\n",
            "|Europe|   73|\n",
            "|    US|  254|\n",
            "| Japan|   79|\n",
            "+------+-----+\n",
            "\n"
          ]
        }
      ]
    },
    {
      "cell_type": "code",
      "source": [
        "df2=df.groupBy('Model').count()"
      ],
      "metadata": {
        "id": "PfXKN3uMJ5dC"
      },
      "execution_count": null,
      "outputs": []
    },
    {
      "cell_type": "code",
      "source": [
        "df2.show()"
      ],
      "metadata": {
        "colab": {
          "base_uri": "https://localhost:8080/"
        },
        "id": "dtxNgW5-KOK6",
        "outputId": "cfc8b1d4-1f71-40f8-f52c-9defb3c9f947"
      },
      "execution_count": null,
      "outputs": [
        {
          "output_type": "stream",
          "name": "stdout",
          "text": [
            "+-----+-----+\n",
            "|Model|count|\n",
            "+-----+-----+\n",
            "|   78|   36|\n",
            "|   81|   30|\n",
            "|   76|   34|\n",
            "|   72|   28|\n",
            "|   77|   28|\n",
            "|   82|   31|\n",
            "|   80|   29|\n",
            "|   73|   40|\n",
            "|   70|   35|\n",
            "|   75|   30|\n",
            "|   71|   29|\n",
            "|   79|   29|\n",
            "|   74|   27|\n",
            "+-----+-----+\n",
            "\n"
          ]
        }
      ]
    },
    {
      "cell_type": "code",
      "source": [
        "df3=df.groupBy('Origin','Model').count()"
      ],
      "metadata": {
        "id": "yIj8aGXrKQlL"
      },
      "execution_count": null,
      "outputs": []
    },
    {
      "cell_type": "code",
      "source": [
        "df3.show()"
      ],
      "metadata": {
        "colab": {
          "base_uri": "https://localhost:8080/"
        },
        "id": "Wk2ESbg3KZ3j",
        "outputId": "6d92bedb-f034-4cd0-84ee-0e7cf9b61996"
      },
      "execution_count": null,
      "outputs": [
        {
          "output_type": "stream",
          "name": "stdout",
          "text": [
            "+------+-----+-----+\n",
            "|Origin|Model|count|\n",
            "+------+-----+-----+\n",
            "|Europe|   71|    5|\n",
            "|Europe|   80|    9|\n",
            "|Europe|   79|    4|\n",
            "| Japan|   75|    4|\n",
            "|    US|   72|   18|\n",
            "|    US|   80|    7|\n",
            "|Europe|   74|    6|\n",
            "| Japan|   79|    2|\n",
            "|Europe|   76|    8|\n",
            "|    US|   75|   20|\n",
            "| Japan|   77|    6|\n",
            "|    US|   82|   20|\n",
            "| Japan|   80|   13|\n",
            "| Japan|   78|    8|\n",
            "|    US|   78|   22|\n",
            "|Europe|   75|    6|\n",
            "|    US|   71|   20|\n",
            "|    US|   77|   18|\n",
            "| Japan|   70|    2|\n",
            "| Japan|   71|    4|\n",
            "+------+-----+-----+\n",
            "only showing top 20 rows\n",
            "\n"
          ]
        }
      ]
    },
    {
      "cell_type": "code",
      "source": [
        "filtering= df.filter(col('Origin')=='Europe').count()\n",
        "print('Europe_count  ' + str(filtering))"
      ],
      "metadata": {
        "colab": {
          "base_uri": "https://localhost:8080/"
        },
        "id": "XiZwIfzHKb5T",
        "outputId": "d86abfc8-719a-4f34-a93c-80ba349d69e4"
      },
      "execution_count": null,
      "outputs": [
        {
          "output_type": "stream",
          "name": "stdout",
          "text": [
            "Europe_count  73\n"
          ]
        }
      ]
    },
    {
      "cell_type": "code",
      "source": [
        "df.filter((col('Origin')=='Europe') & (col('Cylinders')==5)).show()"
      ],
      "metadata": {
        "colab": {
          "base_uri": "https://localhost:8080/"
        },
        "id": "wvISG0ksOAVb",
        "outputId": "d465d702-1eb1-4cbf-dd03-a6288179be09"
      },
      "execution_count": null,
      "outputs": [
        {
          "output_type": "stream",
          "name": "stdout",
          "text": [
            "+-------------------+----+---------+------------+----------+------+------------+-----+------+--------------------+\n",
            "|                Car| MPG|Cylinders|Displacement|Horsepower|Weight|Acceleration|Model|Origin|           car_model|\n",
            "+-------------------+----+---------+------------+----------+------+------------+-----+------+--------------------+\n",
            "|          Audi 5000|20.3|        5|       131.0|     103.0|  2830|        15.9|   78|Europe|        Audi 5000 78|\n",
            "| Mercedes Benz 300d|25.4|        5|       183.0|      77.0|  3530|        20.1|   79|Europe|Mercedes Benz 300...|\n",
            "|Audi 5000s (diesel)|36.4|        5|       121.0|      67.0|  2950|        19.9|   80|Europe|Audi 5000s (diese...|\n",
            "+-------------------+----+---------+------------+----------+------+------------+-----+------+--------------------+\n",
            "\n"
          ]
        }
      ]
    },
    {
      "cell_type": "code",
      "source": [
        "df.select('Cylinders').distinct().show()"
      ],
      "metadata": {
        "colab": {
          "base_uri": "https://localhost:8080/"
        },
        "id": "z_IcmMP9OXBy",
        "outputId": "f01818cb-8796-4725-925b-a8e5d872ab9d"
      },
      "execution_count": null,
      "outputs": [
        {
          "output_type": "stream",
          "name": "stdout",
          "text": [
            "+---------+\n",
            "|Cylinders|\n",
            "+---------+\n",
            "|        6|\n",
            "|        3|\n",
            "|        5|\n",
            "|        4|\n",
            "|        8|\n",
            "+---------+\n",
            "\n"
          ]
        }
      ]
    },
    {
      "cell_type": "code",
      "source": [
        "df.orderBy('Cylinders',ascending=False).show()"
      ],
      "metadata": {
        "colab": {
          "base_uri": "https://localhost:8080/"
        },
        "id": "yD-jZExqQoVy",
        "outputId": "46be9c02-c253-49c3-f4ee-2ddcdc29564a"
      },
      "execution_count": null,
      "outputs": [
        {
          "output_type": "stream",
          "name": "stdout",
          "text": [
            "+--------------------+----+---------+------------+----------+------+------------+-----+------+--------------------+\n",
            "|                 Car| MPG|Cylinders|Displacement|Horsepower|Weight|Acceleration|Model|Origin|           car_model|\n",
            "+--------------------+----+---------+------------+----------+------+------------+-----+------+--------------------+\n",
            "|  Plymouth 'Cuda 340|14.0|        8|       340.0|     160.0|  3609|         8.0|   70|    US|Plymouth 'Cuda 34...|\n",
            "| Pontiac Safari (sw)|13.0|        8|       400.0|     175.0|  5140|        12.0|   71|    US|Pontiac Safari (s...|\n",
            "|Ford Mustang Boss...| 0.0|        8|       302.0|     140.0|  3353|         8.0|   70|    US|Ford Mustang Boss...|\n",
            "|   Buick Skylark 320|15.0|        8|       350.0|     165.0|  3693|        11.5|   70|    US|Buick Skylark 320 70|\n",
            "|Chevrolet Monte C...|15.0|        8|       400.0|     150.0|  3761|         9.5|   70|    US|Chevrolet Monte C...|\n",
            "|       AMC Rebel SST|16.0|        8|       304.0|     150.0|  3433|        12.0|   70|    US|    AMC Rebel SST 70|\n",
            "|Buick Estate Wago...|14.0|        8|       455.0|     225.0|  3086|        10.0|   70|    US|Buick Estate Wago...|\n",
            "|    Ford Galaxie 500|15.0|        8|       429.0|     198.0|  4341|        10.0|   70|    US| Ford Galaxie 500 70|\n",
            "|           Ford F250|10.0|        8|       360.0|     215.0|  4615|        14.0|   70|    US|        Ford F250 70|\n",
            "|   Plymouth Fury iii|14.0|        8|       440.0|     215.0|  4312|         8.5|   70|    US|Plymouth Fury iii 70|\n",
            "|           Chevy C20|10.0|        8|       307.0|     200.0|  4376|        15.0|   70|    US|        Chevy C20 70|\n",
            "|  AMC Ambassador DPL|15.0|        8|       390.0|     190.0|  3850|         8.5|   70|    US|AMC Ambassador DP...|\n",
            "|          Dodge D200|11.0|        8|       318.0|     210.0|  4382|        13.5|   70|    US|       Dodge D200 70|\n",
            "|    Ford Torino (sw)| 0.0|        8|       351.0|     153.0|  4034|        11.0|   70|    US| Ford Torino (sw) 70|\n",
            "|            Hi 1200D| 9.0|        8|       304.0|     193.0|  4732|        18.5|   70|    US|         Hi 1200D 70|\n",
            "|  AMC Rebel SST (sw)| 0.0|        8|       360.0|     175.0|  3850|        11.0|   70|    US|AMC Rebel SST (sw...|\n",
            "|    Chevrolet Impala|14.0|        8|       350.0|     165.0|  4209|        12.0|   71|    US| Chevrolet Impala 71|\n",
            "|Chevrolet Chevell...|18.0|        8|       307.0|     130.0|  3504|        12.0|   70|    US|Chevrolet Chevell...|\n",
            "|Pontiac Catalina ...|14.0|        8|       400.0|     175.0|  4464|        11.5|   71|    US|Pontiac Catalina ...|\n",
            "|         Ford Torino|17.0|        8|       302.0|     140.0|  3449|        10.5|   70|    US|      Ford Torino 70|\n",
            "+--------------------+----+---------+------------+----------+------+------------+-----+------+--------------------+\n",
            "only showing top 20 rows\n",
            "\n"
          ]
        }
      ]
    },
    {
      "cell_type": "code",
      "source": [
        "df.groupBy('Origin').count().orderBy('count').show()"
      ],
      "metadata": {
        "colab": {
          "base_uri": "https://localhost:8080/"
        },
        "id": "WHBV2eY_RKzy",
        "outputId": "36569db0-d2e8-4341-c6db-2ee082712059"
      },
      "execution_count": null,
      "outputs": [
        {
          "output_type": "stream",
          "name": "stdout",
          "text": [
            "+------+-----+\n",
            "|Origin|count|\n",
            "+------+-----+\n",
            "|Europe|   73|\n",
            "| Japan|   79|\n",
            "|    US|  254|\n",
            "+------+-----+\n",
            "\n"
          ]
        }
      ]
    },
    {
      "cell_type": "code",
      "source": [
        "Eu_count=df.filter((col('Origin')=='Europe') & (col('Cylinders')==4))"
      ],
      "metadata": {
        "id": "kWGoVywwRhbK"
      },
      "execution_count": null,
      "outputs": []
    },
    {
      "cell_type": "code",
      "source": [
        "US_count = df.filter((col('Origin')=='US') & (col('Cylinders')==8))"
      ],
      "metadata": {
        "id": "a55jpvOiTE2K"
      },
      "execution_count": null,
      "outputs": []
    },
    {
      "cell_type": "code",
      "source": [
        "print(Eu_count.count())\n",
        "print(US_count.count())\n",
        "print(Eu_count.union(US_count).count())"
      ],
      "metadata": {
        "colab": {
          "base_uri": "https://localhost:8080/"
        },
        "id": "fT8K0E7UTmci",
        "outputId": "4ccb98fc-bc1b-4d1f-d781-24012bf2fec7"
      },
      "execution_count": null,
      "outputs": [
        {
          "output_type": "stream",
          "name": "stdout",
          "text": [
            "66\n",
            "108\n",
            "174\n"
          ]
        }
      ]
    },
    {
      "cell_type": "code",
      "source": [
        "df.describe().show()"
      ],
      "metadata": {
        "colab": {
          "base_uri": "https://localhost:8080/"
        },
        "id": "DdGbM7dRUEta",
        "outputId": "5a4f4a22-3948-4af7-a197-b9e58624c625"
      },
      "execution_count": null,
      "outputs": [
        {
          "output_type": "stream",
          "name": "stdout",
          "text": [
            "+-------+--------------------+------------------+-----------------+------------------+-----------------+-----------------+------------------+------------------+------+--------------------+\n",
            "|summary|                 Car|               MPG|        Cylinders|      Displacement|       Horsepower|           Weight|      Acceleration|             Model|Origin|           car_model|\n",
            "+-------+--------------------+------------------+-----------------+------------------+-----------------+-----------------+------------------+------------------+------+--------------------+\n",
            "|  count|                 406|               406|              406|               406|              406|              406|               406|               406|   406|                 406|\n",
            "|   mean|                NULL|23.051231527093602|5.475369458128079| 194.7795566502463|103.5295566502463|        2979.4138|15.519704433497521| 75.92118226600985|  NULL|                NULL|\n",
            "| stddev|                NULL|   8.4017773522706|1.712159631548529|104.92245837948867|40.52065912106347|847.0043282393513|2.8033588163425462|3.7487373454558743|  NULL|                NULL|\n",
            "|    min|AMC Ambassador Br...|               0.0|                3|              68.0|              0.0|             1613|               8.0|                70|Europe|AMC Ambassador Br...|\n",
            "|    max|        Volvo Diesel|              46.6|                8|             455.0|            230.0|             5140|              24.8|                82|    US|     Volvo Diesel 81|\n",
            "+-------+--------------------+------------------+-----------------+------------------+-----------------+-----------------+------------------+------------------+------+--------------------+\n",
            "\n"
          ]
        }
      ]
    },
    {
      "cell_type": "code",
      "source": [
        "df.columns"
      ],
      "metadata": {
        "colab": {
          "base_uri": "https://localhost:8080/"
        },
        "id": "45FryGkLZ8q7",
        "outputId": "83a653f9-fdb3-4841-8711-004a62a4e8b0"
      },
      "execution_count": null,
      "outputs": [
        {
          "output_type": "execute_result",
          "data": {
            "text/plain": [
              "['Car',\n",
              " 'MPG',\n",
              " 'Cylinders',\n",
              " 'Displacement',\n",
              " 'Horsepower',\n",
              " 'Weight',\n",
              " 'Acceleration',\n",
              " 'Model',\n",
              " 'Origin',\n",
              " 'car_model']"
            ]
          },
          "metadata": {},
          "execution_count": 55
        }
      ]
    },
    {
      "cell_type": "code",
      "source": [
        "from pyspark.sql import functions\n",
        "print(dir(functions))"
      ],
      "metadata": {
        "colab": {
          "base_uri": "https://localhost:8080/"
        },
        "id": "AzMBP_IWjaxt",
        "outputId": "0d1ed63a-11e9-4b76-966a-5e927db2168a"
      },
      "execution_count": null,
      "outputs": [
        {
          "output_type": "stream",
          "name": "stdout",
          "text": [
            "['Any', 'ArrayType', 'Callable', 'Column', 'DataFrame', 'DataType', 'Dict', 'Iterable', 'JVMView', 'List', 'Optional', 'PandasUDFType', 'PySparkTypeError', 'PySparkValueError', 'SparkContext', 'StringType', 'StructType', 'TYPE_CHECKING', 'Tuple', 'Type', 'Union', 'UserDefinedFunction', 'UserDefinedTableFunction', 'ValuesView', '__builtins__', '__cached__', '__doc__', '__file__', '__loader__', '__name__', '__package__', '__spec__', '_create_column_from_literal', '_create_lambda', '_create_py_udf', '_create_py_udtf', '_from_numpy_type', '_get_jvm_function', '_get_lambda_parameters', '_invoke_binary_math_function', '_invoke_function', '_invoke_function_over_columns', '_invoke_function_over_seq_of_columns', '_invoke_higher_order_function', '_options_to_str', '_test', '_to_java_column', '_to_seq', '_unresolved_named_lambda_variable', 'abs', 'acos', 'acosh', 'add_months', 'aes_decrypt', 'aes_encrypt', 'aggregate', 'any_value', 'approxCountDistinct', 'approx_count_distinct', 'approx_percentile', 'array', 'array_agg', 'array_append', 'array_compact', 'array_contains', 'array_distinct', 'array_except', 'array_insert', 'array_intersect', 'array_join', 'array_max', 'array_min', 'array_position', 'array_prepend', 'array_remove', 'array_repeat', 'array_size', 'array_sort', 'array_union', 'arrays_overlap', 'arrays_zip', 'asc', 'asc_nulls_first', 'asc_nulls_last', 'ascii', 'asin', 'asinh', 'assert_true', 'atan', 'atan2', 'atanh', 'avg', 'base64', 'bin', 'bit_and', 'bit_count', 'bit_get', 'bit_length', 'bit_or', 'bit_xor', 'bitmap_bit_position', 'bitmap_bucket_number', 'bitmap_construct_agg', 'bitmap_count', 'bitmap_or_agg', 'bitwiseNOT', 'bitwise_not', 'bool_and', 'bool_or', 'broadcast', 'bround', 'btrim', 'bucket', 'call_function', 'call_udf', 'cardinality', 'cast', 'cbrt', 'ceil', 'ceiling', 'char', 'char_length', 'character_length', 'coalesce', 'col', 'collect_list', 'collect_set', 'column', 'concat', 'concat_ws', 'contains', 'conv', 'convert_timezone', 'corr', 'cos', 'cosh', 'cot', 'count', 'countDistinct', 'count_distinct', 'count_if', 'count_min_sketch', 'covar_pop', 'covar_samp', 'crc32', 'create_map', 'csc', 'cume_dist', 'curdate', 'current_catalog', 'current_database', 'current_date', 'current_schema', 'current_timestamp', 'current_timezone', 'current_user', 'date_add', 'date_diff', 'date_format', 'date_from_unix_date', 'date_part', 'date_sub', 'date_trunc', 'dateadd', 'datediff', 'datepart', 'day', 'dayofmonth', 'dayofweek', 'dayofyear', 'days', 'decimal', 'decode', 'degrees', 'dense_rank', 'desc', 'desc_nulls_first', 'desc_nulls_last', 'e', 'element_at', 'elt', 'encode', 'endswith', 'equal_null', 'every', 'exists', 'exp', 'explode', 'explode_outer', 'expm1', 'expr', 'extract', 'factorial', 'filter', 'find_in_set', 'first', 'first_value', 'flatten', 'floor', 'forall', 'format_number', 'format_string', 'from_csv', 'from_json', 'from_unixtime', 'from_utc_timestamp', 'functools', 'get', 'get_active_spark_context', 'get_json_object', 'getbit', 'greatest', 'grouping', 'grouping_id', 'has_numpy', 'hash', 'hex', 'histogram_numeric', 'hll_sketch_agg', 'hll_sketch_estimate', 'hll_union', 'hll_union_agg', 'hour', 'hours', 'hypot', 'ifnull', 'ilike', 'initcap', 'inline', 'inline_outer', 'input_file_block_length', 'input_file_block_start', 'input_file_name', 'inspect', 'instr', 'isnan', 'isnotnull', 'isnull', 'java_method', 'json_array_length', 'json_object_keys', 'json_tuple', 'kurtosis', 'lag', 'last', 'last_day', 'last_value', 'lcase', 'lead', 'least', 'left', 'length', 'levenshtein', 'like', 'lit', 'ln', 'localtimestamp', 'locate', 'log', 'log10', 'log1p', 'log2', 'lower', 'lpad', 'ltrim', 'make_date', 'make_dt_interval', 'make_interval', 'make_timestamp', 'make_timestamp_ltz', 'make_timestamp_ntz', 'make_ym_interval', 'map_concat', 'map_contains_key', 'map_entries', 'map_filter', 'map_from_arrays', 'map_from_entries', 'map_keys', 'map_values', 'map_zip_with', 'mask', 'max', 'max_by', 'md5', 'mean', 'median', 'min', 'min_by', 'minute', 'mode', 'monotonically_increasing_id', 'month', 'months', 'months_between', 'named_struct', 'nanvl', 'negate', 'negative', 'next_day', 'now', 'np', 'nth_value', 'ntile', 'nullif', 'nvl', 'nvl2', 'octet_length', 'overlay', 'overload', 'pandas_udf', 'parse_url', 'percent_rank', 'percentile', 'percentile_approx', 'pi', 'pmod', 'posexplode', 'posexplode_outer', 'position', 'positive', 'pow', 'power', 'printf', 'product', 'quarter', 'radians', 'raise_error', 'rand', 'randn', 'rank', 'reduce', 'reflect', 'regexp', 'regexp_count', 'regexp_extract', 'regexp_extract_all', 'regexp_instr', 'regexp_like', 'regexp_replace', 'regexp_substr', 'regr_avgx', 'regr_avgy', 'regr_count', 'regr_intercept', 'regr_r2', 'regr_slope', 'regr_sxx', 'regr_sxy', 'regr_syy', 'repeat', 'replace', 'reverse', 'right', 'rint', 'rlike', 'round', 'row_number', 'rpad', 'rtrim', 'schema_of_csv', 'schema_of_json', 'sec', 'second', 'sentences', 'sequence', 'session_window', 'sha', 'sha1', 'sha2', 'shiftLeft', 'shiftRight', 'shiftRightUnsigned', 'shiftleft', 'shiftright', 'shiftrightunsigned', 'shuffle', 'sign', 'signum', 'sin', 'sinh', 'size', 'skewness', 'slice', 'some', 'sort_array', 'soundex', 'spark_partition_id', 'split', 'split_part', 'sqrt', 'stack', 'startswith', 'std', 'stddev', 'stddev_pop', 'stddev_samp', 'str_to_map', 'struct', 'substr', 'substring', 'substring_index', 'sum', 'sumDistinct', 'sum_distinct', 'sys', 'tan', 'tanh', 'timestamp_micros', 'timestamp_millis', 'timestamp_seconds', 'toDegrees', 'toRadians', 'to_binary', 'to_char', 'to_csv', 'to_date', 'to_json', 'to_number', 'to_str', 'to_timestamp', 'to_timestamp_ltz', 'to_timestamp_ntz', 'to_unix_timestamp', 'to_utc_timestamp', 'to_varchar', 'transform', 'transform_keys', 'transform_values', 'translate', 'trim', 'trunc', 'try_add', 'try_aes_decrypt', 'try_avg', 'try_divide', 'try_element_at', 'try_multiply', 'try_remote_functions', 'try_subtract', 'try_sum', 'try_to_binary', 'try_to_number', 'try_to_timestamp', 'typeof', 'ucase', 'udf', 'udtf', 'unbase64', 'unhex', 'unix_date', 'unix_micros', 'unix_millis', 'unix_seconds', 'unix_timestamp', 'unwrap_udt', 'upper', 'url_decode', 'url_encode', 'user', 'var_pop', 'var_samp', 'variance', 'version', 'warnings', 'weekday', 'weekofyear', 'when', 'width_bucket', 'window', 'window_time', 'xpath', 'xpath_boolean', 'xpath_double', 'xpath_float', 'xpath_int', 'xpath_long', 'xpath_number', 'xpath_short', 'xpath_string', 'xxhash64', 'year', 'years', 'zip_with']\n"
          ]
        }
      ]
    },
    {
      "cell_type": "code",
      "source": [
        "from pyspark.sql.functions import lower,upper,concat,substring , min, max"
      ],
      "metadata": {
        "id": "8MFsd9fFnTws"
      },
      "execution_count": null,
      "outputs": []
    },
    {
      "cell_type": "code",
      "source": [
        "df.select(df.Car,lower(df.Car),upper(df.Car),substring(df.Car,1,6)).show(7)"
      ],
      "metadata": {
        "colab": {
          "base_uri": "https://localhost:8080/"
        },
        "id": "ChBYhe9Cns7z",
        "outputId": "fc03b6a2-358d-4445-b7eb-231e6a6821d0"
      },
      "execution_count": null,
      "outputs": [
        {
          "output_type": "stream",
          "name": "stdout",
          "text": [
            "+--------------------+--------------------+--------------------+--------------------+\n",
            "|                 Car|          lower(Car)|          upper(Car)|substring(Car, 1, 6)|\n",
            "+--------------------+--------------------+--------------------+--------------------+\n",
            "|Chevrolet Chevell...|chevrolet chevell...|CHEVROLET CHEVELL...|              Chevro|\n",
            "|   Buick Skylark 320|   buick skylark 320|   BUICK SKYLARK 320|              Buick |\n",
            "|  Plymouth Satellite|  plymouth satellite|  PLYMOUTH SATELLITE|              Plymou|\n",
            "|       AMC Rebel SST|       amc rebel sst|       AMC REBEL SST|              AMC Re|\n",
            "|         Ford Torino|         ford torino|         FORD TORINO|              Ford T|\n",
            "|    Ford Galaxie 500|    ford galaxie 500|    FORD GALAXIE 500|              Ford G|\n",
            "|    Chevrolet Impala|    chevrolet impala|    CHEVROLET IMPALA|              Chevro|\n",
            "+--------------------+--------------------+--------------------+--------------------+\n",
            "only showing top 7 rows\n",
            "\n"
          ]
        }
      ]
    },
    {
      "cell_type": "code",
      "source": [
        "df.select(df.Car,df.Model,concat(df.Car,lit(' '),df.Model).alias('Car_model')).show(8)"
      ],
      "metadata": {
        "colab": {
          "base_uri": "https://localhost:8080/"
        },
        "id": "9XgUljx9oS5q",
        "outputId": "63b796b0-88ce-450a-8b5b-e050d56ae907"
      },
      "execution_count": null,
      "outputs": [
        {
          "output_type": "stream",
          "name": "stdout",
          "text": [
            "+--------------------+-----+--------------------+\n",
            "|                 Car|Model|           Car_model|\n",
            "+--------------------+-----+--------------------+\n",
            "|Chevrolet Chevell...|   70|Chevrolet Chevell...|\n",
            "|   Buick Skylark 320|   70|Buick Skylark 320 70|\n",
            "|  Plymouth Satellite|   70|Plymouth Satellit...|\n",
            "|       AMC Rebel SST|   70|    AMC Rebel SST 70|\n",
            "|         Ford Torino|   70|      Ford Torino 70|\n",
            "|    Ford Galaxie 500|   70| Ford Galaxie 500 70|\n",
            "|    Chevrolet Impala|   70| Chevrolet Impala 70|\n",
            "|   Plymouth Fury iii|   70|Plymouth Fury iii 70|\n",
            "+--------------------+-----+--------------------+\n",
            "only showing top 8 rows\n",
            "\n"
          ]
        }
      ]
    },
    {
      "cell_type": "code",
      "source": [
        "df.dtypes"
      ],
      "metadata": {
        "colab": {
          "base_uri": "https://localhost:8080/"
        },
        "id": "Hcs1EBjipMga",
        "outputId": "657381a5-050b-4103-c030-7b4b087b5e5c"
      },
      "execution_count": null,
      "outputs": [
        {
          "output_type": "execute_result",
          "data": {
            "text/plain": [
              "[('Car', 'string'),\n",
              " ('MPG', 'double'),\n",
              " ('Cylinders', 'int'),\n",
              " ('Displacement', 'double'),\n",
              " ('Horsepower', 'double'),\n",
              " ('Weight', 'decimal(4,0)'),\n",
              " ('Acceleration', 'double'),\n",
              " ('Model', 'int'),\n",
              " ('Origin', 'string'),\n",
              " ('car_model', 'string')]"
            ]
          },
          "metadata": {},
          "execution_count": 67
        }
      ]
    },
    {
      "cell_type": "code",
      "source": [
        "df.select(min(df.Weight + 20),max(df.Weight + 20)).show()"
      ],
      "metadata": {
        "colab": {
          "base_uri": "https://localhost:8080/"
        },
        "id": "VW4gE3vLp0DD",
        "outputId": "52cf6dab-408c-46dd-c4f4-8b5a3b5234b9"
      },
      "execution_count": null,
      "outputs": [
        {
          "output_type": "stream",
          "name": "stdout",
          "text": [
            "+------------------+------------------+\n",
            "|min((Weight + 20))|max((Weight + 20))|\n",
            "+------------------+------------------+\n",
            "|              1633|              5160|\n",
            "+------------------+------------------+\n",
            "\n"
          ]
        }
      ]
    },
    {
      "cell_type": "code",
      "source": [
        "from pyspark.sql.functions import to_date,to_timestamp"
      ],
      "metadata": {
        "id": "nUvZOKyhq1BC"
      },
      "execution_count": null,
      "outputs": []
    },
    {
      "cell_type": "code",
      "source": [
        "df5 = spark.createDataFrame([('2024-01-07 12:39:45',)],['Date'])"
      ],
      "metadata": {
        "id": "_yWMEgbJroN7"
      },
      "execution_count": null,
      "outputs": []
    },
    {
      "cell_type": "code",
      "source": [
        "df5.show()"
      ],
      "metadata": {
        "colab": {
          "base_uri": "https://localhost:8080/"
        },
        "id": "RHLsmCH5sDN0",
        "outputId": "7da0deb6-5350-4ceb-d2db-bc426beac460"
      },
      "execution_count": null,
      "outputs": [
        {
          "output_type": "stream",
          "name": "stdout",
          "text": [
            "+-------------------+\n",
            "|               Date|\n",
            "+-------------------+\n",
            "|2024-01-07 12:39:45|\n",
            "+-------------------+\n",
            "\n"
          ]
        }
      ]
    },
    {
      "cell_type": "code",
      "source": [
        "df5.printSchema()"
      ],
      "metadata": {
        "colab": {
          "base_uri": "https://localhost:8080/"
        },
        "id": "oYDKfPe5tHfi",
        "outputId": "40967877-95ee-4b72-b0d0-85d5e4e1d5d3"
      },
      "execution_count": null,
      "outputs": [
        {
          "output_type": "stream",
          "name": "stdout",
          "text": [
            "root\n",
            " |-- Date: string (nullable = true)\n",
            "\n"
          ]
        }
      ]
    },
    {
      "cell_type": "code",
      "source": [
        "df5.select(df5.Date,to_date(df5.Date),to_timestamp(df5.Date)).show()"
      ],
      "metadata": {
        "colab": {
          "base_uri": "https://localhost:8080/"
        },
        "id": "3Zokjrq_tQFD",
        "outputId": "45764720-4c96-48c3-aca9-20497217ce6b"
      },
      "execution_count": null,
      "outputs": [
        {
          "output_type": "stream",
          "name": "stdout",
          "text": [
            "+-------------------+-------------+-------------------+\n",
            "|               Date|to_date(Date)| to_timestamp(Date)|\n",
            "+-------------------+-------------+-------------------+\n",
            "|2024-01-07 12:39:45|   2024-01-07|2024-01-07 12:39:45|\n",
            "+-------------------+-------------+-------------------+\n",
            "\n"
          ]
        }
      ]
    },
    {
      "cell_type": "code",
      "source": [
        "car_name = spark.createDataFrame([[1,'A'],[2,'B'],[3,'C'],[4,'D'],[5,'E']],['id','Name'])"
      ],
      "metadata": {
        "id": "bdjCTnFat_Wa"
      },
      "execution_count": null,
      "outputs": []
    },
    {
      "cell_type": "code",
      "source": [
        "car_price = spark.createDataFrame([[1,20000],[1,4000],[3,5000],[4,6000],[5,8000]],['id','price'])"
      ],
      "metadata": {
        "id": "V2M_NQ8UzSDi"
      },
      "execution_count": null,
      "outputs": []
    },
    {
      "cell_type": "code",
      "source": [
        "car_name.show()\n",
        "car_price.show()"
      ],
      "metadata": {
        "colab": {
          "base_uri": "https://localhost:8080/"
        },
        "id": "4pIbRewbzz16",
        "outputId": "df0ea01e-c629-4b14-e6dc-99c0aa483a61"
      },
      "execution_count": null,
      "outputs": [
        {
          "output_type": "stream",
          "name": "stdout",
          "text": [
            "+---+----+\n",
            "| id|Name|\n",
            "+---+----+\n",
            "|  1|   A|\n",
            "|  2|   B|\n",
            "|  3|   C|\n",
            "|  4|   D|\n",
            "|  5|   E|\n",
            "+---+----+\n",
            "\n",
            "+---+-----+\n",
            "| id|price|\n",
            "+---+-----+\n",
            "|  1|20000|\n",
            "|  1| 4000|\n",
            "|  3| 5000|\n",
            "|  4| 6000|\n",
            "|  5| 8000|\n",
            "+---+-----+\n",
            "\n"
          ]
        }
      ]
    },
    {
      "cell_type": "code",
      "source": [
        "car_name.join(car_price,car_name.id==car_price.id,'inner').select(car_name['id'],car_name['Name'],car_price['price']).show()"
      ],
      "metadata": {
        "colab": {
          "base_uri": "https://localhost:8080/"
        },
        "id": "qK1fmATv0C-p",
        "outputId": "a07ae6bd-41a4-48a7-f255-7c0aaebdc90a"
      },
      "execution_count": null,
      "outputs": [
        {
          "output_type": "stream",
          "name": "stdout",
          "text": [
            "+---+----+-----+\n",
            "| id|Name|price|\n",
            "+---+----+-----+\n",
            "|  1|   A|20000|\n",
            "|  1|   A| 4000|\n",
            "|  3|   C| 5000|\n",
            "|  4|   D| 6000|\n",
            "|  5|   E| 8000|\n",
            "+---+----+-----+\n",
            "\n"
          ]
        }
      ]
    },
    {
      "cell_type": "code",
      "source": [
        "df.createOrReplaceTempView(\"temp\")"
      ],
      "metadata": {
        "id": "G7bvHCMc1A-y"
      },
      "execution_count": null,
      "outputs": []
    },
    {
      "cell_type": "code",
      "source": [
        "spark.sql('select * from temp').show(9,truncate=False)"
      ],
      "metadata": {
        "colab": {
          "base_uri": "https://localhost:8080/"
        },
        "id": "VJ_VZkoj3ADO",
        "outputId": "ac6f036b-dfb9-472c-9d19-04ed9f818714"
      },
      "execution_count": null,
      "outputs": [
        {
          "output_type": "stream",
          "name": "stdout",
          "text": [
            "+-------------------------+----+---------+------------+----------+------+------------+-----+------+----------------------------+\n",
            "|Car                      |MPG |Cylinders|Displacement|Horsepower|Weight|Acceleration|Model|Origin|car_model                   |\n",
            "+-------------------------+----+---------+------------+----------+------+------------+-----+------+----------------------------+\n",
            "|Chevrolet Chevelle Malibu|18.0|8        |307.0       |130.0     |3504  |12.0        |70   |US    |Chevrolet Chevelle Malibu 70|\n",
            "|Buick Skylark 320        |15.0|8        |350.0       |165.0     |3693  |11.5        |70   |US    |Buick Skylark 320 70        |\n",
            "|Plymouth Satellite       |18.0|8        |318.0       |150.0     |3436  |11.0        |70   |US    |Plymouth Satellite 70       |\n",
            "|AMC Rebel SST            |16.0|8        |304.0       |150.0     |3433  |12.0        |70   |US    |AMC Rebel SST 70            |\n",
            "|Ford Torino              |17.0|8        |302.0       |140.0     |3449  |10.5        |70   |US    |Ford Torino 70              |\n",
            "|Ford Galaxie 500         |15.0|8        |429.0       |198.0     |4341  |10.0        |70   |US    |Ford Galaxie 500 70         |\n",
            "|Chevrolet Impala         |14.0|8        |454.0       |220.0     |4354  |9.0         |70   |US    |Chevrolet Impala 70         |\n",
            "|Plymouth Fury iii        |14.0|8        |440.0       |215.0     |4312  |8.5         |70   |US    |Plymouth Fury iii 70        |\n",
            "|Pontiac Catalina         |14.0|8        |455.0       |225.0     |4425  |10.0        |70   |US    |Pontiac Catalina 70         |\n",
            "+-------------------------+----+---------+------------+----------+------+------------+-----+------+----------------------------+\n",
            "only showing top 9 rows\n",
            "\n"
          ]
        }
      ]
    },
    {
      "cell_type": "code",
      "source": [
        "spark.sql(\"select Car,Model,Origin from temp where Model==80 and Origin='Japan'\").show()"
      ],
      "metadata": {
        "colab": {
          "base_uri": "https://localhost:8080/"
        },
        "id": "tpNwAVID3Jlx",
        "outputId": "b6c4f12f-f54b-41d6-9cad-08c73880048b"
      },
      "execution_count": null,
      "outputs": [
        {
          "output_type": "stream",
          "name": "stdout",
          "text": [
            "+--------------------+-----+------+\n",
            "|                 Car|Model|Origin|\n",
            "+--------------------+-----+------+\n",
            "|Toyota Corolla Te...|   80| Japan|\n",
            "|          Datsun 310|   80| Japan|\n",
            "|Toyota Corolla Li...|   80| Japan|\n",
            "|           Mazda 626|   80| Japan|\n",
            "|Datsun 510 Hatchback|   80| Japan|\n",
            "|      Toyota Corolla|   80| Japan|\n",
            "|           Mazda GLC|   80| Japan|\n",
            "|          Datsun 210|   80| Japan|\n",
            "| Honda Civic 1500 gl|   80| Japan|\n",
            "|           Subaru DL|   80| Japan|\n",
            "|       Datsun 280-ZX|   80| Japan|\n",
            "|       Mazda RX-7 GS|   80| Japan|\n",
            "|        Honda Accord|   80| Japan|\n",
            "+--------------------+-----+------+\n",
            "\n"
          ]
        }
      ]
    },
    {
      "cell_type": "code",
      "source": [
        "## rdd practices\n",
        "rdd=spark.sparkContext.textFile('/content/drive/MyDrive/Pyspark/dafodil/rdd1.txt')"
      ],
      "metadata": {
        "id": "kUPpnXNG3tVB"
      },
      "execution_count": null,
      "outputs": []
    },
    {
      "cell_type": "code",
      "source": [
        "rdd.collect()"
      ],
      "metadata": {
        "colab": {
          "base_uri": "https://localhost:8080/"
        },
        "id": "FIVQIeub8UdP",
        "outputId": "0bdb4e9b-af8e-4872-c4ef-1004677ce6a1"
      },
      "execution_count": null,
      "outputs": [
        {
          "output_type": "execute_result",
          "data": {
            "text/plain": [
              "[\"Bangladesh forms the sovereign part of the historic and ethnolinguistic region of Bengal, which was divided during the Partition of India in 1947.[21] The country has a Bengali Muslim majority. Ancient Bengal was known as Gangaridai and was a bastion of pre-Islamic kingdoms. Muslim conquests after 1204 heralded the sultanate and Mughal periods, during which an independent Bengal Sultanate and a wealthy Mughal Bengal transformed the region into an important centre of regional affairs, trade, and diplomacy. After 1757, Bengal's administrative jurisdiction reached its greatest extent under the Bengal Presidency of the British Empire. The creation of Eastern Bengal and Assam in 1905 set a precedent for the emergence of Bangladesh. In 1940, the first Prime Minister of Bengal, A. K. Fazlul Huq, supported the Lahore Resolution. Before the partition of Bengal, a Bengali sovereign state was first proposed by premier H. S. Suhrawardy. A referendum and the announcement of the Radcliffe Line established the present-day territorial boundary.\"]"
            ]
          },
          "metadata": {},
          "execution_count": 92
        }
      ]
    },
    {
      "cell_type": "code",
      "source": [
        "data = [1,2,3,4,5,6,7,8,9,11,22,33,44]\n",
        "rdd1= spark.sparkContext.parallelize(data)"
      ],
      "metadata": {
        "id": "5WmS69rc8XaJ"
      },
      "execution_count": null,
      "outputs": []
    },
    {
      "cell_type": "code",
      "source": [
        "rdd1.getNumPartitions()"
      ],
      "metadata": {
        "colab": {
          "base_uri": "https://localhost:8080/"
        },
        "id": "OsYq2yTi9NpB",
        "outputId": "59566f26-a0ae-431e-9e1c-55dc2f476700"
      },
      "execution_count": null,
      "outputs": [
        {
          "output_type": "execute_result",
          "data": {
            "text/plain": [
              "2"
            ]
          },
          "metadata": {},
          "execution_count": 94
        }
      ]
    },
    {
      "cell_type": "code",
      "source": [
        "rdd1.collect()"
      ],
      "metadata": {
        "colab": {
          "base_uri": "https://localhost:8080/"
        },
        "id": "EnYnY0-G9SFJ",
        "outputId": "a5f8d91c-1b48-4ae6-96f8-4eb41f3318b1"
      },
      "execution_count": null,
      "outputs": [
        {
          "output_type": "execute_result",
          "data": {
            "text/plain": [
              "[1, 2, 3, 4, 5, 6, 7, 8, 9, 11, 22, 33, 44]"
            ]
          },
          "metadata": {},
          "execution_count": 97
        }
      ]
    },
    {
      "cell_type": "code",
      "source": [
        "spark.sparkContext.parallelize(data,3).getNumPartitions()"
      ],
      "metadata": {
        "colab": {
          "base_uri": "https://localhost:8080/"
        },
        "id": "qzVKRKDU9VtR",
        "outputId": "08e2688e-3f1f-4381-f4e1-50a9e034be59"
      },
      "execution_count": null,
      "outputs": [
        {
          "output_type": "execute_result",
          "data": {
            "text/plain": [
              "3"
            ]
          },
          "metadata": {},
          "execution_count": 99
        }
      ]
    },
    {
      "cell_type": "code",
      "source": [
        "rdd1.glom().collect()"
      ],
      "metadata": {
        "colab": {
          "base_uri": "https://localhost:8080/"
        },
        "id": "E_7sdKny92D5",
        "outputId": "ec7a3457-a812-445f-86c9-c7f561afcfa7"
      },
      "execution_count": null,
      "outputs": [
        {
          "output_type": "execute_result",
          "data": {
            "text/plain": [
              "[[1, 2, 3, 4, 5, 6], [7, 8, 9, 11, 22, 33, 44]]"
            ]
          },
          "metadata": {},
          "execution_count": 102
        }
      ]
    },
    {
      "cell_type": "code",
      "source": [
        "spark.sparkContext.parallelize(data,5).glom().collect()"
      ],
      "metadata": {
        "colab": {
          "base_uri": "https://localhost:8080/"
        },
        "id": "x9aVXcy2-ATA",
        "outputId": "42cfd36d-c41d-4442-9907-6b77c961baca"
      },
      "execution_count": null,
      "outputs": [
        {
          "output_type": "execute_result",
          "data": {
            "text/plain": [
              "[[1, 2], [3, 4], [5, 6, 7, 8], [9, 11], [22, 33, 44]]"
            ]
          },
          "metadata": {},
          "execution_count": 103
        }
      ]
    },
    {
      "cell_type": "code",
      "source": [
        "rdd2=rdd.flatMap(lambda x : x.split(' '))"
      ],
      "metadata": {
        "id": "j15nda8I-zFR"
      },
      "execution_count": null,
      "outputs": []
    },
    {
      "cell_type": "code",
      "source": [
        "rdd2.collect()"
      ],
      "metadata": {
        "colab": {
          "base_uri": "https://localhost:8080/"
        },
        "id": "F62gykN-_f9Y",
        "outputId": "71600d77-4672-48a5-b5b7-7ff5ad1b8f67"
      },
      "execution_count": null,
      "outputs": [
        {
          "output_type": "execute_result",
          "data": {
            "text/plain": [
              "['Bangladesh',\n",
              " 'forms',\n",
              " 'the',\n",
              " 'sovereign',\n",
              " 'part',\n",
              " 'of',\n",
              " 'the',\n",
              " 'historic',\n",
              " 'and',\n",
              " 'ethnolinguistic',\n",
              " 'region',\n",
              " 'of',\n",
              " 'Bengal,',\n",
              " 'which',\n",
              " 'was',\n",
              " 'divided',\n",
              " 'during',\n",
              " 'the',\n",
              " 'Partition',\n",
              " 'of',\n",
              " 'India',\n",
              " 'in',\n",
              " '1947.[21]',\n",
              " 'The',\n",
              " 'country',\n",
              " 'has',\n",
              " 'a',\n",
              " 'Bengali',\n",
              " 'Muslim',\n",
              " 'majority.',\n",
              " 'Ancient',\n",
              " 'Bengal',\n",
              " 'was',\n",
              " 'known',\n",
              " 'as',\n",
              " 'Gangaridai',\n",
              " 'and',\n",
              " 'was',\n",
              " 'a',\n",
              " 'bastion',\n",
              " 'of',\n",
              " 'pre-Islamic',\n",
              " 'kingdoms.',\n",
              " 'Muslim',\n",
              " 'conquests',\n",
              " 'after',\n",
              " '1204',\n",
              " 'heralded',\n",
              " 'the',\n",
              " 'sultanate',\n",
              " 'and',\n",
              " 'Mughal',\n",
              " 'periods,',\n",
              " 'during',\n",
              " 'which',\n",
              " 'an',\n",
              " 'independent',\n",
              " 'Bengal',\n",
              " 'Sultanate',\n",
              " 'and',\n",
              " 'a',\n",
              " 'wealthy',\n",
              " 'Mughal',\n",
              " 'Bengal',\n",
              " 'transformed',\n",
              " 'the',\n",
              " 'region',\n",
              " 'into',\n",
              " 'an',\n",
              " 'important',\n",
              " 'centre',\n",
              " 'of',\n",
              " 'regional',\n",
              " 'affairs,',\n",
              " 'trade,',\n",
              " 'and',\n",
              " 'diplomacy.',\n",
              " 'After',\n",
              " '1757,',\n",
              " \"Bengal's\",\n",
              " 'administrative',\n",
              " 'jurisdiction',\n",
              " 'reached',\n",
              " 'its',\n",
              " 'greatest',\n",
              " 'extent',\n",
              " 'under',\n",
              " 'the',\n",
              " 'Bengal',\n",
              " 'Presidency',\n",
              " 'of',\n",
              " 'the',\n",
              " 'British',\n",
              " 'Empire.',\n",
              " 'The',\n",
              " 'creation',\n",
              " 'of',\n",
              " 'Eastern',\n",
              " 'Bengal',\n",
              " 'and',\n",
              " 'Assam',\n",
              " 'in',\n",
              " '1905',\n",
              " 'set',\n",
              " 'a',\n",
              " 'precedent',\n",
              " 'for',\n",
              " 'the',\n",
              " 'emergence',\n",
              " 'of',\n",
              " 'Bangladesh.',\n",
              " 'In',\n",
              " '1940,',\n",
              " 'the',\n",
              " 'first',\n",
              " 'Prime',\n",
              " 'Minister',\n",
              " 'of',\n",
              " 'Bengal,',\n",
              " 'A.',\n",
              " 'K.',\n",
              " 'Fazlul',\n",
              " 'Huq,',\n",
              " 'supported',\n",
              " 'the',\n",
              " 'Lahore',\n",
              " 'Resolution.',\n",
              " 'Before',\n",
              " 'the',\n",
              " 'partition',\n",
              " 'of',\n",
              " 'Bengal,',\n",
              " 'a',\n",
              " 'Bengali',\n",
              " 'sovereign',\n",
              " 'state',\n",
              " 'was',\n",
              " 'first',\n",
              " 'proposed',\n",
              " 'by',\n",
              " 'premier',\n",
              " 'H.',\n",
              " 'S.',\n",
              " 'Suhrawardy.',\n",
              " 'A',\n",
              " 'referendum',\n",
              " 'and',\n",
              " 'the',\n",
              " 'announcement',\n",
              " 'of',\n",
              " 'the',\n",
              " 'Radcliffe',\n",
              " 'Line',\n",
              " 'established',\n",
              " 'the',\n",
              " 'present-day',\n",
              " 'territorial',\n",
              " 'boundary.']"
            ]
          },
          "metadata": {},
          "execution_count": 107
        }
      ]
    },
    {
      "cell_type": "code",
      "source": [
        "rdd3=rdd2.map(lambda y : (y,1))"
      ],
      "metadata": {
        "id": "mi2jDVPS_jeA"
      },
      "execution_count": null,
      "outputs": []
    },
    {
      "cell_type": "code",
      "source": [
        "rdd3.collect()"
      ],
      "metadata": {
        "colab": {
          "base_uri": "https://localhost:8080/"
        },
        "id": "r9t2GhJ5AFz4",
        "outputId": "fe3a64ea-1100-4fa3-fb66-0e7130a72faf"
      },
      "execution_count": null,
      "outputs": [
        {
          "output_type": "execute_result",
          "data": {
            "text/plain": [
              "[('Bangladesh', 1),\n",
              " ('forms', 1),\n",
              " ('the', 1),\n",
              " ('sovereign', 1),\n",
              " ('part', 1),\n",
              " ('of', 1),\n",
              " ('the', 1),\n",
              " ('historic', 1),\n",
              " ('and', 1),\n",
              " ('ethnolinguistic', 1),\n",
              " ('region', 1),\n",
              " ('of', 1),\n",
              " ('Bengal,', 1),\n",
              " ('which', 1),\n",
              " ('was', 1),\n",
              " ('divided', 1),\n",
              " ('during', 1),\n",
              " ('the', 1),\n",
              " ('Partition', 1),\n",
              " ('of', 1),\n",
              " ('India', 1),\n",
              " ('in', 1),\n",
              " ('1947.[21]', 1),\n",
              " ('The', 1),\n",
              " ('country', 1),\n",
              " ('has', 1),\n",
              " ('a', 1),\n",
              " ('Bengali', 1),\n",
              " ('Muslim', 1),\n",
              " ('majority.', 1),\n",
              " ('Ancient', 1),\n",
              " ('Bengal', 1),\n",
              " ('was', 1),\n",
              " ('known', 1),\n",
              " ('as', 1),\n",
              " ('Gangaridai', 1),\n",
              " ('and', 1),\n",
              " ('was', 1),\n",
              " ('a', 1),\n",
              " ('bastion', 1),\n",
              " ('of', 1),\n",
              " ('pre-Islamic', 1),\n",
              " ('kingdoms.', 1),\n",
              " ('Muslim', 1),\n",
              " ('conquests', 1),\n",
              " ('after', 1),\n",
              " ('1204', 1),\n",
              " ('heralded', 1),\n",
              " ('the', 1),\n",
              " ('sultanate', 1),\n",
              " ('and', 1),\n",
              " ('Mughal', 1),\n",
              " ('periods,', 1),\n",
              " ('during', 1),\n",
              " ('which', 1),\n",
              " ('an', 1),\n",
              " ('independent', 1),\n",
              " ('Bengal', 1),\n",
              " ('Sultanate', 1),\n",
              " ('and', 1),\n",
              " ('a', 1),\n",
              " ('wealthy', 1),\n",
              " ('Mughal', 1),\n",
              " ('Bengal', 1),\n",
              " ('transformed', 1),\n",
              " ('the', 1),\n",
              " ('region', 1),\n",
              " ('into', 1),\n",
              " ('an', 1),\n",
              " ('important', 1),\n",
              " ('centre', 1),\n",
              " ('of', 1),\n",
              " ('regional', 1),\n",
              " ('affairs,', 1),\n",
              " ('trade,', 1),\n",
              " ('and', 1),\n",
              " ('diplomacy.', 1),\n",
              " ('After', 1),\n",
              " ('1757,', 1),\n",
              " (\"Bengal's\", 1),\n",
              " ('administrative', 1),\n",
              " ('jurisdiction', 1),\n",
              " ('reached', 1),\n",
              " ('its', 1),\n",
              " ('greatest', 1),\n",
              " ('extent', 1),\n",
              " ('under', 1),\n",
              " ('the', 1),\n",
              " ('Bengal', 1),\n",
              " ('Presidency', 1),\n",
              " ('of', 1),\n",
              " ('the', 1),\n",
              " ('British', 1),\n",
              " ('Empire.', 1),\n",
              " ('The', 1),\n",
              " ('creation', 1),\n",
              " ('of', 1),\n",
              " ('Eastern', 1),\n",
              " ('Bengal', 1),\n",
              " ('and', 1),\n",
              " ('Assam', 1),\n",
              " ('in', 1),\n",
              " ('1905', 1),\n",
              " ('set', 1),\n",
              " ('a', 1),\n",
              " ('precedent', 1),\n",
              " ('for', 1),\n",
              " ('the', 1),\n",
              " ('emergence', 1),\n",
              " ('of', 1),\n",
              " ('Bangladesh.', 1),\n",
              " ('In', 1),\n",
              " ('1940,', 1),\n",
              " ('the', 1),\n",
              " ('first', 1),\n",
              " ('Prime', 1),\n",
              " ('Minister', 1),\n",
              " ('of', 1),\n",
              " ('Bengal,', 1),\n",
              " ('A.', 1),\n",
              " ('K.', 1),\n",
              " ('Fazlul', 1),\n",
              " ('Huq,', 1),\n",
              " ('supported', 1),\n",
              " ('the', 1),\n",
              " ('Lahore', 1),\n",
              " ('Resolution.', 1),\n",
              " ('Before', 1),\n",
              " ('the', 1),\n",
              " ('partition', 1),\n",
              " ('of', 1),\n",
              " ('Bengal,', 1),\n",
              " ('a', 1),\n",
              " ('Bengali', 1),\n",
              " ('sovereign', 1),\n",
              " ('state', 1),\n",
              " ('was', 1),\n",
              " ('first', 1),\n",
              " ('proposed', 1),\n",
              " ('by', 1),\n",
              " ('premier', 1),\n",
              " ('H.', 1),\n",
              " ('S.', 1),\n",
              " ('Suhrawardy.', 1),\n",
              " ('A', 1),\n",
              " ('referendum', 1),\n",
              " ('and', 1),\n",
              " ('the', 1),\n",
              " ('announcement', 1),\n",
              " ('of', 1),\n",
              " ('the', 1),\n",
              " ('Radcliffe', 1),\n",
              " ('Line', 1),\n",
              " ('established', 1),\n",
              " ('the', 1),\n",
              " ('present-day', 1),\n",
              " ('territorial', 1),\n",
              " ('boundary.', 1)]"
            ]
          },
          "metadata": {},
          "execution_count": 109
        }
      ]
    },
    {
      "cell_type": "code",
      "source": [
        "rdd4=rdd3.reduceByKey(lambda a,b:a+b)"
      ],
      "metadata": {
        "id": "SjfUDPplAIWY"
      },
      "execution_count": null,
      "outputs": []
    },
    {
      "cell_type": "code",
      "source": [
        "rdd4.collect()"
      ],
      "metadata": {
        "colab": {
          "base_uri": "https://localhost:8080/"
        },
        "id": "TeSK_rFYAWto",
        "outputId": "a204f88c-d746-475c-b185-b2535ad286be"
      },
      "execution_count": null,
      "outputs": [
        {
          "output_type": "execute_result",
          "data": {
            "text/plain": [
              "[('of', 11),\n",
              " ('historic', 1),\n",
              " ('ethnolinguistic', 1),\n",
              " ('region', 2),\n",
              " ('was', 4),\n",
              " ('during', 2),\n",
              " ('Partition', 1),\n",
              " ('India', 1),\n",
              " ('in', 2),\n",
              " ('1947.[21]', 1),\n",
              " ('The', 2),\n",
              " ('country', 1),\n",
              " ('known', 1),\n",
              " ('as', 1),\n",
              " ('Gangaridai', 1),\n",
              " ('bastion', 1),\n",
              " ('kingdoms.', 1),\n",
              " ('after', 1),\n",
              " ('1204', 1),\n",
              " ('heralded', 1),\n",
              " ('sultanate', 1),\n",
              " ('an', 2),\n",
              " ('Sultanate', 1),\n",
              " ('transformed', 1),\n",
              " ('into', 1),\n",
              " ('regional', 1),\n",
              " ('affairs,', 1),\n",
              " ('1757,', 1),\n",
              " (\"Bengal's\", 1),\n",
              " ('administrative', 1),\n",
              " ('reached', 1),\n",
              " ('greatest', 1),\n",
              " ('extent', 1),\n",
              " ('Assam', 1),\n",
              " ('set', 1),\n",
              " ('emergence', 1),\n",
              " ('1940,', 1),\n",
              " ('A.', 1),\n",
              " ('K.', 1),\n",
              " ('Lahore', 1),\n",
              " ('Resolution.', 1),\n",
              " ('partition', 1),\n",
              " ('state', 1),\n",
              " ('proposed', 1),\n",
              " ('premier', 1),\n",
              " ('referendum', 1),\n",
              " ('Radcliffe', 1),\n",
              " ('Line', 1),\n",
              " ('established', 1),\n",
              " ('boundary.', 1),\n",
              " ('Bangladesh', 1),\n",
              " ('forms', 1),\n",
              " ('the', 14),\n",
              " ('sovereign', 2),\n",
              " ('part', 1),\n",
              " ('and', 7),\n",
              " ('Bengal,', 3),\n",
              " ('which', 2),\n",
              " ('divided', 1),\n",
              " ('has', 1),\n",
              " ('a', 5),\n",
              " ('Bengali', 2),\n",
              " ('Muslim', 2),\n",
              " ('majority.', 1),\n",
              " ('Ancient', 1),\n",
              " ('Bengal', 5),\n",
              " ('pre-Islamic', 1),\n",
              " ('conquests', 1),\n",
              " ('Mughal', 2),\n",
              " ('periods,', 1),\n",
              " ('independent', 1),\n",
              " ('wealthy', 1),\n",
              " ('important', 1),\n",
              " ('centre', 1),\n",
              " ('trade,', 1),\n",
              " ('diplomacy.', 1),\n",
              " ('After', 1),\n",
              " ('jurisdiction', 1),\n",
              " ('its', 1),\n",
              " ('under', 1),\n",
              " ('Presidency', 1),\n",
              " ('British', 1),\n",
              " ('Empire.', 1),\n",
              " ('creation', 1),\n",
              " ('Eastern', 1),\n",
              " ('1905', 1),\n",
              " ('precedent', 1),\n",
              " ('for', 1),\n",
              " ('Bangladesh.', 1),\n",
              " ('In', 1),\n",
              " ('first', 2),\n",
              " ('Prime', 1),\n",
              " ('Minister', 1),\n",
              " ('Fazlul', 1),\n",
              " ('Huq,', 1),\n",
              " ('supported', 1),\n",
              " ('Before', 1),\n",
              " ('by', 1),\n",
              " ('H.', 1),\n",
              " ('S.', 1),\n",
              " ('Suhrawardy.', 1),\n",
              " ('A', 1),\n",
              " ('announcement', 1),\n",
              " ('present-day', 1),\n",
              " ('territorial', 1)]"
            ]
          },
          "metadata": {},
          "execution_count": 115
        }
      ]
    },
    {
      "cell_type": "code",
      "source": [
        "rdd5=rdd4.map(lambda x: (x[0], x[1])).sortByKey()"
      ],
      "metadata": {
        "id": "xW-MJaI8AZmR"
      },
      "execution_count": null,
      "outputs": []
    },
    {
      "cell_type": "code",
      "source": [
        "rdd5.collect()"
      ],
      "metadata": {
        "colab": {
          "base_uri": "https://localhost:8080/"
        },
        "id": "2LVczujRBeQw",
        "outputId": "081fd049-894a-489f-a267-ed9c606c521a"
      },
      "execution_count": null,
      "outputs": [
        {
          "output_type": "execute_result",
          "data": {
            "text/plain": [
              "[('1204', 1),\n",
              " ('1757,', 1),\n",
              " ('1905', 1),\n",
              " ('1940,', 1),\n",
              " ('1947.[21]', 1),\n",
              " ('A', 1),\n",
              " ('A.', 1),\n",
              " ('After', 1),\n",
              " ('Ancient', 1),\n",
              " ('Assam', 1),\n",
              " ('Bangladesh', 1),\n",
              " ('Bangladesh.', 1),\n",
              " ('Before', 1),\n",
              " ('Bengal', 5),\n",
              " (\"Bengal's\", 1),\n",
              " ('Bengal,', 3),\n",
              " ('Bengali', 2),\n",
              " ('British', 1),\n",
              " ('Eastern', 1),\n",
              " ('Empire.', 1),\n",
              " ('Fazlul', 1),\n",
              " ('Gangaridai', 1),\n",
              " ('H.', 1),\n",
              " ('Huq,', 1),\n",
              " ('In', 1),\n",
              " ('India', 1),\n",
              " ('K.', 1),\n",
              " ('Lahore', 1),\n",
              " ('Line', 1),\n",
              " ('Minister', 1),\n",
              " ('Mughal', 2),\n",
              " ('Muslim', 2),\n",
              " ('Partition', 1),\n",
              " ('Presidency', 1),\n",
              " ('Prime', 1),\n",
              " ('Radcliffe', 1),\n",
              " ('Resolution.', 1),\n",
              " ('S.', 1),\n",
              " ('Suhrawardy.', 1),\n",
              " ('Sultanate', 1),\n",
              " ('The', 2),\n",
              " ('a', 5),\n",
              " ('administrative', 1),\n",
              " ('affairs,', 1),\n",
              " ('after', 1),\n",
              " ('an', 2),\n",
              " ('and', 7),\n",
              " ('announcement', 1),\n",
              " ('as', 1),\n",
              " ('bastion', 1),\n",
              " ('boundary.', 1),\n",
              " ('by', 1),\n",
              " ('centre', 1),\n",
              " ('conquests', 1),\n",
              " ('country', 1),\n",
              " ('creation', 1),\n",
              " ('diplomacy.', 1),\n",
              " ('divided', 1),\n",
              " ('during', 2),\n",
              " ('emergence', 1),\n",
              " ('established', 1),\n",
              " ('ethnolinguistic', 1),\n",
              " ('extent', 1),\n",
              " ('first', 2),\n",
              " ('for', 1),\n",
              " ('forms', 1),\n",
              " ('greatest', 1),\n",
              " ('has', 1),\n",
              " ('heralded', 1),\n",
              " ('historic', 1),\n",
              " ('important', 1),\n",
              " ('in', 2),\n",
              " ('independent', 1),\n",
              " ('into', 1),\n",
              " ('its', 1),\n",
              " ('jurisdiction', 1),\n",
              " ('kingdoms.', 1),\n",
              " ('known', 1),\n",
              " ('majority.', 1),\n",
              " ('of', 11),\n",
              " ('part', 1),\n",
              " ('partition', 1),\n",
              " ('periods,', 1),\n",
              " ('pre-Islamic', 1),\n",
              " ('precedent', 1),\n",
              " ('premier', 1),\n",
              " ('present-day', 1),\n",
              " ('proposed', 1),\n",
              " ('reached', 1),\n",
              " ('referendum', 1),\n",
              " ('region', 2),\n",
              " ('regional', 1),\n",
              " ('set', 1),\n",
              " ('sovereign', 2),\n",
              " ('state', 1),\n",
              " ('sultanate', 1),\n",
              " ('supported', 1),\n",
              " ('territorial', 1),\n",
              " ('the', 14),\n",
              " ('trade,', 1),\n",
              " ('transformed', 1),\n",
              " ('under', 1),\n",
              " ('was', 4),\n",
              " ('wealthy', 1),\n",
              " ('which', 2)]"
            ]
          },
          "metadata": {},
          "execution_count": 124
        }
      ]
    },
    {
      "cell_type": "code",
      "source": [
        "rdd6=rdd5.filter(lambda x : 'is' in x[0])"
      ],
      "metadata": {
        "id": "wbwr5XVeCgOu"
      },
      "execution_count": null,
      "outputs": []
    },
    {
      "cell_type": "code",
      "source": [
        "rdd6.collect()"
      ],
      "metadata": {
        "colab": {
          "base_uri": "https://localhost:8080/"
        },
        "id": "Op7unZzzDMTg",
        "outputId": "41eaa906-46cb-4a54-d787-9e3f42698058"
      },
      "execution_count": null,
      "outputs": [
        {
          "output_type": "execute_result",
          "data": {
            "text/plain": [
              "[('British', 1),\n",
              " ('Minister', 1),\n",
              " ('administrative', 1),\n",
              " ('established', 1),\n",
              " ('ethnolinguistic', 1),\n",
              " ('historic', 1),\n",
              " ('jurisdiction', 1)]"
            ]
          },
          "metadata": {},
          "execution_count": 126
        }
      ]
    },
    {
      "cell_type": "code",
      "source": [],
      "metadata": {
        "id": "qhdFWyNaDQ4n"
      },
      "execution_count": null,
      "outputs": []
    }
  ]
}