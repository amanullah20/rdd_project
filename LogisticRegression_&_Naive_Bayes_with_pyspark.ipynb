{
  "nbformat": 4,
  "nbformat_minor": 0,
  "metadata": {
    "colab": {
      "provenance": [],
      "authorship_tag": "ABX9TyML2g3OZ2SmCVVxPkE/1MBH",
      "include_colab_link": true
    },
    "kernelspec": {
      "name": "python3",
      "display_name": "Python 3"
    },
    "language_info": {
      "name": "python"
    }
  },
  "cells": [
    {
      "cell_type": "markdown",
      "metadata": {
        "id": "view-in-github",
        "colab_type": "text"
      },
      "source": [
        "<a href=\"https://colab.research.google.com/github/amanullah20/rdd_project/blob/main/LogisticRegression_%26_Naive_Bayes_with_pyspark.ipynb\" target=\"_parent\"><img src=\"https://colab.research.google.com/assets/colab-badge.svg\" alt=\"Open In Colab\"/></a>"
      ]
    },
    {
      "cell_type": "code",
      "execution_count": 1,
      "metadata": {
        "colab": {
          "base_uri": "https://localhost:8080/"
        },
        "id": "ShxIa9PXLxLA",
        "outputId": "3bbbed36-299b-40b3-8cfb-52d60f4512ea"
      },
      "outputs": [
        {
          "output_type": "stream",
          "name": "stdout",
          "text": [
            "Collecting pyspark\n",
            "  Downloading pyspark-3.5.1.tar.gz (317.0 MB)\n",
            "\u001b[2K     \u001b[90m━━━━━━━━━━━━━━━━━━━━━━━━━━━━━━━━━━━━━━━━\u001b[0m \u001b[32m317.0/317.0 MB\u001b[0m \u001b[31m1.4 MB/s\u001b[0m eta \u001b[36m0:00:00\u001b[0m\n",
            "\u001b[?25h  Preparing metadata (setup.py) ... \u001b[?25l\u001b[?25hdone\n",
            "Requirement already satisfied: py4j==0.10.9.7 in /usr/local/lib/python3.10/dist-packages (from pyspark) (0.10.9.7)\n",
            "Building wheels for collected packages: pyspark\n",
            "  Building wheel for pyspark (setup.py) ... \u001b[?25l\u001b[?25hdone\n",
            "  Created wheel for pyspark: filename=pyspark-3.5.1-py2.py3-none-any.whl size=317488491 sha256=f75aa8595c4ff16a41d5a9f206c7e438ea7dd0efce1ca1628244f3e4a6af0f8f\n",
            "  Stored in directory: /root/.cache/pip/wheels/80/1d/60/2c256ed38dddce2fdd93be545214a63e02fbd8d74fb0b7f3a6\n",
            "Successfully built pyspark\n",
            "Installing collected packages: pyspark\n",
            "Successfully installed pyspark-3.5.1\n"
          ]
        }
      ],
      "source": [
        "!pip install pyspark"
      ]
    },
    {
      "cell_type": "markdown",
      "source": [
        "# **Importing Library**"
      ],
      "metadata": {
        "id": "p3SrkKJNMTZH"
      }
    },
    {
      "cell_type": "code",
      "source": [
        "from pyspark.ml.feature import VectorAssembler\n",
        "from pyspark.ml.feature import StandardScaler\n",
        "from pyspark.sql import SparkSession\n",
        "\n",
        "from pyspark.ml.classification import LogisticRegression\n",
        "from pyspark.ml.classification import NaiveBayes\n",
        "from pyspark.ml.classification import GBTClassifier\n",
        "from pyspark.ml.classification import RandomForestClassifier\n",
        "\n",
        "from pyspark.mllib.evaluation import BinaryClassificationMetrics\n",
        "from pyspark.ml.evaluation import MulticlassClassificationEvaluator"
      ],
      "metadata": {
        "id": "BwVvmToCMRxu"
      },
      "execution_count": 2,
      "outputs": []
    },
    {
      "cell_type": "code",
      "source": [
        "spark = SparkSession.builder.getOrCreate()"
      ],
      "metadata": {
        "id": "ycsImy4kNu4J"
      },
      "execution_count": 3,
      "outputs": []
    },
    {
      "cell_type": "code",
      "source": [
        "dataset=spark.read.csv('/content/diabetes.csv',header=True,inferSchema=True)"
      ],
      "metadata": {
        "id": "HBrb7kZeONwK"
      },
      "execution_count": 4,
      "outputs": []
    },
    {
      "cell_type": "code",
      "source": [
        "dataset.show(3)"
      ],
      "metadata": {
        "colab": {
          "base_uri": "https://localhost:8080/"
        },
        "id": "WppcWVVAJE7h",
        "outputId": "7e2e2392-1816-4b70-c52d-b38e4cd296fe"
      },
      "execution_count": 5,
      "outputs": [
        {
          "output_type": "stream",
          "name": "stdout",
          "text": [
            "+-----------+-------+-------------+-------------+-------+----+------------------------+---+-------+\n",
            "|Pregnancies|Glucose|BloodPressure|SkinThickness|Insulin| BMI|DiabetesPedigreeFunction|Age|Outcome|\n",
            "+-----------+-------+-------------+-------------+-------+----+------------------------+---+-------+\n",
            "|          6|    148|           72|           35|      0|33.6|                   0.627| 50|      1|\n",
            "|          1|     85|           66|           29|      0|26.6|                   0.351| 31|      0|\n",
            "|          8|    183|           64|            0|      0|23.3|                   0.672| 32|      1|\n",
            "+-----------+-------+-------------+-------------+-------+----+------------------------+---+-------+\n",
            "only showing top 3 rows\n",
            "\n"
          ]
        }
      ]
    },
    {
      "cell_type": "code",
      "source": [
        "dataset.printSchema()"
      ],
      "metadata": {
        "colab": {
          "base_uri": "https://localhost:8080/"
        },
        "id": "dq7L3ngrJJR_",
        "outputId": "1540cbd5-3b06-446b-e5ed-9bbe8fcdf8c8"
      },
      "execution_count": 6,
      "outputs": [
        {
          "output_type": "stream",
          "name": "stdout",
          "text": [
            "root\n",
            " |-- Pregnancies: integer (nullable = true)\n",
            " |-- Glucose: integer (nullable = true)\n",
            " |-- BloodPressure: integer (nullable = true)\n",
            " |-- SkinThickness: integer (nullable = true)\n",
            " |-- Insulin: integer (nullable = true)\n",
            " |-- BMI: double (nullable = true)\n",
            " |-- DiabetesPedigreeFunction: double (nullable = true)\n",
            " |-- Age: integer (nullable = true)\n",
            " |-- Outcome: integer (nullable = true)\n",
            "\n"
          ]
        }
      ]
    },
    {
      "cell_type": "code",
      "source": [
        "from pyspark.sql.functions import col\n",
        "new_data=dataset.select(*(col(c).cast('float').alias(c) for c in dataset.columns))"
      ],
      "metadata": {
        "id": "ei6LIwNkJOp-"
      },
      "execution_count": 7,
      "outputs": []
    },
    {
      "cell_type": "code",
      "source": [
        "new_data.printSchema()"
      ],
      "metadata": {
        "colab": {
          "base_uri": "https://localhost:8080/"
        },
        "id": "2CkNZZtLJwJO",
        "outputId": "1e88de32-dc81-45b7-e53a-66724fff3d71"
      },
      "execution_count": 9,
      "outputs": [
        {
          "output_type": "stream",
          "name": "stdout",
          "text": [
            "root\n",
            " |-- Pregnancies: float (nullable = true)\n",
            " |-- Glucose: float (nullable = true)\n",
            " |-- BloodPressure: float (nullable = true)\n",
            " |-- SkinThickness: float (nullable = true)\n",
            " |-- Insulin: float (nullable = true)\n",
            " |-- BMI: float (nullable = true)\n",
            " |-- DiabetesPedigreeFunction: float (nullable = true)\n",
            " |-- Age: float (nullable = true)\n",
            " |-- Outcome: float (nullable = true)\n",
            "\n"
          ]
        }
      ]
    },
    {
      "cell_type": "code",
      "source": [
        "from pyspark.sql.functions import count,isnan,when"
      ],
      "metadata": {
        "id": "NQMwNONOJ0gm"
      },
      "execution_count": 10,
      "outputs": []
    },
    {
      "cell_type": "code",
      "source": [
        "new_data.select([count(when(col(c).isNull(),c)).alias(c) for c in new_data.columns]).show()"
      ],
      "metadata": {
        "colab": {
          "base_uri": "https://localhost:8080/"
        },
        "id": "tHo9ew2VKakN",
        "outputId": "d5841909-3dba-417e-cae5-dee6dc8f51fe"
      },
      "execution_count": 11,
      "outputs": [
        {
          "output_type": "stream",
          "name": "stdout",
          "text": [
            "+-----------+-------+-------------+-------------+-------+---+------------------------+---+-------+\n",
            "|Pregnancies|Glucose|BloodPressure|SkinThickness|Insulin|BMI|DiabetesPedigreeFunction|Age|Outcome|\n",
            "+-----------+-------+-------------+-------------+-------+---+------------------------+---+-------+\n",
            "|          0|      0|            0|            0|      0|  0|                       0|  0|      0|\n",
            "+-----------+-------+-------------+-------------+-------+---+------------------------+---+-------+\n",
            "\n"
          ]
        }
      ]
    },
    {
      "cell_type": "code",
      "source": [
        "cols=new_data.columns\n",
        "cols.remove('Outcome')\n",
        "assembler = VectorAssembler(inputCols=cols,outputCol='features')\n",
        "data= assembler.transform(new_data)"
      ],
      "metadata": {
        "id": "wKY8cktQK3_N"
      },
      "execution_count": 13,
      "outputs": []
    },
    {
      "cell_type": "code",
      "source": [
        "data.select('Features','Outcome').show(truncate=False)"
      ],
      "metadata": {
        "colab": {
          "base_uri": "https://localhost:8080/"
        },
        "id": "D76aGMD0Li49",
        "outputId": "9eea0b7d-7b28-4002-c20e-0e13a48d932d"
      },
      "execution_count": 14,
      "outputs": [
        {
          "output_type": "stream",
          "name": "stdout",
          "text": [
            "+-----------------------------------------------------------------------+-------+\n",
            "|Features                                                               |Outcome|\n",
            "+-----------------------------------------------------------------------+-------+\n",
            "|[6.0,148.0,72.0,35.0,0.0,33.599998474121094,0.6269999742507935,50.0]   |1.0    |\n",
            "|[1.0,85.0,66.0,29.0,0.0,26.600000381469727,0.35100001096725464,31.0]   |0.0    |\n",
            "|[8.0,183.0,64.0,0.0,0.0,23.299999237060547,0.671999990940094,32.0]     |1.0    |\n",
            "|[1.0,89.0,66.0,23.0,94.0,28.100000381469727,0.16699999570846558,21.0]  |0.0    |\n",
            "|[0.0,137.0,40.0,35.0,168.0,43.099998474121094,2.2880001068115234,33.0] |1.0    |\n",
            "|[5.0,116.0,74.0,0.0,0.0,25.600000381469727,0.20100000500679016,30.0]   |0.0    |\n",
            "|[3.0,78.0,50.0,32.0,88.0,31.0,0.24799999594688416,26.0]                |1.0    |\n",
            "|[10.0,115.0,0.0,0.0,0.0,35.29999923706055,0.1340000033378601,29.0]     |0.0    |\n",
            "|[2.0,197.0,70.0,45.0,543.0,30.5,0.15800000727176666,53.0]              |1.0    |\n",
            "|[8.0,125.0,96.0,0.0,0.0,0.0,0.23199999332427979,54.0]                  |1.0    |\n",
            "|[4.0,110.0,92.0,0.0,0.0,37.599998474121094,0.19099999964237213,30.0]   |0.0    |\n",
            "|[10.0,168.0,74.0,0.0,0.0,38.0,0.5370000004768372,34.0]                 |1.0    |\n",
            "|[10.0,139.0,80.0,0.0,0.0,27.100000381469727,1.440999984741211,57.0]    |0.0    |\n",
            "|[1.0,189.0,60.0,23.0,846.0,30.100000381469727,0.39800000190734863,59.0]|1.0    |\n",
            "|[5.0,166.0,72.0,19.0,175.0,25.799999237060547,0.5870000123977661,51.0] |1.0    |\n",
            "|[7.0,100.0,0.0,0.0,0.0,30.0,0.48399999737739563,32.0]                  |1.0    |\n",
            "|[0.0,118.0,84.0,47.0,230.0,45.79999923706055,0.5509999990463257,31.0]  |1.0    |\n",
            "|[7.0,107.0,74.0,0.0,0.0,29.600000381469727,0.2540000081062317,31.0]    |1.0    |\n",
            "|[1.0,103.0,30.0,38.0,83.0,43.29999923706055,0.18299999833106995,33.0]  |0.0    |\n",
            "|[1.0,115.0,70.0,30.0,96.0,34.599998474121094,0.5289999842643738,32.0]  |1.0    |\n",
            "+-----------------------------------------------------------------------+-------+\n",
            "only showing top 20 rows\n",
            "\n"
          ]
        }
      ]
    },
    {
      "cell_type": "code",
      "source": [
        "standardscaler= StandardScaler().setInputCol('features').setOutputCol('Scaled_features')\n",
        "data = standardscaler.fit(data).transform(data)"
      ],
      "metadata": {
        "id": "R0_llEKLMBFN"
      },
      "execution_count": 15,
      "outputs": []
    },
    {
      "cell_type": "code",
      "source": [
        "data.select('features','Outcome','Scaled_features').show()"
      ],
      "metadata": {
        "colab": {
          "base_uri": "https://localhost:8080/"
        },
        "id": "abLA6UECRt6a",
        "outputId": "4980aafc-6bc5-400d-a137-0bde1de2af38"
      },
      "execution_count": 16,
      "outputs": [
        {
          "output_type": "stream",
          "name": "stdout",
          "text": [
            "+--------------------+-------+--------------------+\n",
            "|            features|Outcome|     Scaled_features|\n",
            "+--------------------+-------+--------------------+\n",
            "|[6.0,148.0,72.0,3...|    1.0|[1.78063837321943...|\n",
            "|[1.0,85.0,66.0,29...|    0.0|[0.29677306220323...|\n",
            "|[8.0,183.0,64.0,0...|    1.0|[2.37418449762590...|\n",
            "|[1.0,89.0,66.0,23...|    0.0|[0.29677306220323...|\n",
            "|[0.0,137.0,40.0,3...|    1.0|[0.0,4.2849165233...|\n",
            "|[5.0,116.0,74.0,0...|    0.0|[1.48386531101619...|\n",
            "|[3.0,78.0,50.0,32...|    1.0|[0.89031918660971...|\n",
            "|[10.0,115.0,0.0,0...|    0.0|[2.96773062203238...|\n",
            "|[2.0,197.0,70.0,4...|    1.0|[0.59354612440647...|\n",
            "|[8.0,125.0,96.0,0...|    1.0|[2.37418449762590...|\n",
            "|[4.0,110.0,92.0,0...|    0.0|[1.18709224881295...|\n",
            "|[10.0,168.0,74.0,...|    1.0|[2.96773062203238...|\n",
            "|[10.0,139.0,80.0,...|    0.0|[2.96773062203238...|\n",
            "|[1.0,189.0,60.0,2...|    1.0|[0.29677306220323...|\n",
            "|[5.0,166.0,72.0,1...|    1.0|[1.48386531101619...|\n",
            "|[7.0,100.0,0.0,0....|    1.0|[2.07741143542266...|\n",
            "|[0.0,118.0,84.0,4...|    1.0|[0.0,3.6906580274...|\n",
            "|[7.0,107.0,74.0,0...|    1.0|[2.07741143542266...|\n",
            "|[1.0,103.0,30.0,3...|    0.0|[0.29677306220323...|\n",
            "|[1.0,115.0,70.0,3...|    1.0|[0.29677306220323...|\n",
            "+--------------------+-------+--------------------+\n",
            "only showing top 20 rows\n",
            "\n"
          ]
        }
      ]
    },
    {
      "cell_type": "code",
      "source": [
        "assembled_data=data.select('Scaled_features','Outcome')\n",
        "assembled_data.show()"
      ],
      "metadata": {
        "colab": {
          "base_uri": "https://localhost:8080/"
        },
        "id": "5aEDdf3tSPAK",
        "outputId": "199af7ee-0f41-4ffd-bee6-0607d65b8fa4"
      },
      "execution_count": 17,
      "outputs": [
        {
          "output_type": "stream",
          "name": "stdout",
          "text": [
            "+--------------------+-------+\n",
            "|     Scaled_features|Outcome|\n",
            "+--------------------+-------+\n",
            "|[1.78063837321943...|    1.0|\n",
            "|[0.29677306220323...|    0.0|\n",
            "|[2.37418449762590...|    1.0|\n",
            "|[0.29677306220323...|    0.0|\n",
            "|[0.0,4.2849165233...|    1.0|\n",
            "|[1.48386531101619...|    0.0|\n",
            "|[0.89031918660971...|    1.0|\n",
            "|[2.96773062203238...|    0.0|\n",
            "|[0.59354612440647...|    1.0|\n",
            "|[2.37418449762590...|    1.0|\n",
            "|[1.18709224881295...|    0.0|\n",
            "|[2.96773062203238...|    1.0|\n",
            "|[2.96773062203238...|    0.0|\n",
            "|[0.29677306220323...|    1.0|\n",
            "|[1.48386531101619...|    1.0|\n",
            "|[2.07741143542266...|    1.0|\n",
            "|[0.0,3.6906580274...|    1.0|\n",
            "|[2.07741143542266...|    1.0|\n",
            "|[0.29677306220323...|    0.0|\n",
            "|[0.29677306220323...|    1.0|\n",
            "+--------------------+-------+\n",
            "only showing top 20 rows\n",
            "\n"
          ]
        }
      ]
    },
    {
      "cell_type": "markdown",
      "source": [
        "# **Spliting Data**"
      ],
      "metadata": {
        "id": "xLX5eS_8TafS"
      }
    },
    {
      "cell_type": "code",
      "source": [
        "train,test= assembled_data.randomSplit([0.7,0.3])\n",
        "train.show()"
      ],
      "metadata": {
        "colab": {
          "base_uri": "https://localhost:8080/"
        },
        "id": "rkw6TG4uSweq",
        "outputId": "b3edf77e-bd52-49cc-b7e2-9f578323d044"
      },
      "execution_count": 18,
      "outputs": [
        {
          "output_type": "stream",
          "name": "stdout",
          "text": [
            "+--------------------+-------+\n",
            "|     Scaled_features|Outcome|\n",
            "+--------------------+-------+\n",
            "|(8,[0,1,6,7],[0.5...|    0.0|\n",
            "|(8,[0,1,6,7],[0.5...|    0.0|\n",
            "|(8,[0,1,6,7],[2.0...|    0.0|\n",
            "|(8,[0,1,6,7],[2.9...|    1.0|\n",
            "|(8,[1,5,6,7],[2.2...|    0.0|\n",
            "|(8,[1,5,6,7],[3.0...|    0.0|\n",
            "|(8,[1,5,6,7],[3.6...|    0.0|\n",
            "|(8,[1,5,6,7],[4.0...|    1.0|\n",
            "|(8,[1,5,6,7],[4.3...|    1.0|\n",
            "|(8,[1,5,6,7],[4.4...|    1.0|\n",
            "|(8,[1,5,6,7],[4.5...|    1.0|\n",
            "|(8,[1,5,6,7],[5.2...|    1.0|\n",
            "|(8,[1,6,7],[2.940...|    0.0|\n",
            "|[0.0,2.0955431172...|    0.0|\n",
            "|[0.0,2.3144804578...|    0.0|\n",
            "|[0.0,2.4395875096...|    0.0|\n",
            "|[0.0,2.6272480873...|    0.0|\n",
            "|[0.0,2.6272480873...|    0.0|\n",
            "|[0.0,2.8461854279...|    0.0|\n",
            "|[0.0,2.8461854279...|    0.0|\n",
            "+--------------------+-------+\n",
            "only showing top 20 rows\n",
            "\n"
          ]
        }
      ]
    },
    {
      "cell_type": "code",
      "source": [
        "test.show()"
      ],
      "metadata": {
        "colab": {
          "base_uri": "https://localhost:8080/"
        },
        "id": "BFK60LT1Twv5",
        "outputId": "48707ac6-c692-41c5-e4cd-b87486590eb8"
      },
      "execution_count": 19,
      "outputs": [
        {
          "output_type": "stream",
          "name": "stdout",
          "text": [
            "+--------------------+-------+\n",
            "|     Scaled_features|Outcome|\n",
            "+--------------------+-------+\n",
            "|(8,[0,1,6,7],[0.8...|    0.0|\n",
            "|(8,[0,1,6,7],[1.7...|    0.0|\n",
            "|(8,[1,5,6,7],[3.7...|    1.0|\n",
            "|[0.0,1.7827754878...|    0.0|\n",
            "|[0.0,2.6898016132...|    0.0|\n",
            "|[0.0,2.9087389538...|    0.0|\n",
            "|[0.0,2.9712924797...|    0.0|\n",
            "|[0.0,2.9712924797...|    1.0|\n",
            "|[0.0,3.1276762944...|    0.0|\n",
            "|[0.0,3.1589530573...|    0.0|\n",
            "|[0.0,3.1589530573...|    0.0|\n",
            "|[0.0,3.1902298203...|    0.0|\n",
            "|[0.0,3.1902298203...|    0.0|\n",
            "|[0.0,3.2527833462...|    0.0|\n",
            "|[0.0,3.2527833462...|    0.0|\n",
            "|[0.0,3.2840601091...|    0.0|\n",
            "|[0.0,3.3778903979...|    0.0|\n",
            "|[0.0,3.4091671609...|    1.0|\n",
            "|[0.0,3.6906580274...|    0.0|\n",
            "|[0.0,3.7532115533...|    0.0|\n",
            "+--------------------+-------+\n",
            "only showing top 20 rows\n",
            "\n"
          ]
        }
      ]
    },
    {
      "cell_type": "markdown",
      "source": [
        "# **Logistic_Regression**"
      ],
      "metadata": {
        "id": "7SZfnbX9T-Mi"
      }
    },
    {
      "cell_type": "code",
      "source": [
        "log_reg = LogisticRegression(labelCol='Outcome',featuresCol='Scaled_features',maxIter=40)\n",
        "model=log_reg.fit(train)"
      ],
      "metadata": {
        "id": "VSmsv_oWT0OB"
      },
      "execution_count": 20,
      "outputs": []
    },
    {
      "cell_type": "code",
      "source": [
        "prediction_test=model.transform(test)\n",
        "prediction_test.show()"
      ],
      "metadata": {
        "colab": {
          "base_uri": "https://localhost:8080/"
        },
        "id": "X_zu5I7FUvs4",
        "outputId": "772bd39a-cfde-45c4-cb39-f92f98e75792"
      },
      "execution_count": 21,
      "outputs": [
        {
          "output_type": "stream",
          "name": "stdout",
          "text": [
            "+--------------------+-------+--------------------+--------------------+----------+\n",
            "|     Scaled_features|Outcome|       rawPrediction|         probability|prediction|\n",
            "+--------------------+-------+--------------------+--------------------+----------+\n",
            "|(8,[0,1,6,7],[0.8...|    0.0|[4.29473267497911...|[0.98654333426712...|       0.0|\n",
            "|(8,[0,1,6,7],[1.7...|    0.0|[2.62970139663863...|[0.93274882090397...|       0.0|\n",
            "|(8,[1,5,6,7],[3.7...|    1.0|[0.63812138444729...|[0.65432867362353...|       0.0|\n",
            "|[0.0,1.7827754878...|    0.0|[3.80462110008862...|[0.97821741385713...|       0.0|\n",
            "|[0.0,2.6898016132...|    0.0|[2.45554443943526...|[0.92096596068620...|       0.0|\n",
            "|[0.0,2.9087389538...|    0.0|[2.70885433449826...|[0.93754710061824...|       0.0|\n",
            "|[0.0,2.9712924797...|    0.0|[1.38651333654705...|[0.80003503376674...|       0.0|\n",
            "|[0.0,2.9712924797...|    1.0|[2.40631104614291...|[0.91730728807534...|       0.0|\n",
            "|[0.0,3.1276762944...|    0.0|[0.89633108805342...|[0.71019495695427...|       0.0|\n",
            "|[0.0,3.1589530573...|    0.0|[2.94931161875326...|[0.95023094353636...|       0.0|\n",
            "|[0.0,3.1589530573...|    0.0|[2.24366702425490...|[0.90410286397630...|       0.0|\n",
            "|[0.0,3.1902298203...|    0.0|[2.33636002138379...|[0.91184392531444...|       0.0|\n",
            "|[0.0,3.1902298203...|    0.0|[2.70928251750869...|[0.93757216712224...|       0.0|\n",
            "|[0.0,3.2527833462...|    0.0|[2.57948503011089...|[0.92952954378911...|       0.0|\n",
            "|[0.0,3.2527833462...|    0.0|[3.41200818958374...|[0.96807772045972...|       0.0|\n",
            "|[0.0,3.2840601091...|    0.0|[1.50377768005502...|[0.81813722797129...|       0.0|\n",
            "|[0.0,3.3778903979...|    0.0|[2.08583355757666...|[0.88951863155254...|       0.0|\n",
            "|[0.0,3.4091671609...|    1.0|[1.80215639691398...|[0.85841122919892...|       0.0|\n",
            "|[0.0,3.6906580274...|    0.0|[3.72840178700392...|[0.97653273467443...|       0.0|\n",
            "|[0.0,3.7532115533...|    0.0|[2.01222984318867...|[0.88207516496874...|       0.0|\n",
            "+--------------------+-------+--------------------+--------------------+----------+\n",
            "only showing top 20 rows\n",
            "\n"
          ]
        }
      ]
    },
    {
      "cell_type": "code",
      "source": [
        "prediction_test.select('Outcome','prediction').show(10)"
      ],
      "metadata": {
        "colab": {
          "base_uri": "https://localhost:8080/"
        },
        "id": "YOp2ImkUVWzQ",
        "outputId": "6175c56e-388e-45a3-8bb2-27baa10b117b"
      },
      "execution_count": 22,
      "outputs": [
        {
          "output_type": "stream",
          "name": "stdout",
          "text": [
            "+-------+----------+\n",
            "|Outcome|prediction|\n",
            "+-------+----------+\n",
            "|    0.0|       0.0|\n",
            "|    0.0|       0.0|\n",
            "|    1.0|       0.0|\n",
            "|    0.0|       0.0|\n",
            "|    0.0|       0.0|\n",
            "|    0.0|       0.0|\n",
            "|    0.0|       0.0|\n",
            "|    1.0|       0.0|\n",
            "|    0.0|       0.0|\n",
            "|    0.0|       0.0|\n",
            "+-------+----------+\n",
            "only showing top 10 rows\n",
            "\n"
          ]
        }
      ]
    },
    {
      "cell_type": "code",
      "source": [
        "# compute raw scores on the test set\n",
        "predictionAndLabels = prediction_test.select('Outcome','prediction').rdd"
      ],
      "metadata": {
        "id": "LghzBfAuV1go"
      },
      "execution_count": 23,
      "outputs": []
    },
    {
      "cell_type": "code",
      "source": [
        "predictionAndLabels.collect()"
      ],
      "metadata": {
        "colab": {
          "base_uri": "https://localhost:8080/"
        },
        "id": "H36JbGj6WdX4",
        "outputId": "bb3e46d8-a9b2-468e-c709-56d66c6eacf6"
      },
      "execution_count": 24,
      "outputs": [
        {
          "output_type": "execute_result",
          "data": {
            "text/plain": [
              "[Row(Outcome=0.0, prediction=0.0),\n",
              " Row(Outcome=0.0, prediction=0.0),\n",
              " Row(Outcome=1.0, prediction=0.0),\n",
              " Row(Outcome=0.0, prediction=0.0),\n",
              " Row(Outcome=0.0, prediction=0.0),\n",
              " Row(Outcome=0.0, prediction=0.0),\n",
              " Row(Outcome=0.0, prediction=0.0),\n",
              " Row(Outcome=1.0, prediction=0.0),\n",
              " Row(Outcome=0.0, prediction=0.0),\n",
              " Row(Outcome=0.0, prediction=0.0),\n",
              " Row(Outcome=0.0, prediction=0.0),\n",
              " Row(Outcome=0.0, prediction=0.0),\n",
              " Row(Outcome=0.0, prediction=0.0),\n",
              " Row(Outcome=0.0, prediction=0.0),\n",
              " Row(Outcome=0.0, prediction=0.0),\n",
              " Row(Outcome=0.0, prediction=0.0),\n",
              " Row(Outcome=0.0, prediction=0.0),\n",
              " Row(Outcome=1.0, prediction=0.0),\n",
              " Row(Outcome=0.0, prediction=0.0),\n",
              " Row(Outcome=0.0, prediction=0.0),\n",
              " Row(Outcome=1.0, prediction=0.0),\n",
              " Row(Outcome=0.0, prediction=0.0),\n",
              " Row(Outcome=1.0, prediction=0.0),\n",
              " Row(Outcome=0.0, prediction=0.0),\n",
              " Row(Outcome=1.0, prediction=0.0),\n",
              " Row(Outcome=0.0, prediction=0.0),\n",
              " Row(Outcome=0.0, prediction=0.0),\n",
              " Row(Outcome=0.0, prediction=0.0),\n",
              " Row(Outcome=1.0, prediction=1.0),\n",
              " Row(Outcome=1.0, prediction=1.0),\n",
              " Row(Outcome=0.0, prediction=0.0),\n",
              " Row(Outcome=0.0, prediction=0.0),\n",
              " Row(Outcome=0.0, prediction=0.0),\n",
              " Row(Outcome=0.0, prediction=0.0),\n",
              " Row(Outcome=0.0, prediction=0.0),\n",
              " Row(Outcome=0.0, prediction=0.0),\n",
              " Row(Outcome=0.0, prediction=0.0),\n",
              " Row(Outcome=0.0, prediction=0.0),\n",
              " Row(Outcome=0.0, prediction=0.0),\n",
              " Row(Outcome=0.0, prediction=0.0),\n",
              " Row(Outcome=1.0, prediction=1.0),\n",
              " Row(Outcome=0.0, prediction=0.0),\n",
              " Row(Outcome=0.0, prediction=0.0),\n",
              " Row(Outcome=0.0, prediction=0.0),\n",
              " Row(Outcome=0.0, prediction=0.0),\n",
              " Row(Outcome=0.0, prediction=0.0),\n",
              " Row(Outcome=0.0, prediction=0.0),\n",
              " Row(Outcome=0.0, prediction=0.0),\n",
              " Row(Outcome=0.0, prediction=0.0),\n",
              " Row(Outcome=0.0, prediction=0.0),\n",
              " Row(Outcome=0.0, prediction=0.0),\n",
              " Row(Outcome=0.0, prediction=0.0),\n",
              " Row(Outcome=0.0, prediction=0.0),\n",
              " Row(Outcome=0.0, prediction=0.0),\n",
              " Row(Outcome=0.0, prediction=0.0),\n",
              " Row(Outcome=0.0, prediction=0.0),\n",
              " Row(Outcome=0.0, prediction=0.0),\n",
              " Row(Outcome=0.0, prediction=0.0),\n",
              " Row(Outcome=1.0, prediction=0.0),\n",
              " Row(Outcome=1.0, prediction=0.0),\n",
              " Row(Outcome=1.0, prediction=0.0),\n",
              " Row(Outcome=0.0, prediction=0.0),\n",
              " Row(Outcome=0.0, prediction=0.0),\n",
              " Row(Outcome=1.0, prediction=0.0),\n",
              " Row(Outcome=1.0, prediction=0.0),\n",
              " Row(Outcome=1.0, prediction=0.0),\n",
              " Row(Outcome=1.0, prediction=0.0),\n",
              " Row(Outcome=1.0, prediction=0.0),\n",
              " Row(Outcome=0.0, prediction=0.0),\n",
              " Row(Outcome=0.0, prediction=0.0),\n",
              " Row(Outcome=0.0, prediction=0.0),\n",
              " Row(Outcome=0.0, prediction=0.0),\n",
              " Row(Outcome=1.0, prediction=1.0),\n",
              " Row(Outcome=1.0, prediction=1.0),\n",
              " Row(Outcome=1.0, prediction=1.0),\n",
              " Row(Outcome=0.0, prediction=0.0),\n",
              " Row(Outcome=0.0, prediction=0.0),\n",
              " Row(Outcome=0.0, prediction=0.0),\n",
              " Row(Outcome=0.0, prediction=0.0),\n",
              " Row(Outcome=0.0, prediction=0.0),\n",
              " Row(Outcome=0.0, prediction=0.0),\n",
              " Row(Outcome=0.0, prediction=0.0),\n",
              " Row(Outcome=0.0, prediction=0.0),\n",
              " Row(Outcome=1.0, prediction=0.0),\n",
              " Row(Outcome=0.0, prediction=0.0),\n",
              " Row(Outcome=0.0, prediction=0.0),\n",
              " Row(Outcome=0.0, prediction=0.0),\n",
              " Row(Outcome=0.0, prediction=0.0),\n",
              " Row(Outcome=0.0, prediction=0.0),\n",
              " Row(Outcome=1.0, prediction=0.0),\n",
              " Row(Outcome=0.0, prediction=0.0),\n",
              " Row(Outcome=0.0, prediction=0.0),\n",
              " Row(Outcome=1.0, prediction=0.0),\n",
              " Row(Outcome=0.0, prediction=0.0),\n",
              " Row(Outcome=1.0, prediction=0.0),\n",
              " Row(Outcome=0.0, prediction=0.0),\n",
              " Row(Outcome=0.0, prediction=0.0),\n",
              " Row(Outcome=0.0, prediction=0.0),\n",
              " Row(Outcome=1.0, prediction=0.0),\n",
              " Row(Outcome=0.0, prediction=0.0),\n",
              " Row(Outcome=0.0, prediction=0.0),\n",
              " Row(Outcome=0.0, prediction=0.0),\n",
              " Row(Outcome=0.0, prediction=0.0),\n",
              " Row(Outcome=0.0, prediction=0.0),\n",
              " Row(Outcome=0.0, prediction=0.0),\n",
              " Row(Outcome=0.0, prediction=0.0),\n",
              " Row(Outcome=1.0, prediction=0.0),\n",
              " Row(Outcome=0.0, prediction=0.0),\n",
              " Row(Outcome=1.0, prediction=1.0),\n",
              " Row(Outcome=0.0, prediction=0.0),\n",
              " Row(Outcome=0.0, prediction=0.0),\n",
              " Row(Outcome=0.0, prediction=0.0),\n",
              " Row(Outcome=0.0, prediction=0.0),\n",
              " Row(Outcome=0.0, prediction=0.0),\n",
              " Row(Outcome=0.0, prediction=0.0),\n",
              " Row(Outcome=0.0, prediction=0.0),\n",
              " Row(Outcome=0.0, prediction=0.0),\n",
              " Row(Outcome=0.0, prediction=0.0),\n",
              " Row(Outcome=0.0, prediction=0.0),\n",
              " Row(Outcome=1.0, prediction=0.0),\n",
              " Row(Outcome=0.0, prediction=0.0),\n",
              " Row(Outcome=0.0, prediction=0.0),\n",
              " Row(Outcome=1.0, prediction=0.0),\n",
              " Row(Outcome=0.0, prediction=0.0),\n",
              " Row(Outcome=1.0, prediction=0.0),\n",
              " Row(Outcome=0.0, prediction=0.0),\n",
              " Row(Outcome=1.0, prediction=0.0),\n",
              " Row(Outcome=1.0, prediction=0.0),\n",
              " Row(Outcome=0.0, prediction=0.0),\n",
              " Row(Outcome=1.0, prediction=1.0),\n",
              " Row(Outcome=1.0, prediction=1.0),\n",
              " Row(Outcome=1.0, prediction=0.0),\n",
              " Row(Outcome=1.0, prediction=1.0),\n",
              " Row(Outcome=1.0, prediction=1.0),\n",
              " Row(Outcome=1.0, prediction=1.0),\n",
              " Row(Outcome=0.0, prediction=0.0),\n",
              " Row(Outcome=0.0, prediction=0.0),\n",
              " Row(Outcome=0.0, prediction=0.0),\n",
              " Row(Outcome=0.0, prediction=0.0),\n",
              " Row(Outcome=0.0, prediction=0.0),\n",
              " Row(Outcome=0.0, prediction=0.0),\n",
              " Row(Outcome=1.0, prediction=0.0),\n",
              " Row(Outcome=1.0, prediction=0.0),\n",
              " Row(Outcome=1.0, prediction=0.0),\n",
              " Row(Outcome=0.0, prediction=0.0),\n",
              " Row(Outcome=0.0, prediction=0.0),\n",
              " Row(Outcome=1.0, prediction=0.0),\n",
              " Row(Outcome=0.0, prediction=0.0),\n",
              " Row(Outcome=0.0, prediction=0.0),\n",
              " Row(Outcome=1.0, prediction=0.0),\n",
              " Row(Outcome=0.0, prediction=0.0),\n",
              " Row(Outcome=1.0, prediction=0.0),\n",
              " Row(Outcome=0.0, prediction=0.0),\n",
              " Row(Outcome=0.0, prediction=0.0),\n",
              " Row(Outcome=0.0, prediction=0.0),\n",
              " Row(Outcome=1.0, prediction=1.0),\n",
              " Row(Outcome=0.0, prediction=0.0),\n",
              " Row(Outcome=0.0, prediction=0.0),\n",
              " Row(Outcome=0.0, prediction=0.0),\n",
              " Row(Outcome=0.0, prediction=0.0),\n",
              " Row(Outcome=0.0, prediction=0.0),\n",
              " Row(Outcome=0.0, prediction=0.0),\n",
              " Row(Outcome=1.0, prediction=0.0),\n",
              " Row(Outcome=0.0, prediction=0.0),\n",
              " Row(Outcome=0.0, prediction=0.0),\n",
              " Row(Outcome=1.0, prediction=0.0),\n",
              " Row(Outcome=0.0, prediction=0.0),\n",
              " Row(Outcome=1.0, prediction=0.0),\n",
              " Row(Outcome=0.0, prediction=0.0),\n",
              " Row(Outcome=0.0, prediction=0.0),\n",
              " Row(Outcome=1.0, prediction=0.0),\n",
              " Row(Outcome=0.0, prediction=0.0),\n",
              " Row(Outcome=0.0, prediction=0.0),\n",
              " Row(Outcome=0.0, prediction=0.0),\n",
              " Row(Outcome=1.0, prediction=0.0),\n",
              " Row(Outcome=0.0, prediction=1.0),\n",
              " Row(Outcome=1.0, prediction=1.0),\n",
              " Row(Outcome=1.0, prediction=1.0),\n",
              " Row(Outcome=1.0, prediction=1.0),\n",
              " Row(Outcome=0.0, prediction=0.0),\n",
              " Row(Outcome=0.0, prediction=0.0),\n",
              " Row(Outcome=0.0, prediction=0.0),\n",
              " Row(Outcome=0.0, prediction=0.0),\n",
              " Row(Outcome=0.0, prediction=0.0),\n",
              " Row(Outcome=0.0, prediction=0.0),\n",
              " Row(Outcome=0.0, prediction=0.0),\n",
              " Row(Outcome=0.0, prediction=0.0),\n",
              " Row(Outcome=1.0, prediction=0.0),\n",
              " Row(Outcome=1.0, prediction=0.0),\n",
              " Row(Outcome=1.0, prediction=1.0),\n",
              " Row(Outcome=1.0, prediction=0.0),\n",
              " Row(Outcome=0.0, prediction=0.0),\n",
              " Row(Outcome=1.0, prediction=0.0),\n",
              " Row(Outcome=1.0, prediction=1.0),\n",
              " Row(Outcome=1.0, prediction=0.0),\n",
              " Row(Outcome=0.0, prediction=0.0),\n",
              " Row(Outcome=0.0, prediction=0.0),\n",
              " Row(Outcome=1.0, prediction=0.0),\n",
              " Row(Outcome=1.0, prediction=1.0),\n",
              " Row(Outcome=1.0, prediction=1.0),\n",
              " Row(Outcome=1.0, prediction=1.0),\n",
              " Row(Outcome=1.0, prediction=1.0),\n",
              " Row(Outcome=0.0, prediction=0.0),\n",
              " Row(Outcome=0.0, prediction=0.0),\n",
              " Row(Outcome=1.0, prediction=0.0),\n",
              " Row(Outcome=0.0, prediction=0.0),\n",
              " Row(Outcome=1.0, prediction=0.0),\n",
              " Row(Outcome=0.0, prediction=0.0),\n",
              " Row(Outcome=1.0, prediction=0.0),\n",
              " Row(Outcome=1.0, prediction=1.0),\n",
              " Row(Outcome=1.0, prediction=1.0),\n",
              " Row(Outcome=1.0, prediction=1.0),\n",
              " Row(Outcome=1.0, prediction=1.0),\n",
              " Row(Outcome=1.0, prediction=1.0),\n",
              " Row(Outcome=1.0, prediction=1.0),\n",
              " Row(Outcome=1.0, prediction=1.0),\n",
              " Row(Outcome=0.0, prediction=0.0),\n",
              " Row(Outcome=0.0, prediction=0.0),\n",
              " Row(Outcome=0.0, prediction=0.0),\n",
              " Row(Outcome=0.0, prediction=0.0),\n",
              " Row(Outcome=1.0, prediction=1.0),\n",
              " Row(Outcome=0.0, prediction=1.0),\n",
              " Row(Outcome=1.0, prediction=1.0),\n",
              " Row(Outcome=0.0, prediction=0.0),\n",
              " Row(Outcome=0.0, prediction=0.0),\n",
              " Row(Outcome=0.0, prediction=1.0),\n",
              " Row(Outcome=0.0, prediction=1.0),\n",
              " Row(Outcome=0.0, prediction=1.0),\n",
              " Row(Outcome=0.0, prediction=1.0),\n",
              " Row(Outcome=0.0, prediction=1.0),\n",
              " Row(Outcome=1.0, prediction=1.0),\n",
              " Row(Outcome=0.0, prediction=1.0),\n",
              " Row(Outcome=1.0, prediction=1.0),\n",
              " Row(Outcome=0.0, prediction=0.0),\n",
              " Row(Outcome=1.0, prediction=1.0),\n",
              " Row(Outcome=1.0, prediction=1.0)]"
            ]
          },
          "metadata": {},
          "execution_count": 24
        }
      ]
    },
    {
      "cell_type": "code",
      "source": [
        "matrics = BinaryClassificationMetrics(predictionAndLabels)\n",
        "\n",
        "# Area under Roc curve\n",
        "print('Area under Roc curve = %s' % matrics.areaUnderROC)"
      ],
      "metadata": {
        "colab": {
          "base_uri": "https://localhost:8080/"
        },
        "id": "UnFwyoujWh_o",
        "outputId": "ce743045-294d-405e-c25d-89dcdf6be1ad"
      },
      "execution_count": 25,
      "outputs": [
        {
          "output_type": "stream",
          "name": "stderr",
          "text": [
            "/usr/local/lib/python3.10/dist-packages/pyspark/sql/context.py:158: FutureWarning: Deprecated in 3.0.0. Use SparkSession.builder.getOrCreate() instead.\n",
            "  warnings.warn(\n"
          ]
        },
        {
          "output_type": "stream",
          "name": "stdout",
          "text": [
            "Area under Roc curve = 0.787805759730088\n"
          ]
        }
      ]
    },
    {
      "cell_type": "markdown",
      "source": [
        "# **Evaluator**"
      ],
      "metadata": {
        "id": "_WTIUbplXcOH"
      }
    },
    {
      "cell_type": "code",
      "source": [
        "evaluator= MulticlassClassificationEvaluator(labelCol='Outcome',predictionCol='prediction',metricName='accuracy')\n",
        "accuracy_LR= evaluator.evaluate(prediction_test)\n",
        "print('Accuracy =',accuracy_LR)"
      ],
      "metadata": {
        "colab": {
          "base_uri": "https://localhost:8080/"
        },
        "id": "UJ43zVKaXNJP",
        "outputId": "98ed71cb-df9e-451b-ed8e-29ed51f83ee4"
      },
      "execution_count": 26,
      "outputs": [
        {
          "output_type": "stream",
          "name": "stdout",
          "text": [
            "Accuracy = 0.7711864406779662\n"
          ]
        }
      ]
    },
    {
      "cell_type": "markdown",
      "source": [
        "# **NaiveBayes**"
      ],
      "metadata": {
        "id": "GFClL5Z0Ybjw"
      }
    },
    {
      "cell_type": "code",
      "source": [
        "naive_bayes= NaiveBayes(featuresCol='Scaled_features',labelCol='Outcome',smoothing=1.0)\n",
        "model=naive_bayes.fit(train)"
      ],
      "metadata": {
        "id": "YdJnJf7KYXUX"
      },
      "execution_count": 27,
      "outputs": []
    },
    {
      "cell_type": "code",
      "source": [
        "prediction_test= model.transform(test)"
      ],
      "metadata": {
        "id": "iBKGAetTZE4H"
      },
      "execution_count": 28,
      "outputs": []
    },
    {
      "cell_type": "code",
      "source": [
        "prediction_test.show()"
      ],
      "metadata": {
        "colab": {
          "base_uri": "https://localhost:8080/"
        },
        "id": "JSWvqGebbLHW",
        "outputId": "b4b0b7b4-da72-4ee0-8636-a8d3de324a60"
      },
      "execution_count": 29,
      "outputs": [
        {
          "output_type": "stream",
          "name": "stdout",
          "text": [
            "+--------------------+-------+--------------------+--------------------+----------+\n",
            "|     Scaled_features|Outcome|       rawPrediction|         probability|prediction|\n",
            "+--------------------+-------+--------------------+--------------------+----------+\n",
            "|(8,[0,1,6,7],[0.8...|    0.0|[-11.969371287470...|[0.54697207373221...|       0.0|\n",
            "|(8,[0,1,6,7],[1.7...|    0.0|[-17.022592205038...|[0.47321438370467...|       1.0|\n",
            "|(8,[1,5,6,7],[3.7...|    1.0|[-17.672367365023...|[0.61123421723522...|       0.0|\n",
            "|[0.0,1.7827754878...|    0.0|[-29.090406410516...|[0.70749707867962...|       0.0|\n",
            "|[0.0,2.6898016132...|    0.0|[-28.614676527489...|[0.76025247153495...|       0.0|\n",
            "|[0.0,2.9087389538...|    0.0|[-30.277803425196...|[0.71052939230021...|       0.0|\n",
            "|[0.0,2.9712924797...|    0.0|[-35.194226205083...|[0.73982577474052...|       0.0|\n",
            "|[0.0,2.9712924797...|    1.0|[-30.576126729529...|[0.77278254562493...|       0.0|\n",
            "|[0.0,3.1276762944...|    0.0|[-47.691353501785...|[0.76466811952541...|       0.0|\n",
            "|[0.0,3.1589530573...|    0.0|[-25.802441131126...|[0.74133864368190...|       0.0|\n",
            "|[0.0,3.1589530573...|    0.0|[-24.492852958137...|[0.74902664248594...|       0.0|\n",
            "|[0.0,3.1902298203...|    0.0|[-33.810430915429...|[0.75954250215655...|       0.0|\n",
            "|[0.0,3.1902298203...|    0.0|[-34.139407216917...|[0.73502934804786...|       0.0|\n",
            "|[0.0,3.2527833462...|    0.0|[-30.903090196660...|[0.70977268162501...|       0.0|\n",
            "|[0.0,3.2527833462...|    0.0|[-24.502352000234...|[0.72221418683361...|       0.0|\n",
            "|[0.0,3.2840601091...|    0.0|[-34.994495756761...|[0.73670034058652...|       0.0|\n",
            "|[0.0,3.3778903979...|    0.0|[-31.534413656222...|[0.71823457178703...|       0.0|\n",
            "|[0.0,3.4091671609...|    1.0|[-37.433252939678...|[0.75536761402098...|       0.0|\n",
            "|[0.0,3.6906580274...|    0.0|[-35.219072606632...|[0.63422323073705...|       0.0|\n",
            "|[0.0,3.7532115533...|    0.0|[-29.829780492791...|[0.73348654388733...|       0.0|\n",
            "+--------------------+-------+--------------------+--------------------+----------+\n",
            "only showing top 20 rows\n",
            "\n"
          ]
        }
      ]
    },
    {
      "cell_type": "code",
      "source": [
        "prediction_test.select('Outcome','prediction').show(10)"
      ],
      "metadata": {
        "colab": {
          "base_uri": "https://localhost:8080/"
        },
        "id": "HnOGzgN9bOGW",
        "outputId": "5f42fa7d-9334-4c01-c1a3-170907ca8c2e"
      },
      "execution_count": 30,
      "outputs": [
        {
          "output_type": "stream",
          "name": "stdout",
          "text": [
            "+-------+----------+\n",
            "|Outcome|prediction|\n",
            "+-------+----------+\n",
            "|    0.0|       0.0|\n",
            "|    0.0|       1.0|\n",
            "|    1.0|       0.0|\n",
            "|    0.0|       0.0|\n",
            "|    0.0|       0.0|\n",
            "|    0.0|       0.0|\n",
            "|    0.0|       0.0|\n",
            "|    1.0|       0.0|\n",
            "|    0.0|       0.0|\n",
            "|    0.0|       0.0|\n",
            "+-------+----------+\n",
            "only showing top 10 rows\n",
            "\n"
          ]
        }
      ]
    },
    {
      "cell_type": "code",
      "source": [
        "predictionAndLabels=prediction_test.select('Outcome','prediction').rdd"
      ],
      "metadata": {
        "id": "JmopyvBWbfzu"
      },
      "execution_count": 31,
      "outputs": []
    },
    {
      "cell_type": "code",
      "source": [
        "# select (predicton ture label ) and compute test error\n",
        "evaluator= MulticlassClassificationEvaluator(labelCol='Outcome',predictionCol='prediction',metricName='accuracy')\n",
        "accuracy_NB= evaluator.evaluate(prediction_test)"
      ],
      "metadata": {
        "id": "nlITYOL9b1hO"
      },
      "execution_count": 32,
      "outputs": []
    },
    {
      "cell_type": "code",
      "source": [
        "print('Accuracy ' , accuracy_NB)"
      ],
      "metadata": {
        "colab": {
          "base_uri": "https://localhost:8080/"
        },
        "id": "E6kmYOfYciv9",
        "outputId": "a114e246-7e15-4e64-dfbc-7d04dac3ab64"
      },
      "execution_count": 33,
      "outputs": [
        {
          "output_type": "stream",
          "name": "stdout",
          "text": [
            "Accuracy  0.6694915254237288\n"
          ]
        }
      ]
    },
    {
      "cell_type": "code",
      "source": [
        "metrics=BinaryClassificationMetrics(predictionAndLabels)\n",
        "\n",
        "# Area under ROC curve\n",
        "print('Area under Roc = %s ' % metrics.areaUnderROC)"
      ],
      "metadata": {
        "colab": {
          "base_uri": "https://localhost:8080/"
        },
        "id": "xuTcwRm2cuhs",
        "outputId": "547cb52b-c326-4a7c-cc10-fd97047046cf"
      },
      "execution_count": 34,
      "outputs": [
        {
          "output_type": "stream",
          "name": "stderr",
          "text": [
            "/usr/local/lib/python3.10/dist-packages/pyspark/sql/context.py:158: FutureWarning: Deprecated in 3.0.0. Use SparkSession.builder.getOrCreate() instead.\n",
            "  warnings.warn(\n"
          ]
        },
        {
          "output_type": "stream",
          "name": "stdout",
          "text": [
            "Area under Roc = 0.6912039925140362 \n"
          ]
        }
      ]
    },
    {
      "cell_type": "markdown",
      "source": [
        "# **GBTClassifier**"
      ],
      "metadata": {
        "id": "J3R9oe1odjHv"
      }
    },
    {
      "cell_type": "code",
      "source": [
        "gradient_boost_class=GBTClassifier(labelCol='Outcome', featuresCol='Scaled_features')"
      ],
      "metadata": {
        "id": "XVZQV9kNdZEE"
      },
      "execution_count": 35,
      "outputs": []
    },
    {
      "cell_type": "code",
      "source": [
        "model= gradient_boost_class.fit(train)"
      ],
      "metadata": {
        "id": "3EM5v759d_Ib"
      },
      "execution_count": 36,
      "outputs": []
    },
    {
      "cell_type": "code",
      "source": [
        "prediction_test=model.transform(test)"
      ],
      "metadata": {
        "id": "wM5U8DdveFHG"
      },
      "execution_count": 37,
      "outputs": []
    },
    {
      "cell_type": "code",
      "source": [
        "prediction_test.show()"
      ],
      "metadata": {
        "colab": {
          "base_uri": "https://localhost:8080/"
        },
        "id": "u3RREdIeeQf1",
        "outputId": "531191fb-8d44-40be-dbcb-1555349307f5"
      },
      "execution_count": 38,
      "outputs": [
        {
          "output_type": "stream",
          "name": "stdout",
          "text": [
            "+--------------------+-------+--------------------+--------------------+----------+\n",
            "|     Scaled_features|Outcome|       rawPrediction|         probability|prediction|\n",
            "+--------------------+-------+--------------------+--------------------+----------+\n",
            "|(8,[0,1,6,7],[0.8...|    0.0|[1.54519759032564...|[0.95649481246098...|       0.0|\n",
            "|(8,[0,1,6,7],[1.7...|    0.0|[1.19246517261938...|[0.91567092515505...|       0.0|\n",
            "|(8,[1,5,6,7],[3.7...|    1.0|[0.12892722693245...|[0.56410879608881...|       0.0|\n",
            "|[0.0,1.7827754878...|    0.0|[0.50466254102808...|[0.73288804593979...|       0.0|\n",
            "|[0.0,2.6898016132...|    0.0|[1.24351710427666...|[0.92322785642315...|       0.0|\n",
            "|[0.0,2.9087389538...|    0.0|[1.50809489910745...|[0.95330019202791...|       0.0|\n",
            "|[0.0,2.9712924797...|    0.0|[0.97309521893644...|[0.87503065336729...|       0.0|\n",
            "|[0.0,2.9712924797...|    1.0|[1.57591286531759...|[0.95898060042830...|       0.0|\n",
            "|[0.0,3.1276762944...|    0.0|[1.07825071721789...|[0.89627475039751...|       0.0|\n",
            "|[0.0,3.1589530573...|    0.0|[1.50395341431626...|[0.95293005541065...|       0.0|\n",
            "|[0.0,3.1589530573...|    0.0|[1.11476290965625...|[0.90286978323657...|       0.0|\n",
            "|[0.0,3.1902298203...|    0.0|[0.90363034290351...|[0.85903047735156...|       0.0|\n",
            "|[0.0,3.1902298203...|    0.0|[1.09332741228622...|[0.89904469219822...|       0.0|\n",
            "|[0.0,3.2527833462...|    0.0|[1.06224899544238...|[0.89326155126694...|       0.0|\n",
            "|[0.0,3.2527833462...|    0.0|[1.20753407593033...|[0.91796913219059...|       0.0|\n",
            "|[0.0,3.2840601091...|    0.0|[0.63109329044959...|[0.77940228584385...|       0.0|\n",
            "|[0.0,3.3778903979...|    0.0|[0.24078859311666...|[0.61812023510289...|       0.0|\n",
            "|[0.0,3.4091671609...|    1.0|[0.37601016059692...|[0.67961875759914...|       0.0|\n",
            "|[0.0,3.6906580274...|    0.0|[1.44352451409633...|[0.94720249829039...|       0.0|\n",
            "|[0.0,3.7532115533...|    0.0|[1.08857184781779...|[0.89817814811019...|       0.0|\n",
            "+--------------------+-------+--------------------+--------------------+----------+\n",
            "only showing top 20 rows\n",
            "\n"
          ]
        }
      ]
    },
    {
      "cell_type": "code",
      "source": [
        "prediction_test.select('Outcome','prediction').show(10)"
      ],
      "metadata": {
        "colab": {
          "base_uri": "https://localhost:8080/"
        },
        "id": "gPe9gc79eUPD",
        "outputId": "5af5d504-06e9-4973-c462-8da866c8e5e5"
      },
      "execution_count": 39,
      "outputs": [
        {
          "output_type": "stream",
          "name": "stdout",
          "text": [
            "+-------+----------+\n",
            "|Outcome|prediction|\n",
            "+-------+----------+\n",
            "|    0.0|       0.0|\n",
            "|    0.0|       0.0|\n",
            "|    1.0|       0.0|\n",
            "|    0.0|       0.0|\n",
            "|    0.0|       0.0|\n",
            "|    0.0|       0.0|\n",
            "|    0.0|       0.0|\n",
            "|    1.0|       0.0|\n",
            "|    0.0|       0.0|\n",
            "|    0.0|       0.0|\n",
            "+-------+----------+\n",
            "only showing top 10 rows\n",
            "\n"
          ]
        }
      ]
    },
    {
      "cell_type": "code",
      "source": [
        "predictionAndLabels = prediction_test.select('Outcome','prediction').rdd"
      ],
      "metadata": {
        "id": "XnvVWlRvembk"
      },
      "execution_count": 40,
      "outputs": []
    },
    {
      "cell_type": "code",
      "source": [
        "metrics = BinaryClassificationMetrics(predictionAndLabels)\n",
        "\n",
        "# Area under ROC curve\n",
        "print('Area under ROC curve = %s' % metrics.areaUnderROC)"
      ],
      "metadata": {
        "colab": {
          "base_uri": "https://localhost:8080/"
        },
        "id": "q9bMzmgafN5L",
        "outputId": "ea3e3e87-6481-4d4b-c4ee-dd0e54936383"
      },
      "execution_count": 41,
      "outputs": [
        {
          "output_type": "stream",
          "name": "stderr",
          "text": [
            "/usr/local/lib/python3.10/dist-packages/pyspark/sql/context.py:158: FutureWarning: Deprecated in 3.0.0. Use SparkSession.builder.getOrCreate() instead.\n",
            "  warnings.warn(\n"
          ]
        },
        {
          "output_type": "stream",
          "name": "stdout",
          "text": [
            "Area under ROC curve = 0.6878092667566352\n"
          ]
        }
      ]
    },
    {
      "cell_type": "code",
      "source": [
        "evaluator = MulticlassClassificationEvaluator(labelCol='Outcome',predictionCol='prediction',metricName='accuracy')\n",
        "accuracy_GBT= evaluator.evaluate(prediction_test)"
      ],
      "metadata": {
        "id": "BHdmfaXGfvDL"
      },
      "execution_count": 42,
      "outputs": []
    },
    {
      "cell_type": "code",
      "source": [
        "print('Accuracy',accuracy_GBT)"
      ],
      "metadata": {
        "colab": {
          "base_uri": "https://localhost:8080/"
        },
        "id": "GhfKLfaHgZXL",
        "outputId": "14843d36-b39e-45a4-814e-9e2f17bb25be"
      },
      "execution_count": 43,
      "outputs": [
        {
          "output_type": "stream",
          "name": "stdout",
          "text": [
            "Accuracy 0.7203389830508474\n"
          ]
        }
      ]
    },
    {
      "cell_type": "markdown",
      "source": [
        "# **RandomForestClassifier**"
      ],
      "metadata": {
        "id": "mQ1vmhWKgl1j"
      }
    },
    {
      "cell_type": "code",
      "source": [
        "random_forest_classifier= RandomForestClassifier(labelCol='Outcome',featuresCol='Scaled_features',numTrees=40)\n",
        "model=random_forest_classifier.fit(train)\n",
        "prediction_test=model.transform(test)"
      ],
      "metadata": {
        "id": "vpG_6HsHggwj"
      },
      "execution_count": 44,
      "outputs": []
    },
    {
      "cell_type": "code",
      "source": [
        "prediction_test.show(5)"
      ],
      "metadata": {
        "colab": {
          "base_uri": "https://localhost:8080/"
        },
        "id": "F72m8-yvhQ2T",
        "outputId": "4d930ca8-0c51-480b-c803-b4d07389a658"
      },
      "execution_count": 45,
      "outputs": [
        {
          "output_type": "stream",
          "name": "stdout",
          "text": [
            "+--------------------+-------+--------------------+--------------------+----------+\n",
            "|     Scaled_features|Outcome|       rawPrediction|         probability|prediction|\n",
            "+--------------------+-------+--------------------+--------------------+----------+\n",
            "|(8,[0,1,6,7],[0.8...|    0.0|[38.0964586862648...|[0.95241146715662...|       0.0|\n",
            "|(8,[0,1,6,7],[1.7...|    0.0|[36.0145700879283...|[0.90036425219820...|       0.0|\n",
            "|(8,[1,5,6,7],[3.7...|    1.0|[33.6569632033812...|[0.84142408008453...|       0.0|\n",
            "|[0.0,1.7827754878...|    0.0|[31.6283502406600...|[0.79070875601650...|       0.0|\n",
            "|[0.0,2.6898016132...|    0.0|[36.3476900082084...|[0.90869225020521...|       0.0|\n",
            "+--------------------+-------+--------------------+--------------------+----------+\n",
            "only showing top 5 rows\n",
            "\n"
          ]
        }
      ]
    },
    {
      "cell_type": "code",
      "source": [
        "prediction_test.select('Outcome','prediction').show(5)"
      ],
      "metadata": {
        "colab": {
          "base_uri": "https://localhost:8080/"
        },
        "id": "04TCl3JuhazT",
        "outputId": "ed75ad3b-ac21-4bca-b154-99fa4bbc71d1"
      },
      "execution_count": 46,
      "outputs": [
        {
          "output_type": "stream",
          "name": "stdout",
          "text": [
            "+-------+----------+\n",
            "|Outcome|prediction|\n",
            "+-------+----------+\n",
            "|    0.0|       0.0|\n",
            "|    0.0|       0.0|\n",
            "|    1.0|       0.0|\n",
            "|    0.0|       0.0|\n",
            "|    0.0|       0.0|\n",
            "+-------+----------+\n",
            "only showing top 5 rows\n",
            "\n"
          ]
        }
      ]
    },
    {
      "cell_type": "code",
      "source": [
        "predictionAndLabels = prediction_test.select('Outcome','prediction').rdd"
      ],
      "metadata": {
        "id": "TdnK0d2phqFS"
      },
      "execution_count": 47,
      "outputs": []
    },
    {
      "cell_type": "code",
      "source": [
        "metrics = BinaryClassificationMetrics(predictionAndLabels)\n",
        "\n",
        "# Area under ROC curve\n",
        "print('Area under ROC = %s' % metrics.areaUnderROC)"
      ],
      "metadata": {
        "colab": {
          "base_uri": "https://localhost:8080/"
        },
        "id": "9Uvs84eHia_i",
        "outputId": "e4ed6ad0-53cc-4646-96cb-03833615645c"
      },
      "execution_count": 48,
      "outputs": [
        {
          "output_type": "stream",
          "name": "stderr",
          "text": [
            "/usr/local/lib/python3.10/dist-packages/pyspark/sql/context.py:158: FutureWarning: Deprecated in 3.0.0. Use SparkSession.builder.getOrCreate() instead.\n",
            "  warnings.warn(\n"
          ]
        },
        {
          "output_type": "stream",
          "name": "stdout",
          "text": [
            "Area under ROC = 0.7410887253002711\n"
          ]
        }
      ]
    },
    {
      "cell_type": "code",
      "source": [
        "evaluator = MulticlassClassificationEvaluator(labelCol='Outcome',predictionCol='prediction',metricName='accuracy')\n",
        "accuracy_RF=evaluator.evaluate(prediction_test)\n",
        "print('Accuracy ', accuracy_RF)"
      ],
      "metadata": {
        "colab": {
          "base_uri": "https://localhost:8080/"
        },
        "id": "qkIZIUOKi1aC",
        "outputId": "17d1af07-d92e-41c1-c0ae-ea984b8752f0"
      },
      "execution_count": 49,
      "outputs": [
        {
          "output_type": "stream",
          "name": "stdout",
          "text": [
            "Accuracy  0.7584745762711864\n"
          ]
        }
      ]
    },
    {
      "cell_type": "markdown",
      "source": [
        "# **Overall OutComes**"
      ],
      "metadata": {
        "id": "yQrK1ED4jjsU"
      }
    },
    {
      "cell_type": "code",
      "source": [
        "print('Accuracy of GBT : ' , accuracy_GBT)\n",
        "print('Accuracy of LR : ', accuracy_LR)\n",
        "print('Accuracy of NB : ', accuracy_RF)\n",
        "print('Accuracy of RF : ', accuracy_RF)"
      ],
      "metadata": {
        "colab": {
          "base_uri": "https://localhost:8080/"
        },
        "id": "tBgVhltujeWh",
        "outputId": "47f91406-a622-4f0d-a81e-3b1c01d49ee4"
      },
      "execution_count": 50,
      "outputs": [
        {
          "output_type": "stream",
          "name": "stdout",
          "text": [
            "Accuracy of GBT :  0.7203389830508474\n",
            "Accuracy of LR :  0.7711864406779662\n",
            "Accuracy of NB :  0.7584745762711864\n",
            "Accuracy of RF :  0.7584745762711864\n"
          ]
        }
      ]
    },
    {
      "cell_type": "code",
      "source": [],
      "metadata": {
        "id": "nEvJpGh3kmdx"
      },
      "execution_count": null,
      "outputs": []
    }
  ]
}