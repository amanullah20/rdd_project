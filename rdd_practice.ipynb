{
  "nbformat": 4,
  "nbformat_minor": 0,
  "metadata": {
    "colab": {
      "provenance": [],
      "authorship_tag": "ABX9TyM7JImNLYzL9JAgneHgZPsF",
      "include_colab_link": true
    },
    "kernelspec": {
      "name": "python3",
      "display_name": "Python 3"
    },
    "language_info": {
      "name": "python"
    }
  },
  "cells": [
    {
      "cell_type": "markdown",
      "metadata": {
        "id": "view-in-github",
        "colab_type": "text"
      },
      "source": [
        "<a href=\"https://colab.research.google.com/github/amanullah20/Aman-Ullah/blob/main/rdd_practice.ipynb\" target=\"_parent\"><img src=\"https://colab.research.google.com/assets/colab-badge.svg\" alt=\"Open In Colab\"/></a>"
      ]
    },
    {
      "cell_type": "code",
      "execution_count": null,
      "metadata": {
        "colab": {
          "base_uri": "https://localhost:8080/"
        },
        "id": "QoG9skhigsye",
        "outputId": "606cd0c0-320e-4f65-99ff-2a44309c44f2"
      },
      "outputs": [
        {
          "output_type": "stream",
          "name": "stdout",
          "text": [
            "\r0% [Working]\r            \rGet:1 https://cloud.r-project.org/bin/linux/ubuntu jammy-cran40/ InRelease [3,626 B]\n",
            "Hit:2 http://archive.ubuntu.com/ubuntu jammy InRelease\n",
            "Hit:3 https://developer.download.nvidia.com/compute/cuda/repos/ubuntu2204/x86_64  InRelease\n",
            "Get:4 http://archive.ubuntu.com/ubuntu jammy-updates InRelease [119 kB]\n",
            "Get:5 http://security.ubuntu.com/ubuntu jammy-security InRelease [110 kB]\n",
            "Get:6 http://archive.ubuntu.com/ubuntu jammy-backports InRelease [109 kB]\n",
            "Get:7 https://ppa.launchpadcontent.net/c2d4u.team/c2d4u4.0+/ubuntu jammy InRelease [18.1 kB]\n",
            "Get:8 http://archive.ubuntu.com/ubuntu jammy-updates/universe amd64 Packages [1,274 kB]\n",
            "Get:9 http://security.ubuntu.com/ubuntu jammy-security/main amd64 Packages [1,192 kB]\n",
            "Get:10 http://archive.ubuntu.com/ubuntu jammy-updates/main amd64 Packages [1,461 kB]\n",
            "Hit:11 https://ppa.launchpadcontent.net/deadsnakes/ppa/ubuntu jammy InRelease\n",
            "Hit:12 https://ppa.launchpadcontent.net/graphics-drivers/ppa/ubuntu jammy InRelease\n",
            "Hit:13 https://ppa.launchpadcontent.net/ubuntugis/ppa/ubuntu jammy InRelease\n",
            "Get:14 https://ppa.launchpadcontent.net/c2d4u.team/c2d4u4.0+/ubuntu jammy/main Sources [2,240 kB]\n",
            "Get:15 https://ppa.launchpadcontent.net/c2d4u.team/c2d4u4.0+/ubuntu jammy/main amd64 Packages [1,150 kB]\n",
            "Fetched 7,677 kB in 5s (1,476 kB/s)\n",
            "Reading package lists... Done\n"
          ]
        }
      ],
      "source": [
        "!apt-get update\n",
        "!apt-get install openjdk-8-jdk-headless -qq > /dev/null\n",
        "!wget -q http://archive.apache.org/dist/spark/spark-3.1.1/spark-3.1.1-bin-hadoop3.2.tgz\n",
        "!tar xf spark-3.1.1-bin-hadoop3.2.tgz\n",
        "!pip install -q findspark"
      ]
    },
    {
      "cell_type": "code",
      "source": [
        "!pip install -q findspark"
      ],
      "metadata": {
        "id": "8vy0RH9lrMwC"
      },
      "execution_count": null,
      "outputs": []
    },
    {
      "cell_type": "code",
      "execution_count": null,
      "metadata": {
        "id": "8Q_TSUa0JAQq"
      },
      "outputs": [],
      "source": [
        "\n",
        " import os\n",
        " os.environ[\"JAVA_HOME\"]=\"/usr/lib/jvm/java-8-openjdk-amd64\"\n",
        "os.environ[\"SPARK_HOME\"]=\"/content/spark-3.1.1-bin-hadoop3.2\""
      ]
    },
    {
      "cell_type": "code",
      "source": [
        "import findspark\n",
        "findspark.init()\n",
        "from pyspark.sql import SparkSession\n",
        "spark = SparkSession.builder.master(\"local\").appName(\"Labl\").getOrCreate()\n"
      ],
      "metadata": {
        "id": "WpRNX2qgrb6S"
      },
      "execution_count": null,
      "outputs": []
    },
    {
      "cell_type": "code",
      "source": [
        "spark"
      ],
      "metadata": {
        "colab": {
          "base_uri": "https://localhost:8080/",
          "height": 219
        },
        "id": "GctW_PBYrouX",
        "outputId": "0122780d-750b-4295-f33b-c19b8de67bbb"
      },
      "execution_count": null,
      "outputs": [
        {
          "output_type": "execute_result",
          "data": {
            "text/plain": [
              "<pyspark.sql.session.SparkSession at 0x7c8bdc2b52a0>"
            ],
            "text/html": [
              "\n",
              "            <div>\n",
              "                <p><b>SparkSession - in-memory</b></p>\n",
              "                \n",
              "        <div>\n",
              "            <p><b>SparkContext</b></p>\n",
              "\n",
              "            <p><a href=\"http://2bd2c5ef4d65:4040\">Spark UI</a></p>\n",
              "\n",
              "            <dl>\n",
              "              <dt>Version</dt>\n",
              "                <dd><code>v3.1.1</code></dd>\n",
              "              <dt>Master</dt>\n",
              "                <dd><code>local</code></dd>\n",
              "              <dt>AppName</dt>\n",
              "                <dd><code>Labl</code></dd>\n",
              "            </dl>\n",
              "        </div>\n",
              "        \n",
              "            </div>\n",
              "        "
            ]
          },
          "metadata": {},
          "execution_count": 7
        }
      ]
    },
    {
      "cell_type": "code",
      "source": [
        "rdd=spark.sparkContext.textFile('/content/rdds.txt')"
      ],
      "metadata": {
        "id": "oSTm090arrB-"
      },
      "execution_count": null,
      "outputs": []
    },
    {
      "cell_type": "code",
      "source": [
        "rdd.collect()"
      ],
      "metadata": {
        "colab": {
          "base_uri": "https://localhost:8080/"
        },
        "id": "UzmonKDesa73",
        "outputId": "fa6558da-ee61-4b24-ba69-f05dc5292b06"
      },
      "execution_count": null,
      "outputs": [
        {
          "output_type": "execute_result",
          "data": {
            "text/plain": [
              "[\"Bangladesh forms the sovereign part of the historic and ethnolinguistic region of Bengal, which was divided during the Partition of India in 1947.[17] The country has a Bengali Muslim majority. Ancient Bengal was known as Gangaridai and was a bastion of pre-Islamic kingdoms. Muslim conquests after 1204 heralded the sultanate and Mughal periods, during which an independent Bengal Sultanate and a wealthy Mughal Bengal transformed the region into an important centre of regional affairs, trade, and diplomacy. After 1757, Bengal's administrative jurisdiction reached its greatest extent under the Bengal Presidency of the British Empire. The creation of Eastern Bengal and Assam in 1905 set a precedent for the emergence of Bangladesh. In 1940, the first Prime Minister of Bengal A. K. Fazlul Huq supported the Lahore Resolution. Before the partition of Bengal, a Bengali sovereign state was first proposed by premier H. S. Suhrawardy. A referendum and the announcement of the Radcliffe Line established the present-day territorial boundary.\"]"
            ]
          },
          "metadata": {},
          "execution_count": 9
        }
      ]
    },
    {
      "cell_type": "code",
      "source": [
        "data=[1,3,5,2,5,6,8,0]\n",
        "data1= spark.sparkContext.parallelize(data,3)"
      ],
      "metadata": {
        "id": "4uiOBKsdsfKQ"
      },
      "execution_count": null,
      "outputs": []
    },
    {
      "cell_type": "code",
      "source": [
        "data1.collect()"
      ],
      "metadata": {
        "colab": {
          "base_uri": "https://localhost:8080/"
        },
        "id": "OKsFLVUku6RJ",
        "outputId": "0a090318-e7a4-433a-d74a-c7675e33045f"
      },
      "execution_count": null,
      "outputs": [
        {
          "output_type": "execute_result",
          "data": {
            "text/plain": [
              "[1, 3, 5, 2, 5, 6, 8, 0]"
            ]
          },
          "metadata": {},
          "execution_count": 14
        }
      ]
    },
    {
      "cell_type": "code",
      "source": [
        "data1.getNumPartitions()"
      ],
      "metadata": {
        "colab": {
          "base_uri": "https://localhost:8080/"
        },
        "id": "x4nIO6T9vcQO",
        "outputId": "41fe52d7-6627-4218-d86c-ffd6e4ec7dfe"
      },
      "execution_count": null,
      "outputs": [
        {
          "output_type": "execute_result",
          "data": {
            "text/plain": [
              "3"
            ]
          },
          "metadata": {},
          "execution_count": 15
        }
      ]
    },
    {
      "cell_type": "code",
      "source": [
        "data1.glom().collect()"
      ],
      "metadata": {
        "colab": {
          "base_uri": "https://localhost:8080/"
        },
        "id": "usdFOS79vtK3",
        "outputId": "a3c658fe-053f-403d-deca-16e4de986360"
      },
      "execution_count": null,
      "outputs": [
        {
          "output_type": "execute_result",
          "data": {
            "text/plain": [
              "[[1, 3], [5, 2], [5, 6, 8, 0]]"
            ]
          },
          "metadata": {},
          "execution_count": 16
        }
      ]
    },
    {
      "cell_type": "code",
      "source": [
        "rdd1=rdd.flatMap(lambda x : x.split(' '))"
      ],
      "metadata": {
        "id": "gzUs_WOKv1zv"
      },
      "execution_count": null,
      "outputs": []
    },
    {
      "cell_type": "code",
      "source": [
        "rdd1.take(10)"
      ],
      "metadata": {
        "colab": {
          "base_uri": "https://localhost:8080/"
        },
        "id": "yCIq4QRcwrxe",
        "outputId": "cc76b066-32fe-4586-b213-5978df266893"
      },
      "execution_count": null,
      "outputs": [
        {
          "output_type": "execute_result",
          "data": {
            "text/plain": [
              "['Bangladesh',\n",
              " 'forms',\n",
              " 'the',\n",
              " 'sovereign',\n",
              " 'part',\n",
              " 'of',\n",
              " 'the',\n",
              " 'historic',\n",
              " 'and',\n",
              " 'ethnolinguistic']"
            ]
          },
          "metadata": {},
          "execution_count": 21
        }
      ]
    },
    {
      "cell_type": "code",
      "source": [
        "rdd2=rdd1.map(lambda x : (x , 1))"
      ],
      "metadata": {
        "id": "4bH3jDnRwvtO"
      },
      "execution_count": null,
      "outputs": []
    },
    {
      "cell_type": "code",
      "source": [
        "rdd2.take(10)"
      ],
      "metadata": {
        "colab": {
          "base_uri": "https://localhost:8080/"
        },
        "id": "RKkgSmY6xTMW",
        "outputId": "dc32cc09-a610-410c-b935-764fe0a2498b"
      },
      "execution_count": null,
      "outputs": [
        {
          "output_type": "execute_result",
          "data": {
            "text/plain": [
              "[('Bangladesh', 1),\n",
              " ('forms', 1),\n",
              " ('the', 1),\n",
              " ('sovereign', 1),\n",
              " ('part', 1),\n",
              " ('of', 1),\n",
              " ('the', 1),\n",
              " ('historic', 1),\n",
              " ('and', 1),\n",
              " ('ethnolinguistic', 1)]"
            ]
          },
          "metadata": {},
          "execution_count": 23
        }
      ]
    },
    {
      "cell_type": "code",
      "source": [
        "rdd3=rdd2.reduceByKey(lambda a,b : a+b)"
      ],
      "metadata": {
        "id": "2TepU4LXxWtH"
      },
      "execution_count": null,
      "outputs": []
    },
    {
      "cell_type": "code",
      "source": [
        "rdd3.collect()"
      ],
      "metadata": {
        "colab": {
          "base_uri": "https://localhost:8080/"
        },
        "id": "iUsZhEyqxno9",
        "outputId": "a5e94664-dbc2-42fc-c440-ac0f4c0f2a84"
      },
      "execution_count": null,
      "outputs": [
        {
          "output_type": "execute_result",
          "data": {
            "text/plain": [
              "[('Bangladesh', 1),\n",
              " ('forms', 1),\n",
              " ('the', 14),\n",
              " ('sovereign', 2),\n",
              " ('part', 1),\n",
              " ('of', 11),\n",
              " ('historic', 1),\n",
              " ('and', 7),\n",
              " ('ethnolinguistic', 1),\n",
              " ('region', 2),\n",
              " ('Bengal,', 2),\n",
              " ('which', 2),\n",
              " ('was', 4),\n",
              " ('divided', 1),\n",
              " ('during', 2),\n",
              " ('Partition', 1),\n",
              " ('India', 1),\n",
              " ('in', 2),\n",
              " ('1947.[17]', 1),\n",
              " ('The', 2),\n",
              " ('country', 1),\n",
              " ('has', 1),\n",
              " ('a', 5),\n",
              " ('Bengali', 2),\n",
              " ('Muslim', 2),\n",
              " ('majority.', 1),\n",
              " ('Ancient', 1),\n",
              " ('Bengal', 6),\n",
              " ('known', 1),\n",
              " ('as', 1),\n",
              " ('Gangaridai', 1),\n",
              " ('bastion', 1),\n",
              " ('pre-Islamic', 1),\n",
              " ('kingdoms.', 1),\n",
              " ('conquests', 1),\n",
              " ('after', 1),\n",
              " ('1204', 1),\n",
              " ('heralded', 1),\n",
              " ('sultanate', 1),\n",
              " ('Mughal', 2),\n",
              " ('periods,', 1),\n",
              " ('an', 2),\n",
              " ('independent', 1),\n",
              " ('Sultanate', 1),\n",
              " ('wealthy', 1),\n",
              " ('transformed', 1),\n",
              " ('into', 1),\n",
              " ('important', 1),\n",
              " ('centre', 1),\n",
              " ('regional', 1),\n",
              " ('affairs,', 1),\n",
              " ('trade,', 1),\n",
              " ('diplomacy.', 1),\n",
              " ('After', 1),\n",
              " ('1757,', 1),\n",
              " (\"Bengal's\", 1),\n",
              " ('administrative', 1),\n",
              " ('jurisdiction', 1),\n",
              " ('reached', 1),\n",
              " ('its', 1),\n",
              " ('greatest', 1),\n",
              " ('extent', 1),\n",
              " ('under', 1),\n",
              " ('Presidency', 1),\n",
              " ('British', 1),\n",
              " ('Empire.', 1),\n",
              " ('creation', 1),\n",
              " ('Eastern', 1),\n",
              " ('Assam', 1),\n",
              " ('1905', 1),\n",
              " ('set', 1),\n",
              " ('precedent', 1),\n",
              " ('for', 1),\n",
              " ('emergence', 1),\n",
              " ('Bangladesh.', 1),\n",
              " ('In', 1),\n",
              " ('1940,', 1),\n",
              " ('first', 2),\n",
              " ('Prime', 1),\n",
              " ('Minister', 1),\n",
              " ('A.', 1),\n",
              " ('K.', 1),\n",
              " ('Fazlul', 1),\n",
              " ('Huq', 1),\n",
              " ('supported', 1),\n",
              " ('Lahore', 1),\n",
              " ('Resolution.', 1),\n",
              " ('Before', 1),\n",
              " ('partition', 1),\n",
              " ('state', 1),\n",
              " ('proposed', 1),\n",
              " ('by', 1),\n",
              " ('premier', 1),\n",
              " ('H.', 1),\n",
              " ('S.', 1),\n",
              " ('Suhrawardy.', 1),\n",
              " ('A', 1),\n",
              " ('referendum', 1),\n",
              " ('announcement', 1),\n",
              " ('Radcliffe', 1),\n",
              " ('Line', 1),\n",
              " ('established', 1),\n",
              " ('present-day', 1),\n",
              " ('territorial', 1),\n",
              " ('boundary.', 1)]"
            ]
          },
          "metadata": {},
          "execution_count": 28
        }
      ]
    },
    {
      "cell_type": "code",
      "source": [
        "rdd4 = rdd3.sortByKey()"
      ],
      "metadata": {
        "id": "N_w10HZWxrht"
      },
      "execution_count": null,
      "outputs": []
    },
    {
      "cell_type": "code",
      "source": [
        "rdd4.collect()"
      ],
      "metadata": {
        "colab": {
          "base_uri": "https://localhost:8080/"
        },
        "id": "WIZ1nR-zyf_V",
        "outputId": "59e4c99f-d470-4b6d-ac5b-305b6762d80f"
      },
      "execution_count": null,
      "outputs": [
        {
          "output_type": "execute_result",
          "data": {
            "text/plain": [
              "[('1204', 1),\n",
              " ('1757,', 1),\n",
              " ('1905', 1),\n",
              " ('1940,', 1),\n",
              " ('1947.[17]', 1),\n",
              " ('A', 1),\n",
              " ('A.', 1),\n",
              " ('After', 1),\n",
              " ('Ancient', 1),\n",
              " ('Assam', 1),\n",
              " ('Bangladesh', 1),\n",
              " ('Bangladesh.', 1),\n",
              " ('Before', 1),\n",
              " ('Bengal', 6),\n",
              " (\"Bengal's\", 1),\n",
              " ('Bengal,', 2),\n",
              " ('Bengali', 2),\n",
              " ('British', 1),\n",
              " ('Eastern', 1),\n",
              " ('Empire.', 1),\n",
              " ('Fazlul', 1),\n",
              " ('Gangaridai', 1),\n",
              " ('H.', 1),\n",
              " ('Huq', 1),\n",
              " ('In', 1),\n",
              " ('India', 1),\n",
              " ('K.', 1),\n",
              " ('Lahore', 1),\n",
              " ('Line', 1),\n",
              " ('Minister', 1),\n",
              " ('Mughal', 2),\n",
              " ('Muslim', 2),\n",
              " ('Partition', 1),\n",
              " ('Presidency', 1),\n",
              " ('Prime', 1),\n",
              " ('Radcliffe', 1),\n",
              " ('Resolution.', 1),\n",
              " ('S.', 1),\n",
              " ('Suhrawardy.', 1),\n",
              " ('Sultanate', 1),\n",
              " ('The', 2),\n",
              " ('a', 5),\n",
              " ('administrative', 1),\n",
              " ('affairs,', 1),\n",
              " ('after', 1),\n",
              " ('an', 2),\n",
              " ('and', 7),\n",
              " ('announcement', 1),\n",
              " ('as', 1),\n",
              " ('bastion', 1),\n",
              " ('boundary.', 1),\n",
              " ('by', 1),\n",
              " ('centre', 1),\n",
              " ('conquests', 1),\n",
              " ('country', 1),\n",
              " ('creation', 1),\n",
              " ('diplomacy.', 1),\n",
              " ('divided', 1),\n",
              " ('during', 2),\n",
              " ('emergence', 1),\n",
              " ('established', 1),\n",
              " ('ethnolinguistic', 1),\n",
              " ('extent', 1),\n",
              " ('first', 2),\n",
              " ('for', 1),\n",
              " ('forms', 1),\n",
              " ('greatest', 1),\n",
              " ('has', 1),\n",
              " ('heralded', 1),\n",
              " ('historic', 1),\n",
              " ('important', 1),\n",
              " ('in', 2),\n",
              " ('independent', 1),\n",
              " ('into', 1),\n",
              " ('its', 1),\n",
              " ('jurisdiction', 1),\n",
              " ('kingdoms.', 1),\n",
              " ('known', 1),\n",
              " ('majority.', 1),\n",
              " ('of', 11),\n",
              " ('part', 1),\n",
              " ('partition', 1),\n",
              " ('periods,', 1),\n",
              " ('pre-Islamic', 1),\n",
              " ('precedent', 1),\n",
              " ('premier', 1),\n",
              " ('present-day', 1),\n",
              " ('proposed', 1),\n",
              " ('reached', 1),\n",
              " ('referendum', 1),\n",
              " ('region', 2),\n",
              " ('regional', 1),\n",
              " ('set', 1),\n",
              " ('sovereign', 2),\n",
              " ('state', 1),\n",
              " ('sultanate', 1),\n",
              " ('supported', 1),\n",
              " ('territorial', 1),\n",
              " ('the', 14),\n",
              " ('trade,', 1),\n",
              " ('transformed', 1),\n",
              " ('under', 1),\n",
              " ('was', 4),\n",
              " ('wealthy', 1),\n",
              " ('which', 2)]"
            ]
          },
          "metadata": {},
          "execution_count": 30
        }
      ]
    },
    {
      "cell_type": "code",
      "source": [
        "rdd5= rdd3.sortBy(lambda x : x[1],ascending = False)"
      ],
      "metadata": {
        "id": "_f7GDyLqymHd"
      },
      "execution_count": null,
      "outputs": []
    },
    {
      "cell_type": "code",
      "source": [
        "rdd5.collect()"
      ],
      "metadata": {
        "colab": {
          "base_uri": "https://localhost:8080/"
        },
        "id": "TNdeWaBzy40J",
        "outputId": "b25c0b54-4088-4392-ed0d-b8f55b2502eb"
      },
      "execution_count": null,
      "outputs": [
        {
          "output_type": "execute_result",
          "data": {
            "text/plain": [
              "[('the', 14),\n",
              " ('of', 11),\n",
              " ('and', 7),\n",
              " ('Bengal', 6),\n",
              " ('a', 5),\n",
              " ('was', 4),\n",
              " ('sovereign', 2),\n",
              " ('region', 2),\n",
              " ('Bengal,', 2),\n",
              " ('which', 2),\n",
              " ('during', 2),\n",
              " ('in', 2),\n",
              " ('The', 2),\n",
              " ('Bengali', 2),\n",
              " ('Muslim', 2),\n",
              " ('Mughal', 2),\n",
              " ('an', 2),\n",
              " ('first', 2),\n",
              " ('Bangladesh', 1),\n",
              " ('forms', 1),\n",
              " ('part', 1),\n",
              " ('historic', 1),\n",
              " ('ethnolinguistic', 1),\n",
              " ('divided', 1),\n",
              " ('Partition', 1),\n",
              " ('India', 1),\n",
              " ('1947.[17]', 1),\n",
              " ('country', 1),\n",
              " ('has', 1),\n",
              " ('majority.', 1),\n",
              " ('Ancient', 1),\n",
              " ('known', 1),\n",
              " ('as', 1),\n",
              " ('Gangaridai', 1),\n",
              " ('bastion', 1),\n",
              " ('pre-Islamic', 1),\n",
              " ('kingdoms.', 1),\n",
              " ('conquests', 1),\n",
              " ('after', 1),\n",
              " ('1204', 1),\n",
              " ('heralded', 1),\n",
              " ('sultanate', 1),\n",
              " ('periods,', 1),\n",
              " ('independent', 1),\n",
              " ('Sultanate', 1),\n",
              " ('wealthy', 1),\n",
              " ('transformed', 1),\n",
              " ('into', 1),\n",
              " ('important', 1),\n",
              " ('centre', 1),\n",
              " ('regional', 1),\n",
              " ('affairs,', 1),\n",
              " ('trade,', 1),\n",
              " ('diplomacy.', 1),\n",
              " ('After', 1),\n",
              " ('1757,', 1),\n",
              " (\"Bengal's\", 1),\n",
              " ('administrative', 1),\n",
              " ('jurisdiction', 1),\n",
              " ('reached', 1),\n",
              " ('its', 1),\n",
              " ('greatest', 1),\n",
              " ('extent', 1),\n",
              " ('under', 1),\n",
              " ('Presidency', 1),\n",
              " ('British', 1),\n",
              " ('Empire.', 1),\n",
              " ('creation', 1),\n",
              " ('Eastern', 1),\n",
              " ('Assam', 1),\n",
              " ('1905', 1),\n",
              " ('set', 1),\n",
              " ('precedent', 1),\n",
              " ('for', 1),\n",
              " ('emergence', 1),\n",
              " ('Bangladesh.', 1),\n",
              " ('In', 1),\n",
              " ('1940,', 1),\n",
              " ('Prime', 1),\n",
              " ('Minister', 1),\n",
              " ('A.', 1),\n",
              " ('K.', 1),\n",
              " ('Fazlul', 1),\n",
              " ('Huq', 1),\n",
              " ('supported', 1),\n",
              " ('Lahore', 1),\n",
              " ('Resolution.', 1),\n",
              " ('Before', 1),\n",
              " ('partition', 1),\n",
              " ('state', 1),\n",
              " ('proposed', 1),\n",
              " ('by', 1),\n",
              " ('premier', 1),\n",
              " ('H.', 1),\n",
              " ('S.', 1),\n",
              " ('Suhrawardy.', 1),\n",
              " ('A', 1),\n",
              " ('referendum', 1),\n",
              " ('announcement', 1),\n",
              " ('Radcliffe', 1),\n",
              " ('Line', 1),\n",
              " ('established', 1),\n",
              " ('present-day', 1),\n",
              " ('territorial', 1),\n",
              " ('boundary.', 1)]"
            ]
          },
          "metadata": {},
          "execution_count": 36
        }
      ]
    },
    {
      "cell_type": "code",
      "source": [
        "rdd3.filter(lambda x : 'is' in x[0]).collect()"
      ],
      "metadata": {
        "colab": {
          "base_uri": "https://localhost:8080/"
        },
        "id": "h4yDqEdBy8BR",
        "outputId": "2ab7e08f-b899-44b1-921d-9722a3cf8312"
      },
      "execution_count": null,
      "outputs": [
        {
          "output_type": "execute_result",
          "data": {
            "text/plain": [
              "[('historic', 1),\n",
              " ('ethnolinguistic', 1),\n",
              " ('administrative', 1),\n",
              " ('jurisdiction', 1),\n",
              " ('British', 1),\n",
              " ('Minister', 1),\n",
              " ('established', 1)]"
            ]
          },
          "metadata": {},
          "execution_count": 39
        }
      ]
    },
    {
      "cell_type": "code",
      "source": [
        "rdd3.filter(lambda x : 'in' in x[0]).collect()"
      ],
      "metadata": {
        "colab": {
          "base_uri": "https://localhost:8080/"
        },
        "id": "5y1tIT4a0JXz",
        "outputId": "ed310ff7-358e-4e0f-fbcd-35e92beb6a66"
      },
      "execution_count": null,
      "outputs": [
        {
          "output_type": "execute_result",
          "data": {
            "text/plain": [
              "[('ethnolinguistic', 1),\n",
              " ('during', 2),\n",
              " ('in', 2),\n",
              " ('kingdoms.', 1),\n",
              " ('independent', 1),\n",
              " ('into', 1),\n",
              " ('administrative', 1),\n",
              " ('Minister', 1),\n",
              " ('Line', 1)]"
            ]
          },
          "metadata": {},
          "execution_count": 40
        }
      ]
    },
    {
      "cell_type": "code",
      "source": [],
      "metadata": {
        "id": "JIdNLEmt0q58"
      },
      "execution_count": null,
      "outputs": []
    }
  ]
}