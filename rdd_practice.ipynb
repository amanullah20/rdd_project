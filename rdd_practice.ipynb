{
  "nbformat": 4,
  "nbformat_minor": 0,
  "metadata": {
    "colab": {
      "provenance": [],
      "authorship_tag": "ABX9TyOhYoWCREaeKtK70CBVWY3v",
      "include_colab_link": true
    },
    "kernelspec": {
      "name": "python3",
      "display_name": "Python 3"
    },
    "language_info": {
      "name": "python"
    }
  },
  "cells": [
    {
      "cell_type": "markdown",
      "metadata": {
        "id": "view-in-github",
        "colab_type": "text"
      },
      "source": [
        "<a href=\"https://colab.research.google.com/github/amanullah20/rdd_project/blob/main/rdd_practice.ipynb\" target=\"_parent\"><img src=\"https://colab.research.google.com/assets/colab-badge.svg\" alt=\"Open In Colab\"/></a>"
      ]
    },
    {
      "cell_type": "code",
      "execution_count": 1,
      "metadata": {
        "colab": {
          "base_uri": "https://localhost:8080/"
        },
        "id": "w93UWvGtPTaq",
        "outputId": "1b418081-29c3-4248-ea6b-6be84993789c"
      },
      "outputs": [
        {
          "output_type": "stream",
          "name": "stdout",
          "text": [
            "Collecting pyspark\n",
            "  Downloading pyspark-3.5.1.tar.gz (317.0 MB)\n",
            "\u001b[2K     \u001b[90m━━━━━━━━━━━━━━━━━━━━━━━━━━━━━━━━━━━━━━━━\u001b[0m \u001b[32m317.0/317.0 MB\u001b[0m \u001b[31m3.7 MB/s\u001b[0m eta \u001b[36m0:00:00\u001b[0m\n",
            "\u001b[?25h  Preparing metadata (setup.py) ... \u001b[?25l\u001b[?25hdone\n",
            "Requirement already satisfied: py4j==0.10.9.7 in /usr/local/lib/python3.10/dist-packages (from pyspark) (0.10.9.7)\n",
            "Building wheels for collected packages: pyspark\n",
            "  Building wheel for pyspark (setup.py) ... \u001b[?25l\u001b[?25hdone\n",
            "  Created wheel for pyspark: filename=pyspark-3.5.1-py2.py3-none-any.whl size=317488493 sha256=8ba8b949ad5c478e9c5f03d4819d877801ac34027afce924484710998ef6e221\n",
            "  Stored in directory: /root/.cache/pip/wheels/80/1d/60/2c256ed38dddce2fdd93be545214a63e02fbd8d74fb0b7f3a6\n",
            "Successfully built pyspark\n",
            "Installing collected packages: pyspark\n",
            "Successfully installed pyspark-3.5.1\n"
          ]
        }
      ],
      "source": [
        "!pip install pyspark"
      ]
    },
    {
      "cell_type": "markdown",
      "source": [
        "# **Creating Session**"
      ],
      "metadata": {
        "id": "3S-DNdgiP1bm"
      }
    },
    {
      "cell_type": "code",
      "source": [
        "from pyspark.sql import SparkSession\n",
        "spark= SparkSession.builder.appName('practice').getOrCreate()"
      ],
      "metadata": {
        "id": "KmanOgOoPfwM"
      },
      "execution_count": 2,
      "outputs": []
    },
    {
      "cell_type": "code",
      "source": [
        "data = [1,2,4,5,6,7,9,12]\n",
        "rdd = spark.sparkContext.parallelize(data)\n",
        "rdd.collect()"
      ],
      "metadata": {
        "colab": {
          "base_uri": "https://localhost:8080/"
        },
        "id": "0cVtpQ_RQoZE",
        "outputId": "ccab492e-b67c-47d2-9461-dce243c976d5"
      },
      "execution_count": 3,
      "outputs": [
        {
          "output_type": "execute_result",
          "data": {
            "text/plain": [
              "[1, 2, 4, 5, 6, 7, 9, 12]"
            ]
          },
          "metadata": {},
          "execution_count": 3
        }
      ]
    },
    {
      "cell_type": "code",
      "source": [
        "print('Initial Partition : ' + str(rdd.getNumPartitions()))"
      ],
      "metadata": {
        "colab": {
          "base_uri": "https://localhost:8080/"
        },
        "id": "-GU86TRcYQTa",
        "outputId": "545f1205-25ef-4abd-da66-5e90bcbf59da"
      },
      "execution_count": 10,
      "outputs": [
        {
          "output_type": "stream",
          "name": "stdout",
          "text": [
            "Initial Partition : 2\n"
          ]
        }
      ]
    },
    {
      "cell_type": "code",
      "source": [
        "rdd_1 = spark.sparkContext.parallelize(data,3)\n",
        "print('partition  : '+ str(rdd_1.getNumPartitions()))"
      ],
      "metadata": {
        "colab": {
          "base_uri": "https://localhost:8080/"
        },
        "id": "TFqvgKe_YQQD",
        "outputId": "7434523c-c52d-4356-9f99-a062392af68c"
      },
      "execution_count": 11,
      "outputs": [
        {
          "output_type": "stream",
          "name": "stdout",
          "text": [
            "partition  : 3\n"
          ]
        }
      ]
    },
    {
      "cell_type": "code",
      "source": [
        "rdd.glom().collect()"
      ],
      "metadata": {
        "colab": {
          "base_uri": "https://localhost:8080/"
        },
        "id": "DiHHDIc1YQMq",
        "outputId": "1f4950e3-0333-4a59-a661-2e5ba7a88749"
      },
      "execution_count": 15,
      "outputs": [
        {
          "output_type": "execute_result",
          "data": {
            "text/plain": [
              "[[1, 2, 4, 5], [6, 7, 9, 12]]"
            ]
          },
          "metadata": {},
          "execution_count": 15
        }
      ]
    },
    {
      "cell_type": "code",
      "source": [
        "rdd_1.glom().collect()"
      ],
      "metadata": {
        "colab": {
          "base_uri": "https://localhost:8080/"
        },
        "id": "fqYw_jAOYQEE",
        "outputId": "4c6e8bab-628e-49fa-c24e-a991bc1d3251"
      },
      "execution_count": 16,
      "outputs": [
        {
          "output_type": "execute_result",
          "data": {
            "text/plain": [
              "[[1, 2], [4, 5], [6, 7, 9, 12]]"
            ]
          },
          "metadata": {},
          "execution_count": 16
        }
      ]
    },
    {
      "cell_type": "code",
      "source": [
        "rdd.take(3)"
      ],
      "metadata": {
        "colab": {
          "base_uri": "https://localhost:8080/"
        },
        "id": "SfQD_3k-Q-Qm",
        "outputId": "f5f62a01-2b79-48c0-84ac-90bc138c6ad2"
      },
      "execution_count": 6,
      "outputs": [
        {
          "output_type": "execute_result",
          "data": {
            "text/plain": [
              "[1, 2, 4]"
            ]
          },
          "metadata": {},
          "execution_count": 6
        }
      ]
    },
    {
      "cell_type": "code",
      "source": [
        "rdd.first()"
      ],
      "metadata": {
        "colab": {
          "base_uri": "https://localhost:8080/"
        },
        "id": "6ae_0Kigk42f",
        "outputId": "9a33492d-904d-4596-88ac-d9809d72539f"
      },
      "execution_count": 47,
      "outputs": [
        {
          "output_type": "execute_result",
          "data": {
            "text/plain": [
              "1"
            ]
          },
          "metadata": {},
          "execution_count": 47
        }
      ]
    },
    {
      "cell_type": "code",
      "source": [
        "rdd.max()"
      ],
      "metadata": {
        "colab": {
          "base_uri": "https://localhost:8080/"
        },
        "id": "ODB1zFfDk4zJ",
        "outputId": "665fffb5-3de6-4731-da0e-f8535ab611ff"
      },
      "execution_count": 48,
      "outputs": [
        {
          "output_type": "execute_result",
          "data": {
            "text/plain": [
              "12"
            ]
          },
          "metadata": {},
          "execution_count": 48
        }
      ]
    },
    {
      "cell_type": "code",
      "source": [
        "rdd.count()"
      ],
      "metadata": {
        "colab": {
          "base_uri": "https://localhost:8080/"
        },
        "id": "cKS0nss_k4tu",
        "outputId": "0785e271-2c98-41c6-c1e6-c2afdaf0bdcc"
      },
      "execution_count": 49,
      "outputs": [
        {
          "output_type": "execute_result",
          "data": {
            "text/plain": [
              "8"
            ]
          },
          "metadata": {},
          "execution_count": 49
        }
      ]
    },
    {
      "cell_type": "code",
      "source": [
        "rdd.mean()"
      ],
      "metadata": {
        "colab": {
          "base_uri": "https://localhost:8080/"
        },
        "id": "eiW4mDGok4kn",
        "outputId": "fd8fc75f-da3d-420d-a7c7-261682450add"
      },
      "execution_count": 50,
      "outputs": [
        {
          "output_type": "execute_result",
          "data": {
            "text/plain": [
              "5.75"
            ]
          },
          "metadata": {},
          "execution_count": 50
        }
      ]
    },
    {
      "cell_type": "code",
      "source": [
        "rdd1=spark.sparkContext.textFile('/content/rdd1.txt')"
      ],
      "metadata": {
        "id": "d_TwJHTpRDjm"
      },
      "execution_count": 7,
      "outputs": []
    },
    {
      "cell_type": "code",
      "source": [
        "rdd1.collect()"
      ],
      "metadata": {
        "colab": {
          "base_uri": "https://localhost:8080/"
        },
        "id": "Rfyj9pRuSAUq",
        "outputId": "b904161b-43bb-45e8-86a2-aa8d72d59b75"
      },
      "execution_count": 9,
      "outputs": [
        {
          "output_type": "execute_result",
          "data": {
            "text/plain": [
              "[\"Bangladesh forms the sovereign part of the historic and ethnolinguistic region of Bengal, which was divided during the Partition of India in 1947.[21] The country has a Bengali Muslim majority. Ancient Bengal was known as Gangaridai and was a bastion of pre-Islamic kingdoms. Muslim conquests after 1204 heralded the sultanate and Mughal periods, during which an independent Bengal Sultanate and a wealthy Mughal Bengal transformed the region into an important centre of regional affairs, trade, and diplomacy. After 1757, Bengal's administrative jurisdiction reached its greatest extent under the Bengal Presidency of the British Empire. The creation of Eastern Bengal and Assam in 1905 set a precedent for the emergence of Bangladesh. In 1940, the first Prime Minister of Bengal, A. K. Fazlul Huq, supported the Lahore Resolution. Before the partition of Bengal, a Bengali sovereign state was first proposed by premier H. S. Suhrawardy. A referendum and the announcement of the Radcliffe Line established the present-day territorial boundary.\"]"
            ]
          },
          "metadata": {},
          "execution_count": 9
        }
      ]
    },
    {
      "cell_type": "code",
      "source": [
        "rdd1.glom().collect()"
      ],
      "metadata": {
        "colab": {
          "base_uri": "https://localhost:8080/"
        },
        "id": "Iv4rsFNaSLkC",
        "outputId": "9c10356e-42d2-4c0b-b55d-2cf2cde8c0e7"
      },
      "execution_count": 17,
      "outputs": [
        {
          "output_type": "execute_result",
          "data": {
            "text/plain": [
              "[[\"Bangladesh forms the sovereign part of the historic and ethnolinguistic region of Bengal, which was divided during the Partition of India in 1947.[21] The country has a Bengali Muslim majority. Ancient Bengal was known as Gangaridai and was a bastion of pre-Islamic kingdoms. Muslim conquests after 1204 heralded the sultanate and Mughal periods, during which an independent Bengal Sultanate and a wealthy Mughal Bengal transformed the region into an important centre of regional affairs, trade, and diplomacy. After 1757, Bengal's administrative jurisdiction reached its greatest extent under the Bengal Presidency of the British Empire. The creation of Eastern Bengal and Assam in 1905 set a precedent for the emergence of Bangladesh. In 1940, the first Prime Minister of Bengal, A. K. Fazlul Huq, supported the Lahore Resolution. Before the partition of Bengal, a Bengali sovereign state was first proposed by premier H. S. Suhrawardy. A referendum and the announcement of the Radcliffe Line established the present-day territorial boundary.\"],\n",
              " []]"
            ]
          },
          "metadata": {},
          "execution_count": 17
        }
      ]
    },
    {
      "cell_type": "code",
      "source": [
        "rdd3=rdd1.flatMap(lambda x : x.split(' '))"
      ],
      "metadata": {
        "id": "GwNdIFsyc7wa"
      },
      "execution_count": 20,
      "outputs": []
    },
    {
      "cell_type": "code",
      "source": [
        "rdd3.take(10)"
      ],
      "metadata": {
        "colab": {
          "base_uri": "https://localhost:8080/"
        },
        "id": "WEMMp1l6drSQ",
        "outputId": "6702b2e0-333d-4cf2-a567-6b890545b550"
      },
      "execution_count": 21,
      "outputs": [
        {
          "output_type": "execute_result",
          "data": {
            "text/plain": [
              "['Bangladesh',\n",
              " 'forms',\n",
              " 'the',\n",
              " 'sovereign',\n",
              " 'part',\n",
              " 'of',\n",
              " 'the',\n",
              " 'historic',\n",
              " 'and',\n",
              " 'ethnolinguistic']"
            ]
          },
          "metadata": {},
          "execution_count": 21
        }
      ]
    },
    {
      "cell_type": "code",
      "source": [
        "rdd4= rdd3.map(lambda x : (x,1))"
      ],
      "metadata": {
        "id": "xJwJfgmCdvfB"
      },
      "execution_count": 22,
      "outputs": []
    },
    {
      "cell_type": "code",
      "source": [
        "rdd4.take(10)"
      ],
      "metadata": {
        "colab": {
          "base_uri": "https://localhost:8080/"
        },
        "id": "T2NeR1g2esC_",
        "outputId": "28f761e0-dc5c-4760-b33e-cea568b2d1c7"
      },
      "execution_count": 23,
      "outputs": [
        {
          "output_type": "execute_result",
          "data": {
            "text/plain": [
              "[('Bangladesh', 1),\n",
              " ('forms', 1),\n",
              " ('the', 1),\n",
              " ('sovereign', 1),\n",
              " ('part', 1),\n",
              " ('of', 1),\n",
              " ('the', 1),\n",
              " ('historic', 1),\n",
              " ('and', 1),\n",
              " ('ethnolinguistic', 1)]"
            ]
          },
          "metadata": {},
          "execution_count": 23
        }
      ]
    },
    {
      "cell_type": "code",
      "source": [
        "rdd5= rdd4.reduceByKey(lambda x,y: x+y)"
      ],
      "metadata": {
        "id": "LDpT34GwfuSs"
      },
      "execution_count": 24,
      "outputs": []
    },
    {
      "cell_type": "code",
      "source": [
        "rdd5.collect()"
      ],
      "metadata": {
        "colab": {
          "base_uri": "https://localhost:8080/"
        },
        "id": "PgFgi018ggbH",
        "outputId": "354af140-ebc6-45b3-8d4b-39367306c4b3"
      },
      "execution_count": 27,
      "outputs": [
        {
          "output_type": "execute_result",
          "data": {
            "text/plain": [
              "[('of', 11),\n",
              " ('historic', 1),\n",
              " ('ethnolinguistic', 1),\n",
              " ('region', 2),\n",
              " ('was', 4),\n",
              " ('during', 2),\n",
              " ('Partition', 1),\n",
              " ('India', 1),\n",
              " ('in', 2),\n",
              " ('1947.[21]', 1),\n",
              " ('The', 2),\n",
              " ('country', 1),\n",
              " ('known', 1),\n",
              " ('as', 1),\n",
              " ('Gangaridai', 1),\n",
              " ('bastion', 1),\n",
              " ('kingdoms.', 1),\n",
              " ('after', 1),\n",
              " ('1204', 1),\n",
              " ('heralded', 1),\n",
              " ('sultanate', 1),\n",
              " ('an', 2),\n",
              " ('Sultanate', 1),\n",
              " ('transformed', 1),\n",
              " ('into', 1),\n",
              " ('regional', 1),\n",
              " ('affairs,', 1),\n",
              " ('1757,', 1),\n",
              " (\"Bengal's\", 1),\n",
              " ('administrative', 1),\n",
              " ('reached', 1),\n",
              " ('greatest', 1),\n",
              " ('extent', 1),\n",
              " ('Assam', 1),\n",
              " ('set', 1),\n",
              " ('emergence', 1),\n",
              " ('1940,', 1),\n",
              " ('A.', 1),\n",
              " ('K.', 1),\n",
              " ('Lahore', 1),\n",
              " ('Resolution.', 1),\n",
              " ('partition', 1),\n",
              " ('state', 1),\n",
              " ('proposed', 1),\n",
              " ('premier', 1),\n",
              " ('referendum', 1),\n",
              " ('Radcliffe', 1),\n",
              " ('Line', 1),\n",
              " ('established', 1),\n",
              " ('boundary.', 1),\n",
              " ('Bangladesh', 1),\n",
              " ('forms', 1),\n",
              " ('the', 14),\n",
              " ('sovereign', 2),\n",
              " ('part', 1),\n",
              " ('and', 7),\n",
              " ('Bengal,', 3),\n",
              " ('which', 2),\n",
              " ('divided', 1),\n",
              " ('has', 1),\n",
              " ('a', 5),\n",
              " ('Bengali', 2),\n",
              " ('Muslim', 2),\n",
              " ('majority.', 1),\n",
              " ('Ancient', 1),\n",
              " ('Bengal', 5),\n",
              " ('pre-Islamic', 1),\n",
              " ('conquests', 1),\n",
              " ('Mughal', 2),\n",
              " ('periods,', 1),\n",
              " ('independent', 1),\n",
              " ('wealthy', 1),\n",
              " ('important', 1),\n",
              " ('centre', 1),\n",
              " ('trade,', 1),\n",
              " ('diplomacy.', 1),\n",
              " ('After', 1),\n",
              " ('jurisdiction', 1),\n",
              " ('its', 1),\n",
              " ('under', 1),\n",
              " ('Presidency', 1),\n",
              " ('British', 1),\n",
              " ('Empire.', 1),\n",
              " ('creation', 1),\n",
              " ('Eastern', 1),\n",
              " ('1905', 1),\n",
              " ('precedent', 1),\n",
              " ('for', 1),\n",
              " ('Bangladesh.', 1),\n",
              " ('In', 1),\n",
              " ('first', 2),\n",
              " ('Prime', 1),\n",
              " ('Minister', 1),\n",
              " ('Fazlul', 1),\n",
              " ('Huq,', 1),\n",
              " ('supported', 1),\n",
              " ('Before', 1),\n",
              " ('by', 1),\n",
              " ('H.', 1),\n",
              " ('S.', 1),\n",
              " ('Suhrawardy.', 1),\n",
              " ('A', 1),\n",
              " ('announcement', 1),\n",
              " ('present-day', 1),\n",
              " ('territorial', 1)]"
            ]
          },
          "metadata": {},
          "execution_count": 27
        }
      ]
    },
    {
      "cell_type": "code",
      "source": [
        "rdd6=rdd5.map(lambda x : (x[0],x[1])).sortBy(lambda a : a[1],False)"
      ],
      "metadata": {
        "id": "VR4d6ecxgkLY"
      },
      "execution_count": 37,
      "outputs": []
    },
    {
      "cell_type": "code",
      "source": [
        "rdd6.collect()"
      ],
      "metadata": {
        "colab": {
          "base_uri": "https://localhost:8080/"
        },
        "id": "aJ0vAB2rhs-n",
        "outputId": "ed8ff9cb-9ba1-4734-8d58-bea1c130e4b7"
      },
      "execution_count": 38,
      "outputs": [
        {
          "output_type": "execute_result",
          "data": {
            "text/plain": [
              "[('the', 14),\n",
              " ('of', 11),\n",
              " ('and', 7),\n",
              " ('a', 5),\n",
              " ('Bengal', 5),\n",
              " ('was', 4),\n",
              " ('Bengal,', 3),\n",
              " ('region', 2),\n",
              " ('during', 2),\n",
              " ('in', 2),\n",
              " ('The', 2),\n",
              " ('an', 2),\n",
              " ('sovereign', 2),\n",
              " ('which', 2),\n",
              " ('Bengali', 2),\n",
              " ('Muslim', 2),\n",
              " ('Mughal', 2),\n",
              " ('first', 2),\n",
              " ('historic', 1),\n",
              " ('ethnolinguistic', 1),\n",
              " ('Partition', 1),\n",
              " ('India', 1),\n",
              " ('1947.[21]', 1),\n",
              " ('country', 1),\n",
              " ('known', 1),\n",
              " ('as', 1),\n",
              " ('Gangaridai', 1),\n",
              " ('bastion', 1),\n",
              " ('kingdoms.', 1),\n",
              " ('after', 1),\n",
              " ('1204', 1),\n",
              " ('heralded', 1),\n",
              " ('sultanate', 1),\n",
              " ('Sultanate', 1),\n",
              " ('transformed', 1),\n",
              " ('into', 1),\n",
              " ('regional', 1),\n",
              " ('affairs,', 1),\n",
              " ('1757,', 1),\n",
              " (\"Bengal's\", 1),\n",
              " ('administrative', 1),\n",
              " ('reached', 1),\n",
              " ('greatest', 1),\n",
              " ('extent', 1),\n",
              " ('Assam', 1),\n",
              " ('set', 1),\n",
              " ('emergence', 1),\n",
              " ('1940,', 1),\n",
              " ('A.', 1),\n",
              " ('K.', 1),\n",
              " ('Lahore', 1),\n",
              " ('Resolution.', 1),\n",
              " ('partition', 1),\n",
              " ('state', 1),\n",
              " ('proposed', 1),\n",
              " ('premier', 1),\n",
              " ('referendum', 1),\n",
              " ('Radcliffe', 1),\n",
              " ('Line', 1),\n",
              " ('established', 1),\n",
              " ('boundary.', 1),\n",
              " ('Bangladesh', 1),\n",
              " ('forms', 1),\n",
              " ('part', 1),\n",
              " ('divided', 1),\n",
              " ('has', 1),\n",
              " ('majority.', 1),\n",
              " ('Ancient', 1),\n",
              " ('pre-Islamic', 1),\n",
              " ('conquests', 1),\n",
              " ('periods,', 1),\n",
              " ('independent', 1),\n",
              " ('wealthy', 1),\n",
              " ('important', 1),\n",
              " ('centre', 1),\n",
              " ('trade,', 1),\n",
              " ('diplomacy.', 1),\n",
              " ('After', 1),\n",
              " ('jurisdiction', 1),\n",
              " ('its', 1),\n",
              " ('under', 1),\n",
              " ('Presidency', 1),\n",
              " ('British', 1),\n",
              " ('Empire.', 1),\n",
              " ('creation', 1),\n",
              " ('Eastern', 1),\n",
              " ('1905', 1),\n",
              " ('precedent', 1),\n",
              " ('for', 1),\n",
              " ('Bangladesh.', 1),\n",
              " ('In', 1),\n",
              " ('Prime', 1),\n",
              " ('Minister', 1),\n",
              " ('Fazlul', 1),\n",
              " ('Huq,', 1),\n",
              " ('supported', 1),\n",
              " ('Before', 1),\n",
              " ('by', 1),\n",
              " ('H.', 1),\n",
              " ('S.', 1),\n",
              " ('Suhrawardy.', 1),\n",
              " ('A', 1),\n",
              " ('announcement', 1),\n",
              " ('present-day', 1),\n",
              " ('territorial', 1)]"
            ]
          },
          "metadata": {},
          "execution_count": 38
        }
      ]
    },
    {
      "cell_type": "code",
      "source": [
        "rdd7 = rdd6.filter(lambda x : 'th' in x[0])"
      ],
      "metadata": {
        "id": "I2ekB2fQhw1v"
      },
      "execution_count": 44,
      "outputs": []
    },
    {
      "cell_type": "code",
      "source": [
        "rdd7.collect()"
      ],
      "metadata": {
        "colab": {
          "base_uri": "https://localhost:8080/"
        },
        "id": "T_kzRM_0jiFW",
        "outputId": "2ab1c266-1f11-4957-a8e7-29a344242059"
      },
      "execution_count": 45,
      "outputs": [
        {
          "output_type": "execute_result",
          "data": {
            "text/plain": [
              "[('the', 14), ('ethnolinguistic', 1), ('wealthy', 1)]"
            ]
          },
          "metadata": {},
          "execution_count": 45
        }
      ]
    },
    {
      "cell_type": "code",
      "source": [],
      "metadata": {
        "id": "7WDsMy6Djks-"
      },
      "execution_count": null,
      "outputs": []
    }
  ]
}