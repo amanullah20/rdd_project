{
  "nbformat": 4,
  "nbformat_minor": 0,
  "metadata": {
    "colab": {
      "provenance": [],
      "authorship_tag": "ABX9TyMVsvjq31UHab42oHEoB4JA",
      "include_colab_link": true
    },
    "kernelspec": {
      "name": "python3",
      "display_name": "Python 3"
    },
    "language_info": {
      "name": "python"
    }
  },
  "cells": [
    {
      "cell_type": "markdown",
      "metadata": {
        "id": "view-in-github",
        "colab_type": "text"
      },
      "source": [
        "<a href=\"https://colab.research.google.com/github/amanullah20/rdd_project/blob/main/class15_practice.ipynb\" target=\"_parent\"><img src=\"https://colab.research.google.com/assets/colab-badge.svg\" alt=\"Open In Colab\"/></a>"
      ]
    },
    {
      "cell_type": "code",
      "source": [
        "!pip install pyspark"
      ],
      "metadata": {
        "colab": {
          "base_uri": "https://localhost:8080/"
        },
        "id": "s6a4w4x7D7hh",
        "outputId": "965ec67f-a2ad-4741-8742-597c86c51e08"
      },
      "execution_count": 1,
      "outputs": [
        {
          "output_type": "stream",
          "name": "stdout",
          "text": [
            "Collecting pyspark\n",
            "  Downloading pyspark-3.5.1.tar.gz (317.0 MB)\n",
            "\u001b[2K     \u001b[90m━━━━━━━━━━━━━━━━━━━━━━━━━━━━━━━━━━━━━━━━\u001b[0m \u001b[32m317.0/317.0 MB\u001b[0m \u001b[31m2.1 MB/s\u001b[0m eta \u001b[36m0:00:00\u001b[0m\n",
            "\u001b[?25h  Preparing metadata (setup.py) ... \u001b[?25l\u001b[?25hdone\n",
            "Requirement already satisfied: py4j==0.10.9.7 in /usr/local/lib/python3.10/dist-packages (from pyspark) (0.10.9.7)\n",
            "Building wheels for collected packages: pyspark\n",
            "  Building wheel for pyspark (setup.py) ... \u001b[?25l\u001b[?25hdone\n",
            "  Created wheel for pyspark: filename=pyspark-3.5.1-py2.py3-none-any.whl size=317488493 sha256=acb0fcb5e659667951d8cd97fb06f19dbff0db981838a515e86c597bd46dc1a0\n",
            "  Stored in directory: /root/.cache/pip/wheels/80/1d/60/2c256ed38dddce2fdd93be545214a63e02fbd8d74fb0b7f3a6\n",
            "Successfully built pyspark\n",
            "Installing collected packages: pyspark\n",
            "Successfully installed pyspark-3.5.1\n"
          ]
        }
      ]
    },
    {
      "cell_type": "code",
      "source": [
        "from pyspark.sql import SparkSession"
      ],
      "metadata": {
        "id": "GB6n29pTEBcp"
      },
      "execution_count": 2,
      "outputs": []
    },
    {
      "cell_type": "code",
      "source": [
        "spark = SparkSession.builder.appName('practice').getOrCreate()"
      ],
      "metadata": {
        "id": "zhcedMkBEXVh"
      },
      "execution_count": 3,
      "outputs": []
    },
    {
      "cell_type": "code",
      "source": [
        "df = spark.createDataFrame([(1, 'John'), (2, 'Doe'), (3, 'Alice')], ['ID', 'Name'])\n",
        "df.show()"
      ],
      "metadata": {
        "colab": {
          "base_uri": "https://localhost:8080/"
        },
        "id": "TyaRTKWEEjyg",
        "outputId": "a64b6356-5dc8-466c-dff1-7b4925c48ea5"
      },
      "execution_count": 4,
      "outputs": [
        {
          "output_type": "stream",
          "name": "stdout",
          "text": [
            "+---+-----+\n",
            "| ID| Name|\n",
            "+---+-----+\n",
            "|  1| John|\n",
            "|  2|  Doe|\n",
            "|  3|Alice|\n",
            "+---+-----+\n",
            "\n"
          ]
        }
      ]
    },
    {
      "cell_type": "code",
      "source": [
        "rdds=df.rdd.collect()"
      ],
      "metadata": {
        "id": "gKZ_feIGEv_v"
      },
      "execution_count": 5,
      "outputs": []
    },
    {
      "cell_type": "code",
      "source": [
        "clean_rdd=df.rdd.map(lambda x:[x[0],x[1]])"
      ],
      "metadata": {
        "id": "SVs-HjH2Pohp"
      },
      "execution_count": 6,
      "outputs": []
    },
    {
      "cell_type": "code",
      "source": [
        "rdds\n"
      ],
      "metadata": {
        "colab": {
          "base_uri": "https://localhost:8080/"
        },
        "id": "MU747u-5P8r2",
        "outputId": "2eb0f959-febb-4549-b82b-df2cbd42b34c"
      },
      "execution_count": 7,
      "outputs": [
        {
          "output_type": "execute_result",
          "data": {
            "text/plain": [
              "[Row(ID=1, Name='John'), Row(ID=2, Name='Doe'), Row(ID=3, Name='Alice')]"
            ]
          },
          "metadata": {},
          "execution_count": 7
        }
      ]
    },
    {
      "cell_type": "code",
      "source": [
        "clean_rdd.collect()"
      ],
      "metadata": {
        "colab": {
          "base_uri": "https://localhost:8080/"
        },
        "id": "GnlB-S3Har4l",
        "outputId": "c95a11c0-ed45-4ef3-d085-6ec5675eded8"
      },
      "execution_count": 8,
      "outputs": [
        {
          "output_type": "execute_result",
          "data": {
            "text/plain": [
              "[[1, 'John'], [2, 'Doe'], [3, 'Alice']]"
            ]
          },
          "metadata": {},
          "execution_count": 8
        }
      ]
    },
    {
      "cell_type": "code",
      "source": [
        "ps = spark.read.csv('/content/aiquest_sales_data_bde_batch - aiquest_sales_data_bde_batch.csv',sep=',',header=True,inferSchema=True)"
      ],
      "metadata": {
        "id": "3TI0EWq5E5rH"
      },
      "execution_count": 10,
      "outputs": []
    },
    {
      "cell_type": "code",
      "source": [
        "ps.dtypes"
      ],
      "metadata": {
        "colab": {
          "base_uri": "https://localhost:8080/"
        },
        "id": "5mjGDokOncL8",
        "outputId": "d8ad6058-ab69-4605-daaa-c84d399e3ddd"
      },
      "execution_count": 11,
      "outputs": [
        {
          "output_type": "execute_result",
          "data": {
            "text/plain": [
              "[('Transaction_date', 'string'),\n",
              " ('Product', 'string'),\n",
              " ('Price', 'string'),\n",
              " ('Payment_Type', 'string'),\n",
              " ('Name', 'string'),\n",
              " ('City', 'string'),\n",
              " ('State', 'string'),\n",
              " ('Country', 'string'),\n",
              " ('Account_Created', 'string'),\n",
              " ('Last_Login', 'string'),\n",
              " ('Latitude', 'double'),\n",
              " ('Longitude', 'double')]"
            ]
          },
          "metadata": {},
          "execution_count": 11
        }
      ]
    },
    {
      "cell_type": "code",
      "source": [
        "ps.printSchema()"
      ],
      "metadata": {
        "colab": {
          "base_uri": "https://localhost:8080/"
        },
        "id": "qJFscapdnyAK",
        "outputId": "26a26071-1d8a-41cc-cbe1-3278687726a8"
      },
      "execution_count": 12,
      "outputs": [
        {
          "output_type": "stream",
          "name": "stdout",
          "text": [
            "root\n",
            " |-- Transaction_date: string (nullable = true)\n",
            " |-- Product: string (nullable = true)\n",
            " |-- Price: string (nullable = true)\n",
            " |-- Payment_Type: string (nullable = true)\n",
            " |-- Name: string (nullable = true)\n",
            " |-- City: string (nullable = true)\n",
            " |-- State: string (nullable = true)\n",
            " |-- Country: string (nullable = true)\n",
            " |-- Account_Created: string (nullable = true)\n",
            " |-- Last_Login: string (nullable = true)\n",
            " |-- Latitude: double (nullable = true)\n",
            " |-- Longitude: double (nullable = true)\n",
            "\n"
          ]
        }
      ]
    },
    {
      "cell_type": "code",
      "source": [
        "ps.select(ps.City).show()"
      ],
      "metadata": {
        "colab": {
          "base_uri": "https://localhost:8080/"
        },
        "id": "qVgg5fvDnx8A",
        "outputId": "3360af62-247f-438c-92c5-6c15f0c65829"
      },
      "execution_count": 14,
      "outputs": [
        {
          "output_type": "stream",
          "name": "stdout",
          "text": [
            "+--------------+\n",
            "|          City|\n",
            "+--------------+\n",
            "|      Basildon|\n",
            "|     Dhanmondi|\n",
            "|       Astoria|\n",
            "|        Echuca|\n",
            "|Cahaba Heights|\n",
            "|     Mickleton|\n",
            "|        Peoria|\n",
            "|        Martin|\n",
            "|      Tel Aviv|\n",
            "|        Chatou|\n",
            "|      New York|\n",
            "|     Eindhoven|\n",
            "|  Shavano Park|\n",
            "|         Eagle|\n",
            "|     Riverside|\n",
            "|   Julianstown|\n",
            "|        Ottawa|\n",
            "|     Hyderabad|\n",
            "|        London|\n",
            "|Salt Lake City|\n",
            "+--------------+\n",
            "only showing top 20 rows\n",
            "\n"
          ]
        }
      ]
    },
    {
      "cell_type": "code",
      "source": [
        "from pyspark.sql.functions import col\n"
      ],
      "metadata": {
        "id": "q6bdlKIRnx4D"
      },
      "execution_count": 15,
      "outputs": []
    },
    {
      "cell_type": "code",
      "source": [
        "from os import truncate\n",
        "ps.select(col('city'),col('price'),col('product'),col('name'),col('state')).show(truncate=True)"
      ],
      "metadata": {
        "colab": {
          "base_uri": "https://localhost:8080/"
        },
        "id": "1Z8-f8Y4nxx7",
        "outputId": "d9ca016a-ae38-4e64-91b9-658c003494ea"
      },
      "execution_count": 23,
      "outputs": [
        {
          "output_type": "stream",
          "name": "stdout",
          "text": [
            "+--------------+-----+--------+-----------------+--------------+\n",
            "|          city|price| product|             name|         state|\n",
            "+--------------+-----+--------+-----------------+--------------+\n",
            "|      Basildon| 1200|Product1|         carolina|       England|\n",
            "|     Dhanmondi| 1200|Product1|            Shuvo|         Dhaka|\n",
            "|       Astoria| 1200|Product1|Federica e Andrea|            OR|\n",
            "|        Echuca| 1200|Product1|            Gouya|      Victoria|\n",
            "|Cahaba Heights| 3600|Product2|           Gerd W|            AL|\n",
            "|     Mickleton| 1200|Product1|         LAURENCE|            NJ|\n",
            "|        Peoria| 1200|Product1|            Fleur|            IL|\n",
            "|        Martin| 1200|Product1|             adam|            TN|\n",
            "|      Tel Aviv| 1200|Product1|  Renee Elisabeth|      Tel Aviv|\n",
            "|        Chatou| 1200|Product1|            Aidan| Ile-de-France|\n",
            "|      New York| 1200|Product1|            Stacy|            NY|\n",
            "|     Eindhoven| 1200|Product1|            Heidi| Noord-Brabant|\n",
            "|  Shavano Park| 1200|Product1|             Sean|            TX|\n",
            "|         Eagle| 1200|Product1|          Georgia|            ID|\n",
            "|     Riverside| 1200|Product1|          Richard|            NJ|\n",
            "|   Julianstown| 1200|Product1|           Leanne|         Meath|\n",
            "|        Ottawa| 1200|Product1|            Janet|       Ontario|\n",
            "|     Hyderabad| 1200|Product1|          barbara|Andhra Pradesh|\n",
            "|        London| 3600|Product2|           Sabine|       England|\n",
            "|Salt Lake City| 1200|Product1|             Hani|            UT|\n",
            "+--------------+-----+--------+-----------------+--------------+\n",
            "only showing top 20 rows\n",
            "\n"
          ]
        }
      ]
    },
    {
      "cell_type": "code",
      "source": [
        "from pyspark.sql.functions import lit"
      ],
      "metadata": {
        "id": "2qQrOJ8eEOgD"
      },
      "execution_count": 24,
      "outputs": []
    },
    {
      "cell_type": "code",
      "source": [
        "ps = ps.withColumn('first_name',lit('aman_ullah'))"
      ],
      "metadata": {
        "id": "6__k_IKZEOcm"
      },
      "execution_count": 25,
      "outputs": []
    },
    {
      "cell_type": "code",
      "source": [
        "ps.show()"
      ],
      "metadata": {
        "colab": {
          "base_uri": "https://localhost:8080/"
        },
        "id": "6YaLuNLUEOZ2",
        "outputId": "b35f5de2-a063-4c33-c19b-836be1548277"
      },
      "execution_count": 26,
      "outputs": [
        {
          "output_type": "stream",
          "name": "stdout",
          "text": [
            "+----------------+--------+-----+------------+-----------------+--------------+--------------+--------------+---------------+--------------+-----------+----------+----------+\n",
            "|Transaction_date| Product|Price|Payment_Type|             Name|          City|         State|       Country|Account_Created|    Last_Login|   Latitude| Longitude|first_name|\n",
            "+----------------+--------+-----+------------+-----------------+--------------+--------------+--------------+---------------+--------------+-----------+----------+----------+\n",
            "|   01-02-09 6:17|Product1| 1200|  Mastercard|         carolina|      Basildon|       England|United Kingdom|  01-02-09 6:00| 01-02-09 6:08|       51.5|-1.1166667|aman_ullah|\n",
            "|   01-02-09 4:53|Product1| 1200|       Bkash|            Shuvo|     Dhanmondi|         Dhaka|    Bangladesh|  01-02-09 4:42| 01-02-09 7:49|     39.195| -94.68194|aman_ullah|\n",
            "|  01-02-09 13:08|Product1| 1200|  Mastercard|Federica e Andrea|       Astoria|            OR| United States| 01-01-09 16:21|01-03-09 12:32|   46.18806|   -123.83|aman_ullah|\n",
            "|  01-03-09 14:44|Product1| 1200|        Visa|            Gouya|        Echuca|      Victoria|     Australia|  9/25/05 21:13|01-03-09 14:22|-36.1333333|    144.75|aman_ullah|\n",
            "|  01-04-09 12:56|Product2| 3600|        Visa|           Gerd W|Cahaba Heights|            AL| United States| 11/15/08 15:47|01-04-09 12:45|   33.52056|  -86.8025|aman_ullah|\n",
            "|  01-04-09 13:19|Product1| 1200|        Visa|         LAURENCE|     Mickleton|            NJ| United States|  9/24/08 15:19|01-04-09 13:04|      39.79| -75.23806|aman_ullah|\n",
            "|  01-04-09 20:11|Product1| 1200|  Mastercard|            Fleur|        Peoria|            IL| United States|  01-03-09 9:38|01-04-09 19:45|   40.69361| -89.58889|aman_ullah|\n",
            "|  01-02-09 20:09|Product1| 1200|  Mastercard|             adam|        Martin|            TN| United States| 01-02-09 17:43|01-04-09 20:01|   36.34333| -88.85028|aman_ullah|\n",
            "|  01-04-09 13:17|Product1| 1200|  Mastercard|  Renee Elisabeth|      Tel Aviv|      Tel Aviv|        Israel| 01-04-09 13:03|01-04-09 22:10| 32.0666667|34.7666667|aman_ullah|\n",
            "|  01-04-09 14:11|Product1| 1200|        Visa|            Aidan|        Chatou| Ile-de-France|        France|  06-03-08 4:22| 01-05-09 1:17| 48.8833333|      2.15|aman_ullah|\n",
            "|   01-05-09 2:42|Product1| 1200|      Diners|            Stacy|      New York|            NY| United States|  01-05-09 2:23| 01-05-09 4:59|   40.71417| -74.00639|aman_ullah|\n",
            "|   01-05-09 5:39|Product1| 1200|        Amex|            Heidi|     Eindhoven| Noord-Brabant|   Netherlands|  01-05-09 4:55| 01-05-09 8:15|      51.45| 5.4666667|aman_ullah|\n",
            "|   01-02-09 9:16|Product1| 1200|  Mastercard|             Sean|  Shavano Park|            TX| United States|  01-02-09 8:32| 01-05-09 9:05|   29.42389| -98.49333|aman_ullah|\n",
            "|  01-05-09 10:08|Product1| 1200|        Visa|          Georgia|         Eagle|            ID| United States| 11-11-08 15:53|01-05-09 10:05|   43.69556|-116.35306|aman_ullah|\n",
            "|  01-02-09 14:18|Product1| 1200|        Visa|          Richard|     Riverside|            NJ| United States| 12-09-08 12:07|01-05-09 11:01|   40.03222| -74.95778|aman_ullah|\n",
            "|   01-04-09 1:05|Product1| 1200|      Diners|           Leanne|   Julianstown|         Meath|       Ireland|  01-04-09 0:00|01-05-09 13:36| 53.6772222|-6.3191667|aman_ullah|\n",
            "|  01-05-09 11:37|Product1| 1200|        Visa|            Janet|        Ottawa|       Ontario|        Canada|  01-05-09 9:35|01-05-09 19:24| 45.4166667|     -75.7|aman_ullah|\n",
            "|   01-06-09 5:02|Product1| 1200|      Diners|          barbara|     Hyderabad|Andhra Pradesh|         India|  01-06-09 2:41| 01-06-09 7:52| 17.3833333|78.4666667|aman_ullah|\n",
            "|   01-06-09 7:45|Product2| 3600|        Visa|           Sabine|        London|       England|United Kingdom|  01-06-09 7:00| 01-06-09 9:17|   51.52721|   0.14559|aman_ullah|\n",
            "|   01-02-09 7:35|Product1| 1200|      Diners|             Hani|Salt Lake City|            UT| United States|  12/30/08 5:44|01-06-09 10:52|   40.76083|-111.89028|aman_ullah|\n",
            "+----------------+--------+-----+------------+-----------------+--------------+--------------+--------------+---------------+--------------+-----------+----------+----------+\n",
            "only showing top 20 rows\n",
            "\n"
          ]
        }
      ]
    },
    {
      "cell_type": "code",
      "source": [
        "from pyspark.sql.functions import concat"
      ],
      "metadata": {
        "id": "zCR8Xsy5EOW0"
      },
      "execution_count": 27,
      "outputs": []
    },
    {
      "cell_type": "code",
      "source": [
        "ps = ps.withColumn('second_colm',concat(col('first_name'),lit(' '),col('city')))"
      ],
      "metadata": {
        "id": "OxIsBhtxEOT-"
      },
      "execution_count": 36,
      "outputs": []
    },
    {
      "cell_type": "code",
      "source": [
        "ps.select(ps.second_colm).show(truncate=True)"
      ],
      "metadata": {
        "colab": {
          "base_uri": "https://localhost:8080/"
        },
        "id": "zlnV28xOEOPW",
        "outputId": "8364a1c8-5cf4-4397-83d3-77b6f0f5af85"
      },
      "execution_count": 37,
      "outputs": [
        {
          "output_type": "stream",
          "name": "stdout",
          "text": [
            "+--------------------+\n",
            "|         second_colm|\n",
            "+--------------------+\n",
            "| aman_ullah Basildon|\n",
            "|aman_ullah Dhanmondi|\n",
            "|  aman_ullah Astoria|\n",
            "|   aman_ullah Echuca|\n",
            "|aman_ullah Cahaba...|\n",
            "|aman_ullah Mickleton|\n",
            "|   aman_ullah Peoria|\n",
            "|   aman_ullah Martin|\n",
            "| aman_ullah Tel Aviv|\n",
            "|   aman_ullah Chatou|\n",
            "| aman_ullah New York|\n",
            "|aman_ullah Eindhoven|\n",
            "|aman_ullah Shavan...|\n",
            "|    aman_ullah Eagle|\n",
            "|aman_ullah Riverside|\n",
            "|aman_ullah Julian...|\n",
            "|   aman_ullah Ottawa|\n",
            "|aman_ullah Hyderabad|\n",
            "|   aman_ullah London|\n",
            "|aman_ullah Salt L...|\n",
            "+--------------------+\n",
            "only showing top 20 rows\n",
            "\n"
          ]
        }
      ]
    },
    {
      "cell_type": "markdown",
      "source": [
        "## **Rename Columns**"
      ],
      "metadata": {
        "id": "Pvn8PHD2Gmg7"
      }
    },
    {
      "cell_type": "code",
      "source": [
        "ps=ps.withColumnRenamed('second_colm','city_name')"
      ],
      "metadata": {
        "id": "yrJqOa0gEOLT"
      },
      "execution_count": 42,
      "outputs": []
    },
    {
      "cell_type": "code",
      "source": [
        "ps.show()"
      ],
      "metadata": {
        "colab": {
          "base_uri": "https://localhost:8080/"
        },
        "id": "wn-RLfT3EODs",
        "outputId": "c5124f83-118a-412d-dd4c-f35127990621"
      },
      "execution_count": 43,
      "outputs": [
        {
          "output_type": "stream",
          "name": "stdout",
          "text": [
            "+----------------+--------+-----+------------+-----------------+--------------+--------------+--------------+---------------+--------------+-----------+----------+----------+--------------------+\n",
            "|Transaction_date| Product|Price|Payment_Type|             Name|          City|         State|       Country|Account_Created|    Last_Login|   Latitude| Longitude|first_name|           city_name|\n",
            "+----------------+--------+-----+------------+-----------------+--------------+--------------+--------------+---------------+--------------+-----------+----------+----------+--------------------+\n",
            "|   01-02-09 6:17|Product1| 1200|  Mastercard|         carolina|      Basildon|       England|United Kingdom|  01-02-09 6:00| 01-02-09 6:08|       51.5|-1.1166667|aman_ullah| aman_ullah Basildon|\n",
            "|   01-02-09 4:53|Product1| 1200|       Bkash|            Shuvo|     Dhanmondi|         Dhaka|    Bangladesh|  01-02-09 4:42| 01-02-09 7:49|     39.195| -94.68194|aman_ullah|aman_ullah Dhanmondi|\n",
            "|  01-02-09 13:08|Product1| 1200|  Mastercard|Federica e Andrea|       Astoria|            OR| United States| 01-01-09 16:21|01-03-09 12:32|   46.18806|   -123.83|aman_ullah|  aman_ullah Astoria|\n",
            "|  01-03-09 14:44|Product1| 1200|        Visa|            Gouya|        Echuca|      Victoria|     Australia|  9/25/05 21:13|01-03-09 14:22|-36.1333333|    144.75|aman_ullah|   aman_ullah Echuca|\n",
            "|  01-04-09 12:56|Product2| 3600|        Visa|           Gerd W|Cahaba Heights|            AL| United States| 11/15/08 15:47|01-04-09 12:45|   33.52056|  -86.8025|aman_ullah|aman_ullah Cahaba...|\n",
            "|  01-04-09 13:19|Product1| 1200|        Visa|         LAURENCE|     Mickleton|            NJ| United States|  9/24/08 15:19|01-04-09 13:04|      39.79| -75.23806|aman_ullah|aman_ullah Mickleton|\n",
            "|  01-04-09 20:11|Product1| 1200|  Mastercard|            Fleur|        Peoria|            IL| United States|  01-03-09 9:38|01-04-09 19:45|   40.69361| -89.58889|aman_ullah|   aman_ullah Peoria|\n",
            "|  01-02-09 20:09|Product1| 1200|  Mastercard|             adam|        Martin|            TN| United States| 01-02-09 17:43|01-04-09 20:01|   36.34333| -88.85028|aman_ullah|   aman_ullah Martin|\n",
            "|  01-04-09 13:17|Product1| 1200|  Mastercard|  Renee Elisabeth|      Tel Aviv|      Tel Aviv|        Israel| 01-04-09 13:03|01-04-09 22:10| 32.0666667|34.7666667|aman_ullah| aman_ullah Tel Aviv|\n",
            "|  01-04-09 14:11|Product1| 1200|        Visa|            Aidan|        Chatou| Ile-de-France|        France|  06-03-08 4:22| 01-05-09 1:17| 48.8833333|      2.15|aman_ullah|   aman_ullah Chatou|\n",
            "|   01-05-09 2:42|Product1| 1200|      Diners|            Stacy|      New York|            NY| United States|  01-05-09 2:23| 01-05-09 4:59|   40.71417| -74.00639|aman_ullah| aman_ullah New York|\n",
            "|   01-05-09 5:39|Product1| 1200|        Amex|            Heidi|     Eindhoven| Noord-Brabant|   Netherlands|  01-05-09 4:55| 01-05-09 8:15|      51.45| 5.4666667|aman_ullah|aman_ullah Eindhoven|\n",
            "|   01-02-09 9:16|Product1| 1200|  Mastercard|             Sean|  Shavano Park|            TX| United States|  01-02-09 8:32| 01-05-09 9:05|   29.42389| -98.49333|aman_ullah|aman_ullah Shavan...|\n",
            "|  01-05-09 10:08|Product1| 1200|        Visa|          Georgia|         Eagle|            ID| United States| 11-11-08 15:53|01-05-09 10:05|   43.69556|-116.35306|aman_ullah|    aman_ullah Eagle|\n",
            "|  01-02-09 14:18|Product1| 1200|        Visa|          Richard|     Riverside|            NJ| United States| 12-09-08 12:07|01-05-09 11:01|   40.03222| -74.95778|aman_ullah|aman_ullah Riverside|\n",
            "|   01-04-09 1:05|Product1| 1200|      Diners|           Leanne|   Julianstown|         Meath|       Ireland|  01-04-09 0:00|01-05-09 13:36| 53.6772222|-6.3191667|aman_ullah|aman_ullah Julian...|\n",
            "|  01-05-09 11:37|Product1| 1200|        Visa|            Janet|        Ottawa|       Ontario|        Canada|  01-05-09 9:35|01-05-09 19:24| 45.4166667|     -75.7|aman_ullah|   aman_ullah Ottawa|\n",
            "|   01-06-09 5:02|Product1| 1200|      Diners|          barbara|     Hyderabad|Andhra Pradesh|         India|  01-06-09 2:41| 01-06-09 7:52| 17.3833333|78.4666667|aman_ullah|aman_ullah Hyderabad|\n",
            "|   01-06-09 7:45|Product2| 3600|        Visa|           Sabine|        London|       England|United Kingdom|  01-06-09 7:00| 01-06-09 9:17|   51.52721|   0.14559|aman_ullah|   aman_ullah London|\n",
            "|   01-02-09 7:35|Product1| 1200|      Diners|             Hani|Salt Lake City|            UT| United States|  12/30/08 5:44|01-06-09 10:52|   40.76083|-111.89028|aman_ullah|aman_ullah Salt L...|\n",
            "+----------------+--------+-----+------------+-----------------+--------------+--------------+--------------+---------------+--------------+-----------+----------+----------+--------------------+\n",
            "only showing top 20 rows\n",
            "\n"
          ]
        }
      ]
    },
    {
      "cell_type": "code",
      "source": [
        "ps.groupBy('country').count().show()"
      ],
      "metadata": {
        "colab": {
          "base_uri": "https://localhost:8080/"
        },
        "id": "l2N5Ml2eI_II",
        "outputId": "9d5d9ee6-d369-4386-f6ce-8cf2c6fb790f"
      },
      "execution_count": 46,
      "outputs": [
        {
          "output_type": "stream",
          "name": "stdout",
          "text": [
            "+-------------+-----+\n",
            "|      country|count|\n",
            "+-------------+-----+\n",
            "|       Russia|    1|\n",
            "|       Sweden|   13|\n",
            "|       Jersey|    1|\n",
            "|  Philippines|    2|\n",
            "|     Malaysia|    1|\n",
            "|       Turkey|    6|\n",
            "|      Germany|   25|\n",
            "|       France|   27|\n",
            "|       Greece|    1|\n",
            "|    Argentina|    1|\n",
            "|      Belgium|    8|\n",
            "|      Finland|    2|\n",
            "|United States|  462|\n",
            "|        India|    2|\n",
            "|        China|    1|\n",
            "|       Kuwait|    1|\n",
            "|        Malta|    2|\n",
            "|        Italy|   15|\n",
            "|       Norway|   16|\n",
            "|        Spain|   12|\n",
            "+-------------+-----+\n",
            "only showing top 20 rows\n",
            "\n"
          ]
        }
      ]
    },
    {
      "cell_type": "code",
      "source": [
        "ps = ps.drop('city_name')"
      ],
      "metadata": {
        "id": "ppao0wZZI_F1"
      },
      "execution_count": 47,
      "outputs": []
    },
    {
      "cell_type": "code",
      "source": [
        "ps.show()"
      ],
      "metadata": {
        "colab": {
          "base_uri": "https://localhost:8080/"
        },
        "id": "aNJNEB4jI_Ds",
        "outputId": "969e9982-33a3-4338-f647-2e9e0c84e71e"
      },
      "execution_count": 48,
      "outputs": [
        {
          "output_type": "stream",
          "name": "stdout",
          "text": [
            "+----------------+--------+-----+------------+-----------------+--------------+--------------+--------------+---------------+--------------+-----------+----------+----------+\n",
            "|Transaction_date| Product|Price|Payment_Type|             Name|          City|         State|       Country|Account_Created|    Last_Login|   Latitude| Longitude|first_name|\n",
            "+----------------+--------+-----+------------+-----------------+--------------+--------------+--------------+---------------+--------------+-----------+----------+----------+\n",
            "|   01-02-09 6:17|Product1| 1200|  Mastercard|         carolina|      Basildon|       England|United Kingdom|  01-02-09 6:00| 01-02-09 6:08|       51.5|-1.1166667|aman_ullah|\n",
            "|   01-02-09 4:53|Product1| 1200|       Bkash|            Shuvo|     Dhanmondi|         Dhaka|    Bangladesh|  01-02-09 4:42| 01-02-09 7:49|     39.195| -94.68194|aman_ullah|\n",
            "|  01-02-09 13:08|Product1| 1200|  Mastercard|Federica e Andrea|       Astoria|            OR| United States| 01-01-09 16:21|01-03-09 12:32|   46.18806|   -123.83|aman_ullah|\n",
            "|  01-03-09 14:44|Product1| 1200|        Visa|            Gouya|        Echuca|      Victoria|     Australia|  9/25/05 21:13|01-03-09 14:22|-36.1333333|    144.75|aman_ullah|\n",
            "|  01-04-09 12:56|Product2| 3600|        Visa|           Gerd W|Cahaba Heights|            AL| United States| 11/15/08 15:47|01-04-09 12:45|   33.52056|  -86.8025|aman_ullah|\n",
            "|  01-04-09 13:19|Product1| 1200|        Visa|         LAURENCE|     Mickleton|            NJ| United States|  9/24/08 15:19|01-04-09 13:04|      39.79| -75.23806|aman_ullah|\n",
            "|  01-04-09 20:11|Product1| 1200|  Mastercard|            Fleur|        Peoria|            IL| United States|  01-03-09 9:38|01-04-09 19:45|   40.69361| -89.58889|aman_ullah|\n",
            "|  01-02-09 20:09|Product1| 1200|  Mastercard|             adam|        Martin|            TN| United States| 01-02-09 17:43|01-04-09 20:01|   36.34333| -88.85028|aman_ullah|\n",
            "|  01-04-09 13:17|Product1| 1200|  Mastercard|  Renee Elisabeth|      Tel Aviv|      Tel Aviv|        Israel| 01-04-09 13:03|01-04-09 22:10| 32.0666667|34.7666667|aman_ullah|\n",
            "|  01-04-09 14:11|Product1| 1200|        Visa|            Aidan|        Chatou| Ile-de-France|        France|  06-03-08 4:22| 01-05-09 1:17| 48.8833333|      2.15|aman_ullah|\n",
            "|   01-05-09 2:42|Product1| 1200|      Diners|            Stacy|      New York|            NY| United States|  01-05-09 2:23| 01-05-09 4:59|   40.71417| -74.00639|aman_ullah|\n",
            "|   01-05-09 5:39|Product1| 1200|        Amex|            Heidi|     Eindhoven| Noord-Brabant|   Netherlands|  01-05-09 4:55| 01-05-09 8:15|      51.45| 5.4666667|aman_ullah|\n",
            "|   01-02-09 9:16|Product1| 1200|  Mastercard|             Sean|  Shavano Park|            TX| United States|  01-02-09 8:32| 01-05-09 9:05|   29.42389| -98.49333|aman_ullah|\n",
            "|  01-05-09 10:08|Product1| 1200|        Visa|          Georgia|         Eagle|            ID| United States| 11-11-08 15:53|01-05-09 10:05|   43.69556|-116.35306|aman_ullah|\n",
            "|  01-02-09 14:18|Product1| 1200|        Visa|          Richard|     Riverside|            NJ| United States| 12-09-08 12:07|01-05-09 11:01|   40.03222| -74.95778|aman_ullah|\n",
            "|   01-04-09 1:05|Product1| 1200|      Diners|           Leanne|   Julianstown|         Meath|       Ireland|  01-04-09 0:00|01-05-09 13:36| 53.6772222|-6.3191667|aman_ullah|\n",
            "|  01-05-09 11:37|Product1| 1200|        Visa|            Janet|        Ottawa|       Ontario|        Canada|  01-05-09 9:35|01-05-09 19:24| 45.4166667|     -75.7|aman_ullah|\n",
            "|   01-06-09 5:02|Product1| 1200|      Diners|          barbara|     Hyderabad|Andhra Pradesh|         India|  01-06-09 2:41| 01-06-09 7:52| 17.3833333|78.4666667|aman_ullah|\n",
            "|   01-06-09 7:45|Product2| 3600|        Visa|           Sabine|        London|       England|United Kingdom|  01-06-09 7:00| 01-06-09 9:17|   51.52721|   0.14559|aman_ullah|\n",
            "|   01-02-09 7:35|Product1| 1200|      Diners|             Hani|Salt Lake City|            UT| United States|  12/30/08 5:44|01-06-09 10:52|   40.76083|-111.89028|aman_ullah|\n",
            "+----------------+--------+-----+------------+-----------------+--------------+--------------+--------------+---------------+--------------+-----------+----------+----------+\n",
            "only showing top 20 rows\n",
            "\n"
          ]
        }
      ]
    },
    {
      "cell_type": "code",
      "source": [
        "total_count= ps.count()\n",
        "print('total_cunt : ' + str(total_count))"
      ],
      "metadata": {
        "colab": {
          "base_uri": "https://localhost:8080/"
        },
        "id": "e0cX6tASI_Al",
        "outputId": "f8e6c566-2209-45eb-8cfa-4d6b665867c9"
      },
      "execution_count": 50,
      "outputs": [
        {
          "output_type": "stream",
          "name": "stdout",
          "text": [
            "total_cunt : 998\n"
          ]
        }
      ]
    },
    {
      "cell_type": "code",
      "source": [
        "germany = ps.filter(col('Country')=='Turkey').count()"
      ],
      "metadata": {
        "id": "nzV11JrfI-9x"
      },
      "execution_count": 62,
      "outputs": []
    },
    {
      "cell_type": "code",
      "source": [
        "print('total_count  ' + str(germany))"
      ],
      "metadata": {
        "colab": {
          "base_uri": "https://localhost:8080/"
        },
        "id": "Y5TDnl4yI-6k",
        "outputId": "f8382a1d-0c66-4d17-b715-629b4e66e8b0"
      },
      "execution_count": 63,
      "outputs": [
        {
          "output_type": "stream",
          "name": "stdout",
          "text": [
            "total_count  6\n"
          ]
        }
      ]
    },
    {
      "cell_type": "code",
      "source": [
        "ps.filter(col('Country')=='Turkey').show()"
      ],
      "metadata": {
        "colab": {
          "base_uri": "https://localhost:8080/"
        },
        "id": "fVLbBzPaI-3h",
        "outputId": "1abe21ed-f7e1-4784-ec47-cebea453fdcc"
      },
      "execution_count": 64,
      "outputs": [
        {
          "output_type": "stream",
          "name": "stdout",
          "text": [
            "+----------------+--------+-----+------------+--------+-----------+--------+-------+---------------+-------------+----------+----------+----------+\n",
            "|Transaction_date| Product|Price|Payment_Type|    Name|       City|   State|Country|Account_Created|   Last_Login|  Latitude| Longitude|first_name|\n",
            "+----------------+--------+-----+------------+--------+-----------+--------+-------+---------------+-------------+----------+----------+----------+\n",
            "|   01-02-09 0:50|Product1| 1200|        Visa|     Sam|  Tesvikiye|Istanbul| Turkey|  01-02-09 0:10| 1/17/09 1:57|40.6166667|29.0666667|aman_ullah|\n",
            "|   01-03-09 9:54|Product1| 1200|        Visa|  Sylvia|Zekeriyakoy|Istanbul| Turkey| 12/29/08 10:38| 1/19/09 7:37|41.1980556|29.0302778|aman_ullah|\n",
            "|  01-08-09 23:00|Product1| 1200|        Visa| Dickson|Kemerburgaz|Istanbul| Turkey|   9/16/08 2:07| 2/17/09 1:29|41.1594444|28.9127778|aman_ullah|\n",
            "|    1/22/09 2:16|Product1| 1200|        Visa|Costanza|     Beykoz|Istanbul| Turkey| 09-07-08 11:43| 2/18/09 0:27|41.1438889|29.0905556|aman_ullah|\n",
            "|   1/21/09 12:38|Product1| 1200|        Visa|    Novy|   Istanbul|Istanbul| Turkey| 02-05-07 12:43|2/21/09 13:55|41.0186111|28.9647222|aman_ullah|\n",
            "|  01-07-09 13:19|Product1| 1200|        Visa|  Darian|      Izmir|   Izmir| Turkey|   8/26/08 7:33| 2/28/09 9:54|38.4072222|27.1502778|aman_ullah|\n",
            "+----------------+--------+-----+------------+--------+-----------+--------+-------+---------------+-------------+----------+----------+----------+\n",
            "\n"
          ]
        }
      ]
    },
    {
      "cell_type": "code",
      "source": [
        "ps.select(col('State')).show()"
      ],
      "metadata": {
        "colab": {
          "base_uri": "https://localhost:8080/"
        },
        "id": "SLBummnqI-yf",
        "outputId": "97ed657a-44ea-4657-8e19-2c3fc38e802e"
      },
      "execution_count": 60,
      "outputs": [
        {
          "output_type": "stream",
          "name": "stdout",
          "text": [
            "+--------------+\n",
            "|         State|\n",
            "+--------------+\n",
            "|       England|\n",
            "|         Dhaka|\n",
            "|            OR|\n",
            "|      Victoria|\n",
            "|            AL|\n",
            "|            NJ|\n",
            "|            IL|\n",
            "|            TN|\n",
            "|      Tel Aviv|\n",
            "| Ile-de-France|\n",
            "|            NY|\n",
            "| Noord-Brabant|\n",
            "|            TX|\n",
            "|            ID|\n",
            "|            NJ|\n",
            "|         Meath|\n",
            "|       Ontario|\n",
            "|Andhra Pradesh|\n",
            "|       England|\n",
            "|            UT|\n",
            "+--------------+\n",
            "only showing top 20 rows\n",
            "\n"
          ]
        }
      ]
    },
    {
      "cell_type": "code",
      "source": [
        "ps.orderBy('country').show()"
      ],
      "metadata": {
        "colab": {
          "base_uri": "https://localhost:8080/"
        },
        "id": "fyBVrrYUTJNg",
        "outputId": "b7fb8864-2f74-4c0e-e3d0-219fff733bd2"
      },
      "execution_count": 65,
      "outputs": [
        {
          "output_type": "stream",
          "name": "stdout",
          "text": [
            "+----------------+--------+-----+------------+---------+---------------+-----------------+---------+---------------+--------------+-----------+-----------+----------+\n",
            "|Transaction_date| Product|Price|Payment_Type|     Name|           City|            State|  Country|Account_Created|    Last_Login|   Latitude|  Longitude|first_name|\n",
            "+----------------+--------+-----+------------+---------+---------------+-----------------+---------+---------------+--------------+-----------+-----------+----------+\n",
            "|    1/25/09 5:57|Product1| 1200|        Amex|   pamela|       Ayacucho|     Buenos Aires|Argentina|   1/24/09 9:29| 02-10-09 6:38|     -37.15|-58.4833333|aman_ullah|\n",
            "|  01-12-09 23:35|Product1| 1200|        Visa|     Lisa|          Perth|Western Australia|Australia| 05-08-06 23:41| 02-12-09 3:46|-31.9333333|115.8333333|aman_ullah|\n",
            "|    1/18/09 3:46|Product1| 1200|        Visa|   Marina|         Nerang|       Queensland|Australia|   1/18/09 0:54| 1/27/09 23:52|-27.9833333|153.3333333|aman_ullah|\n",
            "|  01-07-09 10:03|Product1| 1200|  Mastercard|     Emma|         Sydney|  New South Wales|Australia|  12-01-08 6:09| 1/27/09 20:18|-33.8833333|151.2166667|aman_ullah|\n",
            "|   01-01-09 8:09|Product1| 1200|  Mastercard|   Nicole|South Melbourne|         Victoria|Australia|  12/30/08 0:55|  1/31/09 5:40|-37.8333333|144.9666667|aman_ullah|\n",
            "|   01-06-09 1:20|Product1| 1200|  Mastercard|    Frank|      Melbourne|         Victoria|Australia| 01-02-09 17:51|01-10-09 18:27|-37.8166667|144.9666667|aman_ullah|\n",
            "|   01-11-09 2:04|Product1| 1200|        Visa|    chris|     Gold Coast|       Queensland|Australia|  01-11-09 0:33| 01-11-09 2:11|      -28.0|153.4333333|aman_ullah|\n",
            "|    1/24/09 3:25|Product1| 1200|        Visa| Michelle|        Lyndoch|  South Australia|Australia|  9/26/08 19:23|02-11-09 15:05|-34.6166667|138.8833333|aman_ullah|\n",
            "|   1/31/09 23:09|Product1| 1200|      Diners|     Dawn|       Vaucluse|  New South Wales|Australia|  9/13/04 22:55| 02-11-09 3:09|-33.8666667|151.2833333|aman_ullah|\n",
            "|   1/30/09 17:33|Product1| 1200|        Visa|     nina|        Warwick|       Queensland|Australia|  1/25/09 22:36| 02-02-09 6:13|-28.2333333|152.0166667|aman_ullah|\n",
            "|   01-04-09 1:38|Product1| 1200|        Amex|   jeremy|    Charlestown|  New South Wales|Australia|  7/15/08 21:04|  1/20/09 1:08|     -32.95|151.6666667|aman_ullah|\n",
            "|  01-04-09 16:59|Product1| 1200|        Visa|      Amy|     Parramatta|  New South Wales|Australia| 01-03-09 22:35|02-05-09 22:44|-33.8166667|      151.0|aman_ullah|\n",
            "|  01-09-09 14:51|Product1| 1200|        Visa|      Bob|         Sydney|  New South Wales|Australia| 01-07-09 18:15|  1/21/09 0:29|-33.8833333|151.2166667|aman_ullah|\n",
            "|  01-02-09 22:44|Product2| 3600|        Visa|      eva|       Gisborne|         Victoria|Australia| 12-03-06 15:36|02-06-09 20:03|-37.4833333|144.5833333|aman_ullah|\n",
            "|   01-02-09 2:28|Product1| 1200|  Mastercard|   Morgan|        Coomera|       Queensland|Australia|  05-03-08 4:14| 1/21/09 16:37|-27.8833333|      153.3|aman_ullah|\n",
            "|   1/26/09 20:18|Product1| 1200|  Mastercard|     John|       Griffith|  New South Wales|Australia|  1/15/07 20:37|02-07-09 18:04|-34.2833333|146.0333333|aman_ullah|\n",
            "|  01-03-09 14:44|Product1| 1200|        Visa|    Gouya|         Echuca|         Victoria|Australia|  9/25/05 21:13|01-03-09 14:22|-36.1333333|     144.75|aman_ullah|\n",
            "|  01-08-09 23:40|Product1| 1200|        Visa|    Jacob|      Lindfield|  New South Wales|Australia| 01-08-09 17:52|02-09-09 18:31|-33.7833333|151.1666667|aman_ullah|\n",
            "|   01-12-09 1:37|Product1| 1200|        Visa|     IMAN|       Brisbane|       Queensland|Australia|  01-12-09 1:26| 1/15/09 17:54|      -27.5|153.0166667|aman_ullah|\n",
            "|   1/24/09 18:30|Product1| 1200|        Visa|Ruangrote|      Melbourne|         Victoria|Australia|   7/17/08 5:19| 02-10-09 2:12|-37.8166667|144.9666667|aman_ullah|\n",
            "+----------------+--------+-----+------------+---------+---------------+-----------------+---------+---------------+--------------+-----------+-----------+----------+\n",
            "only showing top 20 rows\n",
            "\n"
          ]
        }
      ]
    },
    {
      "cell_type": "code",
      "source": [
        "ps.groupBy('Country').count().orderBy('count',ascending = False).show()"
      ],
      "metadata": {
        "colab": {
          "base_uri": "https://localhost:8080/"
        },
        "id": "VSY91q_ATJKh",
        "outputId": "12d9ba89-57df-4375-9273-8b88bb239c23"
      },
      "execution_count": 66,
      "outputs": [
        {
          "output_type": "stream",
          "name": "stdout",
          "text": [
            "+--------------------+-----+\n",
            "|             Country|count|\n",
            "+--------------------+-----+\n",
            "|       United States|  462|\n",
            "|      United Kingdom|  100|\n",
            "|              Canada|   76|\n",
            "|             Ireland|   49|\n",
            "|           Australia|   38|\n",
            "|         Switzerland|   36|\n",
            "|              France|   27|\n",
            "|             Germany|   25|\n",
            "|         Netherlands|   22|\n",
            "|              Norway|   16|\n",
            "|               Italy|   15|\n",
            "|             Denmark|   15|\n",
            "|              Sweden|   13|\n",
            "|               Spain|   12|\n",
            "|             Belgium|    8|\n",
            "|             Austria|    7|\n",
            "|              Turkey|    6|\n",
            "|United Arab Emirates|    6|\n",
            "|         New Zealand|    6|\n",
            "|              Brazil|    5|\n",
            "+--------------------+-----+\n",
            "only showing top 20 rows\n",
            "\n"
          ]
        }
      ]
    },
    {
      "cell_type": "markdown",
      "source": [
        "# **Union,Unionall,UnionbyName**"
      ],
      "metadata": {
        "id": "ifuqlmOwVXIO"
      }
    },
    {
      "cell_type": "code",
      "source": [
        "uk_country= ps.filter(col('country')=='United Kingdom')\n",
        "canada_country= ps.filter(col('country')=='Canada')"
      ],
      "metadata": {
        "id": "PenHDviSTJHv"
      },
      "execution_count": 67,
      "outputs": []
    },
    {
      "cell_type": "code",
      "source": [
        "canada_country.show(6)"
      ],
      "metadata": {
        "colab": {
          "base_uri": "https://localhost:8080/"
        },
        "id": "8Jqbm1faTJEn",
        "outputId": "4c10c837-105e-4cef-9eec-63eb3e3f7847"
      },
      "execution_count": 69,
      "outputs": [
        {
          "output_type": "stream",
          "name": "stdout",
          "text": [
            "+----------------+--------+-----+------------+-------+--------------------+----------------+-------+---------------+--------------+----------+------------+----------+\n",
            "|Transaction_date| Product|Price|Payment_Type|   Name|                City|           State|Country|Account_Created|    Last_Login|  Latitude|   Longitude|first_name|\n",
            "+----------------+--------+-----+------------+-------+--------------------+----------------+-------+---------------+--------------+----------+------------+----------+\n",
            "|  01-05-09 11:37|Product1| 1200|        Visa|  Janet|              Ottawa|         Ontario| Canada|  01-05-09 9:35|01-05-09 19:24|45.4166667|       -75.7|aman_ullah|\n",
            "|  01-10-09 21:38|Product1| 1200|        Visa|Anushka|Maple Ridge Distr...|British Columbia| Canada| 01-10-09 21:17|01-11-09 19:32|     49.25|      -122.5|aman_ullah|\n",
            "|   01-04-09 8:39|Product2| 3600|      Diners|Baybars|       Prince Albert|    Saskatchewan| Canada| 01-03-09 17:17|01-11-09 21:05|      53.2|     -105.75|aman_ullah|\n",
            "|  01-07-09 20:22|Product1| 1200|        Visa|   Gina|            Red Deer|         Alberta| Canada| 11/23/08 19:30|01-12-09 12:24|52.2666667|      -113.8|aman_ullah|\n",
            "|  01-08-09 20:32|Product1| 1200|        Visa|    Kim|             Calgary|         Alberta| Canada| 01-08-09 20:21|01-12-09 14:07|51.0833333|-114.0833333|aman_ullah|\n",
            "|  01-08-09 13:34|Product1| 1200|        Visa|  Bruce|          Belleville|         Ontario| Canada| 01-06-09 14:38|01-12-09 18:31|44.1666667| -77.3833333|aman_ullah|\n",
            "+----------------+--------+-----+------------+-------+--------------------+----------------+-------+---------------+--------------+----------+------------+----------+\n",
            "only showing top 6 rows\n",
            "\n"
          ]
        }
      ]
    },
    {
      "cell_type": "code",
      "source": [
        "print(uk_country.unionByName(canada_country).count())"
      ],
      "metadata": {
        "colab": {
          "base_uri": "https://localhost:8080/"
        },
        "id": "261Lu5WcWoPp",
        "outputId": "4668bfa2-815d-4435-e64d-8167eb93a687"
      },
      "execution_count": 71,
      "outputs": [
        {
          "output_type": "stream",
          "name": "stdout",
          "text": [
            "176\n"
          ]
        }
      ]
    },
    {
      "cell_type": "code",
      "source": [
        "df1 = spark.createDataFrame([[1,2,3]],['c0','c1','c2'])\n",
        "df2 = spark.createDataFrame([[5,9,3]],['c1','c2','c0'])"
      ],
      "metadata": {
        "id": "-FARtyceWoNN"
      },
      "execution_count": 72,
      "outputs": []
    },
    {
      "cell_type": "code",
      "source": [
        "df1.unionByName(df2).show()"
      ],
      "metadata": {
        "colab": {
          "base_uri": "https://localhost:8080/"
        },
        "id": "lUtfgUuLWoKf",
        "outputId": "045f7601-6217-4a88-ee58-ab0836e7df70"
      },
      "execution_count": 73,
      "outputs": [
        {
          "output_type": "stream",
          "name": "stdout",
          "text": [
            "+---+---+---+\n",
            "| c0| c1| c2|\n",
            "+---+---+---+\n",
            "|  1|  2|  3|\n",
            "|  3|  5|  9|\n",
            "+---+---+---+\n",
            "\n"
          ]
        }
      ]
    },
    {
      "cell_type": "code",
      "source": [
        "from pyspark.sql import functions"
      ],
      "metadata": {
        "id": "hZM3glUmWoIE"
      },
      "execution_count": 74,
      "outputs": []
    },
    {
      "cell_type": "code",
      "source": [
        "print(dir(functions))"
      ],
      "metadata": {
        "colab": {
          "base_uri": "https://localhost:8080/"
        },
        "id": "JbOB1oqGWoFj",
        "outputId": "ee3d9138-62df-41c0-8a43-24f6110083a9"
      },
      "execution_count": 75,
      "outputs": [
        {
          "output_type": "stream",
          "name": "stdout",
          "text": [
            "['Any', 'ArrayType', 'Callable', 'Column', 'DataFrame', 'DataType', 'Dict', 'Iterable', 'JVMView', 'List', 'Optional', 'PandasUDFType', 'PySparkTypeError', 'PySparkValueError', 'SparkContext', 'StringType', 'StructType', 'TYPE_CHECKING', 'Tuple', 'Type', 'Union', 'UserDefinedFunction', 'UserDefinedTableFunction', 'ValuesView', '__builtins__', '__cached__', '__doc__', '__file__', '__loader__', '__name__', '__package__', '__spec__', '_create_column_from_literal', '_create_lambda', '_create_py_udf', '_create_py_udtf', '_from_numpy_type', '_get_jvm_function', '_get_lambda_parameters', '_invoke_binary_math_function', '_invoke_function', '_invoke_function_over_columns', '_invoke_function_over_seq_of_columns', '_invoke_higher_order_function', '_options_to_str', '_test', '_to_java_column', '_to_seq', '_unresolved_named_lambda_variable', 'abs', 'acos', 'acosh', 'add_months', 'aes_decrypt', 'aes_encrypt', 'aggregate', 'any_value', 'approxCountDistinct', 'approx_count_distinct', 'approx_percentile', 'array', 'array_agg', 'array_append', 'array_compact', 'array_contains', 'array_distinct', 'array_except', 'array_insert', 'array_intersect', 'array_join', 'array_max', 'array_min', 'array_position', 'array_prepend', 'array_remove', 'array_repeat', 'array_size', 'array_sort', 'array_union', 'arrays_overlap', 'arrays_zip', 'asc', 'asc_nulls_first', 'asc_nulls_last', 'ascii', 'asin', 'asinh', 'assert_true', 'atan', 'atan2', 'atanh', 'avg', 'base64', 'bin', 'bit_and', 'bit_count', 'bit_get', 'bit_length', 'bit_or', 'bit_xor', 'bitmap_bit_position', 'bitmap_bucket_number', 'bitmap_construct_agg', 'bitmap_count', 'bitmap_or_agg', 'bitwiseNOT', 'bitwise_not', 'bool_and', 'bool_or', 'broadcast', 'bround', 'btrim', 'bucket', 'call_function', 'call_udf', 'cardinality', 'cast', 'cbrt', 'ceil', 'ceiling', 'char', 'char_length', 'character_length', 'coalesce', 'col', 'collect_list', 'collect_set', 'column', 'concat', 'concat_ws', 'contains', 'conv', 'convert_timezone', 'corr', 'cos', 'cosh', 'cot', 'count', 'countDistinct', 'count_distinct', 'count_if', 'count_min_sketch', 'covar_pop', 'covar_samp', 'crc32', 'create_map', 'csc', 'cume_dist', 'curdate', 'current_catalog', 'current_database', 'current_date', 'current_schema', 'current_timestamp', 'current_timezone', 'current_user', 'date_add', 'date_diff', 'date_format', 'date_from_unix_date', 'date_part', 'date_sub', 'date_trunc', 'dateadd', 'datediff', 'datepart', 'day', 'dayofmonth', 'dayofweek', 'dayofyear', 'days', 'decimal', 'decode', 'degrees', 'dense_rank', 'desc', 'desc_nulls_first', 'desc_nulls_last', 'e', 'element_at', 'elt', 'encode', 'endswith', 'equal_null', 'every', 'exists', 'exp', 'explode', 'explode_outer', 'expm1', 'expr', 'extract', 'factorial', 'filter', 'find_in_set', 'first', 'first_value', 'flatten', 'floor', 'forall', 'format_number', 'format_string', 'from_csv', 'from_json', 'from_unixtime', 'from_utc_timestamp', 'functools', 'get', 'get_active_spark_context', 'get_json_object', 'getbit', 'greatest', 'grouping', 'grouping_id', 'has_numpy', 'hash', 'hex', 'histogram_numeric', 'hll_sketch_agg', 'hll_sketch_estimate', 'hll_union', 'hll_union_agg', 'hour', 'hours', 'hypot', 'ifnull', 'ilike', 'initcap', 'inline', 'inline_outer', 'input_file_block_length', 'input_file_block_start', 'input_file_name', 'inspect', 'instr', 'isnan', 'isnotnull', 'isnull', 'java_method', 'json_array_length', 'json_object_keys', 'json_tuple', 'kurtosis', 'lag', 'last', 'last_day', 'last_value', 'lcase', 'lead', 'least', 'left', 'length', 'levenshtein', 'like', 'lit', 'ln', 'localtimestamp', 'locate', 'log', 'log10', 'log1p', 'log2', 'lower', 'lpad', 'ltrim', 'make_date', 'make_dt_interval', 'make_interval', 'make_timestamp', 'make_timestamp_ltz', 'make_timestamp_ntz', 'make_ym_interval', 'map_concat', 'map_contains_key', 'map_entries', 'map_filter', 'map_from_arrays', 'map_from_entries', 'map_keys', 'map_values', 'map_zip_with', 'mask', 'max', 'max_by', 'md5', 'mean', 'median', 'min', 'min_by', 'minute', 'mode', 'monotonically_increasing_id', 'month', 'months', 'months_between', 'named_struct', 'nanvl', 'negate', 'negative', 'next_day', 'now', 'np', 'nth_value', 'ntile', 'nullif', 'nvl', 'nvl2', 'octet_length', 'overlay', 'overload', 'pandas_udf', 'parse_url', 'percent_rank', 'percentile', 'percentile_approx', 'pi', 'pmod', 'posexplode', 'posexplode_outer', 'position', 'positive', 'pow', 'power', 'printf', 'product', 'quarter', 'radians', 'raise_error', 'rand', 'randn', 'rank', 'reduce', 'reflect', 'regexp', 'regexp_count', 'regexp_extract', 'regexp_extract_all', 'regexp_instr', 'regexp_like', 'regexp_replace', 'regexp_substr', 'regr_avgx', 'regr_avgy', 'regr_count', 'regr_intercept', 'regr_r2', 'regr_slope', 'regr_sxx', 'regr_sxy', 'regr_syy', 'repeat', 'replace', 'reverse', 'right', 'rint', 'rlike', 'round', 'row_number', 'rpad', 'rtrim', 'schema_of_csv', 'schema_of_json', 'sec', 'second', 'sentences', 'sequence', 'session_window', 'sha', 'sha1', 'sha2', 'shiftLeft', 'shiftRight', 'shiftRightUnsigned', 'shiftleft', 'shiftright', 'shiftrightunsigned', 'shuffle', 'sign', 'signum', 'sin', 'sinh', 'size', 'skewness', 'slice', 'some', 'sort_array', 'soundex', 'spark_partition_id', 'split', 'split_part', 'sqrt', 'stack', 'startswith', 'std', 'stddev', 'stddev_pop', 'stddev_samp', 'str_to_map', 'struct', 'substr', 'substring', 'substring_index', 'sum', 'sumDistinct', 'sum_distinct', 'sys', 'tan', 'tanh', 'timestamp_micros', 'timestamp_millis', 'timestamp_seconds', 'toDegrees', 'toRadians', 'to_binary', 'to_char', 'to_csv', 'to_date', 'to_json', 'to_number', 'to_str', 'to_timestamp', 'to_timestamp_ltz', 'to_timestamp_ntz', 'to_unix_timestamp', 'to_utc_timestamp', 'to_varchar', 'transform', 'transform_keys', 'transform_values', 'translate', 'trim', 'trunc', 'try_add', 'try_aes_decrypt', 'try_avg', 'try_divide', 'try_element_at', 'try_multiply', 'try_remote_functions', 'try_subtract', 'try_sum', 'try_to_binary', 'try_to_number', 'try_to_timestamp', 'typeof', 'ucase', 'udf', 'udtf', 'unbase64', 'unhex', 'unix_date', 'unix_micros', 'unix_millis', 'unix_seconds', 'unix_timestamp', 'unwrap_udt', 'upper', 'url_decode', 'url_encode', 'user', 'var_pop', 'var_samp', 'variance', 'version', 'warnings', 'weekday', 'weekofyear', 'when', 'width_bucket', 'window', 'window_time', 'xpath', 'xpath_boolean', 'xpath_double', 'xpath_float', 'xpath_int', 'xpath_long', 'xpath_number', 'xpath_short', 'xpath_string', 'xxhash64', 'year', 'years', 'zip_with']\n"
          ]
        }
      ]
    },
    {
      "cell_type": "markdown",
      "source": [
        "# **Functions**"
      ],
      "metadata": {
        "id": "X1866R8goQA1"
      }
    },
    {
      "cell_type": "code",
      "source": [
        "from pyspark.sql.functions import lower,upper,concat"
      ],
      "metadata": {
        "id": "tcVrMES9WoCE"
      },
      "execution_count": 76,
      "outputs": []
    },
    {
      "cell_type": "code",
      "source": [
        "ps.select(ps.Country,lower(ps.Country),upper(ps.Country),concat(ps.Name , lit(' '),ps.City).alias('Name_city')).show()"
      ],
      "metadata": {
        "colab": {
          "base_uri": "https://localhost:8080/"
        },
        "id": "XMN7jEQuTJBO",
        "outputId": "7223c30f-5743-4b7a-f973-46aef666d815"
      },
      "execution_count": 81,
      "outputs": [
        {
          "output_type": "stream",
          "name": "stdout",
          "text": [
            "+--------------+--------------+--------------+--------------------+\n",
            "|       Country|lower(Country)|upper(Country)|           Name_city|\n",
            "+--------------+--------------+--------------+--------------------+\n",
            "|United Kingdom|united kingdom|UNITED KINGDOM|   carolina Basildon|\n",
            "|    Bangladesh|    bangladesh|    BANGLADESH|     Shuvo Dhanmondi|\n",
            "| United States| united states| UNITED STATES|Federica e Andrea...|\n",
            "|     Australia|     australia|     AUSTRALIA|        Gouya Echuca|\n",
            "| United States| united states| UNITED STATES|Gerd W Cahaba Hei...|\n",
            "| United States| united states| UNITED STATES|  LAURENCE Mickleton|\n",
            "| United States| united states| UNITED STATES|        Fleur Peoria|\n",
            "| United States| united states| UNITED STATES|         adam Martin|\n",
            "|        Israel|        israel|        ISRAEL|Renee Elisabeth T...|\n",
            "|        France|        france|        FRANCE|        Aidan Chatou|\n",
            "| United States| united states| UNITED STATES|      Stacy New York|\n",
            "|   Netherlands|   netherlands|   NETHERLANDS|     Heidi Eindhoven|\n",
            "| United States| united states| UNITED STATES|   Sean Shavano Park|\n",
            "| United States| united states| UNITED STATES|       Georgia Eagle|\n",
            "| United States| united states| UNITED STATES|   Richard Riverside|\n",
            "|       Ireland|       ireland|       IRELAND|  Leanne Julianstown|\n",
            "|        Canada|        canada|        CANADA|        Janet Ottawa|\n",
            "|         India|         india|         INDIA|   barbara Hyderabad|\n",
            "|United Kingdom|united kingdom|UNITED KINGDOM|       Sabine London|\n",
            "| United States| united states| UNITED STATES| Hani Salt Lake City|\n",
            "+--------------+--------------+--------------+--------------------+\n",
            "only showing top 20 rows\n",
            "\n"
          ]
        }
      ]
    },
    {
      "cell_type": "code",
      "source": [
        "from pyspark.sql.functions import to_date,to_timestamp"
      ],
      "metadata": {
        "id": "qXVLqDMYrRSz"
      },
      "execution_count": 82,
      "outputs": []
    },
    {
      "cell_type": "code",
      "source": [
        "df3= spark.createDataFrame([('2033-09-08 12:39:45',)],['Date'])"
      ],
      "metadata": {
        "id": "1EswIL11rRDk"
      },
      "execution_count": 83,
      "outputs": []
    },
    {
      "cell_type": "code",
      "source": [
        "df3.show()"
      ],
      "metadata": {
        "colab": {
          "base_uri": "https://localhost:8080/"
        },
        "id": "ZfZ5J_NrrRBD",
        "outputId": "b6d8a455-3a50-442a-e5d7-7c80a9f39202"
      },
      "execution_count": 84,
      "outputs": [
        {
          "output_type": "stream",
          "name": "stdout",
          "text": [
            "+-------------------+\n",
            "|               Date|\n",
            "+-------------------+\n",
            "|2033-09-08 12:39:45|\n",
            "+-------------------+\n",
            "\n"
          ]
        }
      ]
    },
    {
      "cell_type": "code",
      "source": [
        "df3.printSchema()"
      ],
      "metadata": {
        "colab": {
          "base_uri": "https://localhost:8080/"
        },
        "id": "ClfgFaMorQ-r",
        "outputId": "21bbe16c-e9c2-469e-882c-c4898ecafa47"
      },
      "execution_count": 85,
      "outputs": [
        {
          "output_type": "stream",
          "name": "stdout",
          "text": [
            "root\n",
            " |-- Date: string (nullable = true)\n",
            "\n"
          ]
        }
      ]
    },
    {
      "cell_type": "code",
      "source": [
        "df3.select(df3.Date,to_date(df3.Date),to_timestamp(df3.Date)).show()"
      ],
      "metadata": {
        "colab": {
          "base_uri": "https://localhost:8080/"
        },
        "id": "mGcovR4grQ7-",
        "outputId": "2261b6a2-790b-472d-8535-7a0af80c51ef"
      },
      "execution_count": 87,
      "outputs": [
        {
          "output_type": "stream",
          "name": "stdout",
          "text": [
            "+-------------------+-------------+-------------------+\n",
            "|               Date|to_date(Date)| to_timestamp(Date)|\n",
            "+-------------------+-------------+-------------------+\n",
            "|2033-09-08 12:39:45|   2033-09-08|2033-09-08 12:39:45|\n",
            "+-------------------+-------------+-------------------+\n",
            "\n"
          ]
        }
      ]
    },
    {
      "cell_type": "markdown",
      "source": [
        "# **Join Operations**"
      ],
      "metadata": {
        "id": "66fxO9VQuzg_"
      }
    },
    {
      "cell_type": "code",
      "source": [
        "car_name= spark.createDataFrame([[1,'A'],[2,'B'],[3,'C'],[4,'D'],[5,'E']],['id','Name'])\n",
        "car_price=spark.createDataFrame([[1,1000],[2,3000],[3,2000],[4,4000],[5,3500]],['id','price'])"
      ],
      "metadata": {
        "id": "MCoJS0RZrQ5T"
      },
      "execution_count": 88,
      "outputs": []
    },
    {
      "cell_type": "code",
      "source": [
        "car_name.show()"
      ],
      "metadata": {
        "colab": {
          "base_uri": "https://localhost:8080/"
        },
        "id": "quNeS20RrQ3B",
        "outputId": "333773ea-4679-49f4-c8a9-63c329cb84b2"
      },
      "execution_count": 89,
      "outputs": [
        {
          "output_type": "stream",
          "name": "stdout",
          "text": [
            "+---+----+\n",
            "| id|Name|\n",
            "+---+----+\n",
            "|  1|   A|\n",
            "|  2|   B|\n",
            "|  3|   C|\n",
            "|  4|   D|\n",
            "|  5|   E|\n",
            "+---+----+\n",
            "\n"
          ]
        }
      ]
    },
    {
      "cell_type": "code",
      "source": [
        "car_price.show()"
      ],
      "metadata": {
        "colab": {
          "base_uri": "https://localhost:8080/"
        },
        "id": "ikmG6b44rQ0U",
        "outputId": "94480671-1169-4572-9fc0-fe620b172fd5"
      },
      "execution_count": 90,
      "outputs": [
        {
          "output_type": "stream",
          "name": "stdout",
          "text": [
            "+---+-----+\n",
            "| id|price|\n",
            "+---+-----+\n",
            "|  1| 1000|\n",
            "|  2| 3000|\n",
            "|  3| 2000|\n",
            "|  4| 4000|\n",
            "|  5| 3500|\n",
            "+---+-----+\n",
            "\n"
          ]
        }
      ]
    },
    {
      "cell_type": "code",
      "source": [
        "car_name.join(car_price,car_name.id==car_price.id,'inner').select(car_name.id,car_name.Name,car_price.price).show()"
      ],
      "metadata": {
        "colab": {
          "base_uri": "https://localhost:8080/"
        },
        "id": "pyddWrMTrQxK",
        "outputId": "bf5e4cd1-6d61-4a54-d8a2-0902acc7ffa2"
      },
      "execution_count": 93,
      "outputs": [
        {
          "output_type": "stream",
          "name": "stdout",
          "text": [
            "+---+----+-----+\n",
            "| id|Name|price|\n",
            "+---+----+-----+\n",
            "|  1|   A| 1000|\n",
            "|  2|   B| 3000|\n",
            "|  3|   C| 2000|\n",
            "|  4|   D| 4000|\n",
            "|  5|   E| 3500|\n",
            "+---+----+-----+\n",
            "\n"
          ]
        }
      ]
    },
    {
      "cell_type": "code",
      "source": [
        " ps.createOrReplaceTempView(\"temp\")\n",
        " spark.sql('select * from temp').show(5)"
      ],
      "metadata": {
        "colab": {
          "base_uri": "https://localhost:8080/"
        },
        "id": "g3Nw7_yIrQuA",
        "outputId": "c08bd346-52c7-4c9e-9a5c-5fca69100a40"
      },
      "execution_count": 95,
      "outputs": [
        {
          "output_type": "stream",
          "name": "stdout",
          "text": [
            "+----------------+--------+-----+------------+-----------------+--------------+--------+--------------+---------------+--------------+-----------+----------+----------+\n",
            "|Transaction_date| Product|Price|Payment_Type|             Name|          City|   State|       Country|Account_Created|    Last_Login|   Latitude| Longitude|first_name|\n",
            "+----------------+--------+-----+------------+-----------------+--------------+--------+--------------+---------------+--------------+-----------+----------+----------+\n",
            "|   01-02-09 6:17|Product1| 1200|  Mastercard|         carolina|      Basildon| England|United Kingdom|  01-02-09 6:00| 01-02-09 6:08|       51.5|-1.1166667|aman_ullah|\n",
            "|   01-02-09 4:53|Product1| 1200|       Bkash|            Shuvo|     Dhanmondi|   Dhaka|    Bangladesh|  01-02-09 4:42| 01-02-09 7:49|     39.195| -94.68194|aman_ullah|\n",
            "|  01-02-09 13:08|Product1| 1200|  Mastercard|Federica e Andrea|       Astoria|      OR| United States| 01-01-09 16:21|01-03-09 12:32|   46.18806|   -123.83|aman_ullah|\n",
            "|  01-03-09 14:44|Product1| 1200|        Visa|            Gouya|        Echuca|Victoria|     Australia|  9/25/05 21:13|01-03-09 14:22|-36.1333333|    144.75|aman_ullah|\n",
            "|  01-04-09 12:56|Product2| 3600|        Visa|           Gerd W|Cahaba Heights|      AL| United States| 11/15/08 15:47|01-04-09 12:45|   33.52056|  -86.8025|aman_ullah|\n",
            "+----------------+--------+-----+------------+-----------------+--------------+--------+--------------+---------------+--------------+-----------+----------+----------+\n",
            "only showing top 5 rows\n",
            "\n"
          ]
        }
      ]
    },
    {
      "cell_type": "code",
      "source": [
        "spark.sql(\"select city,Name,Price from temp where country=='Turkey'\").show(6)"
      ],
      "metadata": {
        "colab": {
          "base_uri": "https://localhost:8080/"
        },
        "id": "DYmVrBfwnxkT",
        "outputId": "0a6ce431-2fec-4db4-9bc0-2f5e7f423460"
      },
      "execution_count": 98,
      "outputs": [
        {
          "output_type": "stream",
          "name": "stdout",
          "text": [
            "+-----------+--------+-----+\n",
            "|       city|    Name|Price|\n",
            "+-----------+--------+-----+\n",
            "|  Tesvikiye|     Sam| 1200|\n",
            "|Zekeriyakoy|  Sylvia| 1200|\n",
            "|Kemerburgaz| Dickson| 1200|\n",
            "|     Beykoz|Costanza| 1200|\n",
            "|   Istanbul|    Novy| 1200|\n",
            "|      Izmir|  Darian| 1200|\n",
            "+-----------+--------+-----+\n",
            "\n"
          ]
        }
      ]
    },
    {
      "cell_type": "markdown",
      "source": [
        "# **rdd**"
      ],
      "metadata": {
        "id": "2e65IGxi2EDD"
      }
    },
    {
      "cell_type": "code",
      "source": [
        "ps.rdd.take(6)"
      ],
      "metadata": {
        "colab": {
          "base_uri": "https://localhost:8080/"
        },
        "id": "mmXTkJyN0xk7",
        "outputId": "896001dd-c21d-43a7-f57c-0137c15bee45"
      },
      "execution_count": 100,
      "outputs": [
        {
          "output_type": "execute_result",
          "data": {
            "text/plain": [
              "[Row(Transaction_date='01-02-09 6:17', Product='Product1', Price='1200', Payment_Type='Mastercard', Name='carolina', City='Basildon', State='England', Country='United Kingdom', Account_Created='01-02-09 6:00', Last_Login='01-02-09 6:08', Latitude=51.5, Longitude=-1.1166667, first_name='aman_ullah'),\n",
              " Row(Transaction_date='01-02-09 4:53', Product='Product1', Price='1200', Payment_Type='Bkash', Name='Shuvo', City='Dhanmondi', State='Dhaka', Country='Bangladesh', Account_Created='01-02-09 4:42', Last_Login='01-02-09 7:49', Latitude=39.195, Longitude=-94.68194, first_name='aman_ullah'),\n",
              " Row(Transaction_date='01-02-09 13:08', Product='Product1', Price='1200', Payment_Type='Mastercard', Name='Federica e Andrea', City='Astoria', State='OR', Country='United States', Account_Created='01-01-09 16:21', Last_Login='01-03-09 12:32', Latitude=46.18806, Longitude=-123.83, first_name='aman_ullah'),\n",
              " Row(Transaction_date='01-03-09 14:44', Product='Product1', Price='1200', Payment_Type='Visa', Name='Gouya', City='Echuca', State='Victoria', Country='Australia', Account_Created='9/25/05 21:13', Last_Login='01-03-09 14:22', Latitude=-36.1333333, Longitude=144.75, first_name='aman_ullah'),\n",
              " Row(Transaction_date='01-04-09 12:56', Product='Product2', Price='3600', Payment_Type='Visa', Name='Gerd W', City='Cahaba Heights', State='AL', Country='United States', Account_Created='11/15/08 15:47', Last_Login='01-04-09 12:45', Latitude=33.52056, Longitude=-86.8025, first_name='aman_ullah'),\n",
              " Row(Transaction_date='01-04-09 13:19', Product='Product1', Price='1200', Payment_Type='Visa', Name='LAURENCE', City='Mickleton', State='NJ', Country='United States', Account_Created='9/24/08 15:19', Last_Login='01-04-09 13:04', Latitude=39.79, Longitude=-75.23806, first_name='aman_ullah')]"
            ]
          },
          "metadata": {},
          "execution_count": 100
        }
      ]
    },
    {
      "cell_type": "code",
      "source": [
        "ps.take(6)"
      ],
      "metadata": {
        "colab": {
          "base_uri": "https://localhost:8080/"
        },
        "id": "KSUugE850xgO",
        "outputId": "22c45b09-d626-421a-9630-58d970a96df6"
      },
      "execution_count": 102,
      "outputs": [
        {
          "output_type": "execute_result",
          "data": {
            "text/plain": [
              "[Row(Transaction_date='01-02-09 6:17', Product='Product1', Price='1200', Payment_Type='Mastercard', Name='carolina', City='Basildon', State='England', Country='United Kingdom', Account_Created='01-02-09 6:00', Last_Login='01-02-09 6:08', Latitude=51.5, Longitude=-1.1166667, first_name='aman_ullah'),\n",
              " Row(Transaction_date='01-02-09 4:53', Product='Product1', Price='1200', Payment_Type='Bkash', Name='Shuvo', City='Dhanmondi', State='Dhaka', Country='Bangladesh', Account_Created='01-02-09 4:42', Last_Login='01-02-09 7:49', Latitude=39.195, Longitude=-94.68194, first_name='aman_ullah'),\n",
              " Row(Transaction_date='01-02-09 13:08', Product='Product1', Price='1200', Payment_Type='Mastercard', Name='Federica e Andrea', City='Astoria', State='OR', Country='United States', Account_Created='01-01-09 16:21', Last_Login='01-03-09 12:32', Latitude=46.18806, Longitude=-123.83, first_name='aman_ullah'),\n",
              " Row(Transaction_date='01-03-09 14:44', Product='Product1', Price='1200', Payment_Type='Visa', Name='Gouya', City='Echuca', State='Victoria', Country='Australia', Account_Created='9/25/05 21:13', Last_Login='01-03-09 14:22', Latitude=-36.1333333, Longitude=144.75, first_name='aman_ullah'),\n",
              " Row(Transaction_date='01-04-09 12:56', Product='Product2', Price='3600', Payment_Type='Visa', Name='Gerd W', City='Cahaba Heights', State='AL', Country='United States', Account_Created='11/15/08 15:47', Last_Login='01-04-09 12:45', Latitude=33.52056, Longitude=-86.8025, first_name='aman_ullah'),\n",
              " Row(Transaction_date='01-04-09 13:19', Product='Product1', Price='1200', Payment_Type='Visa', Name='LAURENCE', City='Mickleton', State='NJ', Country='United States', Account_Created='9/24/08 15:19', Last_Login='01-04-09 13:04', Latitude=39.79, Longitude=-75.23806, first_name='aman_ullah')]"
            ]
          },
          "metadata": {},
          "execution_count": 102
        }
      ]
    },
    {
      "cell_type": "code",
      "source": [
        "rdd=ps.rdd.map(lambda x: [x[0],x[1]])"
      ],
      "metadata": {
        "id": "siD2JGFD0xXZ"
      },
      "execution_count": 104,
      "outputs": []
    },
    {
      "cell_type": "code",
      "source": [
        "rdd.take(8)"
      ],
      "metadata": {
        "colab": {
          "base_uri": "https://localhost:8080/"
        },
        "id": "bAEJerjt1oqs",
        "outputId": "08382026-acc7-4810-c2ce-f553b3a4c43c"
      },
      "execution_count": 105,
      "outputs": [
        {
          "output_type": "execute_result",
          "data": {
            "text/plain": [
              "[['01-02-09 6:17', 'Product1'],\n",
              " ['01-02-09 4:53', 'Product1'],\n",
              " ['01-02-09 13:08', 'Product1'],\n",
              " ['01-03-09 14:44', 'Product1'],\n",
              " ['01-04-09 12:56', 'Product2'],\n",
              " ['01-04-09 13:19', 'Product1'],\n",
              " ['01-04-09 20:11', 'Product1'],\n",
              " ['01-02-09 20:09', 'Product1']]"
            ]
          },
          "metadata": {},
          "execution_count": 105
        }
      ]
    },
    {
      "cell_type": "code",
      "source": [],
      "metadata": {
        "id": "IWuY1n6B1ogj"
      },
      "execution_count": null,
      "outputs": []
    },
    {
      "cell_type": "code",
      "source": [
        "ps.show(5,truncate=False)"
      ],
      "metadata": {
        "id": "X6INsh92Hvcz",
        "colab": {
          "base_uri": "https://localhost:8080/"
        },
        "outputId": "441b86c2-b9d2-4ff9-d15a-930ca8ac540e"
      },
      "execution_count": 11,
      "outputs": [
        {
          "output_type": "stream",
          "name": "stdout",
          "text": [
            "+----------------+--------+-----+------------+-----------------+--------------+--------+--------------+---------------+--------------+-----------+----------+\n",
            "|Transaction_date|Product |Price|Payment_Type|Name             |City          |State   |Country       |Account_Created|Last_Login    |Latitude   |Longitude |\n",
            "+----------------+--------+-----+------------+-----------------+--------------+--------+--------------+---------------+--------------+-----------+----------+\n",
            "|01-02-09 6:17   |Product1|1200 |Mastercard  |carolina         |Basildon      |England |United Kingdom|01-02-09 6:00  |01-02-09 6:08 |51.5       |-1.1166667|\n",
            "|01-02-09 4:53   |Product1|1200 |Bkash       |Shuvo            |Dhanmondi     |Dhaka   |Bangladesh    |01-02-09 4:42  |01-02-09 7:49 |39.195     |-94.68194 |\n",
            "|01-02-09 13:08  |Product1|1200 |Mastercard  |Federica e Andrea|Astoria       |OR      |United States |01-01-09 16:21 |01-03-09 12:32|46.18806   |-123.83   |\n",
            "|01-03-09 14:44  |Product1|1200 |Visa        |Gouya            |Echuca        |Victoria|Australia     |9/25/05 21:13  |01-03-09 14:22|-36.1333333|144.75    |\n",
            "|01-04-09 12:56  |Product2|3600 |Visa        |Gerd W           |Cahaba Heights|AL      |United States |11/15/08 15:47 |01-04-09 12:45|33.52056   |-86.8025  |\n",
            "+----------------+--------+-----+------------+-----------------+--------------+--------+--------------+---------------+--------------+-----------+----------+\n",
            "only showing top 5 rows\n",
            "\n"
          ]
        }
      ]
    },
    {
      "cell_type": "code",
      "source": [],
      "metadata": {
        "id": "isY4BOn3oQk7"
      },
      "execution_count": null,
      "outputs": []
    },
    {
      "cell_type": "code",
      "source": [
        "rdd_data= ps.rdd"
      ],
      "metadata": {
        "id": "TWbhX4OcbdWL"
      },
      "execution_count": null,
      "outputs": []
    },
    {
      "cell_type": "code",
      "source": [
        "rdd_data.take(5)"
      ],
      "metadata": {
        "colab": {
          "base_uri": "https://localhost:8080/"
        },
        "id": "aHS8Pnn1bdSj",
        "outputId": "9fa2acdf-20d0-4e2c-a459-157c47f9eaff"
      },
      "execution_count": null,
      "outputs": [
        {
          "output_type": "execute_result",
          "data": {
            "text/plain": [
              "[Row(Transaction_date='01-02-09 6:17', Product='Product1', Price='1200', Payment_Type='Mastercard', Name='carolina', City='Basildon', State='England', Country='United Kingdom', Account_Created='01-02-09 6:00', Last_Login='01-02-09 6:08', Latitude='51.5', Longitude='-1.1166667'),\n",
              " Row(Transaction_date='01-02-09 4:53', Product='Product1', Price='1200', Payment_Type='Bkash', Name='Shuvo', City='Dhanmondi', State='Dhaka', Country='Bangladesh', Account_Created='01-02-09 4:42', Last_Login='01-02-09 7:49', Latitude='39.195', Longitude='-94.68194'),\n",
              " Row(Transaction_date='01-02-09 13:08', Product='Product1', Price='1200', Payment_Type='Mastercard', Name='Federica e Andrea', City='Astoria', State='OR', Country='United States', Account_Created='01-01-09 16:21', Last_Login='01-03-09 12:32', Latitude='46.18806', Longitude='-123.83'),\n",
              " Row(Transaction_date='01-03-09 14:44', Product='Product1', Price='1200', Payment_Type='Visa', Name='Gouya', City='Echuca', State='Victoria', Country='Australia', Account_Created='9/25/05 21:13', Last_Login='01-03-09 14:22', Latitude='-36.1333333', Longitude='144.75'),\n",
              " Row(Transaction_date='01-04-09 12:56', Product='Product2', Price='3600', Payment_Type='Visa', Name='Gerd W', City='Cahaba Heights', State='AL', Country='United States', Account_Created='11/15/08 15:47', Last_Login='01-04-09 12:45', Latitude='33.52056', Longitude='-86.8025')]"
            ]
          },
          "metadata": {},
          "execution_count": 26
        }
      ]
    },
    {
      "cell_type": "code",
      "source": [
        "cleaned_rdd= rdd_data.map(lambda line:[line[1],line[2],line[3]])"
      ],
      "metadata": {
        "id": "DLvHq9xQbdOH"
      },
      "execution_count": null,
      "outputs": []
    },
    {
      "cell_type": "code",
      "source": [
        "cleaned_rdd.take(5)"
      ],
      "metadata": {
        "colab": {
          "base_uri": "https://localhost:8080/"
        },
        "id": "6CdS_9JEbdJ5",
        "outputId": "5dcc42e7-d20b-4b11-d023-b06046c7589f"
      },
      "execution_count": null,
      "outputs": [
        {
          "output_type": "execute_result",
          "data": {
            "text/plain": [
              "[['Product1', '1200', 'Mastercard'],\n",
              " ['Product1', '1200', 'Bkash'],\n",
              " ['Product1', '1200', 'Mastercard'],\n",
              " ['Product1', '1200', 'Visa'],\n",
              " ['Product2', '3600', 'Visa']]"
            ]
          },
          "metadata": {},
          "execution_count": 35
        }
      ]
    },
    {
      "cell_type": "code",
      "source": [
        "rdd_data.map(lambda x :[x[1]]).count()"
      ],
      "metadata": {
        "colab": {
          "base_uri": "https://localhost:8080/"
        },
        "id": "2wGa982zbdCx",
        "outputId": "589d0cb2-2325-41aa-b758-400d99185085"
      },
      "execution_count": null,
      "outputs": [
        {
          "output_type": "execute_result",
          "data": {
            "text/plain": [
              "998"
            ]
          },
          "metadata": {},
          "execution_count": 33
        }
      ]
    },
    {
      "cell_type": "code",
      "source": [
        "flat_map=ps.rdd.flatMap(lambda x :x.split(','))"
      ],
      "metadata": {
        "id": "HsCEMaGIbcaJ"
      },
      "execution_count": null,
      "outputs": []
    },
    {
      "cell_type": "code",
      "source": [
        "tf=spark.read.text('/content/aiquest_sales_data_bde_batch - aiquest_sales_data_bde_batch.csv')"
      ],
      "metadata": {
        "id": "25itUTmhXsJp"
      },
      "execution_count": null,
      "outputs": []
    },
    {
      "cell_type": "code",
      "source": [
        "tf.show(5)\n"
      ],
      "metadata": {
        "colab": {
          "base_uri": "https://localhost:8080/"
        },
        "id": "w-ZWM0tqH18z",
        "outputId": "4a5990b9-2b92-48ba-bc59-ad9b85a6519b"
      },
      "execution_count": null,
      "outputs": [
        {
          "output_type": "stream",
          "name": "stdout",
          "text": [
            "+--------------------+\n",
            "|               value|\n",
            "+--------------------+\n",
            "|Transaction_date,...|\n",
            "|01-02-09 6:17,Pro...|\n",
            "|01-02-09 4:53,Pro...|\n",
            "|01-02-09 13:08,Pr...|\n",
            "|01-03-09 14:44,Pr...|\n",
            "+--------------------+\n",
            "only showing top 5 rows\n",
            "\n"
          ]
        }
      ]
    },
    {
      "cell_type": "code",
      "source": [
        "header=tf.first()"
      ],
      "metadata": {
        "id": "t2rAs4-8ILXQ"
      },
      "execution_count": null,
      "outputs": []
    },
    {
      "cell_type": "code",
      "source": [
        "ps_body=tf.rdd.filter(lambda bd:bd!=header)"
      ],
      "metadata": {
        "id": "gbYHV_eMINUO"
      },
      "execution_count": null,
      "outputs": []
    },
    {
      "cell_type": "code",
      "source": [
        "ps_body.take(5)"
      ],
      "metadata": {
        "id": "uXDL5a9LIaqn",
        "colab": {
          "base_uri": "https://localhost:8080/"
        },
        "outputId": "98b79439-8b4e-496c-e511-69921e548ccc"
      },
      "execution_count": null,
      "outputs": [
        {
          "output_type": "execute_result",
          "data": {
            "text/plain": [
              "[Row(value='01-02-09 6:17,Product1,1200,Mastercard,carolina,Basildon,England,United Kingdom,01-02-09 6:00,01-02-09 6:08,51.5,-1.1166667'),\n",
              " Row(value='01-02-09 4:53,Product1,1200,Bkash,Shuvo,Dhanmondi,Dhaka,Bangladesh,01-02-09 4:42,01-02-09 7:49,39.195,-94.68194'),\n",
              " Row(value='01-02-09 13:08,Product1,1200,Mastercard,Federica e Andrea,Astoria,OR,United States,01-01-09 16:21,01-03-09 12:32,46.18806,-123.83'),\n",
              " Row(value='01-03-09 14:44,Product1,1200,Visa,Gouya,Echuca,Victoria,Australia,9/25/05 21:13,01-03-09 14:22,-36.1333333,144.75'),\n",
              " Row(value='01-04-09 12:56,Product2,3600,Visa,Gerd W,Cahaba Heights,AL,United States,11/15/08 15:47,01-04-09 12:45,33.52056,-86.8025')]"
            ]
          },
          "metadata": {},
          "execution_count": 53
        }
      ]
    }
  ]
}